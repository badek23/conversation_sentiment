{
 "cells": [
  {
   "cell_type": "markdown",
   "metadata": {},
   "source": [
    "## Import Libraries"
   ]
  },
  {
   "cell_type": "code",
   "execution_count": 1,
   "metadata": {},
   "outputs": [],
   "source": [
    "import pandas as pd\n",
    "import plotly.express as px\n",
    "import plotly"
   ]
  },
  {
   "cell_type": "markdown",
   "metadata": {},
   "source": [
    "## Load Data"
   ]
  },
  {
   "cell_type": "code",
   "execution_count": 88,
   "metadata": {},
   "outputs": [
    {
     "data": {
      "text/html": [
       "<div>\n",
       "<style scoped>\n",
       "    .dataframe tbody tr th:only-of-type {\n",
       "        vertical-align: middle;\n",
       "    }\n",
       "\n",
       "    .dataframe tbody tr th {\n",
       "        vertical-align: top;\n",
       "    }\n",
       "\n",
       "    .dataframe thead th {\n",
       "        text-align: right;\n",
       "    }\n",
       "</style>\n",
       "<table border=\"1\" class=\"dataframe\">\n",
       "  <thead>\n",
       "    <tr style=\"text-align: right;\">\n",
       "      <th></th>\n",
       "      <th>0</th>\n",
       "    </tr>\n",
       "  </thead>\n",
       "  <tbody>\n",
       "    <tr>\n",
       "      <th>0</th>\n",
       "      <td>[9/3/23, 00:30:58] Headchopper: ‎Messages and ...</td>\n",
       "    </tr>\n",
       "    <tr>\n",
       "      <th>1</th>\n",
       "      <td>[9/3/23, 00:30:58] Headchopper: Hey Cesar! My ...</td>\n",
       "    </tr>\n",
       "    <tr>\n",
       "      <th>2</th>\n",
       "      <td>[9/3/23, 00:32:43] Cesar: Heyy</td>\n",
       "    </tr>\n",
       "    <tr>\n",
       "      <th>3</th>\n",
       "      <td>[9/3/23, 00:32:52] Cesar: Come</td>\n",
       "    </tr>\n",
       "    <tr>\n",
       "      <th>4</th>\n",
       "      <td>[9/3/23, 00:32:55] Cesar: Diego de leon 40</td>\n",
       "    </tr>\n",
       "  </tbody>\n",
       "</table>\n",
       "</div>"
      ],
      "text/plain": [
       "                                                   0\n",
       "0  [9/3/23, 00:30:58] Headchopper: ‎Messages and ...\n",
       "1  [9/3/23, 00:30:58] Headchopper: Hey Cesar! My ...\n",
       "2                     [9/3/23, 00:32:43] Cesar: Heyy\n",
       "3                     [9/3/23, 00:32:52] Cesar: Come\n",
       "4         [9/3/23, 00:32:55] Cesar: Diego de leon 40"
      ]
     },
     "execution_count": 88,
     "metadata": {},
     "output_type": "execute_result"
    }
   ],
   "source": [
    "with open('data/headchopper.txt') as f:\n",
    "    data = f.read()\n",
    "\n",
    "data = data.split('\\n')\n",
    "data = pd.DataFrame(data)\n",
    "data.head()"
   ]
  },
  {
   "cell_type": "markdown",
   "metadata": {},
   "source": [
    "## Dates"
   ]
  },
  {
   "cell_type": "code",
   "execution_count": 93,
   "metadata": {},
   "outputs": [
    {
     "data": {
      "text/html": [
       "<div>\n",
       "<style scoped>\n",
       "    .dataframe tbody tr th:only-of-type {\n",
       "        vertical-align: middle;\n",
       "    }\n",
       "\n",
       "    .dataframe tbody tr th {\n",
       "        vertical-align: top;\n",
       "    }\n",
       "\n",
       "    .dataframe thead th {\n",
       "        text-align: right;\n",
       "    }\n",
       "</style>\n",
       "<table border=\"1\" class=\"dataframe\">\n",
       "  <thead>\n",
       "    <tr style=\"text-align: right;\">\n",
       "      <th></th>\n",
       "      <th>0</th>\n",
       "      <th>date</th>\n",
       "      <th>day</th>\n",
       "      <th>hour</th>\n",
       "    </tr>\n",
       "  </thead>\n",
       "  <tbody>\n",
       "    <tr>\n",
       "      <th>0</th>\n",
       "      <td>[9/3/23, 00:30:58] Headchopper: ‎Messages and ...</td>\n",
       "      <td>2023-09-03 00:30:58</td>\n",
       "      <td>2023-09-03</td>\n",
       "      <td>0.0</td>\n",
       "    </tr>\n",
       "    <tr>\n",
       "      <th>1</th>\n",
       "      <td>[9/3/23, 00:30:58] Headchopper: Hey Cesar! My ...</td>\n",
       "      <td>2023-09-03 00:30:58</td>\n",
       "      <td>2023-09-03</td>\n",
       "      <td>0.0</td>\n",
       "    </tr>\n",
       "    <tr>\n",
       "      <th>2</th>\n",
       "      <td>[9/3/23, 00:32:43] Cesar: Heyy</td>\n",
       "      <td>2023-09-03 00:32:43</td>\n",
       "      <td>2023-09-03</td>\n",
       "      <td>0.0</td>\n",
       "    </tr>\n",
       "    <tr>\n",
       "      <th>3</th>\n",
       "      <td>[9/3/23, 00:32:52] Cesar: Come</td>\n",
       "      <td>2023-09-03 00:32:52</td>\n",
       "      <td>2023-09-03</td>\n",
       "      <td>0.0</td>\n",
       "    </tr>\n",
       "    <tr>\n",
       "      <th>4</th>\n",
       "      <td>[9/3/23, 00:32:55] Cesar: Diego de leon 40</td>\n",
       "      <td>2023-09-03 00:32:55</td>\n",
       "      <td>2023-09-03</td>\n",
       "      <td>0.0</td>\n",
       "    </tr>\n",
       "  </tbody>\n",
       "</table>\n",
       "</div>"
      ],
      "text/plain": [
       "                                                   0                date  \\\n",
       "0  [9/3/23, 00:30:58] Headchopper: ‎Messages and ... 2023-09-03 00:30:58   \n",
       "1  [9/3/23, 00:30:58] Headchopper: Hey Cesar! My ... 2023-09-03 00:30:58   \n",
       "2                     [9/3/23, 00:32:43] Cesar: Heyy 2023-09-03 00:32:43   \n",
       "3                     [9/3/23, 00:32:52] Cesar: Come 2023-09-03 00:32:52   \n",
       "4         [9/3/23, 00:32:55] Cesar: Diego de leon 40 2023-09-03 00:32:55   \n",
       "\n",
       "          day  hour  \n",
       "0  2023-09-03   0.0  \n",
       "1  2023-09-03   0.0  \n",
       "2  2023-09-03   0.0  \n",
       "3  2023-09-03   0.0  \n",
       "4  2023-09-03   0.0  "
      ]
     },
     "execution_count": 93,
     "metadata": {},
     "output_type": "execute_result"
    }
   ],
   "source": [
    "sp_data = data.copy()\n",
    "sp_data['date'] = sp_data[0].str.extract(r'\\[(\\d+/\\d+/\\d+, \\d+:\\d+:\\d+)\\]')\n",
    "sp_data['date'] = pd.to_datetime(sp_data['date'], format=\"%m/%d/%y, %H:%M:%S\")\n",
    "sp_data['day'] = sp_data['date'].dt.date.astype('str')\n",
    "sp_data['hour'] = sp_data['date'].dt.hour\n",
    "\n",
    "sp_data.head()"
   ]
  },
  {
   "cell_type": "markdown",
   "metadata": {},
   "source": [
    "## Messages"
   ]
  },
  {
   "cell_type": "code",
   "execution_count": 94,
   "metadata": {},
   "outputs": [
    {
     "data": {
      "text/html": [
       "<div>\n",
       "<style scoped>\n",
       "    .dataframe tbody tr th:only-of-type {\n",
       "        vertical-align: middle;\n",
       "    }\n",
       "\n",
       "    .dataframe tbody tr th {\n",
       "        vertical-align: top;\n",
       "    }\n",
       "\n",
       "    .dataframe thead th {\n",
       "        text-align: right;\n",
       "    }\n",
       "</style>\n",
       "<table border=\"1\" class=\"dataframe\">\n",
       "  <thead>\n",
       "    <tr style=\"text-align: right;\">\n",
       "      <th></th>\n",
       "      <th>0</th>\n",
       "      <th>date</th>\n",
       "      <th>day</th>\n",
       "      <th>hour</th>\n",
       "      <th>sender</th>\n",
       "      <th>message</th>\n",
       "    </tr>\n",
       "  </thead>\n",
       "  <tbody>\n",
       "    <tr>\n",
       "      <th>0</th>\n",
       "      <td>[9/3/23, 00:30:58] Headchopper: ‎Messages and ...</td>\n",
       "      <td>2023-09-03 00:30:58</td>\n",
       "      <td>2023-09-03</td>\n",
       "      <td>0.0</td>\n",
       "      <td>Headchopper</td>\n",
       "      <td>‎Messages and calls are end-to-end encrypted....</td>\n",
       "    </tr>\n",
       "    <tr>\n",
       "      <th>1</th>\n",
       "      <td>[9/3/23, 00:30:58] Headchopper: Hey Cesar! My ...</td>\n",
       "      <td>2023-09-03 00:30:58</td>\n",
       "      <td>2023-09-03</td>\n",
       "      <td>0.0</td>\n",
       "      <td>Headchopper</td>\n",
       "      <td>Hey Cesar! My event is wrapping up and I’m th...</td>\n",
       "    </tr>\n",
       "    <tr>\n",
       "      <th>2</th>\n",
       "      <td>[9/3/23, 00:32:43] Cesar: Heyy</td>\n",
       "      <td>2023-09-03 00:32:43</td>\n",
       "      <td>2023-09-03</td>\n",
       "      <td>0.0</td>\n",
       "      <td>Cesar</td>\n",
       "      <td>Heyy</td>\n",
       "    </tr>\n",
       "    <tr>\n",
       "      <th>3</th>\n",
       "      <td>[9/3/23, 00:32:52] Cesar: Come</td>\n",
       "      <td>2023-09-03 00:32:52</td>\n",
       "      <td>2023-09-03</td>\n",
       "      <td>0.0</td>\n",
       "      <td>Cesar</td>\n",
       "      <td>Come</td>\n",
       "    </tr>\n",
       "    <tr>\n",
       "      <th>4</th>\n",
       "      <td>[9/3/23, 00:32:55] Cesar: Diego de leon 40</td>\n",
       "      <td>2023-09-03 00:32:55</td>\n",
       "      <td>2023-09-03</td>\n",
       "      <td>0.0</td>\n",
       "      <td>Cesar</td>\n",
       "      <td>Diego de leon 40</td>\n",
       "    </tr>\n",
       "    <tr>\n",
       "      <th>5</th>\n",
       "      <td>[9/3/23, 00:32:57] Cesar: 4B</td>\n",
       "      <td>2023-09-03 00:32:57</td>\n",
       "      <td>2023-09-03</td>\n",
       "      <td>0.0</td>\n",
       "      <td>Cesar</td>\n",
       "      <td>4B</td>\n",
       "    </tr>\n",
       "    <tr>\n",
       "      <th>6</th>\n",
       "      <td>[9/3/23, 00:35:25] Headchopper: Okay cool! I’l...</td>\n",
       "      <td>2023-09-03 00:35:25</td>\n",
       "      <td>2023-09-03</td>\n",
       "      <td>0.0</td>\n",
       "      <td>Headchopper</td>\n",
       "      <td>Okay cool! I’ll text before I come to make su...</td>\n",
       "    </tr>\n",
       "    <tr>\n",
       "      <th>7</th>\n",
       "      <td>[9/3/23, 00:37:20] Cesar: Nice</td>\n",
       "      <td>2023-09-03 00:37:20</td>\n",
       "      <td>2023-09-03</td>\n",
       "      <td>0.0</td>\n",
       "      <td>Cesar</td>\n",
       "      <td>Nice</td>\n",
       "    </tr>\n",
       "    <tr>\n",
       "      <th>8</th>\n",
       "      <td>[9/11/23, 21:43:36] Cesar: I bet you are no lo...</td>\n",
       "      <td>2023-09-11 21:43:36</td>\n",
       "      <td>2023-09-11</td>\n",
       "      <td>21.0</td>\n",
       "      <td>Cesar</td>\n",
       "      <td>I bet you are no longer liking the idea of ho...</td>\n",
       "    </tr>\n",
       "    <tr>\n",
       "      <th>9</th>\n",
       "      <td>[9/11/23, 21:43:48] Cesar: Lets find a place n...</td>\n",
       "      <td>2023-09-11 21:43:48</td>\n",
       "      <td>2023-09-11</td>\n",
       "      <td>21.0</td>\n",
       "      <td>Cesar</td>\n",
       "      <td>Lets find a place nearby we can all fit</td>\n",
       "    </tr>\n",
       "  </tbody>\n",
       "</table>\n",
       "</div>"
      ],
      "text/plain": [
       "                                                   0                date  \\\n",
       "0  [9/3/23, 00:30:58] Headchopper: ‎Messages and ... 2023-09-03 00:30:58   \n",
       "1  [9/3/23, 00:30:58] Headchopper: Hey Cesar! My ... 2023-09-03 00:30:58   \n",
       "2                     [9/3/23, 00:32:43] Cesar: Heyy 2023-09-03 00:32:43   \n",
       "3                     [9/3/23, 00:32:52] Cesar: Come 2023-09-03 00:32:52   \n",
       "4         [9/3/23, 00:32:55] Cesar: Diego de leon 40 2023-09-03 00:32:55   \n",
       "5                       [9/3/23, 00:32:57] Cesar: 4B 2023-09-03 00:32:57   \n",
       "6  [9/3/23, 00:35:25] Headchopper: Okay cool! I’l... 2023-09-03 00:35:25   \n",
       "7                     [9/3/23, 00:37:20] Cesar: Nice 2023-09-03 00:37:20   \n",
       "8  [9/11/23, 21:43:36] Cesar: I bet you are no lo... 2023-09-11 21:43:36   \n",
       "9  [9/11/23, 21:43:48] Cesar: Lets find a place n... 2023-09-11 21:43:48   \n",
       "\n",
       "          day  hour       sender  \\\n",
       "0  2023-09-03   0.0  Headchopper   \n",
       "1  2023-09-03   0.0  Headchopper   \n",
       "2  2023-09-03   0.0        Cesar   \n",
       "3  2023-09-03   0.0        Cesar   \n",
       "4  2023-09-03   0.0        Cesar   \n",
       "5  2023-09-03   0.0        Cesar   \n",
       "6  2023-09-03   0.0  Headchopper   \n",
       "7  2023-09-03   0.0        Cesar   \n",
       "8  2023-09-11  21.0        Cesar   \n",
       "9  2023-09-11  21.0        Cesar   \n",
       "\n",
       "                                             message  \n",
       "0   ‎Messages and calls are end-to-end encrypted....  \n",
       "1   Hey Cesar! My event is wrapping up and I’m th...  \n",
       "2                                               Heyy  \n",
       "3                                               Come  \n",
       "4                                   Diego de leon 40  \n",
       "5                                                 4B  \n",
       "6   Okay cool! I’ll text before I come to make su...  \n",
       "7                                               Nice  \n",
       "8   I bet you are no longer liking the idea of ho...  \n",
       "9            Lets find a place nearby we can all fit  "
      ]
     },
     "execution_count": 94,
     "metadata": {},
     "output_type": "execute_result"
    }
   ],
   "source": [
    "dt_data = sp_data.copy()\n",
    "dt_data['sender'] = sp_data[0].str.extract(r'\\[\\d+/\\d+/\\d+, \\d+:\\d+:\\d+\\] ([a-zA-z]+):.*')\n",
    "dt_data['message'] = sp_data[0].str.extract(r'\\[\\d+/\\d+/\\d+, \\d+:\\d+:\\d+\\] [a-zA-z]+:(.*)')\n",
    "dt_data.head(10)"
   ]
  },
  {
   "cell_type": "code",
   "execution_count": 95,
   "metadata": {},
   "outputs": [
    {
     "data": {
      "text/html": [
       "<div>\n",
       "<style scoped>\n",
       "    .dataframe tbody tr th:only-of-type {\n",
       "        vertical-align: middle;\n",
       "    }\n",
       "\n",
       "    .dataframe tbody tr th {\n",
       "        vertical-align: top;\n",
       "    }\n",
       "\n",
       "    .dataframe thead th {\n",
       "        text-align: right;\n",
       "    }\n",
       "</style>\n",
       "<table border=\"1\" class=\"dataframe\">\n",
       "  <thead>\n",
       "    <tr style=\"text-align: right;\">\n",
       "      <th></th>\n",
       "      <th>0</th>\n",
       "      <th>date</th>\n",
       "      <th>day</th>\n",
       "      <th>hour</th>\n",
       "      <th>sender</th>\n",
       "      <th>message</th>\n",
       "    </tr>\n",
       "  </thead>\n",
       "  <tbody>\n",
       "    <tr>\n",
       "      <th>0</th>\n",
       "      <td>[9/3/23, 00:30:58] Headchopper: ‎Messages and ...</td>\n",
       "      <td>2023-09-03 00:30:58</td>\n",
       "      <td>2023-09-03</td>\n",
       "      <td>0.0</td>\n",
       "      <td>Headchopper</td>\n",
       "      <td>‎Messages and calls are end-to-end encrypted. ...</td>\n",
       "    </tr>\n",
       "    <tr>\n",
       "      <th>1</th>\n",
       "      <td>[9/3/23, 00:30:58] Headchopper: Hey Cesar! My ...</td>\n",
       "      <td>2023-09-03 00:30:58</td>\n",
       "      <td>2023-09-03</td>\n",
       "      <td>0.0</td>\n",
       "      <td>Headchopper</td>\n",
       "      <td>Hey Cesar! My event is wrapping up and I’m thi...</td>\n",
       "    </tr>\n",
       "    <tr>\n",
       "      <th>2</th>\n",
       "      <td>[9/3/23, 00:32:43] Cesar: Heyy</td>\n",
       "      <td>2023-09-03 00:32:43</td>\n",
       "      <td>2023-09-03</td>\n",
       "      <td>0.0</td>\n",
       "      <td>Cesar</td>\n",
       "      <td>Heyy</td>\n",
       "    </tr>\n",
       "    <tr>\n",
       "      <th>3</th>\n",
       "      <td>[9/3/23, 00:32:52] Cesar: Come</td>\n",
       "      <td>2023-09-03 00:32:52</td>\n",
       "      <td>2023-09-03</td>\n",
       "      <td>0.0</td>\n",
       "      <td>Cesar</td>\n",
       "      <td>Come</td>\n",
       "    </tr>\n",
       "    <tr>\n",
       "      <th>4</th>\n",
       "      <td>[9/3/23, 00:32:55] Cesar: Diego de leon 40</td>\n",
       "      <td>2023-09-03 00:32:55</td>\n",
       "      <td>2023-09-03</td>\n",
       "      <td>0.0</td>\n",
       "      <td>Cesar</td>\n",
       "      <td>Diego de leon 40</td>\n",
       "    </tr>\n",
       "    <tr>\n",
       "      <th>5</th>\n",
       "      <td>[9/3/23, 00:32:57] Cesar: 4B</td>\n",
       "      <td>2023-09-03 00:32:57</td>\n",
       "      <td>2023-09-03</td>\n",
       "      <td>0.0</td>\n",
       "      <td>Cesar</td>\n",
       "      <td>4B</td>\n",
       "    </tr>\n",
       "    <tr>\n",
       "      <th>6</th>\n",
       "      <td>[9/3/23, 00:35:25] Headchopper: Okay cool! I’l...</td>\n",
       "      <td>2023-09-03 00:35:25</td>\n",
       "      <td>2023-09-03</td>\n",
       "      <td>0.0</td>\n",
       "      <td>Headchopper</td>\n",
       "      <td>Okay cool! I’ll text before I come to make sur...</td>\n",
       "    </tr>\n",
       "    <tr>\n",
       "      <th>7</th>\n",
       "      <td>[9/3/23, 00:37:20] Cesar: Nice</td>\n",
       "      <td>2023-09-03 00:37:20</td>\n",
       "      <td>2023-09-03</td>\n",
       "      <td>0.0</td>\n",
       "      <td>Cesar</td>\n",
       "      <td>Nice</td>\n",
       "    </tr>\n",
       "    <tr>\n",
       "      <th>8</th>\n",
       "      <td>[9/11/23, 21:43:36] Cesar: I bet you are no lo...</td>\n",
       "      <td>2023-09-11 21:43:36</td>\n",
       "      <td>2023-09-11</td>\n",
       "      <td>21.0</td>\n",
       "      <td>Cesar</td>\n",
       "      <td>I bet you are no longer liking the idea of hos...</td>\n",
       "    </tr>\n",
       "    <tr>\n",
       "      <th>9</th>\n",
       "      <td>[9/11/23, 21:43:48] Cesar: Lets find a place n...</td>\n",
       "      <td>2023-09-11 21:43:48</td>\n",
       "      <td>2023-09-11</td>\n",
       "      <td>21.0</td>\n",
       "      <td>Cesar</td>\n",
       "      <td>Lets find a place nearby we can all fit</td>\n",
       "    </tr>\n",
       "  </tbody>\n",
       "</table>\n",
       "</div>"
      ],
      "text/plain": [
       "                                                   0                date  \\\n",
       "0  [9/3/23, 00:30:58] Headchopper: ‎Messages and ... 2023-09-03 00:30:58   \n",
       "1  [9/3/23, 00:30:58] Headchopper: Hey Cesar! My ... 2023-09-03 00:30:58   \n",
       "2                     [9/3/23, 00:32:43] Cesar: Heyy 2023-09-03 00:32:43   \n",
       "3                     [9/3/23, 00:32:52] Cesar: Come 2023-09-03 00:32:52   \n",
       "4         [9/3/23, 00:32:55] Cesar: Diego de leon 40 2023-09-03 00:32:55   \n",
       "5                       [9/3/23, 00:32:57] Cesar: 4B 2023-09-03 00:32:57   \n",
       "6  [9/3/23, 00:35:25] Headchopper: Okay cool! I’l... 2023-09-03 00:35:25   \n",
       "7                     [9/3/23, 00:37:20] Cesar: Nice 2023-09-03 00:37:20   \n",
       "8  [9/11/23, 21:43:36] Cesar: I bet you are no lo... 2023-09-11 21:43:36   \n",
       "9  [9/11/23, 21:43:48] Cesar: Lets find a place n... 2023-09-11 21:43:48   \n",
       "\n",
       "          day  hour       sender  \\\n",
       "0  2023-09-03   0.0  Headchopper   \n",
       "1  2023-09-03   0.0  Headchopper   \n",
       "2  2023-09-03   0.0        Cesar   \n",
       "3  2023-09-03   0.0        Cesar   \n",
       "4  2023-09-03   0.0        Cesar   \n",
       "5  2023-09-03   0.0        Cesar   \n",
       "6  2023-09-03   0.0  Headchopper   \n",
       "7  2023-09-03   0.0        Cesar   \n",
       "8  2023-09-11  21.0        Cesar   \n",
       "9  2023-09-11  21.0        Cesar   \n",
       "\n",
       "                                             message  \n",
       "0  ‎Messages and calls are end-to-end encrypted. ...  \n",
       "1  Hey Cesar! My event is wrapping up and I’m thi...  \n",
       "2                                               Heyy  \n",
       "3                                               Come  \n",
       "4                                   Diego de leon 40  \n",
       "5                                                 4B  \n",
       "6  Okay cool! I’ll text before I come to make sur...  \n",
       "7                                               Nice  \n",
       "8  I bet you are no longer liking the idea of hos...  \n",
       "9            Lets find a place nearby we can all fit  "
      ]
     },
     "execution_count": 95,
     "metadata": {},
     "output_type": "execute_result"
    }
   ],
   "source": [
    "dt_data['sender'] = dt_data['sender'].str.strip()\n",
    "dt_data['message'] = dt_data['message'].str.strip()\n",
    "dt_data.head(10)"
   ]
  },
  {
   "cell_type": "markdown",
   "metadata": {},
   "source": [
    "## Cleaned\n"
   ]
  },
  {
   "cell_type": "code",
   "execution_count": 96,
   "metadata": {},
   "outputs": [
    {
     "data": {
      "text/html": [
       "<div>\n",
       "<style scoped>\n",
       "    .dataframe tbody tr th:only-of-type {\n",
       "        vertical-align: middle;\n",
       "    }\n",
       "\n",
       "    .dataframe tbody tr th {\n",
       "        vertical-align: top;\n",
       "    }\n",
       "\n",
       "    .dataframe thead th {\n",
       "        text-align: right;\n",
       "    }\n",
       "</style>\n",
       "<table border=\"1\" class=\"dataframe\">\n",
       "  <thead>\n",
       "    <tr style=\"text-align: right;\">\n",
       "      <th></th>\n",
       "      <th>date</th>\n",
       "      <th>day</th>\n",
       "      <th>hour</th>\n",
       "      <th>sender</th>\n",
       "      <th>message</th>\n",
       "    </tr>\n",
       "  </thead>\n",
       "  <tbody>\n",
       "    <tr>\n",
       "      <th>0</th>\n",
       "      <td>2023-09-03 00:30:58</td>\n",
       "      <td>2023-09-03</td>\n",
       "      <td>0.0</td>\n",
       "      <td>Headchopper</td>\n",
       "      <td>‎Messages and calls are end-to-end encrypted. ...</td>\n",
       "    </tr>\n",
       "    <tr>\n",
       "      <th>1</th>\n",
       "      <td>2023-09-03 00:30:58</td>\n",
       "      <td>2023-09-03</td>\n",
       "      <td>0.0</td>\n",
       "      <td>Headchopper</td>\n",
       "      <td>Hey Cesar! My event is wrapping up and I’m thi...</td>\n",
       "    </tr>\n",
       "    <tr>\n",
       "      <th>2</th>\n",
       "      <td>2023-09-03 00:32:43</td>\n",
       "      <td>2023-09-03</td>\n",
       "      <td>0.0</td>\n",
       "      <td>Cesar</td>\n",
       "      <td>Heyy</td>\n",
       "    </tr>\n",
       "    <tr>\n",
       "      <th>3</th>\n",
       "      <td>2023-09-03 00:32:52</td>\n",
       "      <td>2023-09-03</td>\n",
       "      <td>0.0</td>\n",
       "      <td>Cesar</td>\n",
       "      <td>Come</td>\n",
       "    </tr>\n",
       "    <tr>\n",
       "      <th>4</th>\n",
       "      <td>2023-09-03 00:32:55</td>\n",
       "      <td>2023-09-03</td>\n",
       "      <td>0.0</td>\n",
       "      <td>Cesar</td>\n",
       "      <td>Diego de leon 40</td>\n",
       "    </tr>\n",
       "    <tr>\n",
       "      <th>5</th>\n",
       "      <td>2023-09-03 00:32:57</td>\n",
       "      <td>2023-09-03</td>\n",
       "      <td>0.0</td>\n",
       "      <td>Cesar</td>\n",
       "      <td>4B</td>\n",
       "    </tr>\n",
       "    <tr>\n",
       "      <th>6</th>\n",
       "      <td>2023-09-03 00:35:25</td>\n",
       "      <td>2023-09-03</td>\n",
       "      <td>0.0</td>\n",
       "      <td>Headchopper</td>\n",
       "      <td>Okay cool! I’ll text before I come to make sur...</td>\n",
       "    </tr>\n",
       "    <tr>\n",
       "      <th>7</th>\n",
       "      <td>2023-09-03 00:37:20</td>\n",
       "      <td>2023-09-03</td>\n",
       "      <td>0.0</td>\n",
       "      <td>Cesar</td>\n",
       "      <td>Nice</td>\n",
       "    </tr>\n",
       "    <tr>\n",
       "      <th>8</th>\n",
       "      <td>2023-09-11 21:43:36</td>\n",
       "      <td>2023-09-11</td>\n",
       "      <td>21.0</td>\n",
       "      <td>Cesar</td>\n",
       "      <td>I bet you are no longer liking the idea of hos...</td>\n",
       "    </tr>\n",
       "    <tr>\n",
       "      <th>9</th>\n",
       "      <td>2023-09-11 21:43:48</td>\n",
       "      <td>2023-09-11</td>\n",
       "      <td>21.0</td>\n",
       "      <td>Cesar</td>\n",
       "      <td>Lets find a place nearby we can all fit</td>\n",
       "    </tr>\n",
       "  </tbody>\n",
       "</table>\n",
       "</div>"
      ],
      "text/plain": [
       "                 date         day  hour       sender  \\\n",
       "0 2023-09-03 00:30:58  2023-09-03   0.0  Headchopper   \n",
       "1 2023-09-03 00:30:58  2023-09-03   0.0  Headchopper   \n",
       "2 2023-09-03 00:32:43  2023-09-03   0.0        Cesar   \n",
       "3 2023-09-03 00:32:52  2023-09-03   0.0        Cesar   \n",
       "4 2023-09-03 00:32:55  2023-09-03   0.0        Cesar   \n",
       "5 2023-09-03 00:32:57  2023-09-03   0.0        Cesar   \n",
       "6 2023-09-03 00:35:25  2023-09-03   0.0  Headchopper   \n",
       "7 2023-09-03 00:37:20  2023-09-03   0.0        Cesar   \n",
       "8 2023-09-11 21:43:36  2023-09-11  21.0        Cesar   \n",
       "9 2023-09-11 21:43:48  2023-09-11  21.0        Cesar   \n",
       "\n",
       "                                             message  \n",
       "0  ‎Messages and calls are end-to-end encrypted. ...  \n",
       "1  Hey Cesar! My event is wrapping up and I’m thi...  \n",
       "2                                               Heyy  \n",
       "3                                               Come  \n",
       "4                                   Diego de leon 40  \n",
       "5                                                 4B  \n",
       "6  Okay cool! I’ll text before I come to make sur...  \n",
       "7                                               Nice  \n",
       "8  I bet you are no longer liking the idea of hos...  \n",
       "9            Lets find a place nearby we can all fit  "
      ]
     },
     "execution_count": 96,
     "metadata": {},
     "output_type": "execute_result"
    }
   ],
   "source": [
    "dt_data = dt_data.drop(columns=0)\n",
    "dt_data.head(10)"
   ]
  },
  {
   "cell_type": "markdown",
   "metadata": {},
   "source": [
    "# Data Exploration"
   ]
  },
  {
   "cell_type": "code",
   "execution_count": 97,
   "metadata": {},
   "outputs": [
    {
     "name": "stdout",
     "output_type": "stream",
     "text": [
      "<class 'pandas.core.frame.DataFrame'>\n",
      "RangeIndex: 3968 entries, 0 to 3967\n",
      "Data columns (total 5 columns):\n",
      " #   Column   Non-Null Count  Dtype         \n",
      "---  ------   --------------  -----         \n",
      " 0   date     3768 non-null   datetime64[ns]\n",
      " 1   day      3968 non-null   object        \n",
      " 2   hour     3768 non-null   float64       \n",
      " 3   sender   3768 non-null   object        \n",
      " 4   message  3768 non-null   object        \n",
      "dtypes: datetime64[ns](1), float64(1), object(3)\n",
      "memory usage: 155.1+ KB\n"
     ]
    }
   ],
   "source": [
    "dt_data.info()"
   ]
  },
  {
   "cell_type": "code",
   "execution_count": 98,
   "metadata": {},
   "outputs": [
    {
     "data": {
      "text/plain": [
       "sender\n",
       "Headchopper    1963\n",
       "Cesar          1805\n",
       "Name: count, dtype: int64"
      ]
     },
     "execution_count": 98,
     "metadata": {},
     "output_type": "execute_result"
    }
   ],
   "source": [
    "dt_data['sender'].value_counts()"
   ]
  },
  {
   "cell_type": "code",
   "execution_count": 104,
   "metadata": {},
   "outputs": [
    {
     "data": {
      "application/vnd.plotly.v1+json": {
       "config": {
        "plotlyServerURL": "https://plot.ly"
       },
       "data": [
        {
         "domain": {
          "x": [
           0,
           1
          ],
          "y": [
           0,
           1
          ]
         },
         "hovertemplate": "label=%{label}<br>value=%{value}<extra></extra>",
         "labels": [
          "Headchopper",
          "Cesar"
         ],
         "legendgroup": "",
         "name": "",
         "showlegend": true,
         "type": "pie",
         "values": [
          1963,
          1805
         ]
        }
       ],
       "layout": {
        "legend": {
         "tracegroupgap": 0
        },
        "template": {
         "data": {
          "bar": [
           {
            "error_x": {
             "color": "#2a3f5f"
            },
            "error_y": {
             "color": "#2a3f5f"
            },
            "marker": {
             "line": {
              "color": "#E5ECF6",
              "width": 0.5
             },
             "pattern": {
              "fillmode": "overlay",
              "size": 10,
              "solidity": 0.2
             }
            },
            "type": "bar"
           }
          ],
          "barpolar": [
           {
            "marker": {
             "line": {
              "color": "#E5ECF6",
              "width": 0.5
             },
             "pattern": {
              "fillmode": "overlay",
              "size": 10,
              "solidity": 0.2
             }
            },
            "type": "barpolar"
           }
          ],
          "carpet": [
           {
            "aaxis": {
             "endlinecolor": "#2a3f5f",
             "gridcolor": "white",
             "linecolor": "white",
             "minorgridcolor": "white",
             "startlinecolor": "#2a3f5f"
            },
            "baxis": {
             "endlinecolor": "#2a3f5f",
             "gridcolor": "white",
             "linecolor": "white",
             "minorgridcolor": "white",
             "startlinecolor": "#2a3f5f"
            },
            "type": "carpet"
           }
          ],
          "choropleth": [
           {
            "colorbar": {
             "outlinewidth": 0,
             "ticks": ""
            },
            "type": "choropleth"
           }
          ],
          "contour": [
           {
            "colorbar": {
             "outlinewidth": 0,
             "ticks": ""
            },
            "colorscale": [
             [
              0,
              "#0d0887"
             ],
             [
              0.1111111111111111,
              "#46039f"
             ],
             [
              0.2222222222222222,
              "#7201a8"
             ],
             [
              0.3333333333333333,
              "#9c179e"
             ],
             [
              0.4444444444444444,
              "#bd3786"
             ],
             [
              0.5555555555555556,
              "#d8576b"
             ],
             [
              0.6666666666666666,
              "#ed7953"
             ],
             [
              0.7777777777777778,
              "#fb9f3a"
             ],
             [
              0.8888888888888888,
              "#fdca26"
             ],
             [
              1,
              "#f0f921"
             ]
            ],
            "type": "contour"
           }
          ],
          "contourcarpet": [
           {
            "colorbar": {
             "outlinewidth": 0,
             "ticks": ""
            },
            "type": "contourcarpet"
           }
          ],
          "heatmap": [
           {
            "colorbar": {
             "outlinewidth": 0,
             "ticks": ""
            },
            "colorscale": [
             [
              0,
              "#0d0887"
             ],
             [
              0.1111111111111111,
              "#46039f"
             ],
             [
              0.2222222222222222,
              "#7201a8"
             ],
             [
              0.3333333333333333,
              "#9c179e"
             ],
             [
              0.4444444444444444,
              "#bd3786"
             ],
             [
              0.5555555555555556,
              "#d8576b"
             ],
             [
              0.6666666666666666,
              "#ed7953"
             ],
             [
              0.7777777777777778,
              "#fb9f3a"
             ],
             [
              0.8888888888888888,
              "#fdca26"
             ],
             [
              1,
              "#f0f921"
             ]
            ],
            "type": "heatmap"
           }
          ],
          "heatmapgl": [
           {
            "colorbar": {
             "outlinewidth": 0,
             "ticks": ""
            },
            "colorscale": [
             [
              0,
              "#0d0887"
             ],
             [
              0.1111111111111111,
              "#46039f"
             ],
             [
              0.2222222222222222,
              "#7201a8"
             ],
             [
              0.3333333333333333,
              "#9c179e"
             ],
             [
              0.4444444444444444,
              "#bd3786"
             ],
             [
              0.5555555555555556,
              "#d8576b"
             ],
             [
              0.6666666666666666,
              "#ed7953"
             ],
             [
              0.7777777777777778,
              "#fb9f3a"
             ],
             [
              0.8888888888888888,
              "#fdca26"
             ],
             [
              1,
              "#f0f921"
             ]
            ],
            "type": "heatmapgl"
           }
          ],
          "histogram": [
           {
            "marker": {
             "pattern": {
              "fillmode": "overlay",
              "size": 10,
              "solidity": 0.2
             }
            },
            "type": "histogram"
           }
          ],
          "histogram2d": [
           {
            "colorbar": {
             "outlinewidth": 0,
             "ticks": ""
            },
            "colorscale": [
             [
              0,
              "#0d0887"
             ],
             [
              0.1111111111111111,
              "#46039f"
             ],
             [
              0.2222222222222222,
              "#7201a8"
             ],
             [
              0.3333333333333333,
              "#9c179e"
             ],
             [
              0.4444444444444444,
              "#bd3786"
             ],
             [
              0.5555555555555556,
              "#d8576b"
             ],
             [
              0.6666666666666666,
              "#ed7953"
             ],
             [
              0.7777777777777778,
              "#fb9f3a"
             ],
             [
              0.8888888888888888,
              "#fdca26"
             ],
             [
              1,
              "#f0f921"
             ]
            ],
            "type": "histogram2d"
           }
          ],
          "histogram2dcontour": [
           {
            "colorbar": {
             "outlinewidth": 0,
             "ticks": ""
            },
            "colorscale": [
             [
              0,
              "#0d0887"
             ],
             [
              0.1111111111111111,
              "#46039f"
             ],
             [
              0.2222222222222222,
              "#7201a8"
             ],
             [
              0.3333333333333333,
              "#9c179e"
             ],
             [
              0.4444444444444444,
              "#bd3786"
             ],
             [
              0.5555555555555556,
              "#d8576b"
             ],
             [
              0.6666666666666666,
              "#ed7953"
             ],
             [
              0.7777777777777778,
              "#fb9f3a"
             ],
             [
              0.8888888888888888,
              "#fdca26"
             ],
             [
              1,
              "#f0f921"
             ]
            ],
            "type": "histogram2dcontour"
           }
          ],
          "mesh3d": [
           {
            "colorbar": {
             "outlinewidth": 0,
             "ticks": ""
            },
            "type": "mesh3d"
           }
          ],
          "parcoords": [
           {
            "line": {
             "colorbar": {
              "outlinewidth": 0,
              "ticks": ""
             }
            },
            "type": "parcoords"
           }
          ],
          "pie": [
           {
            "automargin": true,
            "type": "pie"
           }
          ],
          "scatter": [
           {
            "fillpattern": {
             "fillmode": "overlay",
             "size": 10,
             "solidity": 0.2
            },
            "type": "scatter"
           }
          ],
          "scatter3d": [
           {
            "line": {
             "colorbar": {
              "outlinewidth": 0,
              "ticks": ""
             }
            },
            "marker": {
             "colorbar": {
              "outlinewidth": 0,
              "ticks": ""
             }
            },
            "type": "scatter3d"
           }
          ],
          "scattercarpet": [
           {
            "marker": {
             "colorbar": {
              "outlinewidth": 0,
              "ticks": ""
             }
            },
            "type": "scattercarpet"
           }
          ],
          "scattergeo": [
           {
            "marker": {
             "colorbar": {
              "outlinewidth": 0,
              "ticks": ""
             }
            },
            "type": "scattergeo"
           }
          ],
          "scattergl": [
           {
            "marker": {
             "colorbar": {
              "outlinewidth": 0,
              "ticks": ""
             }
            },
            "type": "scattergl"
           }
          ],
          "scattermapbox": [
           {
            "marker": {
             "colorbar": {
              "outlinewidth": 0,
              "ticks": ""
             }
            },
            "type": "scattermapbox"
           }
          ],
          "scatterpolar": [
           {
            "marker": {
             "colorbar": {
              "outlinewidth": 0,
              "ticks": ""
             }
            },
            "type": "scatterpolar"
           }
          ],
          "scatterpolargl": [
           {
            "marker": {
             "colorbar": {
              "outlinewidth": 0,
              "ticks": ""
             }
            },
            "type": "scatterpolargl"
           }
          ],
          "scatterternary": [
           {
            "marker": {
             "colorbar": {
              "outlinewidth": 0,
              "ticks": ""
             }
            },
            "type": "scatterternary"
           }
          ],
          "surface": [
           {
            "colorbar": {
             "outlinewidth": 0,
             "ticks": ""
            },
            "colorscale": [
             [
              0,
              "#0d0887"
             ],
             [
              0.1111111111111111,
              "#46039f"
             ],
             [
              0.2222222222222222,
              "#7201a8"
             ],
             [
              0.3333333333333333,
              "#9c179e"
             ],
             [
              0.4444444444444444,
              "#bd3786"
             ],
             [
              0.5555555555555556,
              "#d8576b"
             ],
             [
              0.6666666666666666,
              "#ed7953"
             ],
             [
              0.7777777777777778,
              "#fb9f3a"
             ],
             [
              0.8888888888888888,
              "#fdca26"
             ],
             [
              1,
              "#f0f921"
             ]
            ],
            "type": "surface"
           }
          ],
          "table": [
           {
            "cells": {
             "fill": {
              "color": "#EBF0F8"
             },
             "line": {
              "color": "white"
             }
            },
            "header": {
             "fill": {
              "color": "#C8D4E3"
             },
             "line": {
              "color": "white"
             }
            },
            "type": "table"
           }
          ]
         },
         "layout": {
          "annotationdefaults": {
           "arrowcolor": "#2a3f5f",
           "arrowhead": 0,
           "arrowwidth": 1
          },
          "autotypenumbers": "strict",
          "coloraxis": {
           "colorbar": {
            "outlinewidth": 0,
            "ticks": ""
           }
          },
          "colorscale": {
           "diverging": [
            [
             0,
             "#8e0152"
            ],
            [
             0.1,
             "#c51b7d"
            ],
            [
             0.2,
             "#de77ae"
            ],
            [
             0.3,
             "#f1b6da"
            ],
            [
             0.4,
             "#fde0ef"
            ],
            [
             0.5,
             "#f7f7f7"
            ],
            [
             0.6,
             "#e6f5d0"
            ],
            [
             0.7,
             "#b8e186"
            ],
            [
             0.8,
             "#7fbc41"
            ],
            [
             0.9,
             "#4d9221"
            ],
            [
             1,
             "#276419"
            ]
           ],
           "sequential": [
            [
             0,
             "#0d0887"
            ],
            [
             0.1111111111111111,
             "#46039f"
            ],
            [
             0.2222222222222222,
             "#7201a8"
            ],
            [
             0.3333333333333333,
             "#9c179e"
            ],
            [
             0.4444444444444444,
             "#bd3786"
            ],
            [
             0.5555555555555556,
             "#d8576b"
            ],
            [
             0.6666666666666666,
             "#ed7953"
            ],
            [
             0.7777777777777778,
             "#fb9f3a"
            ],
            [
             0.8888888888888888,
             "#fdca26"
            ],
            [
             1,
             "#f0f921"
            ]
           ],
           "sequentialminus": [
            [
             0,
             "#0d0887"
            ],
            [
             0.1111111111111111,
             "#46039f"
            ],
            [
             0.2222222222222222,
             "#7201a8"
            ],
            [
             0.3333333333333333,
             "#9c179e"
            ],
            [
             0.4444444444444444,
             "#bd3786"
            ],
            [
             0.5555555555555556,
             "#d8576b"
            ],
            [
             0.6666666666666666,
             "#ed7953"
            ],
            [
             0.7777777777777778,
             "#fb9f3a"
            ],
            [
             0.8888888888888888,
             "#fdca26"
            ],
            [
             1,
             "#f0f921"
            ]
           ]
          },
          "colorway": [
           "#636efa",
           "#EF553B",
           "#00cc96",
           "#ab63fa",
           "#FFA15A",
           "#19d3f3",
           "#FF6692",
           "#B6E880",
           "#FF97FF",
           "#FECB52"
          ],
          "font": {
           "color": "#2a3f5f"
          },
          "geo": {
           "bgcolor": "white",
           "lakecolor": "white",
           "landcolor": "#E5ECF6",
           "showlakes": true,
           "showland": true,
           "subunitcolor": "white"
          },
          "hoverlabel": {
           "align": "left"
          },
          "hovermode": "closest",
          "mapbox": {
           "style": "light"
          },
          "paper_bgcolor": "white",
          "plot_bgcolor": "#E5ECF6",
          "polar": {
           "angularaxis": {
            "gridcolor": "white",
            "linecolor": "white",
            "ticks": ""
           },
           "bgcolor": "#E5ECF6",
           "radialaxis": {
            "gridcolor": "white",
            "linecolor": "white",
            "ticks": ""
           }
          },
          "scene": {
           "xaxis": {
            "backgroundcolor": "#E5ECF6",
            "gridcolor": "white",
            "gridwidth": 2,
            "linecolor": "white",
            "showbackground": true,
            "ticks": "",
            "zerolinecolor": "white"
           },
           "yaxis": {
            "backgroundcolor": "#E5ECF6",
            "gridcolor": "white",
            "gridwidth": 2,
            "linecolor": "white",
            "showbackground": true,
            "ticks": "",
            "zerolinecolor": "white"
           },
           "zaxis": {
            "backgroundcolor": "#E5ECF6",
            "gridcolor": "white",
            "gridwidth": 2,
            "linecolor": "white",
            "showbackground": true,
            "ticks": "",
            "zerolinecolor": "white"
           }
          },
          "shapedefaults": {
           "line": {
            "color": "#2a3f5f"
           }
          },
          "ternary": {
           "aaxis": {
            "gridcolor": "white",
            "linecolor": "white",
            "ticks": ""
           },
           "baxis": {
            "gridcolor": "white",
            "linecolor": "white",
            "ticks": ""
           },
           "bgcolor": "#E5ECF6",
           "caxis": {
            "gridcolor": "white",
            "linecolor": "white",
            "ticks": ""
           }
          },
          "title": {
           "x": 0.05
          },
          "xaxis": {
           "automargin": true,
           "gridcolor": "white",
           "linecolor": "white",
           "ticks": "",
           "title": {
            "standoff": 15
           },
           "zerolinecolor": "white",
           "zerolinewidth": 2
          },
          "yaxis": {
           "automargin": true,
           "gridcolor": "white",
           "linecolor": "white",
           "ticks": "",
           "title": {
            "standoff": 15
           },
           "zerolinecolor": "white",
           "zerolinewidth": 2
          }
         }
        },
        "title": {
         "text": "Number of messages sent by each user"
        }
       }
      }
     },
     "metadata": {},
     "output_type": "display_data"
    }
   ],
   "source": [
    "top_10 = dt_data['sender'].value_counts()\n",
    "#plot a pie chart\n",
    "fig = px.pie(values=top_10, names=top_10.index, title='Number of messages sent by each user')\n",
    "fig.show()\n"
   ]
  },
  {
   "cell_type": "code",
   "execution_count": 100,
   "metadata": {},
   "outputs": [
    {
     "data": {
      "application/vnd.plotly.v1+json": {
       "config": {
        "plotlyServerURL": "https://plot.ly"
       },
       "data": [
        {
         "alignmentgroup": "True",
         "hovertemplate": "variable=count<br>date=%{x}<br>value=%{y}<extra></extra>",
         "legendgroup": "count",
         "marker": {
          "color": "#636efa",
          "pattern": {
           "shape": ""
          }
         },
         "name": "count",
         "offsetgroup": "count",
         "orientation": "v",
         "showlegend": true,
         "textposition": "auto",
         "type": "bar",
         "x": [
          "2024-05-07",
          "2024-05-12",
          "2024-05-06",
          "2024-05-13",
          "2023-12-15",
          "2024-05-09",
          "2024-02-06",
          "2024-04-08",
          "2024-01-21",
          "2024-04-12",
          "2024-02-05",
          "2024-01-29",
          "2023-12-16",
          "2024-04-22",
          "2024-01-22",
          "2024-05-08",
          "2024-01-12",
          "2024-02-23",
          "2024-03-30",
          "2024-02-11",
          "2024-04-16",
          "2023-11-29",
          "2024-01-24",
          "2024-04-29",
          "2023-10-23",
          "2024-05-10",
          "2023-12-26",
          "2024-05-11",
          "2024-04-17",
          "2024-02-10",
          "2024-04-30",
          "2024-01-23",
          "2024-04-05",
          "2024-01-28",
          "2024-04-06",
          "2024-03-28",
          "2024-02-15",
          "2023-12-11",
          "2023-12-31",
          "2023-11-19",
          "2024-01-14",
          "2024-02-19",
          "2024-05-14",
          "2023-11-30",
          "2023-12-27",
          "2024-01-15",
          "2024-01-16",
          "2024-03-20",
          "2023-11-01",
          "2024-01-25",
          "2024-03-21",
          "2024-01-27",
          "2024-04-01",
          "2023-12-19",
          "2024-02-27",
          "2024-04-04",
          "2024-01-17",
          "2024-04-03",
          "2024-01-10",
          "2024-03-09",
          "2024-04-19",
          "2024-01-31",
          "2024-02-08",
          "2023-11-21",
          "2023-10-22",
          "2024-03-11",
          "2024-03-03",
          "2024-04-11",
          "2024-04-15",
          "2024-01-30",
          "2024-04-02",
          "2024-04-25",
          "2024-01-18",
          "2023-12-30",
          "2024-05-05",
          "2024-02-17",
          "2024-02-21",
          "2024-02-26",
          "2024-03-07",
          "2024-04-23",
          "2024-02-14",
          "2023-12-17",
          "2024-01-26",
          "2024-01-08",
          "2024-01-19",
          "2023-09-11",
          "2023-10-16",
          "2024-01-09",
          "2023-09-03",
          "2023-12-18",
          "2024-03-15",
          "2023-10-13",
          "2024-02-03",
          "2023-12-04",
          "2023-11-18",
          "2023-10-06",
          "2024-02-12",
          "2024-02-01",
          "2024-04-24",
          "2023-11-20",
          "2023-11-24",
          "2023-12-13",
          "2024-04-26",
          "2024-02-07",
          "2023-11-25",
          "2024-02-09",
          "2024-04-21",
          "2023-11-27",
          "2023-12-14",
          "2023-11-08",
          "2023-11-03",
          "2024-03-27",
          "2023-10-10",
          "2024-02-13",
          "2023-12-02",
          "2024-03-31",
          "2024-04-10",
          "2024-03-10",
          "2024-03-22",
          "2023-12-06",
          "2023-10-31",
          "2023-10-27",
          "2023-12-01",
          "2023-12-25",
          "2024-03-29",
          "2023-12-28",
          "2024-03-05"
         ],
         "xaxis": "x",
         "y": [
          320,
          231,
          140,
          136,
          135,
          133,
          116,
          109,
          108,
          93,
          88,
          81,
          79,
          72,
          67,
          61,
          57,
          49,
          45,
          44,
          43,
          43,
          42,
          41,
          35,
          35,
          34,
          34,
          33,
          33,
          32,
          31,
          31,
          30,
          30,
          29,
          28,
          28,
          28,
          28,
          28,
          27,
          26,
          25,
          25,
          24,
          23,
          23,
          23,
          22,
          22,
          21,
          21,
          21,
          21,
          20,
          20,
          19,
          19,
          18,
          17,
          17,
          16,
          16,
          14,
          14,
          13,
          13,
          13,
          13,
          12,
          12,
          11,
          11,
          11,
          11,
          11,
          11,
          10,
          10,
          10,
          10,
          10,
          9,
          9,
          9,
          9,
          9,
          8,
          8,
          7,
          7,
          7,
          7,
          7,
          6,
          6,
          6,
          6,
          6,
          6,
          5,
          5,
          5,
          5,
          5,
          4,
          4,
          4,
          3,
          3,
          3,
          3,
          3,
          2,
          2,
          2,
          2,
          2,
          1,
          1,
          1,
          1,
          1,
          1,
          1,
          1
         ],
         "yaxis": "y"
        }
       ],
       "layout": {
        "barmode": "relative",
        "legend": {
         "title": {
          "text": "variable"
         },
         "tracegroupgap": 0
        },
        "template": {
         "data": {
          "bar": [
           {
            "error_x": {
             "color": "#2a3f5f"
            },
            "error_y": {
             "color": "#2a3f5f"
            },
            "marker": {
             "line": {
              "color": "#E5ECF6",
              "width": 0.5
             },
             "pattern": {
              "fillmode": "overlay",
              "size": 10,
              "solidity": 0.2
             }
            },
            "type": "bar"
           }
          ],
          "barpolar": [
           {
            "marker": {
             "line": {
              "color": "#E5ECF6",
              "width": 0.5
             },
             "pattern": {
              "fillmode": "overlay",
              "size": 10,
              "solidity": 0.2
             }
            },
            "type": "barpolar"
           }
          ],
          "carpet": [
           {
            "aaxis": {
             "endlinecolor": "#2a3f5f",
             "gridcolor": "white",
             "linecolor": "white",
             "minorgridcolor": "white",
             "startlinecolor": "#2a3f5f"
            },
            "baxis": {
             "endlinecolor": "#2a3f5f",
             "gridcolor": "white",
             "linecolor": "white",
             "minorgridcolor": "white",
             "startlinecolor": "#2a3f5f"
            },
            "type": "carpet"
           }
          ],
          "choropleth": [
           {
            "colorbar": {
             "outlinewidth": 0,
             "ticks": ""
            },
            "type": "choropleth"
           }
          ],
          "contour": [
           {
            "colorbar": {
             "outlinewidth": 0,
             "ticks": ""
            },
            "colorscale": [
             [
              0,
              "#0d0887"
             ],
             [
              0.1111111111111111,
              "#46039f"
             ],
             [
              0.2222222222222222,
              "#7201a8"
             ],
             [
              0.3333333333333333,
              "#9c179e"
             ],
             [
              0.4444444444444444,
              "#bd3786"
             ],
             [
              0.5555555555555556,
              "#d8576b"
             ],
             [
              0.6666666666666666,
              "#ed7953"
             ],
             [
              0.7777777777777778,
              "#fb9f3a"
             ],
             [
              0.8888888888888888,
              "#fdca26"
             ],
             [
              1,
              "#f0f921"
             ]
            ],
            "type": "contour"
           }
          ],
          "contourcarpet": [
           {
            "colorbar": {
             "outlinewidth": 0,
             "ticks": ""
            },
            "type": "contourcarpet"
           }
          ],
          "heatmap": [
           {
            "colorbar": {
             "outlinewidth": 0,
             "ticks": ""
            },
            "colorscale": [
             [
              0,
              "#0d0887"
             ],
             [
              0.1111111111111111,
              "#46039f"
             ],
             [
              0.2222222222222222,
              "#7201a8"
             ],
             [
              0.3333333333333333,
              "#9c179e"
             ],
             [
              0.4444444444444444,
              "#bd3786"
             ],
             [
              0.5555555555555556,
              "#d8576b"
             ],
             [
              0.6666666666666666,
              "#ed7953"
             ],
             [
              0.7777777777777778,
              "#fb9f3a"
             ],
             [
              0.8888888888888888,
              "#fdca26"
             ],
             [
              1,
              "#f0f921"
             ]
            ],
            "type": "heatmap"
           }
          ],
          "heatmapgl": [
           {
            "colorbar": {
             "outlinewidth": 0,
             "ticks": ""
            },
            "colorscale": [
             [
              0,
              "#0d0887"
             ],
             [
              0.1111111111111111,
              "#46039f"
             ],
             [
              0.2222222222222222,
              "#7201a8"
             ],
             [
              0.3333333333333333,
              "#9c179e"
             ],
             [
              0.4444444444444444,
              "#bd3786"
             ],
             [
              0.5555555555555556,
              "#d8576b"
             ],
             [
              0.6666666666666666,
              "#ed7953"
             ],
             [
              0.7777777777777778,
              "#fb9f3a"
             ],
             [
              0.8888888888888888,
              "#fdca26"
             ],
             [
              1,
              "#f0f921"
             ]
            ],
            "type": "heatmapgl"
           }
          ],
          "histogram": [
           {
            "marker": {
             "pattern": {
              "fillmode": "overlay",
              "size": 10,
              "solidity": 0.2
             }
            },
            "type": "histogram"
           }
          ],
          "histogram2d": [
           {
            "colorbar": {
             "outlinewidth": 0,
             "ticks": ""
            },
            "colorscale": [
             [
              0,
              "#0d0887"
             ],
             [
              0.1111111111111111,
              "#46039f"
             ],
             [
              0.2222222222222222,
              "#7201a8"
             ],
             [
              0.3333333333333333,
              "#9c179e"
             ],
             [
              0.4444444444444444,
              "#bd3786"
             ],
             [
              0.5555555555555556,
              "#d8576b"
             ],
             [
              0.6666666666666666,
              "#ed7953"
             ],
             [
              0.7777777777777778,
              "#fb9f3a"
             ],
             [
              0.8888888888888888,
              "#fdca26"
             ],
             [
              1,
              "#f0f921"
             ]
            ],
            "type": "histogram2d"
           }
          ],
          "histogram2dcontour": [
           {
            "colorbar": {
             "outlinewidth": 0,
             "ticks": ""
            },
            "colorscale": [
             [
              0,
              "#0d0887"
             ],
             [
              0.1111111111111111,
              "#46039f"
             ],
             [
              0.2222222222222222,
              "#7201a8"
             ],
             [
              0.3333333333333333,
              "#9c179e"
             ],
             [
              0.4444444444444444,
              "#bd3786"
             ],
             [
              0.5555555555555556,
              "#d8576b"
             ],
             [
              0.6666666666666666,
              "#ed7953"
             ],
             [
              0.7777777777777778,
              "#fb9f3a"
             ],
             [
              0.8888888888888888,
              "#fdca26"
             ],
             [
              1,
              "#f0f921"
             ]
            ],
            "type": "histogram2dcontour"
           }
          ],
          "mesh3d": [
           {
            "colorbar": {
             "outlinewidth": 0,
             "ticks": ""
            },
            "type": "mesh3d"
           }
          ],
          "parcoords": [
           {
            "line": {
             "colorbar": {
              "outlinewidth": 0,
              "ticks": ""
             }
            },
            "type": "parcoords"
           }
          ],
          "pie": [
           {
            "automargin": true,
            "type": "pie"
           }
          ],
          "scatter": [
           {
            "fillpattern": {
             "fillmode": "overlay",
             "size": 10,
             "solidity": 0.2
            },
            "type": "scatter"
           }
          ],
          "scatter3d": [
           {
            "line": {
             "colorbar": {
              "outlinewidth": 0,
              "ticks": ""
             }
            },
            "marker": {
             "colorbar": {
              "outlinewidth": 0,
              "ticks": ""
             }
            },
            "type": "scatter3d"
           }
          ],
          "scattercarpet": [
           {
            "marker": {
             "colorbar": {
              "outlinewidth": 0,
              "ticks": ""
             }
            },
            "type": "scattercarpet"
           }
          ],
          "scattergeo": [
           {
            "marker": {
             "colorbar": {
              "outlinewidth": 0,
              "ticks": ""
             }
            },
            "type": "scattergeo"
           }
          ],
          "scattergl": [
           {
            "marker": {
             "colorbar": {
              "outlinewidth": 0,
              "ticks": ""
             }
            },
            "type": "scattergl"
           }
          ],
          "scattermapbox": [
           {
            "marker": {
             "colorbar": {
              "outlinewidth": 0,
              "ticks": ""
             }
            },
            "type": "scattermapbox"
           }
          ],
          "scatterpolar": [
           {
            "marker": {
             "colorbar": {
              "outlinewidth": 0,
              "ticks": ""
             }
            },
            "type": "scatterpolar"
           }
          ],
          "scatterpolargl": [
           {
            "marker": {
             "colorbar": {
              "outlinewidth": 0,
              "ticks": ""
             }
            },
            "type": "scatterpolargl"
           }
          ],
          "scatterternary": [
           {
            "marker": {
             "colorbar": {
              "outlinewidth": 0,
              "ticks": ""
             }
            },
            "type": "scatterternary"
           }
          ],
          "surface": [
           {
            "colorbar": {
             "outlinewidth": 0,
             "ticks": ""
            },
            "colorscale": [
             [
              0,
              "#0d0887"
             ],
             [
              0.1111111111111111,
              "#46039f"
             ],
             [
              0.2222222222222222,
              "#7201a8"
             ],
             [
              0.3333333333333333,
              "#9c179e"
             ],
             [
              0.4444444444444444,
              "#bd3786"
             ],
             [
              0.5555555555555556,
              "#d8576b"
             ],
             [
              0.6666666666666666,
              "#ed7953"
             ],
             [
              0.7777777777777778,
              "#fb9f3a"
             ],
             [
              0.8888888888888888,
              "#fdca26"
             ],
             [
              1,
              "#f0f921"
             ]
            ],
            "type": "surface"
           }
          ],
          "table": [
           {
            "cells": {
             "fill": {
              "color": "#EBF0F8"
             },
             "line": {
              "color": "white"
             }
            },
            "header": {
             "fill": {
              "color": "#C8D4E3"
             },
             "line": {
              "color": "white"
             }
            },
            "type": "table"
           }
          ]
         },
         "layout": {
          "annotationdefaults": {
           "arrowcolor": "#2a3f5f",
           "arrowhead": 0,
           "arrowwidth": 1
          },
          "autotypenumbers": "strict",
          "coloraxis": {
           "colorbar": {
            "outlinewidth": 0,
            "ticks": ""
           }
          },
          "colorscale": {
           "diverging": [
            [
             0,
             "#8e0152"
            ],
            [
             0.1,
             "#c51b7d"
            ],
            [
             0.2,
             "#de77ae"
            ],
            [
             0.3,
             "#f1b6da"
            ],
            [
             0.4,
             "#fde0ef"
            ],
            [
             0.5,
             "#f7f7f7"
            ],
            [
             0.6,
             "#e6f5d0"
            ],
            [
             0.7,
             "#b8e186"
            ],
            [
             0.8,
             "#7fbc41"
            ],
            [
             0.9,
             "#4d9221"
            ],
            [
             1,
             "#276419"
            ]
           ],
           "sequential": [
            [
             0,
             "#0d0887"
            ],
            [
             0.1111111111111111,
             "#46039f"
            ],
            [
             0.2222222222222222,
             "#7201a8"
            ],
            [
             0.3333333333333333,
             "#9c179e"
            ],
            [
             0.4444444444444444,
             "#bd3786"
            ],
            [
             0.5555555555555556,
             "#d8576b"
            ],
            [
             0.6666666666666666,
             "#ed7953"
            ],
            [
             0.7777777777777778,
             "#fb9f3a"
            ],
            [
             0.8888888888888888,
             "#fdca26"
            ],
            [
             1,
             "#f0f921"
            ]
           ],
           "sequentialminus": [
            [
             0,
             "#0d0887"
            ],
            [
             0.1111111111111111,
             "#46039f"
            ],
            [
             0.2222222222222222,
             "#7201a8"
            ],
            [
             0.3333333333333333,
             "#9c179e"
            ],
            [
             0.4444444444444444,
             "#bd3786"
            ],
            [
             0.5555555555555556,
             "#d8576b"
            ],
            [
             0.6666666666666666,
             "#ed7953"
            ],
            [
             0.7777777777777778,
             "#fb9f3a"
            ],
            [
             0.8888888888888888,
             "#fdca26"
            ],
            [
             1,
             "#f0f921"
            ]
           ]
          },
          "colorway": [
           "#636efa",
           "#EF553B",
           "#00cc96",
           "#ab63fa",
           "#FFA15A",
           "#19d3f3",
           "#FF6692",
           "#B6E880",
           "#FF97FF",
           "#FECB52"
          ],
          "font": {
           "color": "#2a3f5f"
          },
          "geo": {
           "bgcolor": "white",
           "lakecolor": "white",
           "landcolor": "#E5ECF6",
           "showlakes": true,
           "showland": true,
           "subunitcolor": "white"
          },
          "hoverlabel": {
           "align": "left"
          },
          "hovermode": "closest",
          "mapbox": {
           "style": "light"
          },
          "paper_bgcolor": "white",
          "plot_bgcolor": "#E5ECF6",
          "polar": {
           "angularaxis": {
            "gridcolor": "white",
            "linecolor": "white",
            "ticks": ""
           },
           "bgcolor": "#E5ECF6",
           "radialaxis": {
            "gridcolor": "white",
            "linecolor": "white",
            "ticks": ""
           }
          },
          "scene": {
           "xaxis": {
            "backgroundcolor": "#E5ECF6",
            "gridcolor": "white",
            "gridwidth": 2,
            "linecolor": "white",
            "showbackground": true,
            "ticks": "",
            "zerolinecolor": "white"
           },
           "yaxis": {
            "backgroundcolor": "#E5ECF6",
            "gridcolor": "white",
            "gridwidth": 2,
            "linecolor": "white",
            "showbackground": true,
            "ticks": "",
            "zerolinecolor": "white"
           },
           "zaxis": {
            "backgroundcolor": "#E5ECF6",
            "gridcolor": "white",
            "gridwidth": 2,
            "linecolor": "white",
            "showbackground": true,
            "ticks": "",
            "zerolinecolor": "white"
           }
          },
          "shapedefaults": {
           "line": {
            "color": "#2a3f5f"
           }
          },
          "ternary": {
           "aaxis": {
            "gridcolor": "white",
            "linecolor": "white",
            "ticks": ""
           },
           "baxis": {
            "gridcolor": "white",
            "linecolor": "white",
            "ticks": ""
           },
           "bgcolor": "#E5ECF6",
           "caxis": {
            "gridcolor": "white",
            "linecolor": "white",
            "ticks": ""
           }
          },
          "title": {
           "x": 0.05
          },
          "xaxis": {
           "automargin": true,
           "gridcolor": "white",
           "linecolor": "white",
           "ticks": "",
           "title": {
            "standoff": 15
           },
           "zerolinecolor": "white",
           "zerolinewidth": 2
          },
          "yaxis": {
           "automargin": true,
           "gridcolor": "white",
           "linecolor": "white",
           "ticks": "",
           "title": {
            "standoff": 15
           },
           "zerolinecolor": "white",
           "zerolinewidth": 2
          }
         }
        },
        "title": {
         "text": "Number of messages per day"
        },
        "xaxis": {
         "anchor": "y",
         "domain": [
          0,
          1
         ],
         "title": {
          "text": "Date"
         }
        },
        "yaxis": {
         "anchor": "x",
         "domain": [
          0,
          1
         ],
         "title": {
          "text": "Number of messages"
         }
        }
       }
      }
     },
     "metadata": {},
     "output_type": "display_data"
    }
   ],
   "source": [
    "#plot the date and time of the messages per day\n",
    "fig = px.bar(dt_data['date'].dt.date.value_counts(), title='Number of messages per day')\n",
    "fig.update_layout(xaxis_title='Date', yaxis_title='Number of messages')\n",
    "fig.show()\n"
   ]
  },
  {
   "cell_type": "code",
   "execution_count": 103,
   "metadata": {},
   "outputs": [
    {
     "data": {
      "text/html": [
       "<div>\n",
       "<style scoped>\n",
       "    .dataframe tbody tr th:only-of-type {\n",
       "        vertical-align: middle;\n",
       "    }\n",
       "\n",
       "    .dataframe tbody tr th {\n",
       "        vertical-align: top;\n",
       "    }\n",
       "\n",
       "    .dataframe thead th {\n",
       "        text-align: right;\n",
       "    }\n",
       "</style>\n",
       "<table border=\"1\" class=\"dataframe\">\n",
       "  <thead>\n",
       "    <tr style=\"text-align: right;\">\n",
       "      <th></th>\n",
       "      <th>date</th>\n",
       "      <th>day</th>\n",
       "      <th>hour</th>\n",
       "      <th>sender</th>\n",
       "      <th>message</th>\n",
       "    </tr>\n",
       "  </thead>\n",
       "  <tbody>\n",
       "    <tr>\n",
       "      <th>332</th>\n",
       "      <td>2023-12-15 11:26:29</td>\n",
       "      <td>2023-12-15</td>\n",
       "      <td>11.0</td>\n",
       "      <td>Headchopper</td>\n",
       "      <td>Cesar</td>\n",
       "    </tr>\n",
       "    <tr>\n",
       "      <th>333</th>\n",
       "      <td>2023-12-15 11:26:32</td>\n",
       "      <td>2023-12-15</td>\n",
       "      <td>11.0</td>\n",
       "      <td>Headchopper</td>\n",
       "      <td>Where u studyin today</td>\n",
       "    </tr>\n",
       "    <tr>\n",
       "      <th>334</th>\n",
       "      <td>2023-12-15 11:32:33</td>\n",
       "      <td>2023-12-15</td>\n",
       "      <td>11.0</td>\n",
       "      <td>Cesar</td>\n",
       "      <td>Katherine Grace</td>\n",
       "    </tr>\n",
       "    <tr>\n",
       "      <th>335</th>\n",
       "      <td>2023-12-15 11:32:48</td>\n",
       "      <td>2023-12-15</td>\n",
       "      <td>11.0</td>\n",
       "      <td>Cesar</td>\n",
       "      <td>Wanna study together?</td>\n",
       "    </tr>\n",
       "    <tr>\n",
       "      <th>336</th>\n",
       "      <td>2023-12-15 11:33:01</td>\n",
       "      <td>2023-12-15</td>\n",
       "      <td>11.0</td>\n",
       "      <td>Cesar</td>\n",
       "      <td>I’m currently in potato mode, have not left my...</td>\n",
       "    </tr>\n",
       "    <tr>\n",
       "      <th>...</th>\n",
       "      <td>...</td>\n",
       "      <td>...</td>\n",
       "      <td>...</td>\n",
       "      <td>...</td>\n",
       "      <td>...</td>\n",
       "    </tr>\n",
       "    <tr>\n",
       "      <th>462</th>\n",
       "      <td>2023-12-15 21:46:00</td>\n",
       "      <td>2023-12-15</td>\n",
       "      <td>21.0</td>\n",
       "      <td>Headchopper</td>\n",
       "      <td>Want me to get you something?</td>\n",
       "    </tr>\n",
       "    <tr>\n",
       "      <th>463</th>\n",
       "      <td>2023-12-15 21:47:18</td>\n",
       "      <td>2023-12-15</td>\n",
       "      <td>21.0</td>\n",
       "      <td>Cesar</td>\n",
       "      <td>Quick beer?</td>\n",
       "    </tr>\n",
       "    <tr>\n",
       "      <th>464</th>\n",
       "      <td>2023-12-15 21:47:25</td>\n",
       "      <td>2023-12-15</td>\n",
       "      <td>21.0</td>\n",
       "      <td>Cesar</td>\n",
       "      <td>Im walking there</td>\n",
       "    </tr>\n",
       "    <tr>\n",
       "      <th>465</th>\n",
       "      <td>2023-12-15 21:47:28</td>\n",
       "      <td>2023-12-15</td>\n",
       "      <td>21.0</td>\n",
       "      <td>Headchopper</td>\n",
       "      <td>Yesirrr</td>\n",
       "    </tr>\n",
       "    <tr>\n",
       "      <th>466</th>\n",
       "      <td>2023-12-15 21:47:31</td>\n",
       "      <td>2023-12-15</td>\n",
       "      <td>21.0</td>\n",
       "      <td>Headchopper</td>\n",
       "      <td>I’m in line</td>\n",
       "    </tr>\n",
       "  </tbody>\n",
       "</table>\n",
       "<p>135 rows × 5 columns</p>\n",
       "</div>"
      ],
      "text/plain": [
       "                   date         day  hour       sender  \\\n",
       "332 2023-12-15 11:26:29  2023-12-15  11.0  Headchopper   \n",
       "333 2023-12-15 11:26:32  2023-12-15  11.0  Headchopper   \n",
       "334 2023-12-15 11:32:33  2023-12-15  11.0        Cesar   \n",
       "335 2023-12-15 11:32:48  2023-12-15  11.0        Cesar   \n",
       "336 2023-12-15 11:33:01  2023-12-15  11.0        Cesar   \n",
       "..                  ...         ...   ...          ...   \n",
       "462 2023-12-15 21:46:00  2023-12-15  21.0  Headchopper   \n",
       "463 2023-12-15 21:47:18  2023-12-15  21.0        Cesar   \n",
       "464 2023-12-15 21:47:25  2023-12-15  21.0        Cesar   \n",
       "465 2023-12-15 21:47:28  2023-12-15  21.0  Headchopper   \n",
       "466 2023-12-15 21:47:31  2023-12-15  21.0  Headchopper   \n",
       "\n",
       "                                               message  \n",
       "332                                              Cesar  \n",
       "333                              Where u studyin today  \n",
       "334                                    Katherine Grace  \n",
       "335                              Wanna study together?  \n",
       "336  I’m currently in potato mode, have not left my...  \n",
       "..                                                 ...  \n",
       "462                      Want me to get you something?  \n",
       "463                                        Quick beer?  \n",
       "464                                   Im walking there  \n",
       "465                                            Yesirrr  \n",
       "466                                        I’m in line  \n",
       "\n",
       "[135 rows x 5 columns]"
      ]
     },
     "execution_count": 103,
     "metadata": {},
     "output_type": "execute_result"
    }
   ],
   "source": [
    "mask = dt_data['day'] == '2023-12-15'\n",
    "dt_data[mask]"
   ]
  },
  {
   "cell_type": "code",
   "execution_count": 102,
   "metadata": {},
   "outputs": [
    {
     "data": {
      "application/vnd.plotly.v1+json": {
       "config": {
        "plotlyServerURL": "https://plot.ly"
       },
       "data": [
        {
         "alignmentgroup": "True",
         "hovertemplate": "variable=count<br>hour=%{x}<br>value=%{y}<extra></extra>",
         "legendgroup": "count",
         "marker": {
          "color": "#636efa",
          "pattern": {
           "shape": ""
          }
         },
         "name": "count",
         "offsetgroup": "count",
         "orientation": "v",
         "showlegend": true,
         "textposition": "auto",
         "type": "bar",
         "x": [
          11,
          21,
          18,
          23,
          13,
          17,
          15,
          20,
          12,
          16,
          14,
          22,
          0,
          10,
          19,
          9,
          1,
          8,
          2,
          5,
          4
         ],
         "xaxis": "x",
         "y": [
          315,
          300,
          293,
          285,
          283,
          266,
          264,
          236,
          228,
          221,
          217,
          216,
          177,
          175,
          151,
          56,
          51,
          17,
          12,
          3,
          2
         ],
         "yaxis": "y"
        }
       ],
       "layout": {
        "barmode": "relative",
        "legend": {
         "title": {
          "text": "variable"
         },
         "tracegroupgap": 0
        },
        "template": {
         "data": {
          "bar": [
           {
            "error_x": {
             "color": "#2a3f5f"
            },
            "error_y": {
             "color": "#2a3f5f"
            },
            "marker": {
             "line": {
              "color": "#E5ECF6",
              "width": 0.5
             },
             "pattern": {
              "fillmode": "overlay",
              "size": 10,
              "solidity": 0.2
             }
            },
            "type": "bar"
           }
          ],
          "barpolar": [
           {
            "marker": {
             "line": {
              "color": "#E5ECF6",
              "width": 0.5
             },
             "pattern": {
              "fillmode": "overlay",
              "size": 10,
              "solidity": 0.2
             }
            },
            "type": "barpolar"
           }
          ],
          "carpet": [
           {
            "aaxis": {
             "endlinecolor": "#2a3f5f",
             "gridcolor": "white",
             "linecolor": "white",
             "minorgridcolor": "white",
             "startlinecolor": "#2a3f5f"
            },
            "baxis": {
             "endlinecolor": "#2a3f5f",
             "gridcolor": "white",
             "linecolor": "white",
             "minorgridcolor": "white",
             "startlinecolor": "#2a3f5f"
            },
            "type": "carpet"
           }
          ],
          "choropleth": [
           {
            "colorbar": {
             "outlinewidth": 0,
             "ticks": ""
            },
            "type": "choropleth"
           }
          ],
          "contour": [
           {
            "colorbar": {
             "outlinewidth": 0,
             "ticks": ""
            },
            "colorscale": [
             [
              0,
              "#0d0887"
             ],
             [
              0.1111111111111111,
              "#46039f"
             ],
             [
              0.2222222222222222,
              "#7201a8"
             ],
             [
              0.3333333333333333,
              "#9c179e"
             ],
             [
              0.4444444444444444,
              "#bd3786"
             ],
             [
              0.5555555555555556,
              "#d8576b"
             ],
             [
              0.6666666666666666,
              "#ed7953"
             ],
             [
              0.7777777777777778,
              "#fb9f3a"
             ],
             [
              0.8888888888888888,
              "#fdca26"
             ],
             [
              1,
              "#f0f921"
             ]
            ],
            "type": "contour"
           }
          ],
          "contourcarpet": [
           {
            "colorbar": {
             "outlinewidth": 0,
             "ticks": ""
            },
            "type": "contourcarpet"
           }
          ],
          "heatmap": [
           {
            "colorbar": {
             "outlinewidth": 0,
             "ticks": ""
            },
            "colorscale": [
             [
              0,
              "#0d0887"
             ],
             [
              0.1111111111111111,
              "#46039f"
             ],
             [
              0.2222222222222222,
              "#7201a8"
             ],
             [
              0.3333333333333333,
              "#9c179e"
             ],
             [
              0.4444444444444444,
              "#bd3786"
             ],
             [
              0.5555555555555556,
              "#d8576b"
             ],
             [
              0.6666666666666666,
              "#ed7953"
             ],
             [
              0.7777777777777778,
              "#fb9f3a"
             ],
             [
              0.8888888888888888,
              "#fdca26"
             ],
             [
              1,
              "#f0f921"
             ]
            ],
            "type": "heatmap"
           }
          ],
          "heatmapgl": [
           {
            "colorbar": {
             "outlinewidth": 0,
             "ticks": ""
            },
            "colorscale": [
             [
              0,
              "#0d0887"
             ],
             [
              0.1111111111111111,
              "#46039f"
             ],
             [
              0.2222222222222222,
              "#7201a8"
             ],
             [
              0.3333333333333333,
              "#9c179e"
             ],
             [
              0.4444444444444444,
              "#bd3786"
             ],
             [
              0.5555555555555556,
              "#d8576b"
             ],
             [
              0.6666666666666666,
              "#ed7953"
             ],
             [
              0.7777777777777778,
              "#fb9f3a"
             ],
             [
              0.8888888888888888,
              "#fdca26"
             ],
             [
              1,
              "#f0f921"
             ]
            ],
            "type": "heatmapgl"
           }
          ],
          "histogram": [
           {
            "marker": {
             "pattern": {
              "fillmode": "overlay",
              "size": 10,
              "solidity": 0.2
             }
            },
            "type": "histogram"
           }
          ],
          "histogram2d": [
           {
            "colorbar": {
             "outlinewidth": 0,
             "ticks": ""
            },
            "colorscale": [
             [
              0,
              "#0d0887"
             ],
             [
              0.1111111111111111,
              "#46039f"
             ],
             [
              0.2222222222222222,
              "#7201a8"
             ],
             [
              0.3333333333333333,
              "#9c179e"
             ],
             [
              0.4444444444444444,
              "#bd3786"
             ],
             [
              0.5555555555555556,
              "#d8576b"
             ],
             [
              0.6666666666666666,
              "#ed7953"
             ],
             [
              0.7777777777777778,
              "#fb9f3a"
             ],
             [
              0.8888888888888888,
              "#fdca26"
             ],
             [
              1,
              "#f0f921"
             ]
            ],
            "type": "histogram2d"
           }
          ],
          "histogram2dcontour": [
           {
            "colorbar": {
             "outlinewidth": 0,
             "ticks": ""
            },
            "colorscale": [
             [
              0,
              "#0d0887"
             ],
             [
              0.1111111111111111,
              "#46039f"
             ],
             [
              0.2222222222222222,
              "#7201a8"
             ],
             [
              0.3333333333333333,
              "#9c179e"
             ],
             [
              0.4444444444444444,
              "#bd3786"
             ],
             [
              0.5555555555555556,
              "#d8576b"
             ],
             [
              0.6666666666666666,
              "#ed7953"
             ],
             [
              0.7777777777777778,
              "#fb9f3a"
             ],
             [
              0.8888888888888888,
              "#fdca26"
             ],
             [
              1,
              "#f0f921"
             ]
            ],
            "type": "histogram2dcontour"
           }
          ],
          "mesh3d": [
           {
            "colorbar": {
             "outlinewidth": 0,
             "ticks": ""
            },
            "type": "mesh3d"
           }
          ],
          "parcoords": [
           {
            "line": {
             "colorbar": {
              "outlinewidth": 0,
              "ticks": ""
             }
            },
            "type": "parcoords"
           }
          ],
          "pie": [
           {
            "automargin": true,
            "type": "pie"
           }
          ],
          "scatter": [
           {
            "fillpattern": {
             "fillmode": "overlay",
             "size": 10,
             "solidity": 0.2
            },
            "type": "scatter"
           }
          ],
          "scatter3d": [
           {
            "line": {
             "colorbar": {
              "outlinewidth": 0,
              "ticks": ""
             }
            },
            "marker": {
             "colorbar": {
              "outlinewidth": 0,
              "ticks": ""
             }
            },
            "type": "scatter3d"
           }
          ],
          "scattercarpet": [
           {
            "marker": {
             "colorbar": {
              "outlinewidth": 0,
              "ticks": ""
             }
            },
            "type": "scattercarpet"
           }
          ],
          "scattergeo": [
           {
            "marker": {
             "colorbar": {
              "outlinewidth": 0,
              "ticks": ""
             }
            },
            "type": "scattergeo"
           }
          ],
          "scattergl": [
           {
            "marker": {
             "colorbar": {
              "outlinewidth": 0,
              "ticks": ""
             }
            },
            "type": "scattergl"
           }
          ],
          "scattermapbox": [
           {
            "marker": {
             "colorbar": {
              "outlinewidth": 0,
              "ticks": ""
             }
            },
            "type": "scattermapbox"
           }
          ],
          "scatterpolar": [
           {
            "marker": {
             "colorbar": {
              "outlinewidth": 0,
              "ticks": ""
             }
            },
            "type": "scatterpolar"
           }
          ],
          "scatterpolargl": [
           {
            "marker": {
             "colorbar": {
              "outlinewidth": 0,
              "ticks": ""
             }
            },
            "type": "scatterpolargl"
           }
          ],
          "scatterternary": [
           {
            "marker": {
             "colorbar": {
              "outlinewidth": 0,
              "ticks": ""
             }
            },
            "type": "scatterternary"
           }
          ],
          "surface": [
           {
            "colorbar": {
             "outlinewidth": 0,
             "ticks": ""
            },
            "colorscale": [
             [
              0,
              "#0d0887"
             ],
             [
              0.1111111111111111,
              "#46039f"
             ],
             [
              0.2222222222222222,
              "#7201a8"
             ],
             [
              0.3333333333333333,
              "#9c179e"
             ],
             [
              0.4444444444444444,
              "#bd3786"
             ],
             [
              0.5555555555555556,
              "#d8576b"
             ],
             [
              0.6666666666666666,
              "#ed7953"
             ],
             [
              0.7777777777777778,
              "#fb9f3a"
             ],
             [
              0.8888888888888888,
              "#fdca26"
             ],
             [
              1,
              "#f0f921"
             ]
            ],
            "type": "surface"
           }
          ],
          "table": [
           {
            "cells": {
             "fill": {
              "color": "#EBF0F8"
             },
             "line": {
              "color": "white"
             }
            },
            "header": {
             "fill": {
              "color": "#C8D4E3"
             },
             "line": {
              "color": "white"
             }
            },
            "type": "table"
           }
          ]
         },
         "layout": {
          "annotationdefaults": {
           "arrowcolor": "#2a3f5f",
           "arrowhead": 0,
           "arrowwidth": 1
          },
          "autotypenumbers": "strict",
          "coloraxis": {
           "colorbar": {
            "outlinewidth": 0,
            "ticks": ""
           }
          },
          "colorscale": {
           "diverging": [
            [
             0,
             "#8e0152"
            ],
            [
             0.1,
             "#c51b7d"
            ],
            [
             0.2,
             "#de77ae"
            ],
            [
             0.3,
             "#f1b6da"
            ],
            [
             0.4,
             "#fde0ef"
            ],
            [
             0.5,
             "#f7f7f7"
            ],
            [
             0.6,
             "#e6f5d0"
            ],
            [
             0.7,
             "#b8e186"
            ],
            [
             0.8,
             "#7fbc41"
            ],
            [
             0.9,
             "#4d9221"
            ],
            [
             1,
             "#276419"
            ]
           ],
           "sequential": [
            [
             0,
             "#0d0887"
            ],
            [
             0.1111111111111111,
             "#46039f"
            ],
            [
             0.2222222222222222,
             "#7201a8"
            ],
            [
             0.3333333333333333,
             "#9c179e"
            ],
            [
             0.4444444444444444,
             "#bd3786"
            ],
            [
             0.5555555555555556,
             "#d8576b"
            ],
            [
             0.6666666666666666,
             "#ed7953"
            ],
            [
             0.7777777777777778,
             "#fb9f3a"
            ],
            [
             0.8888888888888888,
             "#fdca26"
            ],
            [
             1,
             "#f0f921"
            ]
           ],
           "sequentialminus": [
            [
             0,
             "#0d0887"
            ],
            [
             0.1111111111111111,
             "#46039f"
            ],
            [
             0.2222222222222222,
             "#7201a8"
            ],
            [
             0.3333333333333333,
             "#9c179e"
            ],
            [
             0.4444444444444444,
             "#bd3786"
            ],
            [
             0.5555555555555556,
             "#d8576b"
            ],
            [
             0.6666666666666666,
             "#ed7953"
            ],
            [
             0.7777777777777778,
             "#fb9f3a"
            ],
            [
             0.8888888888888888,
             "#fdca26"
            ],
            [
             1,
             "#f0f921"
            ]
           ]
          },
          "colorway": [
           "#636efa",
           "#EF553B",
           "#00cc96",
           "#ab63fa",
           "#FFA15A",
           "#19d3f3",
           "#FF6692",
           "#B6E880",
           "#FF97FF",
           "#FECB52"
          ],
          "font": {
           "color": "#2a3f5f"
          },
          "geo": {
           "bgcolor": "white",
           "lakecolor": "white",
           "landcolor": "#E5ECF6",
           "showlakes": true,
           "showland": true,
           "subunitcolor": "white"
          },
          "hoverlabel": {
           "align": "left"
          },
          "hovermode": "closest",
          "mapbox": {
           "style": "light"
          },
          "paper_bgcolor": "white",
          "plot_bgcolor": "#E5ECF6",
          "polar": {
           "angularaxis": {
            "gridcolor": "white",
            "linecolor": "white",
            "ticks": ""
           },
           "bgcolor": "#E5ECF6",
           "radialaxis": {
            "gridcolor": "white",
            "linecolor": "white",
            "ticks": ""
           }
          },
          "scene": {
           "xaxis": {
            "backgroundcolor": "#E5ECF6",
            "gridcolor": "white",
            "gridwidth": 2,
            "linecolor": "white",
            "showbackground": true,
            "ticks": "",
            "zerolinecolor": "white"
           },
           "yaxis": {
            "backgroundcolor": "#E5ECF6",
            "gridcolor": "white",
            "gridwidth": 2,
            "linecolor": "white",
            "showbackground": true,
            "ticks": "",
            "zerolinecolor": "white"
           },
           "zaxis": {
            "backgroundcolor": "#E5ECF6",
            "gridcolor": "white",
            "gridwidth": 2,
            "linecolor": "white",
            "showbackground": true,
            "ticks": "",
            "zerolinecolor": "white"
           }
          },
          "shapedefaults": {
           "line": {
            "color": "#2a3f5f"
           }
          },
          "ternary": {
           "aaxis": {
            "gridcolor": "white",
            "linecolor": "white",
            "ticks": ""
           },
           "baxis": {
            "gridcolor": "white",
            "linecolor": "white",
            "ticks": ""
           },
           "bgcolor": "#E5ECF6",
           "caxis": {
            "gridcolor": "white",
            "linecolor": "white",
            "ticks": ""
           }
          },
          "title": {
           "x": 0.05
          },
          "xaxis": {
           "automargin": true,
           "gridcolor": "white",
           "linecolor": "white",
           "ticks": "",
           "title": {
            "standoff": 15
           },
           "zerolinecolor": "white",
           "zerolinewidth": 2
          },
          "yaxis": {
           "automargin": true,
           "gridcolor": "white",
           "linecolor": "white",
           "ticks": "",
           "title": {
            "standoff": 15
           },
           "zerolinecolor": "white",
           "zerolinewidth": 2
          }
         }
        },
        "title": {
         "text": "Number of messages per hour"
        },
        "xaxis": {
         "anchor": "y",
         "domain": [
          0,
          1
         ],
         "title": {
          "text": "Hour"
         }
        },
        "yaxis": {
         "anchor": "x",
         "domain": [
          0,
          1
         ],
         "title": {
          "text": "Number of messages"
         }
        }
       }
      }
     },
     "metadata": {},
     "output_type": "display_data"
    }
   ],
   "source": [
    "#plot the number of messages per hour\n",
    "fig = px.bar(dt_data['hour'].value_counts(), title='Number of messages per hour')\n",
    "fig.update_layout(xaxis_title='Hour', yaxis_title='Number of messages')\n",
    "fig.show()"
   ]
  },
  {
   "cell_type": "markdown",
   "metadata": {},
   "source": [
    "# Sentiment Analysis"
   ]
  },
  {
   "cell_type": "code",
   "execution_count": 106,
   "metadata": {},
   "outputs": [
    {
     "name": "stderr",
     "output_type": "stream",
     "text": [
      "/Users/cesargarcia/anaconda3/envs/pda-ie/lib/python3.11/site-packages/transformers/utils/generic.py:260: UserWarning:\n",
      "\n",
      "torch.utils._pytree._register_pytree_node is deprecated. Please use torch.utils._pytree.register_pytree_node instead.\n",
      "\n"
     ]
    }
   ],
   "source": [
    "from transformers import pipeline"
   ]
  },
  {
   "cell_type": "code",
   "execution_count": 107,
   "metadata": {},
   "outputs": [
    {
     "name": "stderr",
     "output_type": "stream",
     "text": [
      "No model was supplied, defaulted to distilbert-base-uncased-finetuned-sst-2-english and revision af0f99b (https://huggingface.co/distilbert-base-uncased-finetuned-sst-2-english).\n",
      "Using a pipeline without specifying a model name and revision in production is not recommended.\n"
     ]
    }
   ],
   "source": [
    "sent_pipeline = pipeline('sentiment-analysis')"
   ]
  },
  {
   "cell_type": "code",
   "execution_count": 117,
   "metadata": {},
   "outputs": [
    {
     "data": {
      "text/plain": [
       "[{'label': 'NEGATIVE', 'score': 0.9962670207023621},\n",
       " {'label': 'POSITIVE', 'score': 0.9977076053619385},\n",
       " {'label': 'POSITIVE', 'score': 0.6530200839042664},\n",
       " {'label': 'POSITIVE', 'score': 0.7893168330192566},\n",
       " {'label': 'POSITIVE', 'score': 0.9284363389015198},\n",
       " {'label': 'POSITIVE', 'score': 0.9980661273002625},\n",
       " {'label': 'POSITIVE', 'score': 0.9995844960212708},\n",
       " {'label': 'POSITIVE', 'score': 0.9987080097198486},\n",
       " {'label': 'POSITIVE', 'score': 0.8432382941246033},\n",
       " {'label': 'NEGATIVE', 'score': 0.9975689053535461},\n",
       " {'label': 'POSITIVE', 'score': 0.9969086050987244},\n",
       " {'label': 'POSITIVE', 'score': 0.8681853413581848},\n",
       " {'label': 'POSITIVE', 'score': 0.9997031092643738},\n",
       " {'label': 'NEGATIVE', 'score': 0.816339373588562},\n",
       " {'label': 'POSITIVE', 'score': 0.9883672595024109},\n",
       " {'label': 'NEGATIVE', 'score': 0.9995437264442444},\n",
       " {'label': 'POSITIVE', 'score': 0.9884555339813232},\n",
       " {'label': 'POSITIVE', 'score': 0.9849697351455688},\n",
       " {'label': 'POSITIVE', 'score': 0.7720589637756348},\n",
       " {'label': 'POSITIVE', 'score': 0.9383447766304016},\n",
       " {'label': 'POSITIVE', 'score': 0.9992043375968933},\n",
       " {'label': 'POSITIVE', 'score': 0.9323610663414001},\n",
       " {'label': 'POSITIVE', 'score': 0.9815307259559631},\n",
       " {'label': 'NEGATIVE', 'score': 0.998997151851654},\n",
       " {'label': 'POSITIVE', 'score': 0.9954800605773926},\n",
       " {'label': 'NEGATIVE', 'score': 0.9866162538528442},\n",
       " {'label': 'POSITIVE', 'score': 0.9902276992797852},\n",
       " {'label': 'NEGATIVE', 'score': 0.8724873065948486},\n",
       " {'label': 'NEGATIVE', 'score': 0.9969692826271057},\n",
       " {'label': 'NEGATIVE', 'score': 0.9919778108596802},\n",
       " {'label': 'POSITIVE', 'score': 0.998353123664856},\n",
       " {'label': 'POSITIVE', 'score': 0.9905195236206055},\n",
       " {'label': 'POSITIVE', 'score': 0.7192331552505493},\n",
       " {'label': 'POSITIVE', 'score': 0.9706423878669739},\n",
       " {'label': 'NEGATIVE', 'score': 0.9996538162231445},\n",
       " {'label': 'POSITIVE', 'score': 0.9998076558113098},\n",
       " {'label': 'POSITIVE', 'score': 0.9998114705085754},\n",
       " {'label': 'NEGATIVE', 'score': 0.9977458119392395},\n",
       " {'label': 'POSITIVE', 'score': 0.9941164255142212},\n",
       " {'label': 'POSITIVE', 'score': 0.5295274257659912},\n",
       " {'label': 'POSITIVE', 'score': 0.9992103576660156},\n",
       " {'label': 'POSITIVE', 'score': 0.9931469559669495},\n",
       " {'label': 'NEGATIVE', 'score': 0.9993069171905518},\n",
       " {'label': 'POSITIVE', 'score': 0.9908663630485535},\n",
       " {'label': 'NEGATIVE', 'score': 0.9995558857917786},\n",
       " {'label': 'NEGATIVE', 'score': 0.9888156652450562},\n",
       " {'label': 'POSITIVE', 'score': 0.8808813691139221},\n",
       " {'label': 'NEGATIVE', 'score': 0.8784745335578918},\n",
       " {'label': 'POSITIVE', 'score': 0.9992164373397827},\n",
       " {'label': 'NEGATIVE', 'score': 0.997121274471283},\n",
       " {'label': 'NEGATIVE', 'score': 0.943818211555481},\n",
       " {'label': 'NEGATIVE', 'score': 0.998327910900116},\n",
       " {'label': 'NEGATIVE', 'score': 0.9980534315109253},\n",
       " {'label': 'POSITIVE', 'score': 0.9989123344421387},\n",
       " {'label': 'POSITIVE', 'score': 0.9998660087585449},\n",
       " {'label': 'NEGATIVE', 'score': 0.9997161030769348},\n",
       " {'label': 'NEGATIVE', 'score': 0.6196618676185608},\n",
       " {'label': 'NEGATIVE', 'score': 0.9997161030769348},\n",
       " {'label': 'POSITIVE', 'score': 0.9995651841163635},\n",
       " {'label': 'POSITIVE', 'score': 0.8024469017982483},\n",
       " {'label': 'POSITIVE', 'score': 0.9998478889465332},\n",
       " {'label': 'POSITIVE', 'score': 0.9998676776885986},\n",
       " {'label': 'POSITIVE', 'score': 0.9956128597259521},\n",
       " {'label': 'NEGATIVE', 'score': 0.9464971423149109},\n",
       " {'label': 'POSITIVE', 'score': 0.9997342228889465},\n",
       " {'label': 'NEGATIVE', 'score': 0.9996297359466553},\n",
       " {'label': 'POSITIVE', 'score': 0.9983546137809753},\n",
       " {'label': 'POSITIVE', 'score': 0.9993676543235779},\n",
       " {'label': 'NEGATIVE', 'score': 0.9611610174179077},\n",
       " {'label': 'POSITIVE', 'score': 0.9993873834609985},\n",
       " {'label': 'NEGATIVE', 'score': 0.9938546419143677},\n",
       " {'label': 'POSITIVE', 'score': 0.7520719766616821},\n",
       " {'label': 'NEGATIVE', 'score': 0.9162723422050476},\n",
       " {'label': 'POSITIVE', 'score': 0.9967125654220581},\n",
       " {'label': 'NEGATIVE', 'score': 0.9969692826271057},\n",
       " {'label': 'NEGATIVE', 'score': 0.862238347530365},\n",
       " {'label': 'POSITIVE', 'score': 0.999828577041626},\n",
       " {'label': 'NEGATIVE', 'score': 0.9995077848434448},\n",
       " {'label': 'NEGATIVE', 'score': 0.6970568299293518},\n",
       " {'label': 'NEGATIVE', 'score': 0.8393590450286865},\n",
       " {'label': 'POSITIVE', 'score': 0.9998247027397156},\n",
       " {'label': 'POSITIVE', 'score': 0.9931469559669495},\n",
       " {'label': 'NEGATIVE', 'score': 0.9946550130844116},\n",
       " {'label': 'POSITIVE', 'score': 0.9154706001281738},\n",
       " {'label': 'NEGATIVE', 'score': 0.9933751225471497},\n",
       " {'label': 'POSITIVE', 'score': 0.9997888207435608},\n",
       " {'label': 'POSITIVE', 'score': 0.9996914863586426},\n",
       " {'label': 'NEGATIVE', 'score': 0.9828529953956604},\n",
       " {'label': 'POSITIVE', 'score': 0.5639476776123047},\n",
       " {'label': 'NEGATIVE', 'score': 0.988480806350708},\n",
       " {'label': 'NEGATIVE', 'score': 0.9990938901901245},\n",
       " {'label': 'POSITIVE', 'score': 0.9911841154098511},\n",
       " {'label': 'POSITIVE', 'score': 0.9998446702957153},\n",
       " {'label': 'POSITIVE', 'score': 0.9965773224830627},\n",
       " {'label': 'NEGATIVE', 'score': 0.9965887069702148},\n",
       " {'label': 'NEGATIVE', 'score': 0.9942992925643921},\n",
       " {'label': 'POSITIVE', 'score': 0.5502914786338806},\n",
       " {'label': 'NEGATIVE', 'score': 0.9970912933349609},\n",
       " {'label': 'NEGATIVE', 'score': 0.9995803236961365},\n",
       " {'label': 'NEGATIVE', 'score': 0.999043881893158},\n",
       " {'label': 'POSITIVE', 'score': 0.9798751473426819},\n",
       " {'label': 'POSITIVE', 'score': 0.9836852550506592},\n",
       " {'label': 'NEGATIVE', 'score': 0.9970487952232361},\n",
       " {'label': 'POSITIVE', 'score': 0.9965409636497498},\n",
       " {'label': 'NEGATIVE', 'score': 0.9969692826271057},\n",
       " {'label': 'POSITIVE', 'score': 0.9996716976165771},\n",
       " {'label': 'POSITIVE', 'score': 0.9997789263725281},\n",
       " {'label': 'NEGATIVE', 'score': 0.9940556287765503},\n",
       " {'label': 'NEGATIVE', 'score': 0.7257143259048462},\n",
       " {'label': 'NEGATIVE', 'score': 0.9492649435997009},\n",
       " {'label': 'NEGATIVE', 'score': 0.750045895576477},\n",
       " {'label': 'NEGATIVE', 'score': 0.9964599013328552},\n",
       " {'label': 'POSITIVE', 'score': 0.5846739411354065},\n",
       " {'label': 'NEGATIVE', 'score': 0.9955040812492371},\n",
       " {'label': 'POSITIVE', 'score': 0.983688473701477},\n",
       " {'label': 'NEGATIVE', 'score': 0.9194866418838501},\n",
       " {'label': 'NEGATIVE', 'score': 0.9982037544250488},\n",
       " {'label': 'NEGATIVE', 'score': 0.9458293914794922},\n",
       " {'label': 'POSITIVE', 'score': 0.986890435218811},\n",
       " {'label': 'NEGATIVE', 'score': 0.999589741230011},\n",
       " {'label': 'POSITIVE', 'score': 0.9803308844566345},\n",
       " {'label': 'POSITIVE', 'score': 0.9562177062034607},\n",
       " {'label': 'POSITIVE', 'score': 0.9945189356803894},\n",
       " {'label': 'POSITIVE', 'score': 0.8032622337341309},\n",
       " {'label': 'NEGATIVE', 'score': 0.6888855695724487},\n",
       " {'label': 'POSITIVE', 'score': 0.99979168176651},\n",
       " {'label': 'NEGATIVE', 'score': 0.9949900507926941},\n",
       " {'label': 'NEGATIVE', 'score': 0.9887020587921143},\n",
       " {'label': 'NEGATIVE', 'score': 0.9841157793998718},\n",
       " {'label': 'POSITIVE', 'score': 0.89180588722229},\n",
       " {'label': 'NEGATIVE', 'score': 0.9967819452285767},\n",
       " {'label': 'NEGATIVE', 'score': 0.9964920878410339},\n",
       " {'label': 'NEGATIVE', 'score': 0.9972860813140869},\n",
       " {'label': 'NEGATIVE', 'score': 0.9511300921440125},\n",
       " {'label': 'POSITIVE', 'score': 0.9140976071357727},\n",
       " {'label': 'NEGATIVE', 'score': 0.7214767932891846},\n",
       " {'label': 'POSITIVE', 'score': 0.992300271987915},\n",
       " {'label': 'POSITIVE', 'score': 0.9994813799858093},\n",
       " {'label': 'NEGATIVE', 'score': 0.9671987891197205},\n",
       " {'label': 'NEGATIVE', 'score': 0.9543351531028748},\n",
       " {'label': 'POSITIVE', 'score': 0.968435525894165},\n",
       " {'label': 'NEGATIVE', 'score': 0.9941877126693726},\n",
       " {'label': 'NEGATIVE', 'score': 0.9967644214630127},\n",
       " {'label': 'NEGATIVE', 'score': 0.8680948615074158},\n",
       " {'label': 'NEGATIVE', 'score': 0.9967946410179138},\n",
       " {'label': 'NEGATIVE', 'score': 0.998212456703186},\n",
       " {'label': 'POSITIVE', 'score': 0.9316807985305786},\n",
       " {'label': 'POSITIVE', 'score': 0.6744303703308105},\n",
       " {'label': 'POSITIVE', 'score': 0.8641989231109619},\n",
       " {'label': 'NEGATIVE', 'score': 0.9971578121185303},\n",
       " {'label': 'NEGATIVE', 'score': 0.9986397624015808},\n",
       " {'label': 'NEGATIVE', 'score': 0.9887972474098206},\n",
       " {'label': 'NEGATIVE', 'score': 0.9972901344299316},\n",
       " {'label': 'NEGATIVE', 'score': 0.9965686798095703},\n",
       " {'label': 'POSITIVE', 'score': 0.9979550838470459},\n",
       " {'label': 'POSITIVE', 'score': 0.9960368275642395},\n",
       " {'label': 'POSITIVE', 'score': 0.999862790107727},\n",
       " {'label': 'POSITIVE', 'score': 0.9998775720596313},\n",
       " {'label': 'POSITIVE', 'score': 0.9931469559669495},\n",
       " {'label': 'POSITIVE', 'score': 0.8030245304107666},\n",
       " {'label': 'POSITIVE', 'score': 0.9921528697013855},\n",
       " {'label': 'POSITIVE', 'score': 0.9997805953025818},\n",
       " {'label': 'NEGATIVE', 'score': 0.9923657774925232},\n",
       " {'label': 'NEGATIVE', 'score': 0.999346911907196},\n",
       " {'label': 'NEGATIVE', 'score': 0.7324707508087158},\n",
       " {'label': 'NEGATIVE', 'score': 0.9945693016052246},\n",
       " {'label': 'NEGATIVE', 'score': 0.9814255237579346},\n",
       " {'label': 'NEGATIVE', 'score': 0.987761378288269},\n",
       " {'label': 'POSITIVE', 'score': 0.9882624745368958},\n",
       " {'label': 'NEGATIVE', 'score': 0.9992148876190186},\n",
       " {'label': 'NEGATIVE', 'score': 0.9991446733474731},\n",
       " {'label': 'NEGATIVE', 'score': 0.898414134979248},\n",
       " {'label': 'POSITIVE', 'score': 0.9945790767669678},\n",
       " {'label': 'POSITIVE', 'score': 0.9996390342712402},\n",
       " {'label': 'POSITIVE', 'score': 0.9997484087944031},\n",
       " {'label': 'POSITIVE', 'score': 0.9990333318710327},\n",
       " {'label': 'POSITIVE', 'score': 0.9998553991317749},\n",
       " {'label': 'POSITIVE', 'score': 0.9811299443244934},\n",
       " {'label': 'NEGATIVE', 'score': 0.9671245217323303},\n",
       " {'label': 'NEGATIVE', 'score': 0.9969692826271057},\n",
       " {'label': 'POSITIVE', 'score': 0.9809371829032898},\n",
       " {'label': 'POSITIVE', 'score': 0.6072409152984619},\n",
       " {'label': 'POSITIVE', 'score': 0.6307870745658875},\n",
       " {'label': 'POSITIVE', 'score': 0.9989091157913208},\n",
       " {'label': 'NEGATIVE', 'score': 0.6413705945014954},\n",
       " {'label': 'NEGATIVE', 'score': 0.978660523891449},\n",
       " {'label': 'POSITIVE', 'score': 0.9942129254341125},\n",
       " {'label': 'NEGATIVE', 'score': 0.9867226481437683},\n",
       " {'label': 'POSITIVE', 'score': 0.9987186193466187},\n",
       " {'label': 'NEGATIVE', 'score': 0.9935043454170227},\n",
       " {'label': 'POSITIVE', 'score': 0.9883736371994019},\n",
       " {'label': 'POSITIVE', 'score': 0.9932090640068054},\n",
       " {'label': 'NEGATIVE', 'score': 0.9653937816619873},\n",
       " {'label': 'POSITIVE', 'score': 0.9937959909439087},\n",
       " {'label': 'POSITIVE', 'score': 0.9995806813240051},\n",
       " {'label': 'POSITIVE', 'score': 0.9937959909439087},\n",
       " {'label': 'POSITIVE', 'score': 0.9998714923858643},\n",
       " {'label': 'NEGATIVE', 'score': 0.8902580738067627},\n",
       " {'label': 'POSITIVE', 'score': 0.9998160004615784},\n",
       " {'label': 'NEGATIVE', 'score': 0.9938620328903198},\n",
       " {'label': 'NEGATIVE', 'score': 0.842543363571167},\n",
       " {'label': 'POSITIVE', 'score': 0.9979179501533508},\n",
       " {'label': 'NEGATIVE', 'score': 0.6413705945014954},\n",
       " {'label': 'POSITIVE', 'score': 0.9995473027229309},\n",
       " {'label': 'NEGATIVE', 'score': 0.6630252599716187},\n",
       " {'label': 'POSITIVE', 'score': 0.9935874938964844},\n",
       " {'label': 'NEGATIVE', 'score': 0.9936781525611877},\n",
       " {'label': 'POSITIVE', 'score': 0.985403299331665},\n",
       " {'label': 'POSITIVE', 'score': 0.72852623462677},\n",
       " {'label': 'POSITIVE', 'score': 0.9961112141609192},\n",
       " {'label': 'NEGATIVE', 'score': 0.9951552152633667},\n",
       " {'label': 'NEGATIVE', 'score': 0.9989117383956909},\n",
       " {'label': 'NEGATIVE', 'score': 0.8888059854507446},\n",
       " {'label': 'NEGATIVE', 'score': 0.9820410013198853},\n",
       " {'label': 'NEGATIVE', 'score': 0.9915050864219666},\n",
       " {'label': 'NEGATIVE', 'score': 0.9894446730613708},\n",
       " {'label': 'POSITIVE', 'score': 0.9962844848632812},\n",
       " {'label': 'POSITIVE', 'score': 0.8692669868469238},\n",
       " {'label': 'NEGATIVE', 'score': 0.9602760672569275},\n",
       " {'label': 'POSITIVE', 'score': 0.9977315068244934},\n",
       " {'label': 'POSITIVE', 'score': 0.9957875609397888},\n",
       " {'label': 'NEGATIVE', 'score': 0.9754343032836914},\n",
       " {'label': 'POSITIVE', 'score': 0.9965150356292725},\n",
       " {'label': 'NEGATIVE', 'score': 0.8239136338233948},\n",
       " {'label': 'NEGATIVE', 'score': 0.996462881565094},\n",
       " {'label': 'POSITIVE', 'score': 0.9995768666267395},\n",
       " {'label': 'POSITIVE', 'score': 0.988810658454895},\n",
       " {'label': 'NEGATIVE', 'score': 0.754452645778656},\n",
       " {'label': 'POSITIVE', 'score': 0.9998748302459717},\n",
       " {'label': 'POSITIVE', 'score': 0.9319420456886292},\n",
       " {'label': 'POSITIVE', 'score': 0.9275637269020081},\n",
       " {'label': 'POSITIVE', 'score': 0.9991475343704224},\n",
       " {'label': 'NEGATIVE', 'score': 0.7333816885948181},\n",
       " {'label': 'POSITIVE', 'score': 0.9997032284736633},\n",
       " {'label': 'POSITIVE', 'score': 0.8411014080047607},\n",
       " {'label': 'NEGATIVE', 'score': 0.8994349837303162},\n",
       " {'label': 'NEGATIVE', 'score': 0.6771813035011292},\n",
       " {'label': 'POSITIVE', 'score': 0.9997310042381287},\n",
       " {'label': 'POSITIVE', 'score': 0.9414544701576233},\n",
       " {'label': 'NEGATIVE', 'score': 0.9305833578109741},\n",
       " {'label': 'NEGATIVE', 'score': 0.5684732794761658},\n",
       " {'label': 'NEGATIVE', 'score': 0.9947788715362549},\n",
       " {'label': 'NEGATIVE', 'score': 0.9941368103027344},\n",
       " {'label': 'NEGATIVE', 'score': 0.9984714388847351},\n",
       " {'label': 'NEGATIVE', 'score': 0.9930151700973511},\n",
       " {'label': 'NEGATIVE', 'score': 0.9992468357086182},\n",
       " {'label': 'POSITIVE', 'score': 0.9998748302459717},\n",
       " {'label': 'NEGATIVE', 'score': 0.9228175282478333},\n",
       " {'label': 'POSITIVE', 'score': 0.998128354549408},\n",
       " {'label': 'NEGATIVE', 'score': 0.9334287047386169},\n",
       " {'label': 'NEGATIVE', 'score': 0.9096997380256653},\n",
       " {'label': 'POSITIVE', 'score': 0.9978727102279663},\n",
       " {'label': 'POSITIVE', 'score': 0.7720589637756348},\n",
       " {'label': 'POSITIVE', 'score': 0.9967374205589294},\n",
       " {'label': 'NEGATIVE', 'score': 0.9991993308067322},\n",
       " {'label': 'NEGATIVE', 'score': 0.9826823472976685},\n",
       " {'label': 'NEGATIVE', 'score': 0.6872543096542358},\n",
       " {'label': 'NEGATIVE', 'score': 0.9985596537590027},\n",
       " {'label': 'POSITIVE', 'score': 0.9987868666648865},\n",
       " {'label': 'POSITIVE', 'score': 0.6271780729293823},\n",
       " {'label': 'POSITIVE', 'score': 0.9023157954216003},\n",
       " {'label': 'NEGATIVE', 'score': 0.9741695523262024},\n",
       " {'label': 'NEGATIVE', 'score': 0.9993357062339783},\n",
       " {'label': 'POSITIVE', 'score': 0.9960237741470337},\n",
       " {'label': 'POSITIVE', 'score': 0.9973069429397583},\n",
       " {'label': 'NEGATIVE', 'score': 0.9917230010032654},\n",
       " {'label': 'NEGATIVE', 'score': 0.9801334142684937},\n",
       " {'label': 'POSITIVE', 'score': 0.9990548491477966},\n",
       " {'label': 'POSITIVE', 'score': 0.9983267188072205},\n",
       " {'label': 'POSITIVE', 'score': 0.9986078143119812},\n",
       " {'label': 'NEGATIVE', 'score': 0.6196618676185608},\n",
       " {'label': 'POSITIVE', 'score': 0.9977107048034668},\n",
       " {'label': 'NEGATIVE', 'score': 0.9969692826271057},\n",
       " {'label': 'POSITIVE', 'score': 0.9937959909439087},\n",
       " {'label': 'NEGATIVE', 'score': 0.9660786986351013},\n",
       " {'label': 'NEGATIVE', 'score': 0.8917062282562256},\n",
       " {'label': 'NEGATIVE', 'score': 0.9963415265083313},\n",
       " {'label': 'POSITIVE', 'score': 0.8144574761390686},\n",
       " {'label': 'POSITIVE', 'score': 0.8881663084030151},\n",
       " {'label': 'POSITIVE', 'score': 0.9260941743850708},\n",
       " {'label': 'NEGATIVE', 'score': 0.9956333041191101},\n",
       " {'label': 'POSITIVE', 'score': 0.999855637550354},\n",
       " {'label': 'POSITIVE', 'score': 0.99853515625},\n",
       " {'label': 'POSITIVE', 'score': 0.5583139061927795},\n",
       " {'label': 'POSITIVE', 'score': 0.9941132664680481},\n",
       " {'label': 'POSITIVE', 'score': 0.9998546838760376},\n",
       " {'label': 'NEGATIVE', 'score': 0.9993854761123657},\n",
       " {'label': 'NEGATIVE', 'score': 0.9950870871543884},\n",
       " {'label': 'NEGATIVE', 'score': 0.9993799924850464},\n",
       " {'label': 'POSITIVE', 'score': 0.9864418506622314},\n",
       " {'label': 'NEGATIVE', 'score': 0.9979907274246216},\n",
       " {'label': 'NEGATIVE', 'score': 0.999451220035553},\n",
       " {'label': 'POSITIVE', 'score': 0.9997417330741882},\n",
       " {'label': 'POSITIVE', 'score': 0.8332709074020386},\n",
       " {'label': 'POSITIVE', 'score': 0.9984806180000305},\n",
       " {'label': 'POSITIVE', 'score': 0.9367591738700867},\n",
       " {'label': 'POSITIVE', 'score': 0.9883891344070435},\n",
       " {'label': 'POSITIVE', 'score': 0.7720589637756348},\n",
       " {'label': 'POSITIVE', 'score': 0.9998509883880615},\n",
       " {'label': 'POSITIVE', 'score': 0.783687174320221},\n",
       " {'label': 'POSITIVE', 'score': 0.9998279809951782},\n",
       " {'label': 'NEGATIVE', 'score': 0.9612112641334534},\n",
       " {'label': 'POSITIVE', 'score': 0.9239253997802734},\n",
       " {'label': 'POSITIVE', 'score': 0.9380612373352051},\n",
       " {'label': 'POSITIVE', 'score': 0.6229205131530762},\n",
       " {'label': 'NEGATIVE', 'score': 0.9881106615066528},\n",
       " {'label': 'POSITIVE', 'score': 0.9207818508148193},\n",
       " {'label': 'NEGATIVE', 'score': 0.6970568299293518},\n",
       " {'label': 'POSITIVE', 'score': 0.9997217059135437},\n",
       " {'label': 'NEGATIVE', 'score': 0.7499299049377441},\n",
       " {'label': 'NEGATIVE', 'score': 0.9766166806221008},\n",
       " {'label': 'NEGATIVE', 'score': 0.9613358378410339},\n",
       " {'label': 'POSITIVE', 'score': 0.9430462121963501},\n",
       " {'label': 'NEGATIVE', 'score': 0.9881321787834167},\n",
       " {'label': 'NEGATIVE', 'score': 0.6970568299293518},\n",
       " {'label': 'NEGATIVE', 'score': 0.9898340702056885},\n",
       " {'label': 'POSITIVE', 'score': 0.9980162382125854},\n",
       " {'label': 'POSITIVE', 'score': 0.870235025882721},\n",
       " {'label': 'POSITIVE', 'score': 0.999735414981842},\n",
       " {'label': 'NEGATIVE', 'score': 0.9995837807655334},\n",
       " {'label': 'NEGATIVE', 'score': 0.9934685230255127},\n",
       " {'label': 'NEGATIVE', 'score': 0.9975300431251526},\n",
       " {'label': 'NEGATIVE', 'score': 0.9907529354095459},\n",
       " {'label': 'POSITIVE', 'score': 0.9998313188552856},\n",
       " {'label': 'NEGATIVE', 'score': 0.6970568299293518},\n",
       " {'label': 'POSITIVE', 'score': 0.998870313167572},\n",
       " {'label': 'POSITIVE', 'score': 0.9989989399909973},\n",
       " {'label': 'POSITIVE', 'score': 0.9814664125442505},\n",
       " {'label': 'POSITIVE', 'score': 0.9931469559669495},\n",
       " {'label': 'NEGATIVE', 'score': 0.9942745566368103},\n",
       " {'label': 'NEGATIVE', 'score': 0.9889348149299622},\n",
       " {'label': 'NEGATIVE', 'score': 0.8645352721214294},\n",
       " {'label': 'POSITIVE', 'score': 0.9991717338562012},\n",
       " {'label': 'NEGATIVE', 'score': 0.9986488223075867},\n",
       " {'label': 'POSITIVE', 'score': 0.9998136162757874},\n",
       " {'label': 'NEGATIVE', 'score': 0.9980964064598083},\n",
       " {'label': 'POSITIVE', 'score': 0.9998077750205994},\n",
       " {'label': 'POSITIVE', 'score': 0.9931469559669495},\n",
       " {'label': 'NEGATIVE', 'score': 0.9969736337661743},\n",
       " {'label': 'NEGATIVE', 'score': 0.999607503414154},\n",
       " {'label': 'POSITIVE', 'score': 0.9933363199234009},\n",
       " {'label': 'NEGATIVE', 'score': 0.9928004741668701},\n",
       " {'label': 'NEGATIVE', 'score': 0.9976406097412109},\n",
       " {'label': 'POSITIVE', 'score': 0.9978891015052795},\n",
       " {'label': 'POSITIVE', 'score': 0.9988915324211121},\n",
       " {'label': 'POSITIVE', 'score': 0.937847912311554},\n",
       " {'label': 'POSITIVE', 'score': 0.9998226761817932},\n",
       " {'label': 'POSITIVE', 'score': 0.9979019165039062},\n",
       " {'label': 'NEGATIVE', 'score': 0.9954462051391602},\n",
       " {'label': 'NEGATIVE', 'score': 0.9765665531158447},\n",
       " {'label': 'NEGATIVE', 'score': 0.9985913634300232},\n",
       " {'label': 'NEGATIVE', 'score': 0.9629577398300171},\n",
       " {'label': 'NEGATIVE', 'score': 0.530056893825531},\n",
       " {'label': 'NEGATIVE', 'score': 0.9993932247161865},\n",
       " {'label': 'POSITIVE', 'score': 0.9915174245834351},\n",
       " {'label': 'NEGATIVE', 'score': 0.990802526473999},\n",
       " {'label': 'POSITIVE', 'score': 0.9996104836463928},\n",
       " {'label': 'NEGATIVE', 'score': 0.993486225605011},\n",
       " {'label': 'NEGATIVE', 'score': 0.9821786284446716},\n",
       " {'label': 'NEGATIVE', 'score': 0.9923134446144104},\n",
       " {'label': 'POSITIVE', 'score': 0.9997966885566711},\n",
       " {'label': 'NEGATIVE', 'score': 0.970082700252533},\n",
       " {'label': 'NEGATIVE', 'score': 0.9679107069969177},\n",
       " {'label': 'NEGATIVE', 'score': 0.8583807349205017},\n",
       " {'label': 'NEGATIVE', 'score': 0.9472969174385071},\n",
       " {'label': 'NEGATIVE', 'score': 0.9896399974822998},\n",
       " {'label': 'NEGATIVE', 'score': 0.954103410243988},\n",
       " {'label': 'POSITIVE', 'score': 0.9978237152099609},\n",
       " {'label': 'NEGATIVE', 'score': 0.9843480587005615},\n",
       " {'label': 'NEGATIVE', 'score': 0.9963856935501099},\n",
       " {'label': 'NEGATIVE', 'score': 0.9811722636222839},\n",
       " {'label': 'NEGATIVE', 'score': 0.900829017162323},\n",
       " {'label': 'POSITIVE', 'score': 0.9998772144317627},\n",
       " {'label': 'POSITIVE', 'score': 0.99468994140625},\n",
       " {'label': 'NEGATIVE', 'score': 0.9695929288864136},\n",
       " {'label': 'POSITIVE', 'score': 0.9991663694381714},\n",
       " {'label': 'POSITIVE', 'score': 0.9881862998008728},\n",
       " {'label': 'POSITIVE', 'score': 0.9859290719032288},\n",
       " {'label': 'POSITIVE', 'score': 0.891628623008728},\n",
       " {'label': 'NEGATIVE', 'score': 0.9803256988525391},\n",
       " {'label': 'POSITIVE', 'score': 0.9989773035049438},\n",
       " {'label': 'POSITIVE', 'score': 0.9957864880561829},\n",
       " {'label': 'NEGATIVE', 'score': 0.982664167881012},\n",
       " {'label': 'NEGATIVE', 'score': 0.9991212487220764},\n",
       " {'label': 'NEGATIVE', 'score': 0.8038526773452759},\n",
       " {'label': 'NEGATIVE', 'score': 0.9887412190437317},\n",
       " {'label': 'NEGATIVE', 'score': 0.8822816610336304},\n",
       " {'label': 'NEGATIVE', 'score': 0.9980206489562988},\n",
       " {'label': 'NEGATIVE', 'score': 0.9977297186851501},\n",
       " {'label': 'NEGATIVE', 'score': 0.9815876483917236},\n",
       " {'label': 'POSITIVE', 'score': 0.9996497631072998},\n",
       " {'label': 'NEGATIVE', 'score': 0.9969297051429749},\n",
       " {'label': 'NEGATIVE', 'score': 0.8081263899803162},\n",
       " {'label': 'NEGATIVE', 'score': 0.9996261596679688},\n",
       " {'label': 'POSITIVE', 'score': 0.9942348599433899},\n",
       " {'label': 'NEGATIVE', 'score': 0.9997877478599548},\n",
       " {'label': 'POSITIVE', 'score': 0.9921571016311646},\n",
       " {'label': 'NEGATIVE', 'score': 0.9971534013748169},\n",
       " {'label': 'NEGATIVE', 'score': 0.9989112615585327},\n",
       " {'label': 'NEGATIVE', 'score': 0.9971513152122498},\n",
       " {'label': 'POSITIVE', 'score': 0.9966505169868469},\n",
       " {'label': 'NEGATIVE', 'score': 0.6170356273651123},\n",
       " {'label': 'POSITIVE', 'score': 0.9968854784965515},\n",
       " {'label': 'POSITIVE', 'score': 0.999715268611908},\n",
       " {'label': 'NEGATIVE', 'score': 0.9448373317718506},\n",
       " {'label': 'NEGATIVE', 'score': 0.9983139038085938},\n",
       " {'label': 'NEGATIVE', 'score': 0.9995361566543579},\n",
       " {'label': 'POSITIVE', 'score': 0.9993917942047119},\n",
       " {'label': 'POSITIVE', 'score': 0.9854393005371094},\n",
       " {'label': 'NEGATIVE', 'score': 0.9949370622634888},\n",
       " {'label': 'NEGATIVE', 'score': 0.9964459538459778},\n",
       " {'label': 'NEGATIVE', 'score': 0.9969692826271057},\n",
       " {'label': 'NEGATIVE', 'score': 0.7479874491691589},\n",
       " {'label': 'NEGATIVE', 'score': 0.9974648952484131},\n",
       " {'label': 'NEGATIVE', 'score': 0.9945076107978821},\n",
       " {'label': 'NEGATIVE', 'score': 0.9877449870109558},\n",
       " {'label': 'NEGATIVE', 'score': 0.998045802116394},\n",
       " {'label': 'NEGATIVE', 'score': 0.9953925609588623},\n",
       " {'label': 'NEGATIVE', 'score': 0.9492732286453247},\n",
       " {'label': 'POSITIVE', 'score': 0.9836852550506592},\n",
       " {'label': 'POSITIVE', 'score': 0.9970519542694092},\n",
       " {'label': 'NEGATIVE', 'score': 0.9996621608734131},\n",
       " {'label': 'NEGATIVE', 'score': 0.9896294474601746},\n",
       " {'label': 'POSITIVE', 'score': 0.9995912909507751},\n",
       " {'label': 'POSITIVE', 'score': 0.8360084891319275},\n",
       " {'label': 'POSITIVE', 'score': 0.9715421795845032},\n",
       " {'label': 'POSITIVE', 'score': 0.9959173798561096},\n",
       " {'label': 'POSITIVE', 'score': 0.9987823367118835},\n",
       " {'label': 'NEGATIVE', 'score': 0.9981458187103271},\n",
       " {'label': 'NEGATIVE', 'score': 0.9540823698043823},\n",
       " {'label': 'POSITIVE', 'score': 0.9997805953025818},\n",
       " {'label': 'POSITIVE', 'score': 0.9994719624519348},\n",
       " {'label': 'POSITIVE', 'score': 0.9987940788269043},\n",
       " {'label': 'NEGATIVE', 'score': 0.979988694190979},\n",
       " {'label': 'POSITIVE', 'score': 0.9540231227874756},\n",
       " {'label': 'NEGATIVE', 'score': 0.9997712969779968},\n",
       " {'label': 'NEGATIVE', 'score': 0.9795377850532532},\n",
       " {'label': 'POSITIVE', 'score': 0.9743324518203735},\n",
       " {'label': 'POSITIVE', 'score': 0.994450569152832},\n",
       " {'label': 'POSITIVE', 'score': 0.9997931122779846},\n",
       " {'label': 'POSITIVE', 'score': 0.9997598528862},\n",
       " {'label': 'NEGATIVE', 'score': 0.9861240386962891},\n",
       " {'label': 'NEGATIVE', 'score': 0.9972834587097168},\n",
       " {'label': 'POSITIVE', 'score': 0.999640941619873},\n",
       " {'label': 'POSITIVE', 'score': 0.9990621209144592},\n",
       " {'label': 'NEGATIVE', 'score': 0.9916099905967712},\n",
       " {'label': 'POSITIVE', 'score': 0.958943784236908},\n",
       " {'label': 'NEGATIVE', 'score': 0.9992052912712097},\n",
       " {'label': 'NEGATIVE', 'score': 0.6502181887626648},\n",
       " {'label': 'POSITIVE', 'score': 0.6012076139450073},\n",
       " {'label': 'NEGATIVE', 'score': 0.999760091304779},\n",
       " {'label': 'POSITIVE', 'score': 0.9282902479171753},\n",
       " {'label': 'POSITIVE', 'score': 0.9998641014099121},\n",
       " {'label': 'NEGATIVE', 'score': 0.9997150301933289},\n",
       " {'label': 'POSITIVE', 'score': 0.5775877237319946},\n",
       " {'label': 'NEGATIVE', 'score': 0.9940946698188782},\n",
       " {'label': 'POSITIVE', 'score': 0.870235025882721},\n",
       " {'label': 'POSITIVE', 'score': 0.9980255365371704},\n",
       " {'label': 'NEGATIVE', 'score': 0.9960336089134216},\n",
       " {'label': 'NEGATIVE', 'score': 0.9339557886123657},\n",
       " {'label': 'POSITIVE', 'score': 0.9996532201766968},\n",
       " {'label': 'POSITIVE', 'score': 0.8550795316696167},\n",
       " {'label': 'NEGATIVE', 'score': 0.961528480052948},\n",
       " {'label': 'POSITIVE', 'score': 0.9976904392242432},\n",
       " {'label': 'POSITIVE', 'score': 0.9555149078369141},\n",
       " {'label': 'NEGATIVE', 'score': 0.9833585619926453},\n",
       " {'label': 'POSITIVE', 'score': 0.9971631169319153},\n",
       " {'label': 'NEGATIVE', 'score': 0.9902455806732178},\n",
       " {'label': 'POSITIVE', 'score': 0.999032735824585},\n",
       " {'label': 'POSITIVE', 'score': 0.9998688697814941},\n",
       " {'label': 'POSITIVE', 'score': 0.9997581839561462},\n",
       " {'label': 'POSITIVE', 'score': 0.999208390712738},\n",
       " {'label': 'POSITIVE', 'score': 0.9998393058776855},\n",
       " {'label': 'POSITIVE', 'score': 0.9997805953025818},\n",
       " {'label': 'POSITIVE', 'score': 0.9989532232284546},\n",
       " {'label': 'POSITIVE', 'score': 0.9998618364334106},\n",
       " {'label': 'NEGATIVE', 'score': 0.9977280497550964},\n",
       " {'label': 'NEGATIVE', 'score': 0.9202502965927124},\n",
       " {'label': 'POSITIVE', 'score': 0.991727352142334},\n",
       " {'label': 'NEGATIVE', 'score': 0.9963858127593994},\n",
       " {'label': 'NEGATIVE', 'score': 0.9975162744522095},\n",
       " {'label': 'POSITIVE', 'score': 0.7947792410850525},\n",
       " {'label': 'POSITIVE', 'score': 0.9995343685150146},\n",
       " {'label': 'NEGATIVE', 'score': 0.9673190116882324},\n",
       " {'label': 'POSITIVE', 'score': 0.9692330360412598},\n",
       " {'label': 'NEGATIVE', 'score': 0.943818211555481},\n",
       " {'label': 'POSITIVE', 'score': 0.9990222454071045},\n",
       " {'label': 'NEGATIVE', 'score': 0.9993858337402344},\n",
       " {'label': 'POSITIVE', 'score': 0.7720589637756348},\n",
       " {'label': 'POSITIVE', 'score': 0.7203298211097717},\n",
       " {'label': 'POSITIVE', 'score': 0.9232603907585144},\n",
       " {'label': 'NEGATIVE', 'score': 0.6970568299293518},\n",
       " {'label': 'POSITIVE', 'score': 0.9993826150894165},\n",
       " {'label': 'NEGATIVE', 'score': 0.9928227066993713},\n",
       " {'label': 'NEGATIVE', 'score': 0.9862861037254333},\n",
       " {'label': 'POSITIVE', 'score': 0.9367591738700867},\n",
       " {'label': 'NEGATIVE', 'score': 0.9992164373397827},\n",
       " {'label': 'POSITIVE', 'score': 0.89180588722229},\n",
       " {'label': 'POSITIVE', 'score': 0.999744713306427},\n",
       " {'label': 'NEGATIVE', 'score': 0.9742409586906433},\n",
       " {'label': 'NEGATIVE', 'score': 0.9941979646682739},\n",
       " {'label': 'POSITIVE', 'score': 0.9996776580810547},\n",
       " {'label': 'NEGATIVE', 'score': 0.9964459538459778},\n",
       " {'label': 'NEGATIVE', 'score': 0.9998013377189636},\n",
       " {'label': 'NEGATIVE', 'score': 0.9953745007514954},\n",
       " {'label': 'NEGATIVE', 'score': 0.9994663596153259},\n",
       " {'label': 'NEGATIVE', 'score': 0.9960625767707825},\n",
       " {'label': 'POSITIVE', 'score': 0.7262353301048279},\n",
       " {'label': 'POSITIVE', 'score': 0.9988076686859131},\n",
       " {'label': 'NEGATIVE', 'score': 0.9907529354095459},\n",
       " {'label': 'NEGATIVE', 'score': 0.9817518591880798},\n",
       " {'label': 'NEGATIVE', 'score': 0.8976345062255859},\n",
       " {'label': 'POSITIVE', 'score': 0.9885938167572021},\n",
       " {'label': 'POSITIVE', 'score': 0.9960309863090515},\n",
       " {'label': 'POSITIVE', 'score': 0.99979168176651},\n",
       " {'label': 'NEGATIVE', 'score': 0.9835979342460632},\n",
       " {'label': 'NEGATIVE', 'score': 0.9974671602249146},\n",
       " {'label': 'POSITIVE', 'score': 0.999243974685669},\n",
       " {'label': 'POSITIVE', 'score': 0.9997286200523376},\n",
       " {'label': 'NEGATIVE', 'score': 0.9988058805465698},\n",
       " {'label': 'NEGATIVE', 'score': 0.9989994168281555},\n",
       " {'label': 'NEGATIVE', 'score': 0.9847848415374756},\n",
       " {'label': 'NEGATIVE', 'score': 0.9941067695617676},\n",
       " {'label': 'NEGATIVE', 'score': 0.9723715782165527},\n",
       " {'label': 'POSITIVE', 'score': 0.9978959560394287},\n",
       " {'label': 'POSITIVE', 'score': 0.9559274911880493},\n",
       " {'label': 'POSITIVE', 'score': 0.9692146182060242},\n",
       " {'label': 'NEGATIVE', 'score': 0.991998016834259},\n",
       " {'label': 'POSITIVE', 'score': 0.917367160320282},\n",
       " {'label': 'POSITIVE', 'score': 0.9944307208061218},\n",
       " {'label': 'POSITIVE', 'score': 0.9976050853729248},\n",
       " {'label': 'NEGATIVE', 'score': 0.9850035309791565},\n",
       " {'label': 'NEGATIVE', 'score': 0.6633927822113037},\n",
       " {'label': 'NEGATIVE', 'score': 0.989563524723053},\n",
       " {'label': 'POSITIVE', 'score': 0.9754440188407898},\n",
       " {'label': 'NEGATIVE', 'score': 0.9651641249656677},\n",
       " {'label': 'NEGATIVE', 'score': 0.9804572463035583},\n",
       " {'label': 'POSITIVE', 'score': 0.9992347955703735},\n",
       " {'label': 'POSITIVE', 'score': 0.855911910533905},\n",
       " {'label': 'POSITIVE', 'score': 0.9817373752593994},\n",
       " {'label': 'POSITIVE', 'score': 0.9925376772880554},\n",
       " {'label': 'NEGATIVE', 'score': 0.991838276386261},\n",
       " {'label': 'NEGATIVE', 'score': 0.9990729093551636},\n",
       " {'label': 'NEGATIVE', 'score': 0.9985465407371521},\n",
       " {'label': 'POSITIVE', 'score': 0.999811589717865},\n",
       " {'label': 'POSITIVE', 'score': 0.6917773485183716},\n",
       " {'label': 'POSITIVE', 'score': 0.9931469559669495},\n",
       " {'label': 'NEGATIVE', 'score': 0.9993177652359009},\n",
       " {'label': 'NEGATIVE', 'score': 0.986588180065155},\n",
       " {'label': 'POSITIVE', 'score': 0.9882730841636658},\n",
       " {'label': 'NEGATIVE', 'score': 0.9983207583427429},\n",
       " {'label': 'NEGATIVE', 'score': 0.9787131547927856},\n",
       " {'label': 'NEGATIVE', 'score': 0.9826603531837463},\n",
       " {'label': 'NEGATIVE', 'score': 0.9951738715171814},\n",
       " {'label': 'NEGATIVE', 'score': 0.6771813035011292},\n",
       " {'label': 'POSITIVE', 'score': 0.9826152324676514},\n",
       " {'label': 'NEGATIVE', 'score': 0.6970568299293518},\n",
       " {'label': 'NEGATIVE', 'score': 0.9692391753196716},\n",
       " {'label': 'NEGATIVE', 'score': 0.6970568299293518},\n",
       " {'label': 'NEGATIVE', 'score': 0.9609447717666626},\n",
       " {'label': 'NEGATIVE', 'score': 0.9913976192474365},\n",
       " {'label': 'POSITIVE', 'score': 0.5810422301292419},\n",
       " {'label': 'NEGATIVE', 'score': 0.9813961386680603},\n",
       " {'label': 'POSITIVE', 'score': 0.9997945427894592},\n",
       " {'label': 'POSITIVE', 'score': 0.9998078942298889},\n",
       " {'label': 'NEGATIVE', 'score': 0.9903821349143982},\n",
       " {'label': 'POSITIVE', 'score': 0.9976769089698792},\n",
       " {'label': 'POSITIVE', 'score': 0.9997579455375671},\n",
       " {'label': 'POSITIVE', 'score': 0.9984709620475769},\n",
       " {'label': 'NEGATIVE', 'score': 0.9940696954727173},\n",
       " {'label': 'POSITIVE', 'score': 0.946912407875061},\n",
       " {'label': 'NEGATIVE', 'score': 0.8136940598487854},\n",
       " {'label': 'POSITIVE', 'score': 0.9162167906761169},\n",
       " {'label': 'NEGATIVE', 'score': 0.9188799858093262},\n",
       " {'label': 'NEGATIVE', 'score': 0.613673746585846},\n",
       " {'label': 'POSITIVE', 'score': 0.9945790767669678},\n",
       " {'label': 'NEGATIVE', 'score': 0.9935624599456787},\n",
       " {'label': 'NEGATIVE', 'score': 0.8943988680839539},\n",
       " {'label': 'POSITIVE', 'score': 0.9998496770858765},\n",
       " {'label': 'POSITIVE', 'score': 0.9975005984306335},\n",
       " {'label': 'POSITIVE', 'score': 0.9140976071357727},\n",
       " {'label': 'NEGATIVE', 'score': 0.9989491105079651},\n",
       " {'label': 'POSITIVE', 'score': 0.9990880489349365},\n",
       " {'label': 'POSITIVE', 'score': 0.89180588722229},\n",
       " {'label': 'NEGATIVE', 'score': 0.9912858605384827},\n",
       " {'label': 'POSITIVE', 'score': 0.9998648166656494},\n",
       " {'label': 'NEGATIVE', 'score': 0.9682644009590149},\n",
       " {'label': 'POSITIVE', 'score': 0.981558620929718},\n",
       " {'label': 'POSITIVE', 'score': 0.9995653033256531},\n",
       " {'label': 'NEGATIVE', 'score': 0.6946074962615967},\n",
       " {'label': 'POSITIVE', 'score': 0.8144574761390686},\n",
       " {'label': 'POSITIVE', 'score': 0.9888862371444702},\n",
       " {'label': 'NEGATIVE', 'score': 0.9732787609100342},\n",
       " {'label': 'POSITIVE', 'score': 0.9883456230163574},\n",
       " {'label': 'POSITIVE', 'score': 0.9993168115615845},\n",
       " {'label': 'POSITIVE', 'score': 0.917367160320282},\n",
       " {'label': 'POSITIVE', 'score': 0.7720589637756348},\n",
       " {'label': 'POSITIVE', 'score': 0.9996943473815918},\n",
       " {'label': 'POSITIVE', 'score': 0.5501680970191956},\n",
       " {'label': 'POSITIVE', 'score': 0.9744532108306885},\n",
       " {'label': 'NEGATIVE', 'score': 0.9795299172401428},\n",
       " {'label': 'POSITIVE', 'score': 0.7829965949058533},\n",
       " {'label': 'POSITIVE', 'score': 0.9663350582122803},\n",
       " {'label': 'NEGATIVE', 'score': 0.9668784141540527},\n",
       " {'label': 'POSITIVE', 'score': 0.9995970129966736},\n",
       " {'label': 'NEGATIVE', 'score': 0.9993316531181335},\n",
       " {'label': 'POSITIVE', 'score': 0.9997413754463196},\n",
       " {'label': 'POSITIVE', 'score': 0.999725878238678},\n",
       " {'label': 'POSITIVE', 'score': 0.9973885416984558},\n",
       " {'label': 'NEGATIVE', 'score': 0.9932724237442017},\n",
       " {'label': 'NEGATIVE', 'score': 0.9857457876205444},\n",
       " {'label': 'NEGATIVE', 'score': 0.9989849925041199},\n",
       " {'label': 'NEGATIVE', 'score': 0.9992671608924866},\n",
       " {'label': 'NEGATIVE', 'score': 0.9953598380088806},\n",
       " {'label': 'NEGATIVE', 'score': 0.7006837129592896},\n",
       " {'label': 'NEGATIVE', 'score': 0.9994350075721741},\n",
       " {'label': 'NEGATIVE', 'score': 0.9548000693321228},\n",
       " {'label': 'POSITIVE', 'score': 0.9927688837051392},\n",
       " {'label': 'NEGATIVE', 'score': 0.8783438205718994},\n",
       " {'label': 'NEGATIVE', 'score': 0.9490795731544495},\n",
       " {'label': 'POSITIVE', 'score': 0.8618453741073608},\n",
       " {'label': 'NEGATIVE', 'score': 0.9994435906410217},\n",
       " {'label': 'NEGATIVE', 'score': 0.6970568299293518},\n",
       " {'label': 'POSITIVE', 'score': 0.9336143732070923},\n",
       " {'label': 'POSITIVE', 'score': 0.9997676014900208},\n",
       " {'label': 'NEGATIVE', 'score': 0.969887912273407},\n",
       " {'label': 'POSITIVE', 'score': 0.999382495880127},\n",
       " {'label': 'NEGATIVE', 'score': 0.9982404708862305},\n",
       " {'label': 'NEGATIVE', 'score': 0.9995361566543579},\n",
       " {'label': 'NEGATIVE', 'score': 0.9988154172897339},\n",
       " {'label': 'NEGATIVE', 'score': 0.9969692826271057},\n",
       " {'label': 'POSITIVE', 'score': 0.7003039717674255},\n",
       " {'label': 'NEGATIVE', 'score': 0.9994674324989319},\n",
       " {'label': 'NEGATIVE', 'score': 0.9953745007514954},\n",
       " {'label': 'POSITIVE', 'score': 0.9976703524589539},\n",
       " {'label': 'POSITIVE', 'score': 0.9974262118339539},\n",
       " {'label': 'NEGATIVE', 'score': 0.9667512774467468},\n",
       " {'label': 'POSITIVE', 'score': 0.9949061870574951},\n",
       " {'label': 'NEGATIVE', 'score': 0.9929885268211365},\n",
       " {'label': 'POSITIVE', 'score': 0.9993492960929871},\n",
       " {'label': 'NEGATIVE', 'score': 0.9917948842048645},\n",
       " {'label': 'NEGATIVE', 'score': 0.9619826674461365},\n",
       " {'label': 'NEGATIVE', 'score': 0.9993906021118164},\n",
       " {'label': 'NEGATIVE', 'score': 0.994879961013794},\n",
       " {'label': 'POSITIVE', 'score': 0.9559739232063293},\n",
       " {'label': 'NEGATIVE', 'score': 0.9645863175392151},\n",
       " {'label': 'NEGATIVE', 'score': 0.9953472018241882},\n",
       " {'label': 'NEGATIVE', 'score': 0.9840038418769836},\n",
       " {'label': 'NEGATIVE', 'score': 0.9603663682937622},\n",
       " {'label': 'POSITIVE', 'score': 0.9944025874137878},\n",
       " {'label': 'NEGATIVE', 'score': 0.9993464350700378},\n",
       " {'label': 'NEGATIVE', 'score': 0.9924325942993164},\n",
       " {'label': 'NEGATIVE', 'score': 0.6449007987976074},\n",
       " {'label': 'POSITIVE', 'score': 0.9167526960372925},\n",
       " {'label': 'POSITIVE', 'score': 0.9997617602348328},\n",
       " {'label': 'POSITIVE', 'score': 0.9998272061347961},\n",
       " {'label': 'POSITIVE', 'score': 0.9819933176040649},\n",
       " {'label': 'POSITIVE', 'score': 0.9943233728408813},\n",
       " {'label': 'NEGATIVE', 'score': 0.9426491260528564},\n",
       " {'label': 'POSITIVE', 'score': 0.9940620064735413},\n",
       " {'label': 'POSITIVE', 'score': 0.9919801950454712},\n",
       " {'label': 'POSITIVE', 'score': 0.9880746006965637},\n",
       " {'label': 'POSITIVE', 'score': 0.9949413537979126},\n",
       " {'label': 'POSITIVE', 'score': 0.9972518086433411},\n",
       " {'label': 'POSITIVE', 'score': 0.9376254677772522},\n",
       " {'label': 'POSITIVE', 'score': 0.9933004379272461},\n",
       " {'label': 'POSITIVE', 'score': 0.9921528697013855},\n",
       " {'label': 'NEGATIVE', 'score': 0.6328580379486084},\n",
       " {'label': 'POSITIVE', 'score': 0.9768316149711609},\n",
       " {'label': 'NEGATIVE', 'score': 0.8488074541091919},\n",
       " {'label': 'POSITIVE', 'score': 0.9924185276031494},\n",
       " {'label': 'POSITIVE', 'score': 0.8747762441635132},\n",
       " {'label': 'POSITIVE', 'score': 0.9931145310401917},\n",
       " {'label': 'POSITIVE', 'score': 0.7210522890090942},\n",
       " {'label': 'POSITIVE', 'score': 0.7959442734718323},\n",
       " {'label': 'POSITIVE', 'score': 0.9926769733428955},\n",
       " {'label': 'NEGATIVE', 'score': 0.9969692826271057},\n",
       " {'label': 'NEGATIVE', 'score': 0.9984956979751587},\n",
       " {'label': 'POSITIVE', 'score': 0.9955161213874817},\n",
       " {'label': 'POSITIVE', 'score': 0.9917905330657959},\n",
       " {'label': 'NEGATIVE', 'score': 0.9996532201766968},\n",
       " {'label': 'POSITIVE', 'score': 0.9140976071357727},\n",
       " {'label': 'NEGATIVE', 'score': 0.9997665286064148},\n",
       " {'label': 'NEGATIVE', 'score': 0.9980206489562988},\n",
       " {'label': 'POSITIVE', 'score': 0.9889527559280396},\n",
       " {'label': 'NEGATIVE', 'score': 0.9955867528915405},\n",
       " {'label': 'NEGATIVE', 'score': 0.999367892742157},\n",
       " {'label': 'NEGATIVE', 'score': 0.9953745007514954},\n",
       " {'label': 'NEGATIVE', 'score': 0.9873868823051453},\n",
       " {'label': 'POSITIVE', 'score': 0.9867795705795288},\n",
       " {'label': 'NEGATIVE', 'score': 0.9499377608299255},\n",
       " {'label': 'NEGATIVE', 'score': 0.9986490607261658},\n",
       " {'label': 'NEGATIVE', 'score': 0.9992671608924866},\n",
       " {'label': 'NEGATIVE', 'score': 0.9066954255104065},\n",
       " {'label': 'NEGATIVE', 'score': 0.9959489107131958},\n",
       " {'label': 'POSITIVE', 'score': 0.9942895174026489},\n",
       " {'label': 'NEGATIVE', 'score': 0.9642388224601746},\n",
       " {'label': 'NEGATIVE', 'score': 0.9977204203605652},\n",
       " {'label': 'NEGATIVE', 'score': 0.9994605183601379},\n",
       " {'label': 'NEGATIVE', 'score': 0.9969692826271057},\n",
       " {'label': 'NEGATIVE', 'score': 0.9924145340919495},\n",
       " {'label': 'POSITIVE', 'score': 0.9975497126579285},\n",
       " {'label': 'NEGATIVE', 'score': 0.9963899254798889},\n",
       " {'label': 'POSITIVE', 'score': 0.9998657703399658},\n",
       " {'label': 'POSITIVE', 'score': 0.9663615822792053},\n",
       " {'label': 'NEGATIVE', 'score': 0.9992018342018127},\n",
       " {'label': 'NEGATIVE', 'score': 0.867790162563324},\n",
       " {'label': 'POSITIVE', 'score': 0.870235025882721},\n",
       " {'label': 'NEGATIVE', 'score': 0.9990265369415283},\n",
       " {'label': 'POSITIVE', 'score': 0.9987238049507141},\n",
       " {'label': 'NEGATIVE', 'score': 0.9981387853622437},\n",
       " {'label': 'POSITIVE', 'score': 0.9997950196266174},\n",
       " {'label': 'NEGATIVE', 'score': 0.9991346001625061},\n",
       " {'label': 'NEGATIVE', 'score': 0.9983213543891907},\n",
       " {'label': 'NEGATIVE', 'score': 0.9654595851898193},\n",
       " {'label': 'NEGATIVE', 'score': 0.6970568299293518},\n",
       " {'label': 'NEGATIVE', 'score': 0.9940614104270935},\n",
       " {'label': 'NEGATIVE', 'score': 0.9943379759788513},\n",
       " {'label': 'NEGATIVE', 'score': 0.9980002045631409},\n",
       " {'label': 'POSITIVE', 'score': 0.9998587369918823},\n",
       " {'label': 'POSITIVE', 'score': 0.9881366491317749},\n",
       " {'label': 'NEGATIVE', 'score': 0.9981196522712708},\n",
       " {'label': 'POSITIVE', 'score': 0.9988678693771362},\n",
       " {'label': 'NEGATIVE', 'score': 0.9801152944564819},\n",
       " {'label': 'NEGATIVE', 'score': 0.9989925026893616},\n",
       " {'label': 'NEGATIVE', 'score': 0.9977107048034668},\n",
       " {'label': 'NEGATIVE', 'score': 0.9997357726097107},\n",
       " {'label': 'POSITIVE', 'score': 0.7473198771476746},\n",
       " {'label': 'NEGATIVE', 'score': 0.9882910847663879},\n",
       " {'label': 'POSITIVE', 'score': 0.9998472929000854},\n",
       " {'label': 'NEGATIVE', 'score': 0.999087929725647},\n",
       " {'label': 'NEGATIVE', 'score': 0.9726219773292542},\n",
       " {'label': 'NEGATIVE', 'score': 0.9875609278678894},\n",
       " {'label': 'NEGATIVE', 'score': 0.9972353577613831},\n",
       " {'label': 'NEGATIVE', 'score': 0.9731655120849609},\n",
       " {'label': 'NEGATIVE', 'score': 0.9960675239562988},\n",
       " {'label': 'POSITIVE', 'score': 0.89180588722229},\n",
       " {'label': 'NEGATIVE', 'score': 0.9989534616470337},\n",
       " {'label': 'NEGATIVE', 'score': 0.9962897300720215},\n",
       " {'label': 'POSITIVE', 'score': 0.9984317421913147},\n",
       " {'label': 'NEGATIVE', 'score': 0.9953745007514954},\n",
       " {'label': 'NEGATIVE', 'score': 0.9969692826271057},\n",
       " {'label': 'POSITIVE', 'score': 0.9699567556381226},\n",
       " {'label': 'NEGATIVE', 'score': 0.943818211555481},\n",
       " {'label': 'NEGATIVE', 'score': 0.9971083998680115},\n",
       " {'label': 'POSITIVE', 'score': 0.9746031165122986},\n",
       " {'label': 'NEGATIVE', 'score': 0.9966152310371399},\n",
       " {'label': 'NEGATIVE', 'score': 0.9100987911224365},\n",
       " {'label': 'NEGATIVE', 'score': 0.9989362359046936},\n",
       " {'label': 'NEGATIVE', 'score': 0.9917541742324829},\n",
       " {'label': 'POSITIVE', 'score': 0.9669216275215149},\n",
       " {'label': 'POSITIVE', 'score': 0.990257978439331},\n",
       " {'label': 'NEGATIVE', 'score': 0.981878936290741},\n",
       " {'label': 'POSITIVE', 'score': 0.9997709393501282},\n",
       " {'label': 'POSITIVE', 'score': 0.99788898229599},\n",
       " {'label': 'POSITIVE', 'score': 0.9995107650756836},\n",
       " {'label': 'NEGATIVE', 'score': 0.9506353735923767},\n",
       " {'label': 'NEGATIVE', 'score': 0.9610939621925354},\n",
       " {'label': 'NEGATIVE', 'score': 0.9953745007514954},\n",
       " {'label': 'POSITIVE', 'score': 0.9958606362342834},\n",
       " {'label': 'NEGATIVE', 'score': 0.999138355255127},\n",
       " {'label': 'NEGATIVE', 'score': 0.9979076385498047},\n",
       " {'label': 'NEGATIVE', 'score': 0.9967723488807678},\n",
       " {'label': 'NEGATIVE', 'score': 0.9461129307746887},\n",
       " {'label': 'POSITIVE', 'score': 0.9576430916786194},\n",
       " {'label': 'POSITIVE', 'score': 0.998688280582428},\n",
       " {'label': 'POSITIVE', 'score': 0.9727197885513306},\n",
       " {'label': 'NEGATIVE', 'score': 0.9663623571395874},\n",
       " {'label': 'NEGATIVE', 'score': 0.9353199601173401},\n",
       " {'label': 'NEGATIVE', 'score': 0.9883113503456116},\n",
       " {'label': 'NEGATIVE', 'score': 0.9991161227226257},\n",
       " {'label': 'POSITIVE', 'score': 0.556580126285553},\n",
       " {'label': 'NEGATIVE', 'score': 0.9290755987167358},\n",
       " {'label': 'POSITIVE', 'score': 0.998649537563324},\n",
       " {'label': 'POSITIVE', 'score': 0.9996100068092346},\n",
       " {'label': 'POSITIVE', 'score': 0.9988614320755005},\n",
       " {'label': 'NEGATIVE', 'score': 0.9947018027305603},\n",
       " {'label': 'NEGATIVE', 'score': 0.9595664739608765},\n",
       " {'label': 'NEGATIVE', 'score': 0.9993941783905029},\n",
       " {'label': 'NEGATIVE', 'score': 0.9963952898979187},\n",
       " {'label': 'NEGATIVE', 'score': 0.9885329008102417},\n",
       " {'label': 'NEGATIVE', 'score': 0.9779886603355408},\n",
       " {'label': 'NEGATIVE', 'score': 0.9989996552467346},\n",
       " {'label': 'POSITIVE', 'score': 0.5469580888748169},\n",
       " {'label': 'NEGATIVE', 'score': 0.999043881893158},\n",
       " {'label': 'POSITIVE', 'score': 0.8138212561607361},\n",
       " {'label': 'POSITIVE', 'score': 0.9242140054702759},\n",
       " {'label': 'NEGATIVE', 'score': 0.9674034714698792},\n",
       " {'label': 'NEGATIVE', 'score': 0.9967054724693298},\n",
       " {'label': 'NEGATIVE', 'score': 0.9933441877365112},\n",
       " {'label': 'POSITIVE', 'score': 0.999157190322876},\n",
       " {'label': 'NEGATIVE', 'score': 0.6970568299293518},\n",
       " {'label': 'POSITIVE', 'score': 0.988063633441925},\n",
       " {'label': 'NEGATIVE', 'score': 0.9434171915054321},\n",
       " {'label': 'POSITIVE', 'score': 0.9639926552772522},\n",
       " {'label': 'POSITIVE', 'score': 0.9876129031181335},\n",
       " {'label': 'NEGATIVE', 'score': 0.9922637939453125},\n",
       " {'label': 'NEGATIVE', 'score': 0.9960898160934448},\n",
       " {'label': 'NEGATIVE', 'score': 0.987068772315979},\n",
       " {'label': 'NEGATIVE', 'score': 0.8775696158409119},\n",
       " {'label': 'POSITIVE', 'score': 0.9957960844039917},\n",
       " {'label': 'NEGATIVE', 'score': 0.9981138706207275},\n",
       " {'label': 'NEGATIVE', 'score': 0.9900916814804077},\n",
       " {'label': 'POSITIVE', 'score': 0.9910902976989746},\n",
       " {'label': 'POSITIVE', 'score': 0.981558620929718},\n",
       " {'label': 'POSITIVE', 'score': 0.9987314343452454},\n",
       " {'label': 'POSITIVE', 'score': 0.9969636797904968},\n",
       " {'label': 'NEGATIVE', 'score': 0.9953615069389343},\n",
       " {'label': 'POSITIVE', 'score': 0.9758034944534302},\n",
       " {'label': 'NEGATIVE', 'score': 0.996366024017334},\n",
       " {'label': 'NEGATIVE', 'score': 0.9995712637901306},\n",
       " {'label': 'NEGATIVE', 'score': 0.9969692826271057},\n",
       " {'label': 'POSITIVE', 'score': 0.9985737800598145},\n",
       " {'label': 'NEGATIVE', 'score': 0.9959932565689087},\n",
       " {'label': 'NEGATIVE', 'score': 0.9238634705543518},\n",
       " {'label': 'NEGATIVE', 'score': 0.9468149542808533},\n",
       " {'label': 'POSITIVE', 'score': 0.9992043375968933},\n",
       " {'label': 'POSITIVE', 'score': 0.9995784163475037},\n",
       " {'label': 'POSITIVE', 'score': 0.7739736437797546},\n",
       " {'label': 'POSITIVE', 'score': 0.9805444478988647},\n",
       " {'label': 'NEGATIVE', 'score': 0.9885795712471008},\n",
       " {'label': 'NEGATIVE', 'score': 0.9887307286262512},\n",
       " {'label': 'POSITIVE', 'score': 0.9998106360435486},\n",
       " {'label': 'NEGATIVE', 'score': 0.9958738684654236},\n",
       " {'label': 'POSITIVE', 'score': 0.9996806383132935},\n",
       " {'label': 'POSITIVE', 'score': 0.9998220801353455},\n",
       " {'label': 'POSITIVE', 'score': 0.9988775849342346},\n",
       " {'label': 'POSITIVE', 'score': 0.9996258020401001},\n",
       " {'label': 'POSITIVE', 'score': 0.9747533202171326},\n",
       " {'label': 'POSITIVE', 'score': 0.9997931122779846},\n",
       " {'label': 'POSITIVE', 'score': 0.8728321194648743},\n",
       " {'label': 'NEGATIVE', 'score': 0.9317713379859924},\n",
       " {'label': 'POSITIVE', 'score': 0.9996465444564819},\n",
       " {'label': 'NEGATIVE', 'score': 0.9793384671211243},\n",
       " {'label': 'NEGATIVE', 'score': 0.998193085193634},\n",
       " {'label': 'POSITIVE', 'score': 0.9828431010246277},\n",
       " {'label': 'NEGATIVE', 'score': 0.6212610006332397},\n",
       " {'label': 'POSITIVE', 'score': 0.7925655245780945},\n",
       " {'label': 'POSITIVE', 'score': 0.8248125910758972},\n",
       " {'label': 'NEGATIVE', 'score': 0.9140711426734924},\n",
       " {'label': 'POSITIVE', 'score': 0.9970294237136841},\n",
       " {'label': 'NEGATIVE', 'score': 0.9164553284645081},\n",
       " {'label': 'NEGATIVE', 'score': 0.9969692826271057},\n",
       " {'label': 'NEGATIVE', 'score': 0.9916410446166992},\n",
       " {'label': 'POSITIVE', 'score': 0.6888970732688904},\n",
       " {'label': 'NEGATIVE', 'score': 0.6970568299293518},\n",
       " {'label': 'POSITIVE', 'score': 0.9989783763885498},\n",
       " {'label': 'NEGATIVE', 'score': 0.9980393052101135},\n",
       " {'label': 'POSITIVE', 'score': 0.9997195601463318},\n",
       " {'label': 'NEGATIVE', 'score': 0.9953745007514954},\n",
       " {'label': 'POSITIVE', 'score': 0.9983394145965576},\n",
       " {'label': 'POSITIVE', 'score': 0.5583139061927795},\n",
       " {'label': 'NEGATIVE', 'score': 0.9953745007514954},\n",
       " {'label': 'NEGATIVE', 'score': 0.9978717565536499},\n",
       " {'label': 'POSITIVE', 'score': 0.9800383448600769},\n",
       " {'label': 'POSITIVE', 'score': 0.9453798532485962},\n",
       " {'label': 'POSITIVE', 'score': 0.7372544407844543},\n",
       " {'label': 'NEGATIVE', 'score': 0.9986670017242432},\n",
       " {'label': 'NEGATIVE', 'score': 0.9094480872154236},\n",
       " {'label': 'POSITIVE', 'score': 0.9958517551422119},\n",
       " {'label': 'NEGATIVE', 'score': 0.993415355682373},\n",
       " {'label': 'POSITIVE', 'score': 0.804355800151825},\n",
       " {'label': 'NEGATIVE', 'score': 0.9501315355300903},\n",
       " {'label': 'POSITIVE', 'score': 0.968465268611908},\n",
       " {'label': 'NEGATIVE', 'score': 0.5982248783111572},\n",
       " {'label': 'NEGATIVE', 'score': 0.9953745007514954},\n",
       " {'label': 'POSITIVE', 'score': 0.8332709074020386},\n",
       " {'label': 'POSITIVE', 'score': 0.9979078769683838},\n",
       " {'label': 'NEGATIVE', 'score': 0.9979423880577087},\n",
       " {'label': 'NEGATIVE', 'score': 0.9994158744812012},\n",
       " {'label': 'POSITIVE', 'score': 0.9728249311447144},\n",
       " {'label': 'NEGATIVE', 'score': 0.9994922876358032},\n",
       " {'label': 'POSITIVE', 'score': 0.9978457689285278},\n",
       " {'label': 'POSITIVE', 'score': 0.9937959909439087},\n",
       " {'label': 'NEGATIVE', 'score': 0.9960761666297913},\n",
       " {'label': 'NEGATIVE', 'score': 0.9953745007514954},\n",
       " {'label': 'NEGATIVE', 'score': 0.9988732933998108},\n",
       " {'label': 'POSITIVE', 'score': 0.9735225439071655},\n",
       " {'label': 'POSITIVE', 'score': 0.9690226316452026},\n",
       " {'label': 'NEGATIVE', 'score': 0.9385182857513428},\n",
       " {'label': 'POSITIVE', 'score': 0.9998668432235718},\n",
       " {'label': 'NEGATIVE', 'score': 0.9888167381286621},\n",
       " {'label': 'NEGATIVE', 'score': 0.9997336268424988},\n",
       " {'label': 'POSITIVE', 'score': 0.9983616471290588},\n",
       " {'label': 'POSITIVE', 'score': 0.9928674697875977},\n",
       " {'label': 'POSITIVE', 'score': 0.8154023289680481},\n",
       " {'label': 'POSITIVE', 'score': 0.8892912864685059},\n",
       " {'label': 'POSITIVE', 'score': 0.5748302936553955},\n",
       " {'label': 'NEGATIVE', 'score': 0.5974868535995483},\n",
       " {'label': 'NEGATIVE', 'score': 0.9638288021087646},\n",
       " {'label': 'POSITIVE', 'score': 0.9312213659286499},\n",
       " {'label': 'POSITIVE', 'score': 0.838794469833374},\n",
       " {'label': 'NEGATIVE', 'score': 0.6100018620491028},\n",
       " {'label': 'POSITIVE', 'score': 0.9890810251235962},\n",
       " {'label': 'POSITIVE', 'score': 0.9811121821403503},\n",
       " {'label': 'NEGATIVE', 'score': 0.9967748522758484},\n",
       " {'label': 'NEGATIVE', 'score': 0.632719874382019},\n",
       " {'label': 'NEGATIVE', 'score': 0.9953745007514954},\n",
       " {'label': 'NEGATIVE', 'score': 0.972126305103302},\n",
       " {'label': 'POSITIVE', 'score': 0.9312213659286499},\n",
       " {'label': 'POSITIVE', 'score': 0.7269561290740967},\n",
       " {'label': 'POSITIVE', 'score': 0.9991650581359863},\n",
       " {'label': 'NEGATIVE', 'score': 0.9968229532241821},\n",
       " {'label': 'NEGATIVE', 'score': 0.9157555103302002},\n",
       " {'label': 'POSITIVE', 'score': 0.9998699426651001},\n",
       " {'label': 'NEGATIVE', 'score': 0.9919478297233582},\n",
       " {'label': 'NEGATIVE', 'score': 0.9851024150848389},\n",
       " {'label': 'NEGATIVE', 'score': 0.958819568157196},\n",
       " {'label': 'POSITIVE', 'score': 0.9993584752082825},\n",
       " {'label': 'POSITIVE', 'score': 0.9816215634346008},\n",
       " {'label': 'NEGATIVE', 'score': 0.979199230670929},\n",
       " {'label': 'POSITIVE', 'score': 0.9779303073883057},\n",
       " {'label': 'POSITIVE', 'score': 0.8374402523040771},\n",
       " {'label': 'NEGATIVE', 'score': 0.9878093004226685},\n",
       " {'label': 'NEGATIVE', 'score': 0.9905654191970825},\n",
       " {'label': 'POSITIVE', 'score': 0.8895495533943176},\n",
       " {'label': 'NEGATIVE', 'score': 0.9934868812561035},\n",
       " {'label': 'NEGATIVE', 'score': 0.7520389556884766},\n",
       " {'label': 'NEGATIVE', 'score': 0.9996127486228943},\n",
       " {'label': 'NEGATIVE', 'score': 0.9931514263153076},\n",
       " {'label': 'NEGATIVE', 'score': 0.8784745335578918},\n",
       " {'label': 'NEGATIVE', 'score': 0.995868444442749},\n",
       " {'label': 'POSITIVE', 'score': 0.9684211015701294},\n",
       " {'label': 'POSITIVE', 'score': 0.9996875524520874},\n",
       " {'label': 'POSITIVE', 'score': 0.9987024068832397},\n",
       " {'label': 'POSITIVE', 'score': 0.9998648166656494},\n",
       " {'label': 'POSITIVE', 'score': 0.5671300292015076},\n",
       " {'label': 'NEGATIVE', 'score': 0.9982411861419678},\n",
       " {'label': 'POSITIVE', 'score': 0.937265932559967},\n",
       " {'label': 'NEGATIVE', 'score': 0.9953745007514954},\n",
       " {'label': 'NEGATIVE', 'score': 0.8238591551780701},\n",
       " {'label': 'NEGATIVE', 'score': 0.9953745007514954},\n",
       " {'label': 'NEGATIVE', 'score': 0.9953745007514954},\n",
       " {'label': 'NEGATIVE', 'score': 0.5072904825210571},\n",
       " {'label': 'POSITIVE', 'score': 0.9997567534446716},\n",
       " {'label': 'POSITIVE', 'score': 0.9987980127334595},\n",
       " {'label': 'NEGATIVE', 'score': 0.9959145188331604},\n",
       " {'label': 'POSITIVE', 'score': 0.9140976071357727},\n",
       " {'label': 'NEGATIVE', 'score': 0.9956904053688049},\n",
       " {'label': 'POSITIVE', 'score': 0.9998784065246582},\n",
       " {'label': 'POSITIVE', 'score': 0.9966505169868469},\n",
       " {'label': 'NEGATIVE', 'score': 0.9989227652549744},\n",
       " {'label': 'POSITIVE', 'score': 0.9911227226257324},\n",
       " {'label': 'POSITIVE', 'score': 0.9989124536514282},\n",
       " {'label': 'POSITIVE', 'score': 0.9997747540473938},\n",
       " {'label': 'POSITIVE', 'score': 0.9355987310409546},\n",
       " {'label': 'NEGATIVE', 'score': 0.9955909252166748},\n",
       " {'label': 'NEGATIVE', 'score': 0.9912885427474976},\n",
       " {'label': 'POSITIVE', 'score': 0.9959713816642761},\n",
       " {'label': 'POSITIVE', 'score': 0.9972137808799744},\n",
       " {'label': 'POSITIVE', 'score': 0.9988641738891602},\n",
       " {'label': 'POSITIVE', 'score': 0.9995655417442322},\n",
       " {'label': 'NEGATIVE', 'score': 0.9951281547546387},\n",
       " {'label': 'POSITIVE', 'score': 0.9703029990196228},\n",
       " {'label': 'NEGATIVE', 'score': 0.9995717406272888},\n",
       " {'label': 'NEGATIVE', 'score': 0.9993876218795776},\n",
       " {'label': 'POSITIVE', 'score': 0.9995429515838623},\n",
       " {'label': 'NEGATIVE', 'score': 0.9956728219985962},\n",
       " {'label': 'POSITIVE', 'score': 0.9928401708602905},\n",
       " {'label': 'POSITIVE', 'score': 0.9998526573181152},\n",
       " {'label': 'NEGATIVE', 'score': 0.9989644289016724},\n",
       " {'label': 'POSITIVE', 'score': 0.870235025882721},\n",
       " {'label': 'NEGATIVE', 'score': 0.9517409801483154},\n",
       " {'label': 'NEGATIVE', 'score': 0.9694815874099731},\n",
       " {'label': 'NEGATIVE', 'score': 0.9673867225646973},\n",
       " {'label': 'POSITIVE', 'score': 0.89180588722229},\n",
       " {'label': 'NEGATIVE', 'score': 0.6771813035011292},\n",
       " {'label': 'POSITIVE', 'score': 0.9998080134391785},\n",
       " {'label': 'NEGATIVE', 'score': 0.6970568299293518},\n",
       " {'label': 'NEGATIVE', 'score': 0.9982713460922241},\n",
       " {'label': 'NEGATIVE', 'score': 0.9936122298240662},\n",
       " {'label': 'NEGATIVE', 'score': 0.9966961145401001},\n",
       " {'label': 'NEGATIVE', 'score': 0.9982267022132874},\n",
       " {'label': 'POSITIVE', 'score': 0.996161699295044},\n",
       " {'label': 'NEGATIVE', 'score': 0.9875820875167847},\n",
       " {'label': 'NEGATIVE', 'score': 0.9410427212715149},\n",
       " {'label': 'NEGATIVE', 'score': 0.9995361566543579},\n",
       " {'label': 'NEGATIVE', 'score': 0.9995361566543579},\n",
       " {'label': 'POSITIVE', 'score': 0.9832319021224976},\n",
       " {'label': 'POSITIVE', 'score': 0.5875388383865356},\n",
       " {'label': 'POSITIVE', 'score': 0.997368574142456},\n",
       " {'label': 'POSITIVE', 'score': 0.9986881613731384},\n",
       " {'label': 'POSITIVE', 'score': 0.9260008335113525},\n",
       " {'label': 'POSITIVE', 'score': 0.99570232629776},\n",
       " {'label': 'NEGATIVE', 'score': 0.9607961177825928},\n",
       " {'label': 'NEGATIVE', 'score': 0.9972307085990906},\n",
       " {'label': 'NEGATIVE', 'score': 0.9599096179008484},\n",
       " {'label': 'NEGATIVE', 'score': 0.9947492480278015},\n",
       " {'label': 'POSITIVE', 'score': 0.9982284903526306},\n",
       " {'label': 'NEGATIVE', 'score': 0.9924267530441284},\n",
       " {'label': 'NEGATIVE', 'score': 0.9967864751815796},\n",
       " {'label': 'NEGATIVE', 'score': 0.8903034329414368},\n",
       " {'label': 'NEGATIVE', 'score': 0.9993059635162354},\n",
       " {'label': 'NEGATIVE', 'score': 0.9620547890663147},\n",
       " {'label': 'NEGATIVE', 'score': 0.9941960573196411},\n",
       " {'label': 'NEGATIVE', 'score': 0.9753731489181519},\n",
       " {'label': 'NEGATIVE', 'score': 0.9931820034980774},\n",
       " {'label': 'NEGATIVE', 'score': 0.9964575171470642},\n",
       " {'label': 'NEGATIVE', 'score': 0.9988904595375061},\n",
       " {'label': 'NEGATIVE', 'score': 0.6568123698234558},\n",
       " ...]"
      ]
     },
     "execution_count": 117,
     "metadata": {},
     "output_type": "execute_result"
    }
   ],
   "source": [
    "mask = dt_data['sender'] == dt_data['sender'].value_counts().index[0]\n",
    "messages = dt_data[mask]['message']\n",
    "sentiments = sent_pipeline(messages.tolist())\n",
    "sentiments"
   ]
  },
  {
   "cell_type": "code",
   "execution_count": null,
   "metadata": {},
   "outputs": [],
   "source": [
    "avr_sentiments = []\n",
    "for i in range(0, len(sentiments)):\n",
    "    avr_sentiments.append(sentiments[i]['label'])\n",
    "\n",
    "avr_sentiments = pd.DataFrame(avr_sentiments)\n",
    "avr_sentiments['sender'] = dt_data['sender'].value_counts().index[0]"
   ]
  }
 ],
 "metadata": {
  "kernelspec": {
   "display_name": "pda-ie",
   "language": "python",
   "name": "python3"
  },
  "language_info": {
   "codemirror_mode": {
    "name": "ipython",
    "version": 3
   },
   "file_extension": ".py",
   "mimetype": "text/x-python",
   "name": "python",
   "nbconvert_exporter": "python",
   "pygments_lexer": "ipython3",
   "version": "3.11.7"
  }
 },
 "nbformat": 4,
 "nbformat_minor": 2
}
