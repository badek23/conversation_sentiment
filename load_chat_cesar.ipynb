{
 "cells": [
  {
   "cell_type": "markdown",
   "metadata": {},
   "source": [
    "## Import Libraries"
   ]
  },
  {
   "cell_type": "code",
   "execution_count": 495,
   "metadata": {},
   "outputs": [
    {
     "name": "stderr",
     "output_type": "stream",
     "text": [
      "[nltk_data] Downloading package vader_lexicon to\n",
      "[nltk_data]     /Users/cesargarcia/nltk_data...\n",
      "[nltk_data]   Package vader_lexicon is already up-to-date!\n",
      "[nltk_data] Downloading package stopwords to\n",
      "[nltk_data]     /Users/cesargarcia/nltk_data...\n",
      "[nltk_data]   Package stopwords is already up-to-date!\n",
      "[nltk_data] Downloading package wordnet to\n",
      "[nltk_data]     /Users/cesargarcia/nltk_data...\n",
      "[nltk_data]   Package wordnet is already up-to-date!\n"
     ]
    }
   ],
   "source": [
    "import pandas as pd\n",
    "import plotly.express as px\n",
    "import plotly.graph_objects as go\n",
    "\n",
    "import emoji\n",
    "import re\n",
    "\n",
    "from transformers import pipeline\n",
    "import nltk\n",
    "nltk.download('vader_lexicon')\n",
    "nltk.download('stopwords')\n",
    "nltk.download('wordnet')\n",
    "from nltk.corpus import stopwords\n",
    "from nltk.sentiment.vader import SentimentIntensityAnalyzer"
   ]
  },
  {
   "cell_type": "markdown",
   "metadata": {},
   "source": [
    "## Load Data"
   ]
  },
  {
   "cell_type": "code",
   "execution_count": 496,
   "metadata": {},
   "outputs": [
    {
     "name": "stdout",
     "output_type": "stream",
     "text": [
      "<class 'pandas.core.frame.DataFrame'>\n",
      "RangeIndex: 3968 entries, 0 to 3967\n",
      "Data columns (total 1 columns):\n",
      " #   Column  Non-Null Count  Dtype \n",
      "---  ------  --------------  ----- \n",
      " 0   0       3968 non-null   object\n",
      "dtypes: object(1)\n",
      "memory usage: 31.1+ KB\n"
     ]
    }
   ],
   "source": [
    "with open('data/headchopper.txt') as f:\n",
    "    data = f.read()\n",
    "\n",
    "data = data.split('\\n')\n",
    "data = pd.DataFrame(data)\n",
    "data.info()"
   ]
  },
  {
   "cell_type": "code",
   "execution_count": 497,
   "metadata": {},
   "outputs": [],
   "source": [
    "# Sample the last 500 rows\n",
    "#data = data.sample(500)\n",
    "#data = data.iloc[-500:]\n",
    "#data.head()"
   ]
  },
  {
   "cell_type": "markdown",
   "metadata": {},
   "source": [
    "## Clean Data"
   ]
  },
  {
   "cell_type": "code",
   "execution_count": 498,
   "metadata": {},
   "outputs": [],
   "source": [
    "cleaned_data = data.copy()"
   ]
  },
  {
   "cell_type": "code",
   "execution_count": 499,
   "metadata": {},
   "outputs": [],
   "source": [
    "# If it starts with [U+200E], remove the row\n",
    "ltr_mark = '\\u200e'\n",
    "location_str = f'{ltr_mark}Location'\n",
    "voice_call_str = f'{ltr_mark}Voice'\n",
    "missed_call_str = f'{ltr_mark}Missed'\n",
    "deleted_str = f'{ltr_mark}This message was deleted'\n",
    "\n",
    "filtered_data = data[\n",
    "    ~data.iloc[:, 0].str.startswith(ltr_mark) &\n",
    "    ~data.iloc[:, 0].str.contains(location_str) &\n",
    "    ~data.iloc[:, 0].str.contains(voice_call_str) &\n",
    "    ~data.iloc[:, 0].str.contains(missed_call_str) &\n",
    "    ~data.iloc[:, 0].str.contains(deleted_str)\n",
    "]\n",
    "cleaned_data = filtered_data.reset_index(drop=True)"
   ]
  },
  {
   "cell_type": "code",
   "execution_count": 500,
   "metadata": {},
   "outputs": [],
   "source": [
    "# Aggregate messages that span multiple lines\n",
    "aggregated_messages = []\n",
    "current_message = \"\"\n",
    "\n",
    "for i in range(len(cleaned_data)):\n",
    "    line = cleaned_data.iloc[i].values[0]\n",
    "    if line.startswith('['):  # Detects the start of a new message\n",
    "        if current_message:\n",
    "            aggregated_messages.append(current_message)\n",
    "        current_message = line\n",
    "    else:  # Continuation of the previous message\n",
    "        current_message += ' ' + line\n",
    "\n",
    "# Don't forget to append the last message\n",
    "if current_message:\n",
    "    aggregated_messages.append(current_message)\n",
    "\n",
    "# Convert the list back to a DataFrame\n",
    "cleaned_data = pd.DataFrame(aggregated_messages, columns=[data.columns[0]])\n"
   ]
  },
  {
   "cell_type": "code",
   "execution_count": 501,
   "metadata": {},
   "outputs": [],
   "source": [
    "# truncate messages that are too long\n",
    "for i in range(0, len(cleaned_data)):\n",
    "    message = cleaned_data.iloc[i].values[0]\n",
    "    if len(message) > 500:\n",
    "        #print(message[:500])\n",
    "        cleaned_data.iloc[i] = message[:500]"
   ]
  },
  {
   "cell_type": "code",
   "execution_count": 502,
   "metadata": {},
   "outputs": [
    {
     "data": {
      "text/plain": [
       "3602"
      ]
     },
     "execution_count": 502,
     "metadata": {},
     "output_type": "execute_result"
    }
   ],
   "source": [
    "# total number of messages\n",
    "len(cleaned_data)"
   ]
  },
  {
   "cell_type": "code",
   "execution_count": 503,
   "metadata": {},
   "outputs": [],
   "source": [
    "# Save as CSV\n",
    "cleaned_data.to_csv('cleaned_file.csv', index=False, header=False)"
   ]
  },
  {
   "cell_type": "markdown",
   "metadata": {},
   "source": [
    "## Feature Engineering"
   ]
  },
  {
   "cell_type": "markdown",
   "metadata": {},
   "source": [
    "### Dates"
   ]
  },
  {
   "cell_type": "code",
   "execution_count": 504,
   "metadata": {},
   "outputs": [],
   "source": [
    "sp_data = cleaned_data.copy()\n",
    "sp_data['date'] = sp_data[0].str.extract(r'\\[(\\d+/\\d+/\\d+, \\d+:\\d+:\\d+)\\]')\n",
    "sp_data['date'] = pd.to_datetime(sp_data['date'], format=\"%m/%d/%y, %H:%M:%S\")\n",
    "sp_data['day'] = sp_data['date'].dt.date.astype('str')\n",
    "sp_data['hour'] = sp_data['date'].dt.hour\n",
    "sp_data['day_of_week'] = sp_data['date'].dt.day_name()\n",
    "\n",
    "#sp_data.head()"
   ]
  },
  {
   "cell_type": "markdown",
   "metadata": {},
   "source": [
    "### Messages"
   ]
  },
  {
   "cell_type": "code",
   "execution_count": 505,
   "metadata": {},
   "outputs": [],
   "source": [
    "dt_data = sp_data.copy()\n",
    "dt_data['sender'] = sp_data[0].str.extract(r'\\[\\d+/\\d+/\\d+, \\d+:\\d+:\\d+\\] ([a-zA-z]+):.*')\n",
    "dt_data['message'] = sp_data[0].str.extract(r'\\[\\d+/\\d+/\\d+, \\d+:\\d+:\\d+\\] [a-zA-z]+:(.*)')\n",
    "dt_data['sender'] = dt_data['sender'].str.strip()\n",
    "dt_data['message'] = dt_data['message'].str.strip()\n",
    "#dt_data.head(10)"
   ]
  },
  {
   "cell_type": "markdown",
   "metadata": {},
   "source": [
    "## Data Store\n"
   ]
  },
  {
   "cell_type": "code",
   "execution_count": 506,
   "metadata": {},
   "outputs": [],
   "source": [
    "ds_data = dt_data.drop(columns=0)\n",
    "#dt_data.head(10)"
   ]
  },
  {
   "cell_type": "markdown",
   "metadata": {},
   "source": [
    "# Data Exploration"
   ]
  },
  {
   "cell_type": "code",
   "execution_count": 507,
   "metadata": {},
   "outputs": [
    {
     "name": "stdout",
     "output_type": "stream",
     "text": [
      "<class 'pandas.core.frame.DataFrame'>\n",
      "RangeIndex: 3602 entries, 0 to 3601\n",
      "Data columns (total 6 columns):\n",
      " #   Column       Non-Null Count  Dtype         \n",
      "---  ------       --------------  -----         \n",
      " 0   date         3602 non-null   datetime64[ns]\n",
      " 1   day          3602 non-null   object        \n",
      " 2   hour         3602 non-null   int32         \n",
      " 3   day_of_week  3602 non-null   object        \n",
      " 4   sender       3602 non-null   object        \n",
      " 5   message      3602 non-null   object        \n",
      "dtypes: datetime64[ns](1), int32(1), object(4)\n",
      "memory usage: 154.9+ KB\n"
     ]
    }
   ],
   "source": [
    "ds_data.info()"
   ]
  },
  {
   "cell_type": "code",
   "execution_count": 508,
   "metadata": {},
   "outputs": [],
   "source": [
    "#filter the data so that it is only one user\n",
    "users = ds_data['sender'].unique()\n",
    "user1 = users[0]\n",
    "user2 = users[1]\n",
    "user1_data = ds_data[ds_data['sender'] == user1]\n",
    "user2_data = ds_data[ds_data['sender'] == user2]"
   ]
  },
  {
   "cell_type": "markdown",
   "metadata": {},
   "source": [
    "### Messages"
   ]
  },
  {
   "cell_type": "code",
   "execution_count": 299,
   "metadata": {},
   "outputs": [
    {
     "data": {
      "text/plain": [
       "sender\n",
       "Headchopper    1865\n",
       "Cesar          1753\n",
       "Name: count, dtype: int64"
      ]
     },
     "execution_count": 299,
     "metadata": {},
     "output_type": "execute_result"
    }
   ],
   "source": [
    "ds_data['sender'].value_counts()"
   ]
  },
  {
   "cell_type": "code",
   "execution_count": 300,
   "metadata": {},
   "outputs": [
    {
     "data": {
      "application/vnd.plotly.v1+json": {
       "config": {
        "plotlyServerURL": "https://plot.ly"
       },
       "data": [
        {
         "domain": {
          "x": [
           0,
           1
          ],
          "y": [
           0,
           1
          ]
         },
         "hovertemplate": "label=%{label}<br>value=%{value}<extra></extra>",
         "labels": [
          "Headchopper",
          "Cesar"
         ],
         "legendgroup": "",
         "name": "",
         "showlegend": true,
         "type": "pie",
         "values": [
          1865,
          1753
         ]
        }
       ],
       "layout": {
        "legend": {
         "tracegroupgap": 0
        },
        "template": {
         "data": {
          "bar": [
           {
            "error_x": {
             "color": "#2a3f5f"
            },
            "error_y": {
             "color": "#2a3f5f"
            },
            "marker": {
             "line": {
              "color": "#E5ECF6",
              "width": 0.5
             },
             "pattern": {
              "fillmode": "overlay",
              "size": 10,
              "solidity": 0.2
             }
            },
            "type": "bar"
           }
          ],
          "barpolar": [
           {
            "marker": {
             "line": {
              "color": "#E5ECF6",
              "width": 0.5
             },
             "pattern": {
              "fillmode": "overlay",
              "size": 10,
              "solidity": 0.2
             }
            },
            "type": "barpolar"
           }
          ],
          "carpet": [
           {
            "aaxis": {
             "endlinecolor": "#2a3f5f",
             "gridcolor": "white",
             "linecolor": "white",
             "minorgridcolor": "white",
             "startlinecolor": "#2a3f5f"
            },
            "baxis": {
             "endlinecolor": "#2a3f5f",
             "gridcolor": "white",
             "linecolor": "white",
             "minorgridcolor": "white",
             "startlinecolor": "#2a3f5f"
            },
            "type": "carpet"
           }
          ],
          "choropleth": [
           {
            "colorbar": {
             "outlinewidth": 0,
             "ticks": ""
            },
            "type": "choropleth"
           }
          ],
          "contour": [
           {
            "colorbar": {
             "outlinewidth": 0,
             "ticks": ""
            },
            "colorscale": [
             [
              0,
              "#0d0887"
             ],
             [
              0.1111111111111111,
              "#46039f"
             ],
             [
              0.2222222222222222,
              "#7201a8"
             ],
             [
              0.3333333333333333,
              "#9c179e"
             ],
             [
              0.4444444444444444,
              "#bd3786"
             ],
             [
              0.5555555555555556,
              "#d8576b"
             ],
             [
              0.6666666666666666,
              "#ed7953"
             ],
             [
              0.7777777777777778,
              "#fb9f3a"
             ],
             [
              0.8888888888888888,
              "#fdca26"
             ],
             [
              1,
              "#f0f921"
             ]
            ],
            "type": "contour"
           }
          ],
          "contourcarpet": [
           {
            "colorbar": {
             "outlinewidth": 0,
             "ticks": ""
            },
            "type": "contourcarpet"
           }
          ],
          "heatmap": [
           {
            "colorbar": {
             "outlinewidth": 0,
             "ticks": ""
            },
            "colorscale": [
             [
              0,
              "#0d0887"
             ],
             [
              0.1111111111111111,
              "#46039f"
             ],
             [
              0.2222222222222222,
              "#7201a8"
             ],
             [
              0.3333333333333333,
              "#9c179e"
             ],
             [
              0.4444444444444444,
              "#bd3786"
             ],
             [
              0.5555555555555556,
              "#d8576b"
             ],
             [
              0.6666666666666666,
              "#ed7953"
             ],
             [
              0.7777777777777778,
              "#fb9f3a"
             ],
             [
              0.8888888888888888,
              "#fdca26"
             ],
             [
              1,
              "#f0f921"
             ]
            ],
            "type": "heatmap"
           }
          ],
          "heatmapgl": [
           {
            "colorbar": {
             "outlinewidth": 0,
             "ticks": ""
            },
            "colorscale": [
             [
              0,
              "#0d0887"
             ],
             [
              0.1111111111111111,
              "#46039f"
             ],
             [
              0.2222222222222222,
              "#7201a8"
             ],
             [
              0.3333333333333333,
              "#9c179e"
             ],
             [
              0.4444444444444444,
              "#bd3786"
             ],
             [
              0.5555555555555556,
              "#d8576b"
             ],
             [
              0.6666666666666666,
              "#ed7953"
             ],
             [
              0.7777777777777778,
              "#fb9f3a"
             ],
             [
              0.8888888888888888,
              "#fdca26"
             ],
             [
              1,
              "#f0f921"
             ]
            ],
            "type": "heatmapgl"
           }
          ],
          "histogram": [
           {
            "marker": {
             "pattern": {
              "fillmode": "overlay",
              "size": 10,
              "solidity": 0.2
             }
            },
            "type": "histogram"
           }
          ],
          "histogram2d": [
           {
            "colorbar": {
             "outlinewidth": 0,
             "ticks": ""
            },
            "colorscale": [
             [
              0,
              "#0d0887"
             ],
             [
              0.1111111111111111,
              "#46039f"
             ],
             [
              0.2222222222222222,
              "#7201a8"
             ],
             [
              0.3333333333333333,
              "#9c179e"
             ],
             [
              0.4444444444444444,
              "#bd3786"
             ],
             [
              0.5555555555555556,
              "#d8576b"
             ],
             [
              0.6666666666666666,
              "#ed7953"
             ],
             [
              0.7777777777777778,
              "#fb9f3a"
             ],
             [
              0.8888888888888888,
              "#fdca26"
             ],
             [
              1,
              "#f0f921"
             ]
            ],
            "type": "histogram2d"
           }
          ],
          "histogram2dcontour": [
           {
            "colorbar": {
             "outlinewidth": 0,
             "ticks": ""
            },
            "colorscale": [
             [
              0,
              "#0d0887"
             ],
             [
              0.1111111111111111,
              "#46039f"
             ],
             [
              0.2222222222222222,
              "#7201a8"
             ],
             [
              0.3333333333333333,
              "#9c179e"
             ],
             [
              0.4444444444444444,
              "#bd3786"
             ],
             [
              0.5555555555555556,
              "#d8576b"
             ],
             [
              0.6666666666666666,
              "#ed7953"
             ],
             [
              0.7777777777777778,
              "#fb9f3a"
             ],
             [
              0.8888888888888888,
              "#fdca26"
             ],
             [
              1,
              "#f0f921"
             ]
            ],
            "type": "histogram2dcontour"
           }
          ],
          "mesh3d": [
           {
            "colorbar": {
             "outlinewidth": 0,
             "ticks": ""
            },
            "type": "mesh3d"
           }
          ],
          "parcoords": [
           {
            "line": {
             "colorbar": {
              "outlinewidth": 0,
              "ticks": ""
             }
            },
            "type": "parcoords"
           }
          ],
          "pie": [
           {
            "automargin": true,
            "type": "pie"
           }
          ],
          "scatter": [
           {
            "fillpattern": {
             "fillmode": "overlay",
             "size": 10,
             "solidity": 0.2
            },
            "type": "scatter"
           }
          ],
          "scatter3d": [
           {
            "line": {
             "colorbar": {
              "outlinewidth": 0,
              "ticks": ""
             }
            },
            "marker": {
             "colorbar": {
              "outlinewidth": 0,
              "ticks": ""
             }
            },
            "type": "scatter3d"
           }
          ],
          "scattercarpet": [
           {
            "marker": {
             "colorbar": {
              "outlinewidth": 0,
              "ticks": ""
             }
            },
            "type": "scattercarpet"
           }
          ],
          "scattergeo": [
           {
            "marker": {
             "colorbar": {
              "outlinewidth": 0,
              "ticks": ""
             }
            },
            "type": "scattergeo"
           }
          ],
          "scattergl": [
           {
            "marker": {
             "colorbar": {
              "outlinewidth": 0,
              "ticks": ""
             }
            },
            "type": "scattergl"
           }
          ],
          "scattermapbox": [
           {
            "marker": {
             "colorbar": {
              "outlinewidth": 0,
              "ticks": ""
             }
            },
            "type": "scattermapbox"
           }
          ],
          "scatterpolar": [
           {
            "marker": {
             "colorbar": {
              "outlinewidth": 0,
              "ticks": ""
             }
            },
            "type": "scatterpolar"
           }
          ],
          "scatterpolargl": [
           {
            "marker": {
             "colorbar": {
              "outlinewidth": 0,
              "ticks": ""
             }
            },
            "type": "scatterpolargl"
           }
          ],
          "scatterternary": [
           {
            "marker": {
             "colorbar": {
              "outlinewidth": 0,
              "ticks": ""
             }
            },
            "type": "scatterternary"
           }
          ],
          "surface": [
           {
            "colorbar": {
             "outlinewidth": 0,
             "ticks": ""
            },
            "colorscale": [
             [
              0,
              "#0d0887"
             ],
             [
              0.1111111111111111,
              "#46039f"
             ],
             [
              0.2222222222222222,
              "#7201a8"
             ],
             [
              0.3333333333333333,
              "#9c179e"
             ],
             [
              0.4444444444444444,
              "#bd3786"
             ],
             [
              0.5555555555555556,
              "#d8576b"
             ],
             [
              0.6666666666666666,
              "#ed7953"
             ],
             [
              0.7777777777777778,
              "#fb9f3a"
             ],
             [
              0.8888888888888888,
              "#fdca26"
             ],
             [
              1,
              "#f0f921"
             ]
            ],
            "type": "surface"
           }
          ],
          "table": [
           {
            "cells": {
             "fill": {
              "color": "#EBF0F8"
             },
             "line": {
              "color": "white"
             }
            },
            "header": {
             "fill": {
              "color": "#C8D4E3"
             },
             "line": {
              "color": "white"
             }
            },
            "type": "table"
           }
          ]
         },
         "layout": {
          "annotationdefaults": {
           "arrowcolor": "#2a3f5f",
           "arrowhead": 0,
           "arrowwidth": 1
          },
          "autotypenumbers": "strict",
          "coloraxis": {
           "colorbar": {
            "outlinewidth": 0,
            "ticks": ""
           }
          },
          "colorscale": {
           "diverging": [
            [
             0,
             "#8e0152"
            ],
            [
             0.1,
             "#c51b7d"
            ],
            [
             0.2,
             "#de77ae"
            ],
            [
             0.3,
             "#f1b6da"
            ],
            [
             0.4,
             "#fde0ef"
            ],
            [
             0.5,
             "#f7f7f7"
            ],
            [
             0.6,
             "#e6f5d0"
            ],
            [
             0.7,
             "#b8e186"
            ],
            [
             0.8,
             "#7fbc41"
            ],
            [
             0.9,
             "#4d9221"
            ],
            [
             1,
             "#276419"
            ]
           ],
           "sequential": [
            [
             0,
             "#0d0887"
            ],
            [
             0.1111111111111111,
             "#46039f"
            ],
            [
             0.2222222222222222,
             "#7201a8"
            ],
            [
             0.3333333333333333,
             "#9c179e"
            ],
            [
             0.4444444444444444,
             "#bd3786"
            ],
            [
             0.5555555555555556,
             "#d8576b"
            ],
            [
             0.6666666666666666,
             "#ed7953"
            ],
            [
             0.7777777777777778,
             "#fb9f3a"
            ],
            [
             0.8888888888888888,
             "#fdca26"
            ],
            [
             1,
             "#f0f921"
            ]
           ],
           "sequentialminus": [
            [
             0,
             "#0d0887"
            ],
            [
             0.1111111111111111,
             "#46039f"
            ],
            [
             0.2222222222222222,
             "#7201a8"
            ],
            [
             0.3333333333333333,
             "#9c179e"
            ],
            [
             0.4444444444444444,
             "#bd3786"
            ],
            [
             0.5555555555555556,
             "#d8576b"
            ],
            [
             0.6666666666666666,
             "#ed7953"
            ],
            [
             0.7777777777777778,
             "#fb9f3a"
            ],
            [
             0.8888888888888888,
             "#fdca26"
            ],
            [
             1,
             "#f0f921"
            ]
           ]
          },
          "colorway": [
           "#636efa",
           "#EF553B",
           "#00cc96",
           "#ab63fa",
           "#FFA15A",
           "#19d3f3",
           "#FF6692",
           "#B6E880",
           "#FF97FF",
           "#FECB52"
          ],
          "font": {
           "color": "#2a3f5f"
          },
          "geo": {
           "bgcolor": "white",
           "lakecolor": "white",
           "landcolor": "#E5ECF6",
           "showlakes": true,
           "showland": true,
           "subunitcolor": "white"
          },
          "hoverlabel": {
           "align": "left"
          },
          "hovermode": "closest",
          "mapbox": {
           "style": "light"
          },
          "paper_bgcolor": "white",
          "plot_bgcolor": "#E5ECF6",
          "polar": {
           "angularaxis": {
            "gridcolor": "white",
            "linecolor": "white",
            "ticks": ""
           },
           "bgcolor": "#E5ECF6",
           "radialaxis": {
            "gridcolor": "white",
            "linecolor": "white",
            "ticks": ""
           }
          },
          "scene": {
           "xaxis": {
            "backgroundcolor": "#E5ECF6",
            "gridcolor": "white",
            "gridwidth": 2,
            "linecolor": "white",
            "showbackground": true,
            "ticks": "",
            "zerolinecolor": "white"
           },
           "yaxis": {
            "backgroundcolor": "#E5ECF6",
            "gridcolor": "white",
            "gridwidth": 2,
            "linecolor": "white",
            "showbackground": true,
            "ticks": "",
            "zerolinecolor": "white"
           },
           "zaxis": {
            "backgroundcolor": "#E5ECF6",
            "gridcolor": "white",
            "gridwidth": 2,
            "linecolor": "white",
            "showbackground": true,
            "ticks": "",
            "zerolinecolor": "white"
           }
          },
          "shapedefaults": {
           "line": {
            "color": "#2a3f5f"
           }
          },
          "ternary": {
           "aaxis": {
            "gridcolor": "white",
            "linecolor": "white",
            "ticks": ""
           },
           "baxis": {
            "gridcolor": "white",
            "linecolor": "white",
            "ticks": ""
           },
           "bgcolor": "#E5ECF6",
           "caxis": {
            "gridcolor": "white",
            "linecolor": "white",
            "ticks": ""
           }
          },
          "title": {
           "x": 0.05
          },
          "xaxis": {
           "automargin": true,
           "gridcolor": "white",
           "linecolor": "white",
           "ticks": "",
           "title": {
            "standoff": 15
           },
           "zerolinecolor": "white",
           "zerolinewidth": 2
          },
          "yaxis": {
           "automargin": true,
           "gridcolor": "white",
           "linecolor": "white",
           "ticks": "",
           "title": {
            "standoff": 15
           },
           "zerolinecolor": "white",
           "zerolinewidth": 2
          }
         }
        },
        "title": {
         "text": "Number of messages sent by each user"
        }
       }
      }
     },
     "metadata": {},
     "output_type": "display_data"
    }
   ],
   "source": [
    "top_10 = ds_data['sender'].value_counts()\n",
    "#plot a pie chart\n",
    "fig = px.pie(values=top_10, names=top_10.index, title='Number of messages sent by each user')\n",
    "fig.show()\n"
   ]
  },
  {
   "cell_type": "code",
   "execution_count": 301,
   "metadata": {},
   "outputs": [
    {
     "data": {
      "application/vnd.plotly.v1+json": {
       "config": {
        "plotlyServerURL": "https://plot.ly"
       },
       "data": [
        {
         "alignmentgroup": "True",
         "hovertemplate": "variable=count<br>date=%{x}<br>value=%{y}<extra></extra>",
         "legendgroup": "count",
         "marker": {
          "color": "#636efa",
          "pattern": {
           "shape": ""
          }
         },
         "name": "count",
         "offsetgroup": "count",
         "orientation": "v",
         "showlegend": true,
         "textposition": "auto",
         "type": "bar",
         "x": [
          "2024-05-07",
          "2024-05-12",
          "2024-05-06",
          "2023-12-15",
          "2024-05-13",
          "2024-05-09",
          "2024-02-06",
          "2024-01-21",
          "2024-04-08",
          "2024-02-05",
          "2024-04-12",
          "2023-12-16",
          "2024-01-29",
          "2024-04-22",
          "2024-01-22",
          "2024-05-08",
          "2024-01-12",
          "2024-02-23",
          "2024-03-30",
          "2024-02-11",
          "2024-01-24",
          "2023-11-29",
          "2024-04-16",
          "2024-04-29",
          "2023-12-26",
          "2023-10-23",
          "2024-05-10",
          "2024-02-10",
          "2024-04-17",
          "2024-04-30",
          "2024-01-23",
          "2024-01-28",
          "2024-04-05",
          "2024-03-28",
          "2023-12-11",
          "2024-04-06",
          "2024-05-11",
          "2024-01-14",
          "2023-11-19",
          "2023-12-31",
          "2024-02-15",
          "2024-05-14",
          "2023-12-27",
          "2024-02-19",
          "2023-11-30",
          "2024-01-16",
          "2024-03-20",
          "2023-11-01",
          "2024-01-15",
          "2024-03-21",
          "2024-02-27",
          "2024-04-01",
          "2024-01-25",
          "2024-01-27",
          "2023-12-19",
          "2024-01-17",
          "2024-04-04",
          "2024-01-10",
          "2024-04-03",
          "2024-03-09",
          "2024-04-19",
          "2024-02-08",
          "2024-01-31",
          "2024-03-11",
          "2023-10-22",
          "2024-03-03",
          "2023-11-21",
          "2024-01-30",
          "2024-04-15",
          "2024-04-11",
          "2024-04-02",
          "2023-12-30",
          "2024-02-26",
          "2023-12-17",
          "2024-04-25",
          "2024-01-26",
          "2024-02-17",
          "2024-02-21",
          "2024-01-18",
          "2023-09-11",
          "2024-04-23",
          "2024-05-05",
          "2024-01-19",
          "2023-10-16",
          "2024-01-09",
          "2023-09-03",
          "2024-01-08",
          "2023-12-18",
          "2024-02-14",
          "2024-03-15",
          "2023-10-13",
          "2024-02-03",
          "2023-12-04",
          "2023-11-18",
          "2024-03-07",
          "2023-11-24",
          "2023-10-06",
          "2024-02-01",
          "2023-11-20",
          "2024-02-12",
          "2023-12-13",
          "2024-02-09",
          "2024-04-24",
          "2023-11-25",
          "2024-04-26",
          "2023-11-27",
          "2023-12-14",
          "2024-02-07",
          "2023-11-03",
          "2024-02-13",
          "2024-04-21",
          "2023-11-08",
          "2023-10-10",
          "2024-03-22",
          "2023-12-02",
          "2024-03-10",
          "2024-04-10",
          "2023-12-01",
          "2023-12-25",
          "2023-10-31",
          "2023-10-27",
          "2023-12-28",
          "2024-03-27",
          "2023-12-06",
          "2024-03-05",
          "2024-03-29"
         ],
         "xaxis": "x",
         "y": [
          317,
          226,
          134,
          133,
          127,
          118,
          107,
          106,
          102,
          85,
          84,
          78,
          77,
          70,
          67,
          59,
          56,
          48,
          44,
          44,
          42,
          41,
          40,
          39,
          34,
          34,
          32,
          32,
          32,
          30,
          30,
          30,
          29,
          28,
          28,
          28,
          28,
          28,
          27,
          27,
          26,
          26,
          25,
          25,
          25,
          23,
          23,
          23,
          22,
          22,
          21,
          21,
          21,
          21,
          20,
          20,
          20,
          19,
          19,
          18,
          16,
          15,
          15,
          14,
          14,
          13,
          13,
          13,
          12,
          12,
          12,
          11,
          11,
          10,
          10,
          10,
          10,
          10,
          10,
          9,
          9,
          9,
          9,
          9,
          9,
          8,
          8,
          8,
          8,
          7,
          7,
          7,
          7,
          7,
          7,
          6,
          6,
          6,
          6,
          6,
          5,
          5,
          5,
          5,
          5,
          4,
          4,
          4,
          3,
          3,
          3,
          3,
          2,
          2,
          2,
          2,
          2,
          1,
          1,
          1,
          1,
          1,
          1,
          1,
          1,
          1
         ],
         "yaxis": "y"
        }
       ],
       "layout": {
        "barmode": "relative",
        "legend": {
         "title": {
          "text": "variable"
         },
         "tracegroupgap": 0
        },
        "template": {
         "data": {
          "bar": [
           {
            "error_x": {
             "color": "#2a3f5f"
            },
            "error_y": {
             "color": "#2a3f5f"
            },
            "marker": {
             "line": {
              "color": "#E5ECF6",
              "width": 0.5
             },
             "pattern": {
              "fillmode": "overlay",
              "size": 10,
              "solidity": 0.2
             }
            },
            "type": "bar"
           }
          ],
          "barpolar": [
           {
            "marker": {
             "line": {
              "color": "#E5ECF6",
              "width": 0.5
             },
             "pattern": {
              "fillmode": "overlay",
              "size": 10,
              "solidity": 0.2
             }
            },
            "type": "barpolar"
           }
          ],
          "carpet": [
           {
            "aaxis": {
             "endlinecolor": "#2a3f5f",
             "gridcolor": "white",
             "linecolor": "white",
             "minorgridcolor": "white",
             "startlinecolor": "#2a3f5f"
            },
            "baxis": {
             "endlinecolor": "#2a3f5f",
             "gridcolor": "white",
             "linecolor": "white",
             "minorgridcolor": "white",
             "startlinecolor": "#2a3f5f"
            },
            "type": "carpet"
           }
          ],
          "choropleth": [
           {
            "colorbar": {
             "outlinewidth": 0,
             "ticks": ""
            },
            "type": "choropleth"
           }
          ],
          "contour": [
           {
            "colorbar": {
             "outlinewidth": 0,
             "ticks": ""
            },
            "colorscale": [
             [
              0,
              "#0d0887"
             ],
             [
              0.1111111111111111,
              "#46039f"
             ],
             [
              0.2222222222222222,
              "#7201a8"
             ],
             [
              0.3333333333333333,
              "#9c179e"
             ],
             [
              0.4444444444444444,
              "#bd3786"
             ],
             [
              0.5555555555555556,
              "#d8576b"
             ],
             [
              0.6666666666666666,
              "#ed7953"
             ],
             [
              0.7777777777777778,
              "#fb9f3a"
             ],
             [
              0.8888888888888888,
              "#fdca26"
             ],
             [
              1,
              "#f0f921"
             ]
            ],
            "type": "contour"
           }
          ],
          "contourcarpet": [
           {
            "colorbar": {
             "outlinewidth": 0,
             "ticks": ""
            },
            "type": "contourcarpet"
           }
          ],
          "heatmap": [
           {
            "colorbar": {
             "outlinewidth": 0,
             "ticks": ""
            },
            "colorscale": [
             [
              0,
              "#0d0887"
             ],
             [
              0.1111111111111111,
              "#46039f"
             ],
             [
              0.2222222222222222,
              "#7201a8"
             ],
             [
              0.3333333333333333,
              "#9c179e"
             ],
             [
              0.4444444444444444,
              "#bd3786"
             ],
             [
              0.5555555555555556,
              "#d8576b"
             ],
             [
              0.6666666666666666,
              "#ed7953"
             ],
             [
              0.7777777777777778,
              "#fb9f3a"
             ],
             [
              0.8888888888888888,
              "#fdca26"
             ],
             [
              1,
              "#f0f921"
             ]
            ],
            "type": "heatmap"
           }
          ],
          "heatmapgl": [
           {
            "colorbar": {
             "outlinewidth": 0,
             "ticks": ""
            },
            "colorscale": [
             [
              0,
              "#0d0887"
             ],
             [
              0.1111111111111111,
              "#46039f"
             ],
             [
              0.2222222222222222,
              "#7201a8"
             ],
             [
              0.3333333333333333,
              "#9c179e"
             ],
             [
              0.4444444444444444,
              "#bd3786"
             ],
             [
              0.5555555555555556,
              "#d8576b"
             ],
             [
              0.6666666666666666,
              "#ed7953"
             ],
             [
              0.7777777777777778,
              "#fb9f3a"
             ],
             [
              0.8888888888888888,
              "#fdca26"
             ],
             [
              1,
              "#f0f921"
             ]
            ],
            "type": "heatmapgl"
           }
          ],
          "histogram": [
           {
            "marker": {
             "pattern": {
              "fillmode": "overlay",
              "size": 10,
              "solidity": 0.2
             }
            },
            "type": "histogram"
           }
          ],
          "histogram2d": [
           {
            "colorbar": {
             "outlinewidth": 0,
             "ticks": ""
            },
            "colorscale": [
             [
              0,
              "#0d0887"
             ],
             [
              0.1111111111111111,
              "#46039f"
             ],
             [
              0.2222222222222222,
              "#7201a8"
             ],
             [
              0.3333333333333333,
              "#9c179e"
             ],
             [
              0.4444444444444444,
              "#bd3786"
             ],
             [
              0.5555555555555556,
              "#d8576b"
             ],
             [
              0.6666666666666666,
              "#ed7953"
             ],
             [
              0.7777777777777778,
              "#fb9f3a"
             ],
             [
              0.8888888888888888,
              "#fdca26"
             ],
             [
              1,
              "#f0f921"
             ]
            ],
            "type": "histogram2d"
           }
          ],
          "histogram2dcontour": [
           {
            "colorbar": {
             "outlinewidth": 0,
             "ticks": ""
            },
            "colorscale": [
             [
              0,
              "#0d0887"
             ],
             [
              0.1111111111111111,
              "#46039f"
             ],
             [
              0.2222222222222222,
              "#7201a8"
             ],
             [
              0.3333333333333333,
              "#9c179e"
             ],
             [
              0.4444444444444444,
              "#bd3786"
             ],
             [
              0.5555555555555556,
              "#d8576b"
             ],
             [
              0.6666666666666666,
              "#ed7953"
             ],
             [
              0.7777777777777778,
              "#fb9f3a"
             ],
             [
              0.8888888888888888,
              "#fdca26"
             ],
             [
              1,
              "#f0f921"
             ]
            ],
            "type": "histogram2dcontour"
           }
          ],
          "mesh3d": [
           {
            "colorbar": {
             "outlinewidth": 0,
             "ticks": ""
            },
            "type": "mesh3d"
           }
          ],
          "parcoords": [
           {
            "line": {
             "colorbar": {
              "outlinewidth": 0,
              "ticks": ""
             }
            },
            "type": "parcoords"
           }
          ],
          "pie": [
           {
            "automargin": true,
            "type": "pie"
           }
          ],
          "scatter": [
           {
            "fillpattern": {
             "fillmode": "overlay",
             "size": 10,
             "solidity": 0.2
            },
            "type": "scatter"
           }
          ],
          "scatter3d": [
           {
            "line": {
             "colorbar": {
              "outlinewidth": 0,
              "ticks": ""
             }
            },
            "marker": {
             "colorbar": {
              "outlinewidth": 0,
              "ticks": ""
             }
            },
            "type": "scatter3d"
           }
          ],
          "scattercarpet": [
           {
            "marker": {
             "colorbar": {
              "outlinewidth": 0,
              "ticks": ""
             }
            },
            "type": "scattercarpet"
           }
          ],
          "scattergeo": [
           {
            "marker": {
             "colorbar": {
              "outlinewidth": 0,
              "ticks": ""
             }
            },
            "type": "scattergeo"
           }
          ],
          "scattergl": [
           {
            "marker": {
             "colorbar": {
              "outlinewidth": 0,
              "ticks": ""
             }
            },
            "type": "scattergl"
           }
          ],
          "scattermapbox": [
           {
            "marker": {
             "colorbar": {
              "outlinewidth": 0,
              "ticks": ""
             }
            },
            "type": "scattermapbox"
           }
          ],
          "scatterpolar": [
           {
            "marker": {
             "colorbar": {
              "outlinewidth": 0,
              "ticks": ""
             }
            },
            "type": "scatterpolar"
           }
          ],
          "scatterpolargl": [
           {
            "marker": {
             "colorbar": {
              "outlinewidth": 0,
              "ticks": ""
             }
            },
            "type": "scatterpolargl"
           }
          ],
          "scatterternary": [
           {
            "marker": {
             "colorbar": {
              "outlinewidth": 0,
              "ticks": ""
             }
            },
            "type": "scatterternary"
           }
          ],
          "surface": [
           {
            "colorbar": {
             "outlinewidth": 0,
             "ticks": ""
            },
            "colorscale": [
             [
              0,
              "#0d0887"
             ],
             [
              0.1111111111111111,
              "#46039f"
             ],
             [
              0.2222222222222222,
              "#7201a8"
             ],
             [
              0.3333333333333333,
              "#9c179e"
             ],
             [
              0.4444444444444444,
              "#bd3786"
             ],
             [
              0.5555555555555556,
              "#d8576b"
             ],
             [
              0.6666666666666666,
              "#ed7953"
             ],
             [
              0.7777777777777778,
              "#fb9f3a"
             ],
             [
              0.8888888888888888,
              "#fdca26"
             ],
             [
              1,
              "#f0f921"
             ]
            ],
            "type": "surface"
           }
          ],
          "table": [
           {
            "cells": {
             "fill": {
              "color": "#EBF0F8"
             },
             "line": {
              "color": "white"
             }
            },
            "header": {
             "fill": {
              "color": "#C8D4E3"
             },
             "line": {
              "color": "white"
             }
            },
            "type": "table"
           }
          ]
         },
         "layout": {
          "annotationdefaults": {
           "arrowcolor": "#2a3f5f",
           "arrowhead": 0,
           "arrowwidth": 1
          },
          "autotypenumbers": "strict",
          "coloraxis": {
           "colorbar": {
            "outlinewidth": 0,
            "ticks": ""
           }
          },
          "colorscale": {
           "diverging": [
            [
             0,
             "#8e0152"
            ],
            [
             0.1,
             "#c51b7d"
            ],
            [
             0.2,
             "#de77ae"
            ],
            [
             0.3,
             "#f1b6da"
            ],
            [
             0.4,
             "#fde0ef"
            ],
            [
             0.5,
             "#f7f7f7"
            ],
            [
             0.6,
             "#e6f5d0"
            ],
            [
             0.7,
             "#b8e186"
            ],
            [
             0.8,
             "#7fbc41"
            ],
            [
             0.9,
             "#4d9221"
            ],
            [
             1,
             "#276419"
            ]
           ],
           "sequential": [
            [
             0,
             "#0d0887"
            ],
            [
             0.1111111111111111,
             "#46039f"
            ],
            [
             0.2222222222222222,
             "#7201a8"
            ],
            [
             0.3333333333333333,
             "#9c179e"
            ],
            [
             0.4444444444444444,
             "#bd3786"
            ],
            [
             0.5555555555555556,
             "#d8576b"
            ],
            [
             0.6666666666666666,
             "#ed7953"
            ],
            [
             0.7777777777777778,
             "#fb9f3a"
            ],
            [
             0.8888888888888888,
             "#fdca26"
            ],
            [
             1,
             "#f0f921"
            ]
           ],
           "sequentialminus": [
            [
             0,
             "#0d0887"
            ],
            [
             0.1111111111111111,
             "#46039f"
            ],
            [
             0.2222222222222222,
             "#7201a8"
            ],
            [
             0.3333333333333333,
             "#9c179e"
            ],
            [
             0.4444444444444444,
             "#bd3786"
            ],
            [
             0.5555555555555556,
             "#d8576b"
            ],
            [
             0.6666666666666666,
             "#ed7953"
            ],
            [
             0.7777777777777778,
             "#fb9f3a"
            ],
            [
             0.8888888888888888,
             "#fdca26"
            ],
            [
             1,
             "#f0f921"
            ]
           ]
          },
          "colorway": [
           "#636efa",
           "#EF553B",
           "#00cc96",
           "#ab63fa",
           "#FFA15A",
           "#19d3f3",
           "#FF6692",
           "#B6E880",
           "#FF97FF",
           "#FECB52"
          ],
          "font": {
           "color": "#2a3f5f"
          },
          "geo": {
           "bgcolor": "white",
           "lakecolor": "white",
           "landcolor": "#E5ECF6",
           "showlakes": true,
           "showland": true,
           "subunitcolor": "white"
          },
          "hoverlabel": {
           "align": "left"
          },
          "hovermode": "closest",
          "mapbox": {
           "style": "light"
          },
          "paper_bgcolor": "white",
          "plot_bgcolor": "#E5ECF6",
          "polar": {
           "angularaxis": {
            "gridcolor": "white",
            "linecolor": "white",
            "ticks": ""
           },
           "bgcolor": "#E5ECF6",
           "radialaxis": {
            "gridcolor": "white",
            "linecolor": "white",
            "ticks": ""
           }
          },
          "scene": {
           "xaxis": {
            "backgroundcolor": "#E5ECF6",
            "gridcolor": "white",
            "gridwidth": 2,
            "linecolor": "white",
            "showbackground": true,
            "ticks": "",
            "zerolinecolor": "white"
           },
           "yaxis": {
            "backgroundcolor": "#E5ECF6",
            "gridcolor": "white",
            "gridwidth": 2,
            "linecolor": "white",
            "showbackground": true,
            "ticks": "",
            "zerolinecolor": "white"
           },
           "zaxis": {
            "backgroundcolor": "#E5ECF6",
            "gridcolor": "white",
            "gridwidth": 2,
            "linecolor": "white",
            "showbackground": true,
            "ticks": "",
            "zerolinecolor": "white"
           }
          },
          "shapedefaults": {
           "line": {
            "color": "#2a3f5f"
           }
          },
          "ternary": {
           "aaxis": {
            "gridcolor": "white",
            "linecolor": "white",
            "ticks": ""
           },
           "baxis": {
            "gridcolor": "white",
            "linecolor": "white",
            "ticks": ""
           },
           "bgcolor": "#E5ECF6",
           "caxis": {
            "gridcolor": "white",
            "linecolor": "white",
            "ticks": ""
           }
          },
          "title": {
           "x": 0.05
          },
          "xaxis": {
           "automargin": true,
           "gridcolor": "white",
           "linecolor": "white",
           "ticks": "",
           "title": {
            "standoff": 15
           },
           "zerolinecolor": "white",
           "zerolinewidth": 2
          },
          "yaxis": {
           "automargin": true,
           "gridcolor": "white",
           "linecolor": "white",
           "ticks": "",
           "title": {
            "standoff": 15
           },
           "zerolinecolor": "white",
           "zerolinewidth": 2
          }
         }
        },
        "title": {
         "text": "Number of messages per day"
        },
        "xaxis": {
         "anchor": "y",
         "domain": [
          0,
          1
         ],
         "title": {
          "text": "Date"
         }
        },
        "yaxis": {
         "anchor": "x",
         "domain": [
          0,
          1
         ],
         "title": {
          "text": "Number of messages"
         }
        }
       }
      }
     },
     "metadata": {},
     "output_type": "display_data"
    }
   ],
   "source": [
    "#plot the date and time of the messages per day\n",
    "fig = px.bar(ds_data['date'].dt.date.value_counts(), title='Number of messages per day')\n",
    "fig.update_layout(xaxis_title='Date', yaxis_title='Number of messages')\n",
    "fig.show()\n"
   ]
  },
  {
   "cell_type": "code",
   "execution_count": 303,
   "metadata": {},
   "outputs": [
    {
     "data": {
      "application/vnd.plotly.v1+json": {
       "config": {
        "plotlyServerURL": "https://plot.ly"
       },
       "data": [
        {
         "alignmentgroup": "True",
         "hovertemplate": "variable=count<br>hour=%{x}<br>value=%{y}<extra></extra>",
         "legendgroup": "count",
         "marker": {
          "color": "#636efa",
          "pattern": {
           "shape": ""
          }
         },
         "name": "count",
         "offsetgroup": "count",
         "orientation": "v",
         "showlegend": true,
         "textposition": "auto",
         "type": "bar",
         "x": [
          11,
          21,
          18,
          13,
          23,
          17,
          15,
          20,
          12,
          16,
          14,
          22,
          10,
          0,
          19,
          9,
          1,
          8,
          2,
          5,
          4
         ],
         "xaxis": "x",
         "y": [
          308,
          291,
          281,
          273,
          271,
          263,
          247,
          224,
          222,
          215,
          212,
          201,
          173,
          161,
          143,
          55,
          47,
          16,
          10,
          3,
          2
         ],
         "yaxis": "y"
        }
       ],
       "layout": {
        "barmode": "relative",
        "legend": {
         "title": {
          "text": "variable"
         },
         "tracegroupgap": 0
        },
        "template": {
         "data": {
          "bar": [
           {
            "error_x": {
             "color": "#2a3f5f"
            },
            "error_y": {
             "color": "#2a3f5f"
            },
            "marker": {
             "line": {
              "color": "#E5ECF6",
              "width": 0.5
             },
             "pattern": {
              "fillmode": "overlay",
              "size": 10,
              "solidity": 0.2
             }
            },
            "type": "bar"
           }
          ],
          "barpolar": [
           {
            "marker": {
             "line": {
              "color": "#E5ECF6",
              "width": 0.5
             },
             "pattern": {
              "fillmode": "overlay",
              "size": 10,
              "solidity": 0.2
             }
            },
            "type": "barpolar"
           }
          ],
          "carpet": [
           {
            "aaxis": {
             "endlinecolor": "#2a3f5f",
             "gridcolor": "white",
             "linecolor": "white",
             "minorgridcolor": "white",
             "startlinecolor": "#2a3f5f"
            },
            "baxis": {
             "endlinecolor": "#2a3f5f",
             "gridcolor": "white",
             "linecolor": "white",
             "minorgridcolor": "white",
             "startlinecolor": "#2a3f5f"
            },
            "type": "carpet"
           }
          ],
          "choropleth": [
           {
            "colorbar": {
             "outlinewidth": 0,
             "ticks": ""
            },
            "type": "choropleth"
           }
          ],
          "contour": [
           {
            "colorbar": {
             "outlinewidth": 0,
             "ticks": ""
            },
            "colorscale": [
             [
              0,
              "#0d0887"
             ],
             [
              0.1111111111111111,
              "#46039f"
             ],
             [
              0.2222222222222222,
              "#7201a8"
             ],
             [
              0.3333333333333333,
              "#9c179e"
             ],
             [
              0.4444444444444444,
              "#bd3786"
             ],
             [
              0.5555555555555556,
              "#d8576b"
             ],
             [
              0.6666666666666666,
              "#ed7953"
             ],
             [
              0.7777777777777778,
              "#fb9f3a"
             ],
             [
              0.8888888888888888,
              "#fdca26"
             ],
             [
              1,
              "#f0f921"
             ]
            ],
            "type": "contour"
           }
          ],
          "contourcarpet": [
           {
            "colorbar": {
             "outlinewidth": 0,
             "ticks": ""
            },
            "type": "contourcarpet"
           }
          ],
          "heatmap": [
           {
            "colorbar": {
             "outlinewidth": 0,
             "ticks": ""
            },
            "colorscale": [
             [
              0,
              "#0d0887"
             ],
             [
              0.1111111111111111,
              "#46039f"
             ],
             [
              0.2222222222222222,
              "#7201a8"
             ],
             [
              0.3333333333333333,
              "#9c179e"
             ],
             [
              0.4444444444444444,
              "#bd3786"
             ],
             [
              0.5555555555555556,
              "#d8576b"
             ],
             [
              0.6666666666666666,
              "#ed7953"
             ],
             [
              0.7777777777777778,
              "#fb9f3a"
             ],
             [
              0.8888888888888888,
              "#fdca26"
             ],
             [
              1,
              "#f0f921"
             ]
            ],
            "type": "heatmap"
           }
          ],
          "heatmapgl": [
           {
            "colorbar": {
             "outlinewidth": 0,
             "ticks": ""
            },
            "colorscale": [
             [
              0,
              "#0d0887"
             ],
             [
              0.1111111111111111,
              "#46039f"
             ],
             [
              0.2222222222222222,
              "#7201a8"
             ],
             [
              0.3333333333333333,
              "#9c179e"
             ],
             [
              0.4444444444444444,
              "#bd3786"
             ],
             [
              0.5555555555555556,
              "#d8576b"
             ],
             [
              0.6666666666666666,
              "#ed7953"
             ],
             [
              0.7777777777777778,
              "#fb9f3a"
             ],
             [
              0.8888888888888888,
              "#fdca26"
             ],
             [
              1,
              "#f0f921"
             ]
            ],
            "type": "heatmapgl"
           }
          ],
          "histogram": [
           {
            "marker": {
             "pattern": {
              "fillmode": "overlay",
              "size": 10,
              "solidity": 0.2
             }
            },
            "type": "histogram"
           }
          ],
          "histogram2d": [
           {
            "colorbar": {
             "outlinewidth": 0,
             "ticks": ""
            },
            "colorscale": [
             [
              0,
              "#0d0887"
             ],
             [
              0.1111111111111111,
              "#46039f"
             ],
             [
              0.2222222222222222,
              "#7201a8"
             ],
             [
              0.3333333333333333,
              "#9c179e"
             ],
             [
              0.4444444444444444,
              "#bd3786"
             ],
             [
              0.5555555555555556,
              "#d8576b"
             ],
             [
              0.6666666666666666,
              "#ed7953"
             ],
             [
              0.7777777777777778,
              "#fb9f3a"
             ],
             [
              0.8888888888888888,
              "#fdca26"
             ],
             [
              1,
              "#f0f921"
             ]
            ],
            "type": "histogram2d"
           }
          ],
          "histogram2dcontour": [
           {
            "colorbar": {
             "outlinewidth": 0,
             "ticks": ""
            },
            "colorscale": [
             [
              0,
              "#0d0887"
             ],
             [
              0.1111111111111111,
              "#46039f"
             ],
             [
              0.2222222222222222,
              "#7201a8"
             ],
             [
              0.3333333333333333,
              "#9c179e"
             ],
             [
              0.4444444444444444,
              "#bd3786"
             ],
             [
              0.5555555555555556,
              "#d8576b"
             ],
             [
              0.6666666666666666,
              "#ed7953"
             ],
             [
              0.7777777777777778,
              "#fb9f3a"
             ],
             [
              0.8888888888888888,
              "#fdca26"
             ],
             [
              1,
              "#f0f921"
             ]
            ],
            "type": "histogram2dcontour"
           }
          ],
          "mesh3d": [
           {
            "colorbar": {
             "outlinewidth": 0,
             "ticks": ""
            },
            "type": "mesh3d"
           }
          ],
          "parcoords": [
           {
            "line": {
             "colorbar": {
              "outlinewidth": 0,
              "ticks": ""
             }
            },
            "type": "parcoords"
           }
          ],
          "pie": [
           {
            "automargin": true,
            "type": "pie"
           }
          ],
          "scatter": [
           {
            "fillpattern": {
             "fillmode": "overlay",
             "size": 10,
             "solidity": 0.2
            },
            "type": "scatter"
           }
          ],
          "scatter3d": [
           {
            "line": {
             "colorbar": {
              "outlinewidth": 0,
              "ticks": ""
             }
            },
            "marker": {
             "colorbar": {
              "outlinewidth": 0,
              "ticks": ""
             }
            },
            "type": "scatter3d"
           }
          ],
          "scattercarpet": [
           {
            "marker": {
             "colorbar": {
              "outlinewidth": 0,
              "ticks": ""
             }
            },
            "type": "scattercarpet"
           }
          ],
          "scattergeo": [
           {
            "marker": {
             "colorbar": {
              "outlinewidth": 0,
              "ticks": ""
             }
            },
            "type": "scattergeo"
           }
          ],
          "scattergl": [
           {
            "marker": {
             "colorbar": {
              "outlinewidth": 0,
              "ticks": ""
             }
            },
            "type": "scattergl"
           }
          ],
          "scattermapbox": [
           {
            "marker": {
             "colorbar": {
              "outlinewidth": 0,
              "ticks": ""
             }
            },
            "type": "scattermapbox"
           }
          ],
          "scatterpolar": [
           {
            "marker": {
             "colorbar": {
              "outlinewidth": 0,
              "ticks": ""
             }
            },
            "type": "scatterpolar"
           }
          ],
          "scatterpolargl": [
           {
            "marker": {
             "colorbar": {
              "outlinewidth": 0,
              "ticks": ""
             }
            },
            "type": "scatterpolargl"
           }
          ],
          "scatterternary": [
           {
            "marker": {
             "colorbar": {
              "outlinewidth": 0,
              "ticks": ""
             }
            },
            "type": "scatterternary"
           }
          ],
          "surface": [
           {
            "colorbar": {
             "outlinewidth": 0,
             "ticks": ""
            },
            "colorscale": [
             [
              0,
              "#0d0887"
             ],
             [
              0.1111111111111111,
              "#46039f"
             ],
             [
              0.2222222222222222,
              "#7201a8"
             ],
             [
              0.3333333333333333,
              "#9c179e"
             ],
             [
              0.4444444444444444,
              "#bd3786"
             ],
             [
              0.5555555555555556,
              "#d8576b"
             ],
             [
              0.6666666666666666,
              "#ed7953"
             ],
             [
              0.7777777777777778,
              "#fb9f3a"
             ],
             [
              0.8888888888888888,
              "#fdca26"
             ],
             [
              1,
              "#f0f921"
             ]
            ],
            "type": "surface"
           }
          ],
          "table": [
           {
            "cells": {
             "fill": {
              "color": "#EBF0F8"
             },
             "line": {
              "color": "white"
             }
            },
            "header": {
             "fill": {
              "color": "#C8D4E3"
             },
             "line": {
              "color": "white"
             }
            },
            "type": "table"
           }
          ]
         },
         "layout": {
          "annotationdefaults": {
           "arrowcolor": "#2a3f5f",
           "arrowhead": 0,
           "arrowwidth": 1
          },
          "autotypenumbers": "strict",
          "coloraxis": {
           "colorbar": {
            "outlinewidth": 0,
            "ticks": ""
           }
          },
          "colorscale": {
           "diverging": [
            [
             0,
             "#8e0152"
            ],
            [
             0.1,
             "#c51b7d"
            ],
            [
             0.2,
             "#de77ae"
            ],
            [
             0.3,
             "#f1b6da"
            ],
            [
             0.4,
             "#fde0ef"
            ],
            [
             0.5,
             "#f7f7f7"
            ],
            [
             0.6,
             "#e6f5d0"
            ],
            [
             0.7,
             "#b8e186"
            ],
            [
             0.8,
             "#7fbc41"
            ],
            [
             0.9,
             "#4d9221"
            ],
            [
             1,
             "#276419"
            ]
           ],
           "sequential": [
            [
             0,
             "#0d0887"
            ],
            [
             0.1111111111111111,
             "#46039f"
            ],
            [
             0.2222222222222222,
             "#7201a8"
            ],
            [
             0.3333333333333333,
             "#9c179e"
            ],
            [
             0.4444444444444444,
             "#bd3786"
            ],
            [
             0.5555555555555556,
             "#d8576b"
            ],
            [
             0.6666666666666666,
             "#ed7953"
            ],
            [
             0.7777777777777778,
             "#fb9f3a"
            ],
            [
             0.8888888888888888,
             "#fdca26"
            ],
            [
             1,
             "#f0f921"
            ]
           ],
           "sequentialminus": [
            [
             0,
             "#0d0887"
            ],
            [
             0.1111111111111111,
             "#46039f"
            ],
            [
             0.2222222222222222,
             "#7201a8"
            ],
            [
             0.3333333333333333,
             "#9c179e"
            ],
            [
             0.4444444444444444,
             "#bd3786"
            ],
            [
             0.5555555555555556,
             "#d8576b"
            ],
            [
             0.6666666666666666,
             "#ed7953"
            ],
            [
             0.7777777777777778,
             "#fb9f3a"
            ],
            [
             0.8888888888888888,
             "#fdca26"
            ],
            [
             1,
             "#f0f921"
            ]
           ]
          },
          "colorway": [
           "#636efa",
           "#EF553B",
           "#00cc96",
           "#ab63fa",
           "#FFA15A",
           "#19d3f3",
           "#FF6692",
           "#B6E880",
           "#FF97FF",
           "#FECB52"
          ],
          "font": {
           "color": "#2a3f5f"
          },
          "geo": {
           "bgcolor": "white",
           "lakecolor": "white",
           "landcolor": "#E5ECF6",
           "showlakes": true,
           "showland": true,
           "subunitcolor": "white"
          },
          "hoverlabel": {
           "align": "left"
          },
          "hovermode": "closest",
          "mapbox": {
           "style": "light"
          },
          "paper_bgcolor": "white",
          "plot_bgcolor": "#E5ECF6",
          "polar": {
           "angularaxis": {
            "gridcolor": "white",
            "linecolor": "white",
            "ticks": ""
           },
           "bgcolor": "#E5ECF6",
           "radialaxis": {
            "gridcolor": "white",
            "linecolor": "white",
            "ticks": ""
           }
          },
          "scene": {
           "xaxis": {
            "backgroundcolor": "#E5ECF6",
            "gridcolor": "white",
            "gridwidth": 2,
            "linecolor": "white",
            "showbackground": true,
            "ticks": "",
            "zerolinecolor": "white"
           },
           "yaxis": {
            "backgroundcolor": "#E5ECF6",
            "gridcolor": "white",
            "gridwidth": 2,
            "linecolor": "white",
            "showbackground": true,
            "ticks": "",
            "zerolinecolor": "white"
           },
           "zaxis": {
            "backgroundcolor": "#E5ECF6",
            "gridcolor": "white",
            "gridwidth": 2,
            "linecolor": "white",
            "showbackground": true,
            "ticks": "",
            "zerolinecolor": "white"
           }
          },
          "shapedefaults": {
           "line": {
            "color": "#2a3f5f"
           }
          },
          "ternary": {
           "aaxis": {
            "gridcolor": "white",
            "linecolor": "white",
            "ticks": ""
           },
           "baxis": {
            "gridcolor": "white",
            "linecolor": "white",
            "ticks": ""
           },
           "bgcolor": "#E5ECF6",
           "caxis": {
            "gridcolor": "white",
            "linecolor": "white",
            "ticks": ""
           }
          },
          "title": {
           "x": 0.05
          },
          "xaxis": {
           "automargin": true,
           "gridcolor": "white",
           "linecolor": "white",
           "ticks": "",
           "title": {
            "standoff": 15
           },
           "zerolinecolor": "white",
           "zerolinewidth": 2
          },
          "yaxis": {
           "automargin": true,
           "gridcolor": "white",
           "linecolor": "white",
           "ticks": "",
           "title": {
            "standoff": 15
           },
           "zerolinecolor": "white",
           "zerolinewidth": 2
          }
         }
        },
        "title": {
         "text": "Number of messages per hour"
        },
        "xaxis": {
         "anchor": "y",
         "domain": [
          0,
          1
         ],
         "title": {
          "text": "Hour"
         }
        },
        "yaxis": {
         "anchor": "x",
         "domain": [
          0,
          1
         ],
         "title": {
          "text": "Number of messages"
         }
        }
       }
      }
     },
     "metadata": {},
     "output_type": "display_data"
    }
   ],
   "source": [
    "#plot the number of messages per hour\n",
    "fig = px.bar(ds_data['hour'].value_counts(), title='Number of messages per hour')\n",
    "fig.update_layout(xaxis_title='Hour', yaxis_title='Number of messages')\n",
    "fig.show()"
   ]
  },
  {
   "cell_type": "code",
   "execution_count": 327,
   "metadata": {},
   "outputs": [
    {
     "data": {
      "application/vnd.plotly.v1+json": {
       "config": {
        "plotlyServerURL": "https://plot.ly"
       },
       "data": [
        {
         "alignmentgroup": "True",
         "hovertemplate": "variable=count<br>day_of_week=%{x}<br>value=%{y}<extra></extra>",
         "legendgroup": "count",
         "marker": {
          "color": "#636efa",
          "pattern": {
           "shape": ""
          }
         },
         "name": "count",
         "offsetgroup": "count",
         "orientation": "v",
         "showlegend": true,
         "textposition": "auto",
         "type": "bar",
         "x": [
          "Monday",
          "Tuesday",
          "Sunday",
          "Friday",
          "Wednesday",
          "Thursday",
          "Saturday"
         ],
         "xaxis": "x",
         "y": [
          926,
          711,
          547,
          461,
          357,
          325,
          291
         ],
         "yaxis": "y"
        }
       ],
       "layout": {
        "barmode": "relative",
        "legend": {
         "title": {
          "text": "variable"
         },
         "tracegroupgap": 0
        },
        "template": {
         "data": {
          "bar": [
           {
            "error_x": {
             "color": "#2a3f5f"
            },
            "error_y": {
             "color": "#2a3f5f"
            },
            "marker": {
             "line": {
              "color": "#E5ECF6",
              "width": 0.5
             },
             "pattern": {
              "fillmode": "overlay",
              "size": 10,
              "solidity": 0.2
             }
            },
            "type": "bar"
           }
          ],
          "barpolar": [
           {
            "marker": {
             "line": {
              "color": "#E5ECF6",
              "width": 0.5
             },
             "pattern": {
              "fillmode": "overlay",
              "size": 10,
              "solidity": 0.2
             }
            },
            "type": "barpolar"
           }
          ],
          "carpet": [
           {
            "aaxis": {
             "endlinecolor": "#2a3f5f",
             "gridcolor": "white",
             "linecolor": "white",
             "minorgridcolor": "white",
             "startlinecolor": "#2a3f5f"
            },
            "baxis": {
             "endlinecolor": "#2a3f5f",
             "gridcolor": "white",
             "linecolor": "white",
             "minorgridcolor": "white",
             "startlinecolor": "#2a3f5f"
            },
            "type": "carpet"
           }
          ],
          "choropleth": [
           {
            "colorbar": {
             "outlinewidth": 0,
             "ticks": ""
            },
            "type": "choropleth"
           }
          ],
          "contour": [
           {
            "colorbar": {
             "outlinewidth": 0,
             "ticks": ""
            },
            "colorscale": [
             [
              0,
              "#0d0887"
             ],
             [
              0.1111111111111111,
              "#46039f"
             ],
             [
              0.2222222222222222,
              "#7201a8"
             ],
             [
              0.3333333333333333,
              "#9c179e"
             ],
             [
              0.4444444444444444,
              "#bd3786"
             ],
             [
              0.5555555555555556,
              "#d8576b"
             ],
             [
              0.6666666666666666,
              "#ed7953"
             ],
             [
              0.7777777777777778,
              "#fb9f3a"
             ],
             [
              0.8888888888888888,
              "#fdca26"
             ],
             [
              1,
              "#f0f921"
             ]
            ],
            "type": "contour"
           }
          ],
          "contourcarpet": [
           {
            "colorbar": {
             "outlinewidth": 0,
             "ticks": ""
            },
            "type": "contourcarpet"
           }
          ],
          "heatmap": [
           {
            "colorbar": {
             "outlinewidth": 0,
             "ticks": ""
            },
            "colorscale": [
             [
              0,
              "#0d0887"
             ],
             [
              0.1111111111111111,
              "#46039f"
             ],
             [
              0.2222222222222222,
              "#7201a8"
             ],
             [
              0.3333333333333333,
              "#9c179e"
             ],
             [
              0.4444444444444444,
              "#bd3786"
             ],
             [
              0.5555555555555556,
              "#d8576b"
             ],
             [
              0.6666666666666666,
              "#ed7953"
             ],
             [
              0.7777777777777778,
              "#fb9f3a"
             ],
             [
              0.8888888888888888,
              "#fdca26"
             ],
             [
              1,
              "#f0f921"
             ]
            ],
            "type": "heatmap"
           }
          ],
          "heatmapgl": [
           {
            "colorbar": {
             "outlinewidth": 0,
             "ticks": ""
            },
            "colorscale": [
             [
              0,
              "#0d0887"
             ],
             [
              0.1111111111111111,
              "#46039f"
             ],
             [
              0.2222222222222222,
              "#7201a8"
             ],
             [
              0.3333333333333333,
              "#9c179e"
             ],
             [
              0.4444444444444444,
              "#bd3786"
             ],
             [
              0.5555555555555556,
              "#d8576b"
             ],
             [
              0.6666666666666666,
              "#ed7953"
             ],
             [
              0.7777777777777778,
              "#fb9f3a"
             ],
             [
              0.8888888888888888,
              "#fdca26"
             ],
             [
              1,
              "#f0f921"
             ]
            ],
            "type": "heatmapgl"
           }
          ],
          "histogram": [
           {
            "marker": {
             "pattern": {
              "fillmode": "overlay",
              "size": 10,
              "solidity": 0.2
             }
            },
            "type": "histogram"
           }
          ],
          "histogram2d": [
           {
            "colorbar": {
             "outlinewidth": 0,
             "ticks": ""
            },
            "colorscale": [
             [
              0,
              "#0d0887"
             ],
             [
              0.1111111111111111,
              "#46039f"
             ],
             [
              0.2222222222222222,
              "#7201a8"
             ],
             [
              0.3333333333333333,
              "#9c179e"
             ],
             [
              0.4444444444444444,
              "#bd3786"
             ],
             [
              0.5555555555555556,
              "#d8576b"
             ],
             [
              0.6666666666666666,
              "#ed7953"
             ],
             [
              0.7777777777777778,
              "#fb9f3a"
             ],
             [
              0.8888888888888888,
              "#fdca26"
             ],
             [
              1,
              "#f0f921"
             ]
            ],
            "type": "histogram2d"
           }
          ],
          "histogram2dcontour": [
           {
            "colorbar": {
             "outlinewidth": 0,
             "ticks": ""
            },
            "colorscale": [
             [
              0,
              "#0d0887"
             ],
             [
              0.1111111111111111,
              "#46039f"
             ],
             [
              0.2222222222222222,
              "#7201a8"
             ],
             [
              0.3333333333333333,
              "#9c179e"
             ],
             [
              0.4444444444444444,
              "#bd3786"
             ],
             [
              0.5555555555555556,
              "#d8576b"
             ],
             [
              0.6666666666666666,
              "#ed7953"
             ],
             [
              0.7777777777777778,
              "#fb9f3a"
             ],
             [
              0.8888888888888888,
              "#fdca26"
             ],
             [
              1,
              "#f0f921"
             ]
            ],
            "type": "histogram2dcontour"
           }
          ],
          "mesh3d": [
           {
            "colorbar": {
             "outlinewidth": 0,
             "ticks": ""
            },
            "type": "mesh3d"
           }
          ],
          "parcoords": [
           {
            "line": {
             "colorbar": {
              "outlinewidth": 0,
              "ticks": ""
             }
            },
            "type": "parcoords"
           }
          ],
          "pie": [
           {
            "automargin": true,
            "type": "pie"
           }
          ],
          "scatter": [
           {
            "fillpattern": {
             "fillmode": "overlay",
             "size": 10,
             "solidity": 0.2
            },
            "type": "scatter"
           }
          ],
          "scatter3d": [
           {
            "line": {
             "colorbar": {
              "outlinewidth": 0,
              "ticks": ""
             }
            },
            "marker": {
             "colorbar": {
              "outlinewidth": 0,
              "ticks": ""
             }
            },
            "type": "scatter3d"
           }
          ],
          "scattercarpet": [
           {
            "marker": {
             "colorbar": {
              "outlinewidth": 0,
              "ticks": ""
             }
            },
            "type": "scattercarpet"
           }
          ],
          "scattergeo": [
           {
            "marker": {
             "colorbar": {
              "outlinewidth": 0,
              "ticks": ""
             }
            },
            "type": "scattergeo"
           }
          ],
          "scattergl": [
           {
            "marker": {
             "colorbar": {
              "outlinewidth": 0,
              "ticks": ""
             }
            },
            "type": "scattergl"
           }
          ],
          "scattermapbox": [
           {
            "marker": {
             "colorbar": {
              "outlinewidth": 0,
              "ticks": ""
             }
            },
            "type": "scattermapbox"
           }
          ],
          "scatterpolar": [
           {
            "marker": {
             "colorbar": {
              "outlinewidth": 0,
              "ticks": ""
             }
            },
            "type": "scatterpolar"
           }
          ],
          "scatterpolargl": [
           {
            "marker": {
             "colorbar": {
              "outlinewidth": 0,
              "ticks": ""
             }
            },
            "type": "scatterpolargl"
           }
          ],
          "scatterternary": [
           {
            "marker": {
             "colorbar": {
              "outlinewidth": 0,
              "ticks": ""
             }
            },
            "type": "scatterternary"
           }
          ],
          "surface": [
           {
            "colorbar": {
             "outlinewidth": 0,
             "ticks": ""
            },
            "colorscale": [
             [
              0,
              "#0d0887"
             ],
             [
              0.1111111111111111,
              "#46039f"
             ],
             [
              0.2222222222222222,
              "#7201a8"
             ],
             [
              0.3333333333333333,
              "#9c179e"
             ],
             [
              0.4444444444444444,
              "#bd3786"
             ],
             [
              0.5555555555555556,
              "#d8576b"
             ],
             [
              0.6666666666666666,
              "#ed7953"
             ],
             [
              0.7777777777777778,
              "#fb9f3a"
             ],
             [
              0.8888888888888888,
              "#fdca26"
             ],
             [
              1,
              "#f0f921"
             ]
            ],
            "type": "surface"
           }
          ],
          "table": [
           {
            "cells": {
             "fill": {
              "color": "#EBF0F8"
             },
             "line": {
              "color": "white"
             }
            },
            "header": {
             "fill": {
              "color": "#C8D4E3"
             },
             "line": {
              "color": "white"
             }
            },
            "type": "table"
           }
          ]
         },
         "layout": {
          "annotationdefaults": {
           "arrowcolor": "#2a3f5f",
           "arrowhead": 0,
           "arrowwidth": 1
          },
          "autotypenumbers": "strict",
          "coloraxis": {
           "colorbar": {
            "outlinewidth": 0,
            "ticks": ""
           }
          },
          "colorscale": {
           "diverging": [
            [
             0,
             "#8e0152"
            ],
            [
             0.1,
             "#c51b7d"
            ],
            [
             0.2,
             "#de77ae"
            ],
            [
             0.3,
             "#f1b6da"
            ],
            [
             0.4,
             "#fde0ef"
            ],
            [
             0.5,
             "#f7f7f7"
            ],
            [
             0.6,
             "#e6f5d0"
            ],
            [
             0.7,
             "#b8e186"
            ],
            [
             0.8,
             "#7fbc41"
            ],
            [
             0.9,
             "#4d9221"
            ],
            [
             1,
             "#276419"
            ]
           ],
           "sequential": [
            [
             0,
             "#0d0887"
            ],
            [
             0.1111111111111111,
             "#46039f"
            ],
            [
             0.2222222222222222,
             "#7201a8"
            ],
            [
             0.3333333333333333,
             "#9c179e"
            ],
            [
             0.4444444444444444,
             "#bd3786"
            ],
            [
             0.5555555555555556,
             "#d8576b"
            ],
            [
             0.6666666666666666,
             "#ed7953"
            ],
            [
             0.7777777777777778,
             "#fb9f3a"
            ],
            [
             0.8888888888888888,
             "#fdca26"
            ],
            [
             1,
             "#f0f921"
            ]
           ],
           "sequentialminus": [
            [
             0,
             "#0d0887"
            ],
            [
             0.1111111111111111,
             "#46039f"
            ],
            [
             0.2222222222222222,
             "#7201a8"
            ],
            [
             0.3333333333333333,
             "#9c179e"
            ],
            [
             0.4444444444444444,
             "#bd3786"
            ],
            [
             0.5555555555555556,
             "#d8576b"
            ],
            [
             0.6666666666666666,
             "#ed7953"
            ],
            [
             0.7777777777777778,
             "#fb9f3a"
            ],
            [
             0.8888888888888888,
             "#fdca26"
            ],
            [
             1,
             "#f0f921"
            ]
           ]
          },
          "colorway": [
           "#636efa",
           "#EF553B",
           "#00cc96",
           "#ab63fa",
           "#FFA15A",
           "#19d3f3",
           "#FF6692",
           "#B6E880",
           "#FF97FF",
           "#FECB52"
          ],
          "font": {
           "color": "#2a3f5f"
          },
          "geo": {
           "bgcolor": "white",
           "lakecolor": "white",
           "landcolor": "#E5ECF6",
           "showlakes": true,
           "showland": true,
           "subunitcolor": "white"
          },
          "hoverlabel": {
           "align": "left"
          },
          "hovermode": "closest",
          "mapbox": {
           "style": "light"
          },
          "paper_bgcolor": "white",
          "plot_bgcolor": "#E5ECF6",
          "polar": {
           "angularaxis": {
            "gridcolor": "white",
            "linecolor": "white",
            "ticks": ""
           },
           "bgcolor": "#E5ECF6",
           "radialaxis": {
            "gridcolor": "white",
            "linecolor": "white",
            "ticks": ""
           }
          },
          "scene": {
           "xaxis": {
            "backgroundcolor": "#E5ECF6",
            "gridcolor": "white",
            "gridwidth": 2,
            "linecolor": "white",
            "showbackground": true,
            "ticks": "",
            "zerolinecolor": "white"
           },
           "yaxis": {
            "backgroundcolor": "#E5ECF6",
            "gridcolor": "white",
            "gridwidth": 2,
            "linecolor": "white",
            "showbackground": true,
            "ticks": "",
            "zerolinecolor": "white"
           },
           "zaxis": {
            "backgroundcolor": "#E5ECF6",
            "gridcolor": "white",
            "gridwidth": 2,
            "linecolor": "white",
            "showbackground": true,
            "ticks": "",
            "zerolinecolor": "white"
           }
          },
          "shapedefaults": {
           "line": {
            "color": "#2a3f5f"
           }
          },
          "ternary": {
           "aaxis": {
            "gridcolor": "white",
            "linecolor": "white",
            "ticks": ""
           },
           "baxis": {
            "gridcolor": "white",
            "linecolor": "white",
            "ticks": ""
           },
           "bgcolor": "#E5ECF6",
           "caxis": {
            "gridcolor": "white",
            "linecolor": "white",
            "ticks": ""
           }
          },
          "title": {
           "x": 0.05
          },
          "xaxis": {
           "automargin": true,
           "gridcolor": "white",
           "linecolor": "white",
           "ticks": "",
           "title": {
            "standoff": 15
           },
           "zerolinecolor": "white",
           "zerolinewidth": 2
          },
          "yaxis": {
           "automargin": true,
           "gridcolor": "white",
           "linecolor": "white",
           "ticks": "",
           "title": {
            "standoff": 15
           },
           "zerolinecolor": "white",
           "zerolinewidth": 2
          }
         }
        },
        "title": {
         "text": "Number of messages per day of the week"
        },
        "xaxis": {
         "anchor": "y",
         "categoryarray": [
          "Monday",
          "Tuesday",
          "Wednesday",
          "Thursday",
          "Friday",
          "Saturday",
          "Sunday"
         ],
         "categoryorder": "array",
         "domain": [
          0,
          1
         ],
         "title": {
          "text": "Day of the week"
         }
        },
        "yaxis": {
         "anchor": "x",
         "domain": [
          0,
          1
         ],
         "title": {
          "text": "Number of messages"
         }
        }
       }
      }
     },
     "metadata": {},
     "output_type": "display_data"
    }
   ],
   "source": [
    "# Plot number of messages per day of the week\n",
    "fig = px.bar(ds_data['day_of_week'].value_counts(), title='Number of messages per day of the week')\n",
    "fig.update_layout(xaxis_title='Day of the week', yaxis_title='Number of messages')\n",
    "fig.update_xaxes(categoryorder='array', categoryarray=['Monday', 'Tuesday', 'Wednesday', 'Thursday', 'Friday', 'Saturday', 'Sunday'])\n",
    "fig.show()"
   ]
  },
  {
   "cell_type": "markdown",
   "metadata": {},
   "source": [
    "### Emojis"
   ]
  },
  {
   "cell_type": "code",
   "execution_count": 467,
   "metadata": {},
   "outputs": [],
   "source": [
    "# most used emojis per user\n",
    "def get_emojis(text):\n",
    "        emojis = emoji.distinct_emoji_list(text)\n",
    "        return emojis"
   ]
  },
  {
   "cell_type": "code",
   "execution_count": 469,
   "metadata": {},
   "outputs": [
    {
     "name": "stdout",
     "output_type": "stream",
     "text": [
      "Headchopper most used emoji is 😂\n",
      "Cesar most used emoji is 😉\n"
     ]
    }
   ],
   "source": [
    "# Get the favorite emoji of each user\n",
    "user1_data = user1_data.copy()\n",
    "user2_data = user2_data.copy()\n",
    "user1_data['emoji'] = user1_data['message'].apply(get_emojis)\n",
    "user2_data['emoji'] = user2_data['message'].apply(get_emojis)\n",
    "\n",
    "user1_emojis = sum(user1_data['emoji'].tolist(), [])\n",
    "user2_emojis = sum(user2_data['emoji'].tolist(), [])\n",
    "\n",
    "user1_emojis = pd.Series(user1_emojis).value_counts()\n",
    "user2_emojis = pd.Series(user2_emojis).value_counts()\n",
    "\n",
    "# get the most used emoji\n",
    "print(f'{user1} most used emoji is {user1_emojis.idxmax()}')\n",
    "print(f'{user2} most used emoji is {user2_emojis.idxmax()}')\n",
    "\n"
   ]
  },
  {
   "cell_type": "markdown",
   "metadata": {},
   "source": [
    "### Words"
   ]
  },
  {
   "cell_type": "code",
   "execution_count": 516,
   "metadata": {},
   "outputs": [],
   "source": [
    "# remove symbols and emojis from the messages\n",
    "def remove_symbols(text):\n",
    "    text = emoji.replace_emoji(text, replace='')\n",
    "    text = re.sub(r'[^a-zA-Z\\s]', '', text)\n",
    "    return text\n",
    "\n",
    "def tokenize(text):\n",
    "    return nltk.word_tokenize(text)\n",
    "\n",
    "stop_words = set(stopwords.words('english'))\n",
    "extra_stop_words = {'im', 'u', 'get', 'dont', 'thats', 'ill'}\n",
    "def remove_stopwords(tokens):\n",
    "    return [word for word in tokens if word not in stop_words and word not in extra_stop_words]\n",
    "\n",
    "def clean_words(df):\n",
    "    df['message'] = df['message'].apply(remove_symbols)\n",
    "    df['message'] = df['message'].str.lower()\n",
    "    df['tokens'] = df['message'].apply(tokenize)\n",
    "    df['tokens'] = df['tokens'].apply(remove_stopwords)\n",
    "    return df\n",
    "\n"
   ]
  },
  {
   "cell_type": "code",
   "execution_count": null,
   "metadata": {},
   "outputs": [],
   "source": [
    "# This takes too long\n",
    "'''\n",
    "from spellchecker import SpellChecker\n",
    "\n",
    "def correct_spelling(tokens):\n",
    "    spell = SpellChecker()\n",
    "    corrected_tokens = [spell.correction(word) for word in tokens]\n",
    "    return corrected_tokens\n",
    "\n",
    "wd_data['tokens'] = wd_data['tokens'].apply(correct_spelling)\n",
    "'''"
   ]
  },
  {
   "cell_type": "code",
   "execution_count": 431,
   "metadata": {},
   "outputs": [],
   "source": [
    "# This will not work properly. You need to specify if the word is a noun, verb, etc.\n",
    "'''\n",
    "from nltk.stem import WordNetLemmatizer\n",
    "\n",
    "def lemmatize_text(tokens):\n",
    "    lemmatizer = WordNetLemmatizer()\n",
    "    lemmatized_tokens = [lemmatizer.lemmatize(word) for word in tokens]\n",
    "    return lemmatized_tokens\n",
    "\n",
    "wd_data['tokens'] = wd_data['tokens'].apply(lemmatize_text)\n",
    "'''"
   ]
  },
  {
   "cell_type": "code",
   "execution_count": 517,
   "metadata": {},
   "outputs": [
    {
     "name": "stdout",
     "output_type": "stream",
     "text": [
      "Headchopper has 2123 unique words\n",
      "Cesar has 1926 unique words\n"
     ]
    }
   ],
   "source": [
    "# count then number of unique words\n",
    "user1_data = clean_words(user1_data.copy())\n",
    "user2_data = clean_words(user2_data.copy())\n",
    "\n",
    "def number_of_unique_words(df):\n",
    "    unique_words = set()\n",
    "    for tokens in df['tokens']:\n",
    "        unique_words.update(tokens)\n",
    "    return len(unique_words)\n",
    "\n",
    "print(f'{user1} has {number_of_unique_words(user1_data)} unique words')\n",
    "print(f'{user2} has {number_of_unique_words(user2_data)} unique words')"
   ]
  },
  {
   "cell_type": "code",
   "execution_count": 518,
   "metadata": {},
   "outputs": [
    {
     "name": "stdout",
     "output_type": "stream",
     "text": [
      "Headchopper favorite words are ['ok', 'like', 'lol', 'go', 'na', 'ur', 'yea', 'good', 'think', 'oh']\n",
      "Cesar favorite words are ['like', 'want', 'going', 'know', 'go', 'right', 'time', 'got', 'one', 'think']\n"
     ]
    }
   ],
   "source": [
    "# top 5 favorite words\n",
    "user1_words = sum(user1_data['tokens'].tolist(), [])\n",
    "user2_words = sum(user2_data['tokens'].tolist(), [])\n",
    "\n",
    "user1_words = pd.Series(user1_words).value_counts()\n",
    "user2_words = pd.Series(user2_words).value_counts()\n",
    "\n",
    "print(f'{user1} favorite words are {user1_words.index[:10].tolist()}')\n",
    "print(f'{user2} favorite words are {user2_words.index[:10].tolist()}')"
   ]
  },
  {
   "cell_type": "markdown",
   "metadata": {},
   "source": [
    "# Sentiment Analysis"
   ]
  },
  {
   "cell_type": "markdown",
   "metadata": {},
   "source": [
    "### NLTK Vader"
   ]
  },
  {
   "cell_type": "code",
   "execution_count": null,
   "metadata": {},
   "outputs": [],
   "source": [
    "sid = SentimentIntensityAnalyzer()"
   ]
  },
  {
   "cell_type": "code",
   "execution_count": null,
   "metadata": {},
   "outputs": [],
   "source": [
    "%%time\n",
    "# Calculate sentiment scores\n",
    "vd_data = ds_data.copy()\n",
    "vd_data['sentiment_2'] = vd_data['message'].apply(lambda x: sid.polarity_scores(x))\n",
    "vd_data['compound'] = vd_data['sentiment_2'].apply(lambda x: x['compound'])\n",
    "vd_data['neg'] = vd_data['sentiment_2'].apply(lambda x: x['neg'])\n",
    "vd_data['neu'] = vd_data['sentiment_2'].apply(lambda x: x['neu'])\n",
    "vd_data['pos'] = vd_data['sentiment_2'].apply(lambda x: x['pos'])\n",
    "vd_data['sentiment_3'] = vd_data['compound'].apply(lambda x: 'positive' if x > 0 else ('negative' if x < 0 else 'neutral'))\n",
    "vd_data.head()"
   ]
  },
  {
   "cell_type": "markdown",
   "metadata": {},
   "source": [
    "### Huggingface Pipeline"
   ]
  },
  {
   "cell_type": "code",
   "execution_count": 304,
   "metadata": {},
   "outputs": [
    {
     "name": "stderr",
     "output_type": "stream",
     "text": [
      "No model was supplied, defaulted to distilbert-base-uncased-finetuned-sst-2-english and revision af0f99b (https://huggingface.co/distilbert-base-uncased-finetuned-sst-2-english).\n",
      "Using a pipeline without specifying a model name and revision in production is not recommended.\n"
     ]
    }
   ],
   "source": [
    "sent_pipeline = pipeline('sentiment-analysis')"
   ]
  },
  {
   "cell_type": "code",
   "execution_count": 305,
   "metadata": {},
   "outputs": [
    {
     "data": {
      "text/plain": [
       "[{'label': 'POSITIVE', 'score': 0.9977076053619385}]"
      ]
     },
     "execution_count": 305,
     "metadata": {},
     "output_type": "execute_result"
    }
   ],
   "source": [
    "example = ds_data['message'].tolist()[1]\n",
    "#print(example)\n",
    "sent_pipeline(example)"
   ]
  },
  {
   "cell_type": "code",
   "execution_count": 306,
   "metadata": {},
   "outputs": [
    {
     "name": "stdout",
     "output_type": "stream",
     "text": [
      "Total of 3618 messages\n",
      "CPU times: user 58.8 s, sys: 49 s, total: 1min 47s\n",
      "Wall time: 1min 40s\n"
     ]
    }
   ],
   "source": [
    "%%time\n",
    "#print number of messages\n",
    "total_messages = len(ds_data['message'])\n",
    "print(f'Total of {total_messages} messages')\n",
    "\n",
    "#Apply the sentiment analysis to all the messages\n",
    "messages = dt_data['message'].tolist()\n",
    "for index, message in enumerate(messages):\n",
    "    if type(message) != str:\n",
    "        print('Not a string')\n",
    "        print(f\"Index: {index}\")\n",
    "        \n",
    "sentiments = sent_pipeline(messages)\n",
    "\n",
    "#Add the sentiment to the dataframe\n",
    "ds_data['sentiment'] = [sent['label'] for sent in sentiments]\n",
    "ds_data['score'] = [sent['score'] for sent in sentiments]\n",
    "#dt_data.head()"
   ]
  },
  {
   "cell_type": "code",
   "execution_count": 317,
   "metadata": {},
   "outputs": [
    {
     "data": {
      "text/html": [
       "<div>\n",
       "<style scoped>\n",
       "    .dataframe tbody tr th:only-of-type {\n",
       "        vertical-align: middle;\n",
       "    }\n",
       "\n",
       "    .dataframe tbody tr th {\n",
       "        vertical-align: top;\n",
       "    }\n",
       "\n",
       "    .dataframe thead th {\n",
       "        text-align: right;\n",
       "    }\n",
       "</style>\n",
       "<table border=\"1\" class=\"dataframe\">\n",
       "  <thead>\n",
       "    <tr style=\"text-align: right;\">\n",
       "      <th></th>\n",
       "      <th>date</th>\n",
       "      <th>day</th>\n",
       "      <th>hour</th>\n",
       "      <th>day_of_week</th>\n",
       "      <th>sender</th>\n",
       "      <th>message</th>\n",
       "      <th>sentiment</th>\n",
       "      <th>score</th>\n",
       "    </tr>\n",
       "  </thead>\n",
       "  <tbody>\n",
       "    <tr>\n",
       "      <th>0</th>\n",
       "      <td>2023-09-03 00:30:58</td>\n",
       "      <td>2023-09-03</td>\n",
       "      <td>0</td>\n",
       "      <td>Sunday</td>\n",
       "      <td>Headchopper</td>\n",
       "      <td>‎Messages and calls are end-to-end encrypted. ...</td>\n",
       "      <td>NEGATIVE</td>\n",
       "      <td>-0.996267</td>\n",
       "    </tr>\n",
       "    <tr>\n",
       "      <th>1</th>\n",
       "      <td>2023-09-03 00:30:58</td>\n",
       "      <td>2023-09-03</td>\n",
       "      <td>0</td>\n",
       "      <td>Sunday</td>\n",
       "      <td>Headchopper</td>\n",
       "      <td>Hey Cesar! My event is wrapping up and I’m thi...</td>\n",
       "      <td>POSITIVE</td>\n",
       "      <td>0.997708</td>\n",
       "    </tr>\n",
       "    <tr>\n",
       "      <th>2</th>\n",
       "      <td>2023-09-03 00:32:43</td>\n",
       "      <td>2023-09-03</td>\n",
       "      <td>0</td>\n",
       "      <td>Sunday</td>\n",
       "      <td>Cesar</td>\n",
       "      <td>Heyy</td>\n",
       "      <td>POSITIVE</td>\n",
       "      <td>0.996839</td>\n",
       "    </tr>\n",
       "    <tr>\n",
       "      <th>3</th>\n",
       "      <td>2023-09-03 00:32:52</td>\n",
       "      <td>2023-09-03</td>\n",
       "      <td>0</td>\n",
       "      <td>Sunday</td>\n",
       "      <td>Cesar</td>\n",
       "      <td>Come</td>\n",
       "      <td>POSITIVE</td>\n",
       "      <td>0.998410</td>\n",
       "    </tr>\n",
       "    <tr>\n",
       "      <th>4</th>\n",
       "      <td>2023-09-03 00:32:55</td>\n",
       "      <td>2023-09-03</td>\n",
       "      <td>0</td>\n",
       "      <td>Sunday</td>\n",
       "      <td>Cesar</td>\n",
       "      <td>Diego de leon 40</td>\n",
       "      <td>POSITIVE</td>\n",
       "      <td>0.991599</td>\n",
       "    </tr>\n",
       "  </tbody>\n",
       "</table>\n",
       "</div>"
      ],
      "text/plain": [
       "                 date         day  hour day_of_week       sender  \\\n",
       "0 2023-09-03 00:30:58  2023-09-03     0      Sunday  Headchopper   \n",
       "1 2023-09-03 00:30:58  2023-09-03     0      Sunday  Headchopper   \n",
       "2 2023-09-03 00:32:43  2023-09-03     0      Sunday        Cesar   \n",
       "3 2023-09-03 00:32:52  2023-09-03     0      Sunday        Cesar   \n",
       "4 2023-09-03 00:32:55  2023-09-03     0      Sunday        Cesar   \n",
       "\n",
       "                                             message sentiment     score  \n",
       "0  ‎Messages and calls are end-to-end encrypted. ...  NEGATIVE -0.996267  \n",
       "1  Hey Cesar! My event is wrapping up and I’m thi...  POSITIVE  0.997708  \n",
       "2                                               Heyy  POSITIVE  0.996839  \n",
       "3                                               Come  POSITIVE  0.998410  \n",
       "4                                   Diego de leon 40  POSITIVE  0.991599  "
      ]
     },
     "execution_count": 317,
     "metadata": {},
     "output_type": "execute_result"
    }
   ],
   "source": [
    "# if sentiment is negative, then turn score to negative\n",
    "ds_data['score'] = ds_data['score'].where(ds_data['sentiment'] == 'POSITIVE', -ds_data['score'])\n",
    "#ds_data.head()"
   ]
  },
  {
   "cell_type": "markdown",
   "metadata": {},
   "source": [
    "### Data Visualization"
   ]
  },
  {
   "cell_type": "code",
   "execution_count": 318,
   "metadata": {},
   "outputs": [
    {
     "data": {
      "text/plain": [
       "sender\n",
       "Headchopper   -0.098224\n",
       "Cesar         -0.126383\n",
       "Name: score, dtype: float64"
      ]
     },
     "execution_count": 318,
     "metadata": {},
     "output_type": "execute_result"
    }
   ],
   "source": [
    "#Average sentiment score by sender\n",
    "avg_sentiment = ds_data.groupby('sender')['score'].mean()\n",
    "avg_sentiment = avg_sentiment.sort_values(ascending=False)\n",
    "avg_sentiment"
   ]
  },
  {
   "cell_type": "code",
   "execution_count": 319,
   "metadata": {},
   "outputs": [
    {
     "data": {
      "text/plain": [
       "sender       sentiment\n",
       "Cesar        NEGATIVE     0.565317\n",
       "             POSITIVE     0.434683\n",
       "Headchopper  NEGATIVE     0.551206\n",
       "             POSITIVE     0.448794\n",
       "Name: proportion, dtype: float64"
      ]
     },
     "execution_count": 319,
     "metadata": {},
     "output_type": "execute_result"
    }
   ],
   "source": [
    "#Percentage of sentiment per sender\n",
    "sentiment_counts = ds_data.groupby('sender')['sentiment'].value_counts(normalize=True)\n",
    "sentiment_counts"
   ]
  },
  {
   "cell_type": "code",
   "execution_count": 320,
   "metadata": {},
   "outputs": [
    {
     "name": "stdout",
     "output_type": "stream",
     "text": [
      "Average sentiment score for Cesar: -0.12638314638692721\n",
      "Average sentiment score for Headchopper: -0.09822446190959327\n"
     ]
    },
    {
     "name": "stderr",
     "output_type": "stream",
     "text": [
      "/var/folders/2b/0rq4mprx3cb7w7bffk181n3m0000gn/T/ipykernel_84536/2404779830.py:16: SettingWithCopyWarning:\n",
      "\n",
      "\n",
      "A value is trying to be set on a copy of a slice from a DataFrame.\n",
      "Try using .loc[row_indexer,col_indexer] = value instead\n",
      "\n",
      "See the caveats in the documentation: https://pandas.pydata.org/pandas-docs/stable/user_guide/indexing.html#returning-a-view-versus-a-copy\n",
      "\n",
      "/var/folders/2b/0rq4mprx3cb7w7bffk181n3m0000gn/T/ipykernel_84536/2404779830.py:17: SettingWithCopyWarning:\n",
      "\n",
      "\n",
      "A value is trying to be set on a copy of a slice from a DataFrame.\n",
      "Try using .loc[row_indexer,col_indexer] = value instead\n",
      "\n",
      "See the caveats in the documentation: https://pandas.pydata.org/pandas-docs/stable/user_guide/indexing.html#returning-a-view-versus-a-copy\n",
      "\n"
     ]
    },
    {
     "data": {
      "application/vnd.plotly.v1+json": {
       "config": {
        "plotlyServerURL": "https://plot.ly"
       },
       "data": [
        {
         "line": {
          "color": "blue"
         },
         "marker": {
          "symbol": "circle"
         },
         "mode": "lines+markers",
         "name": "Cesar (Rolling Avg)",
         "type": "scatter",
         "x": [
          "2023-09-03T00:32:43",
          "2023-09-03T00:32:52",
          "2023-09-03T00:32:55",
          "2023-09-03T00:32:57",
          "2023-09-03T00:37:20",
          "2023-09-11T21:43:36",
          "2023-09-11T21:43:48",
          "2023-09-11T21:44:17",
          "2023-09-11T21:47:02",
          "2023-09-11T21:47:15",
          "2023-10-06T12:41:51",
          "2023-10-06T12:43:45",
          "2023-10-13T14:30:23",
          "2023-10-13T14:35:13",
          "2023-10-13T18:52:51",
          "2023-10-13T19:07:26",
          "2023-10-16T16:02:00",
          "2023-10-16T16:02:13",
          "2023-10-16T16:02:25",
          "2023-10-16T16:37:42",
          "2023-10-16T16:37:47",
          "2023-10-22T12:52:51",
          "2023-10-22T12:53:07",
          "2023-10-22T12:53:40",
          "2023-10-22T19:33:07",
          "2023-10-22T19:33:55",
          "2023-10-22T20:52:55",
          "2023-10-22T20:53:05",
          "2023-10-23T00:06:20",
          "2023-10-23T00:06:46",
          "2023-10-23T00:06:50",
          "2023-10-23T00:06:53",
          "2023-10-23T00:07:06",
          "2023-10-23T17:49:27",
          "2023-10-23T17:54:51",
          "2023-10-23T17:55:05",
          "2023-10-23T17:55:28",
          "2023-10-23T17:56:02",
          "2023-10-23T17:56:42",
          "2023-10-23T17:57:05",
          "2023-10-23T17:57:17",
          "2023-10-23T17:57:29",
          "2023-10-23T17:58:50",
          "2023-10-23T17:59:37",
          "2023-10-23T17:59:55",
          "2023-10-23T18:00:13",
          "2023-10-23T18:00:40",
          "2023-10-23T18:02:10",
          "2023-10-23T18:02:18",
          "2023-10-27T14:28:23",
          "2023-10-31T12:31:11",
          "2023-11-01T18:02:11",
          "2023-11-01T18:03:52",
          "2023-11-01T18:04:10",
          "2023-11-01T18:04:24",
          "2023-11-01T18:04:52",
          "2023-11-01T18:05:07",
          "2023-11-01T18:05:16",
          "2023-11-01T18:06:23",
          "2023-11-01T18:06:35",
          "2023-11-08T12:46:08",
          "2023-11-18T21:09:54",
          "2023-11-18T21:10:14",
          "2023-11-18T21:10:26",
          "2023-11-18T21:10:33",
          "2023-11-18T21:10:50",
          "2023-11-19T18:06:52",
          "2023-11-19T18:07:15",
          "2023-11-19T18:07:47",
          "2023-11-19T18:08:03",
          "2023-11-19T18:08:37",
          "2023-11-19T20:49:38",
          "2023-11-19T21:03:26",
          "2023-11-19T21:09:44",
          "2023-11-19T23:37:30",
          "2023-11-19T23:37:55",
          "2023-11-19T23:38:08",
          "2023-11-19T23:38:12",
          "2023-11-19T23:38:58",
          "2023-11-20T17:51:54",
          "2023-11-20T17:51:57",
          "2023-11-21T11:48:19",
          "2023-11-21T11:54:15",
          "2023-11-21T11:54:46",
          "2023-11-21T11:55:39",
          "2023-11-21T11:55:41",
          "2023-11-24T17:53:31",
          "2023-11-24T17:53:36",
          "2023-11-24T17:53:44",
          "2023-11-24T17:54:18",
          "2023-11-25T15:28:20",
          "2023-11-25T15:28:29",
          "2023-11-27T13:28:39",
          "2023-11-29T18:07:37",
          "2023-11-29T18:31:57",
          "2023-11-29T18:56:45",
          "2023-11-29T18:56:51",
          "2023-11-29T18:57:19",
          "2023-11-29T18:57:42",
          "2023-11-29T19:00:21",
          "2023-11-29T19:00:34",
          "2023-11-29T19:00:37",
          "2023-11-29T19:01:03",
          "2023-11-29T19:01:20",
          "2023-11-29T19:01:28",
          "2023-11-29T19:02:10",
          "2023-11-29T19:02:41",
          "2023-11-29T19:03:46",
          "2023-11-29T19:03:48",
          "2023-11-29T19:04:05",
          "2023-11-29T19:36:20",
          "2023-11-29T19:36:29",
          "2023-11-30T12:22:24",
          "2023-11-30T12:24:22",
          "2023-11-30T12:24:27",
          "2023-11-30T12:24:41",
          "2023-11-30T12:28:20",
          "2023-11-30T12:28:23",
          "2023-11-30T12:28:26",
          "2023-11-30T12:28:36",
          "2023-11-30T12:32:24",
          "2023-11-30T12:52:17",
          "2023-11-30T12:52:31",
          "2023-11-30T12:52:52",
          "2023-11-30T12:52:53",
          "2023-12-02T09:35:53",
          "2023-12-04T12:18:08",
          "2023-12-04T20:33:06",
          "2023-12-04T20:55:58",
          "2023-12-11T09:46:53",
          "2023-12-11T09:47:12",
          "2023-12-11T13:00:10",
          "2023-12-11T13:00:13",
          "2023-12-11T13:00:20",
          "2023-12-11T13:01:54",
          "2023-12-11T13:02:06",
          "2023-12-11T13:04:28",
          "2023-12-11T13:04:29",
          "2023-12-11T13:22:07",
          "2023-12-11T13:22:11",
          "2023-12-11T13:22:23",
          "2023-12-11T13:59:37",
          "2023-12-11T13:59:39",
          "2023-12-13T09:02:13",
          "2023-12-13T09:46:51",
          "2023-12-14T10:59:09",
          "2023-12-14T10:59:12",
          "2023-12-14T11:00:12",
          "2023-12-15T11:32:33",
          "2023-12-15T11:32:48",
          "2023-12-15T11:33:01",
          "2023-12-15T11:33:27",
          "2023-12-15T11:33:43",
          "2023-12-15T11:33:59",
          "2023-12-15T11:34:13",
          "2023-12-15T11:34:16",
          "2023-12-15T11:34:24",
          "2023-12-15T11:34:51",
          "2023-12-15T11:40:13",
          "2023-12-15T11:40:30",
          "2023-12-15T11:40:44",
          "2023-12-15T11:40:49",
          "2023-12-15T11:41:35",
          "2023-12-15T11:42:22",
          "2023-12-15T11:43:14",
          "2023-12-15T11:43:24",
          "2023-12-15T11:43:31",
          "2023-12-15T11:47:34",
          "2023-12-15T11:47:44",
          "2023-12-15T12:03:38",
          "2023-12-15T12:26:15",
          "2023-12-15T12:26:23",
          "2023-12-15T12:26:26",
          "2023-12-15T12:26:39",
          "2023-12-15T12:48:44",
          "2023-12-15T12:48:49",
          "2023-12-15T12:49:32",
          "2023-12-15T13:06:14",
          "2023-12-15T13:07:58",
          "2023-12-15T13:08:35",
          "2023-12-15T13:10:44",
          "2023-12-15T13:19:13",
          "2023-12-15T19:15:23",
          "2023-12-15T20:07:37",
          "2023-12-15T21:03:49",
          "2023-12-15T21:09:12",
          "2023-12-15T21:10:40",
          "2023-12-15T21:11:38",
          "2023-12-15T21:11:50",
          "2023-12-15T21:13:12",
          "2023-12-15T21:13:35",
          "2023-12-15T21:14:38",
          "2023-12-15T21:15:23",
          "2023-12-15T21:15:37",
          "2023-12-15T21:15:53",
          "2023-12-15T21:16:08",
          "2023-12-15T21:16:18",
          "2023-12-15T21:17:11",
          "2023-12-15T21:18:00",
          "2023-12-15T21:26:27",
          "2023-12-15T21:38:28",
          "2023-12-15T21:38:49",
          "2023-12-15T21:39:03",
          "2023-12-15T21:39:22",
          "2023-12-15T21:40:26",
          "2023-12-15T21:40:36",
          "2023-12-15T21:47:18",
          "2023-12-15T21:47:25",
          "2023-12-16T15:07:55",
          "2023-12-16T15:07:59",
          "2023-12-16T15:08:56",
          "2023-12-16T15:09:14",
          "2023-12-16T15:09:31",
          "2023-12-16T15:09:39",
          "2023-12-16T15:36:19",
          "2023-12-16T15:36:43",
          "2023-12-16T15:37:01",
          "2023-12-16T15:37:25",
          "2023-12-16T15:37:50",
          "2023-12-16T15:38:06",
          "2023-12-16T15:38:30",
          "2023-12-16T17:31:52",
          "2023-12-16T17:32:04",
          "2023-12-16T17:32:17",
          "2023-12-16T17:32:32",
          "2023-12-16T17:38:53",
          "2023-12-16T17:39:51",
          "2023-12-16T17:40:06",
          "2023-12-16T17:41:58",
          "2023-12-16T17:43:04",
          "2023-12-16T17:43:52",
          "2023-12-16T17:43:57",
          "2023-12-16T17:44:40",
          "2023-12-16T17:44:47",
          "2023-12-16T17:44:54",
          "2023-12-16T17:45:07",
          "2023-12-16T17:45:15",
          "2023-12-16T17:45:30",
          "2023-12-16T17:45:48",
          "2023-12-16T17:46:02",
          "2023-12-16T17:46:09",
          "2023-12-16T18:11:28",
          "2023-12-16T18:11:35",
          "2023-12-16T18:12:56",
          "2023-12-17T11:20:37",
          "2023-12-17T21:41:44",
          "2023-12-17T21:41:46",
          "2023-12-17T21:41:51",
          "2023-12-18T08:05:13",
          "2023-12-18T08:13:04",
          "2023-12-18T08:13:53",
          "2023-12-19T13:52:13",
          "2023-12-19T13:52:24",
          "2023-12-19T14:07:59",
          "2023-12-19T17:26:30",
          "2023-12-19T17:26:34",
          "2023-12-19T17:26:36",
          "2023-12-19T17:26:39",
          "2023-12-19T17:26:51",
          "2023-12-25T19:45:26",
          "2023-12-26T23:05:56",
          "2023-12-26T23:06:00",
          "2023-12-26T23:06:37",
          "2023-12-26T23:08:10",
          "2023-12-26T23:08:20",
          "2023-12-26T23:08:46",
          "2023-12-26T23:09:35",
          "2023-12-26T23:09:46",
          "2023-12-26T23:18:58",
          "2023-12-26T23:19:11",
          "2023-12-26T23:19:20",
          "2023-12-26T23:20:00",
          "2023-12-26T23:20:16",
          "2023-12-26T23:20:30",
          "2023-12-26T23:24:15",
          "2023-12-26T23:24:44",
          "2023-12-27T13:08:03",
          "2023-12-27T13:08:44",
          "2023-12-27T13:09:25",
          "2023-12-27T21:58:29",
          "2023-12-27T21:59:25",
          "2023-12-27T21:59:52",
          "2023-12-27T22:00:56",
          "2023-12-27T22:01:25",
          "2023-12-27T23:55:21",
          "2023-12-27T23:55:46",
          "2023-12-27T23:56:15",
          "2023-12-27T23:56:21",
          "2023-12-27T23:56:48",
          "2023-12-27T23:58:16",
          "2023-12-27T23:58:30",
          "2023-12-30T13:08:16",
          "2023-12-30T19:58:33",
          "2023-12-30T19:59:11",
          "2023-12-30T19:59:23",
          "2023-12-31T02:47:15",
          "2023-12-31T19:07:36",
          "2023-12-31T22:04:34",
          "2023-12-31T22:04:59",
          "2023-12-31T22:05:50",
          "2023-12-31T22:05:55",
          "2023-12-31T22:25:55",
          "2023-12-31T22:26:11",
          "2023-12-31T22:26:51",
          "2023-12-31T22:27:12",
          "2023-12-31T22:28:05",
          "2023-12-31T22:28:29",
          "2023-12-31T22:28:54",
          "2023-12-31T22:29:08",
          "2024-01-08T17:13:19",
          "2024-01-08T17:13:37",
          "2024-01-08T18:39:05",
          "2024-01-08T18:39:58",
          "2024-01-08T18:40:05",
          "2024-01-09T22:47:42",
          "2024-01-09T22:48:02",
          "2024-01-09T22:48:10",
          "2024-01-09T22:48:40",
          "2024-01-09T22:50:57",
          "2024-01-09T22:51:18",
          "2024-01-10T00:14:48",
          "2024-01-10T00:15:21",
          "2024-01-10T00:15:44",
          "2024-01-10T00:16:48",
          "2024-01-10T00:17:30",
          "2024-01-10T00:48:52",
          "2024-01-10T00:49:05",
          "2024-01-10T00:49:23",
          "2024-01-10T00:50:14",
          "2024-01-10T00:51:03",
          "2024-01-10T00:51:20",
          "2024-01-10T00:51:40",
          "2024-01-12T10:24:50",
          "2024-01-12T10:25:50",
          "2024-01-12T10:26:42",
          "2024-01-12T10:27:19",
          "2024-01-12T12:47:59",
          "2024-01-12T12:48:22",
          "2024-01-12T12:48:35",
          "2024-01-12T12:49:23",
          "2024-01-12T12:50:12",
          "2024-01-12T12:50:27",
          "2024-01-12T12:50:32",
          "2024-01-12T12:50:57",
          "2024-01-12T12:51:50",
          "2024-01-12T13:09:44",
          "2024-01-12T13:09:50",
          "2024-01-12T14:01:25",
          "2024-01-12T14:01:41",
          "2024-01-12T14:01:44",
          "2024-01-12T14:10:09",
          "2024-01-12T14:10:20",
          "2024-01-12T14:10:27",
          "2024-01-12T19:25:36",
          "2024-01-12T19:26:13",
          "2024-01-12T20:34:36",
          "2024-01-12T20:34:52",
          "2024-01-12T20:35:14",
          "2024-01-14T19:22:43",
          "2024-01-14T19:22:48",
          "2024-01-14T19:23:16",
          "2024-01-14T19:23:30",
          "2024-01-14T19:26:17",
          "2024-01-14T19:26:37",
          "2024-01-14T19:26:51",
          "2024-01-14T19:26:58",
          "2024-01-14T19:33:08",
          "2024-01-14T19:33:17",
          "2024-01-14T19:33:37",
          "2024-01-14T19:34:07",
          "2024-01-14T19:34:14",
          "2024-01-15T00:26:23",
          "2024-01-15T00:28:16",
          "2024-01-15T10:05:09",
          "2024-01-15T10:05:39",
          "2024-01-15T10:14:56",
          "2024-01-15T10:15:04",
          "2024-01-15T10:15:09",
          "2024-01-15T10:23:11",
          "2024-01-15T10:24:02",
          "2024-01-15T10:24:15",
          "2024-01-15T17:58:03",
          "2024-01-15T17:58:12",
          "2024-01-15T17:58:22",
          "2024-01-16T10:46:31",
          "2024-01-16T10:52:26",
          "2024-01-16T10:52:44",
          "2024-01-16T10:53:35",
          "2024-01-16T11:37:47",
          "2024-01-16T11:37:57",
          "2024-01-16T11:38:16",
          "2024-01-16T11:38:50",
          "2024-01-16T11:38:57",
          "2024-01-16T11:39:06",
          "2024-01-16T11:39:13",
          "2024-01-16T11:39:19",
          "2024-01-17T09:54:07",
          "2024-01-17T09:54:53",
          "2024-01-17T09:55:11",
          "2024-01-17T09:55:26",
          "2024-01-17T09:59:37",
          "2024-01-17T09:59:53",
          "2024-01-17T09:59:59",
          "2024-01-17T22:54:18",
          "2024-01-18T10:07:52",
          "2024-01-18T12:53:33",
          "2024-01-18T13:08:29",
          "2024-01-18T13:09:23",
          "2024-01-18T17:17:22",
          "2024-01-19T13:25:04",
          "2024-01-19T13:35:47",
          "2024-01-19T13:36:37",
          "2024-01-19T13:36:53",
          "2024-01-21T11:33:19",
          "2024-01-21T11:34:21",
          "2024-01-21T11:34:57",
          "2024-01-21T11:35:12",
          "2024-01-21T11:35:53",
          "2024-01-21T11:36:10",
          "2024-01-21T11:39:46",
          "2024-01-21T11:40:02",
          "2024-01-21T11:40:16",
          "2024-01-21T11:40:43",
          "2024-01-21T11:40:54",
          "2024-01-21T11:41:03",
          "2024-01-21T11:41:22",
          "2024-01-21T11:41:32",
          "2024-01-21T11:41:48",
          "2024-01-21T11:41:53",
          "2024-01-21T11:42:01",
          "2024-01-21T11:42:30",
          "2024-01-21T11:42:32",
          "2024-01-21T11:42:38",
          "2024-01-21T11:42:45",
          "2024-01-21T11:42:49",
          "2024-01-21T11:43:04",
          "2024-01-21T11:43:18",
          "2024-01-21T11:43:22",
          "2024-01-21T11:43:36",
          "2024-01-21T14:29:32",
          "2024-01-21T14:29:44",
          "2024-01-21T14:29:51",
          "2024-01-21T14:30:11",
          "2024-01-21T14:30:22",
          "2024-01-21T14:30:57",
          "2024-01-21T14:31:35",
          "2024-01-21T14:31:40",
          "2024-01-21T14:32:15",
          "2024-01-21T14:32:21",
          "2024-01-21T14:32:44",
          "2024-01-21T14:33:29",
          "2024-01-21T14:33:52",
          "2024-01-21T14:34:19",
          "2024-01-21T14:35:24",
          "2024-01-21T14:35:53",
          "2024-01-21T14:36:11",
          "2024-01-21T14:37:03",
          "2024-01-21T14:37:29",
          "2024-01-21T17:41:50",
          "2024-01-21T17:42:24",
          "2024-01-21T17:42:38",
          "2024-01-21T17:43:16",
          "2024-01-21T18:32:20",
          "2024-01-21T18:32:27",
          "2024-01-21T18:32:48",
          "2024-01-22T13:21:36",
          "2024-01-22T13:21:42",
          "2024-01-22T13:21:49",
          "2024-01-22T13:22:01",
          "2024-01-22T14:48:51",
          "2024-01-22T14:49:02",
          "2024-01-22T15:53:37",
          "2024-01-22T15:55:27",
          "2024-01-22T15:55:49",
          "2024-01-22T15:55:58",
          "2024-01-22T15:59:19",
          "2024-01-22T15:59:24",
          "2024-01-22T16:15:37",
          "2024-01-22T16:15:51",
          "2024-01-22T16:16:04",
          "2024-01-22T16:19:17",
          "2024-01-22T16:19:55",
          "2024-01-22T16:20:06",
          "2024-01-22T16:20:33",
          "2024-01-22T16:21:15",
          "2024-01-22T16:24:24",
          "2024-01-22T16:25:19",
          "2024-01-22T16:25:49",
          "2024-01-22T16:25:52",
          "2024-01-22T16:26:38",
          "2024-01-22T16:26:53",
          "2024-01-22T16:27:22",
          "2024-01-22T16:27:40",
          "2024-01-22T16:27:51",
          "2024-01-22T16:27:58",
          "2024-01-22T16:28:43",
          "2024-01-23T13:45:57",
          "2024-01-23T13:46:33",
          "2024-01-23T13:46:39",
          "2024-01-23T15:41:01",
          "2024-01-23T15:41:09",
          "2024-01-23T15:41:13",
          "2024-01-23T15:41:20",
          "2024-01-23T18:27:16",
          "2024-01-23T18:48:59",
          "2024-01-23T18:51:51",
          "2024-01-23T18:53:13",
          "2024-01-23T18:53:23",
          "2024-01-24T09:50:55",
          "2024-01-24T09:51:10",
          "2024-01-24T10:10:44",
          "2024-01-24T10:10:53",
          "2024-01-24T10:40:25",
          "2024-01-24T10:40:37",
          "2024-01-24T11:01:31",
          "2024-01-24T11:01:40",
          "2024-01-24T11:01:55",
          "2024-01-24T11:06:20",
          "2024-01-24T11:06:23",
          "2024-01-24T11:06:38",
          "2024-01-24T15:48:16",
          "2024-01-24T19:25:05",
          "2024-01-24T19:25:17",
          "2024-01-24T19:25:34",
          "2024-01-24T19:25:48",
          "2024-01-24T19:26:00",
          "2024-01-24T19:26:09",
          "2024-01-24T19:26:34",
          "2024-01-24T19:26:46",
          "2024-01-24T19:26:52",
          "2024-01-25T13:18:19",
          "2024-01-25T13:21:32",
          "2024-01-25T13:21:43",
          "2024-01-25T13:21:55",
          "2024-01-25T14:10:34",
          "2024-01-25T14:10:44",
          "2024-01-25T14:10:59",
          "2024-01-25T14:11:13",
          "2024-01-25T14:12:26",
          "2024-01-25T14:12:40",
          "2024-01-25T14:12:49",
          "2024-01-25T14:13:15",
          "2024-01-26T10:54:32",
          "2024-01-26T10:55:08",
          "2024-01-26T11:15:57",
          "2024-01-26T11:21:56",
          "2024-01-26T11:22:07",
          "2024-01-26T11:22:34",
          "2024-01-27T15:00:42",
          "2024-01-27T15:00:52",
          "2024-01-27T15:01:24",
          "2024-01-27T15:02:39",
          "2024-01-27T15:02:54",
          "2024-01-27T15:56:40",
          "2024-01-27T15:56:49",
          "2024-01-27T15:57:07",
          "2024-01-27T15:57:21",
          "2024-01-28T16:06:11",
          "2024-01-28T16:06:21",
          "2024-01-28T16:07:08",
          "2024-01-28T16:43:52",
          "2024-01-28T16:43:57",
          "2024-01-28T16:44:08",
          "2024-01-28T16:44:37",
          "2024-01-28T16:44:43",
          "2024-01-28T16:45:10",
          "2024-01-28T18:55:51",
          "2024-01-28T18:56:17",
          "2024-01-28T18:56:46",
          "2024-01-28T20:14:49",
          "2024-01-28T20:15:05",
          "2024-01-28T20:15:30",
          "2024-01-29T12:42:38",
          "2024-01-29T12:42:48",
          "2024-01-29T12:44:09",
          "2024-01-29T12:53:55",
          "2024-01-29T13:02:48",
          "2024-01-29T13:02:56",
          "2024-01-29T13:09:36",
          "2024-01-29T18:51:19",
          "2024-01-29T23:00:16",
          "2024-01-29T23:00:57",
          "2024-01-29T23:01:03",
          "2024-01-29T23:01:36",
          "2024-01-29T23:01:49",
          "2024-01-29T23:01:55",
          "2024-01-29T23:02:34",
          "2024-01-29T23:03:14",
          "2024-01-29T23:03:23",
          "2024-01-29T23:03:28",
          "2024-01-29T23:08:10",
          "2024-01-29T23:08:43",
          "2024-01-29T23:09:33",
          "2024-01-29T23:09:51",
          "2024-01-29T23:10:03",
          "2024-01-29T23:13:25",
          "2024-01-29T23:13:39",
          "2024-01-29T23:14:17",
          "2024-01-29T23:14:46",
          "2024-01-29T23:14:50",
          "2024-01-29T23:15:19",
          "2024-01-29T23:16:48",
          "2024-01-29T23:16:51",
          "2024-01-29T23:17:07",
          "2024-01-29T23:17:16",
          "2024-01-29T23:17:27",
          "2024-01-29T23:17:56",
          "2024-01-29T23:18:12",
          "2024-01-29T23:23:33",
          "2024-01-29T23:24:01",
          "2024-01-29T23:24:43",
          "2024-01-29T23:25:00",
          "2024-01-30T13:31:09",
          "2024-01-30T13:31:13",
          "2024-01-30T13:31:18",
          "2024-01-30T15:17:10",
          "2024-01-30T15:17:15",
          "2024-01-30T16:10:42",
          "2024-01-31T14:24:46",
          "2024-01-31T20:21:58",
          "2024-01-31T20:22:10",
          "2024-01-31T22:01:08",
          "2024-01-31T22:01:16",
          "2024-02-01T15:06:20",
          "2024-02-01T15:06:24",
          "2024-02-03T20:07:49",
          "2024-02-03T20:08:07",
          "2024-02-03T20:08:30",
          "2024-02-03T20:09:05",
          "2024-02-05T16:10:45",
          "2024-02-05T16:19:52",
          "2024-02-05T16:20:05",
          "2024-02-05T16:20:11",
          "2024-02-05T16:20:24",
          "2024-02-05T16:23:05",
          "2024-02-05T16:23:16",
          "2024-02-05T16:23:30",
          "2024-02-05T16:24:23",
          "2024-02-05T16:27:18",
          "2024-02-05T16:27:44",
          "2024-02-05T16:28:12",
          "2024-02-05T16:28:26",
          "2024-02-05T16:30:56",
          "2024-02-05T16:31:10",
          "2024-02-05T16:33:04",
          "2024-02-05T16:33:17",
          "2024-02-05T16:34:20",
          "2024-02-05T16:34:39",
          "2024-02-05T16:42:51",
          "2024-02-05T16:43:19",
          "2024-02-05T16:43:24",
          "2024-02-05T16:44:04",
          "2024-02-05T16:56:37",
          "2024-02-05T16:56:47",
          "2024-02-05T16:57:20",
          "2024-02-05T16:57:32",
          "2024-02-05T17:51:46",
          "2024-02-05T18:00:16",
          "2024-02-05T18:00:31",
          "2024-02-05T18:07:42",
          "2024-02-05T18:07:51",
          "2024-02-05T18:09:19",
          "2024-02-05T18:09:31",
          "2024-02-05T18:12:16",
          "2024-02-05T18:12:20",
          "2024-02-05T18:26:24",
          "2024-02-05T18:26:40",
          "2024-02-05T18:27:14",
          "2024-02-05T18:43:39",
          "2024-02-05T18:43:43",
          "2024-02-05T18:43:51",
          "2024-02-05T18:44:10",
          "2024-02-05T18:48:15",
          "2024-02-05T18:48:23",
          "2024-02-06T00:09:56",
          "2024-02-06T00:12:45",
          "2024-02-06T00:13:01",
          "2024-02-06T00:13:19",
          "2024-02-06T00:14:27",
          "2024-02-06T00:15:15",
          "2024-02-06T00:15:44",
          "2024-02-06T00:15:59",
          "2024-02-06T00:16:20",
          "2024-02-06T00:17:20",
          "2024-02-06T00:17:26",
          "2024-02-06T00:17:52",
          "2024-02-06T00:20:26",
          "2024-02-06T00:21:31",
          "2024-02-06T00:21:56",
          "2024-02-06T00:25:44",
          "2024-02-06T00:25:57",
          "2024-02-06T00:26:10",
          "2024-02-06T00:37:46",
          "2024-02-06T00:38:03",
          "2024-02-06T00:38:29",
          "2024-02-06T00:50:55",
          "2024-02-06T00:51:49",
          "2024-02-06T00:53:16",
          "2024-02-06T00:53:37",
          "2024-02-06T00:54:00",
          "2024-02-06T00:54:21",
          "2024-02-06T00:54:25",
          "2024-02-06T01:09:39",
          "2024-02-06T01:09:50",
          "2024-02-06T01:09:55",
          "2024-02-06T01:10:35",
          "2024-02-06T01:11:15",
          "2024-02-06T01:11:30",
          "2024-02-06T01:13:04",
          "2024-02-06T01:13:14",
          "2024-02-06T01:13:44",
          "2024-02-06T01:13:48",
          "2024-02-06T01:14:10",
          "2024-02-06T01:14:27",
          "2024-02-06T01:15:04",
          "2024-02-06T01:15:08",
          "2024-02-06T01:15:18",
          "2024-02-06T01:15:51",
          "2024-02-06T01:16:32",
          "2024-02-06T01:17:32",
          "2024-02-06T12:57:18",
          "2024-02-06T12:57:55",
          "2024-02-06T17:10:03",
          "2024-02-06T21:10:01",
          "2024-02-06T21:10:26",
          "2024-02-06T21:10:38",
          "2024-02-07T14:39:45",
          "2024-02-07T14:39:54",
          "2024-02-07T14:40:17",
          "2024-02-08T09:12:09",
          "2024-02-08T09:12:21",
          "2024-02-08T09:16:29",
          "2024-02-08T09:16:49",
          "2024-02-08T09:18:16",
          "2024-02-09T10:34:47",
          "2024-02-09T10:35:05",
          "2024-02-09T10:35:30",
          "2024-02-10T13:31:14",
          "2024-02-10T13:31:22",
          "2024-02-10T13:31:31",
          "2024-02-10T13:31:50",
          "2024-02-10T13:32:29",
          "2024-02-10T13:33:10",
          "2024-02-10T13:33:24",
          "2024-02-10T13:33:49",
          "2024-02-10T13:33:54",
          "2024-02-10T13:34:10",
          "2024-02-10T14:00:56",
          "2024-02-10T14:02:28",
          "2024-02-10T15:37:02",
          "2024-02-10T15:37:05",
          "2024-02-10T15:37:25",
          "2024-02-10T17:00:41",
          "2024-02-10T17:04:16",
          "2024-02-10T17:15:57",
          "2024-02-10T17:16:09",
          "2024-02-11T05:28:31",
          "2024-02-11T05:29:11",
          "2024-02-11T05:29:25",
          "2024-02-11T14:28:08",
          "2024-02-11T14:28:12",
          "2024-02-11T14:28:39",
          "2024-02-11T14:33:38",
          "2024-02-11T14:34:11",
          "2024-02-11T14:34:28",
          "2024-02-11T14:34:58",
          "2024-02-11T14:35:10",
          "2024-02-11T14:36:15",
          "2024-02-11T14:36:33",
          "2024-02-11T14:37:42",
          "2024-02-11T14:37:57",
          "2024-02-11T14:38:04",
          "2024-02-11T15:42:11",
          "2024-02-11T15:42:18",
          "2024-02-11T15:42:57",
          "2024-02-11T15:43:03",
          "2024-02-11T15:49:50",
          "2024-02-11T15:50:03",
          "2024-02-11T15:50:22",
          "2024-02-11T16:01:47",
          "2024-02-12T12:27:27",
          "2024-02-12T12:27:31",
          "2024-02-13T18:44:38",
          "2024-02-14T10:21:20",
          "2024-02-14T16:54:08",
          "2024-02-15T10:02:46",
          "2024-02-15T10:37:03",
          "2024-02-15T11:05:36",
          "2024-02-15T11:06:36",
          "2024-02-15T11:06:53",
          "2024-02-15T12:02:55",
          "2024-02-15T12:02:57",
          "2024-02-15T12:03:06",
          "2024-02-15T12:03:43",
          "2024-02-15T12:15:03",
          "2024-02-15T12:15:10",
          "2024-02-15T12:15:42",
          "2024-02-15T12:15:50",
          "2024-02-15T12:16:03",
          "2024-02-15T12:16:17",
          "2024-02-15T12:25:28",
          "2024-02-17T11:16:34",
          "2024-02-17T11:16:42",
          "2024-02-17T11:16:52",
          "2024-02-17T11:35:21",
          "2024-02-17T11:35:25",
          "2024-02-19T12:54:50",
          "2024-02-19T12:55:00",
          "2024-02-19T15:51:16",
          "2024-02-19T19:25:04",
          "2024-02-19T19:25:08",
          "2024-02-19T19:25:23",
          "2024-02-19T19:25:38",
          "2024-02-19T19:26:06",
          "2024-02-19T19:26:19",
          "2024-02-19T22:00:30",
          "2024-02-19T22:00:39",
          "2024-02-19T22:00:52",
          "2024-02-19T22:01:14",
          "2024-02-21T12:44:29",
          "2024-02-21T16:37:07",
          "2024-02-21T16:37:10",
          "2024-02-23T11:00:09",
          "2024-02-23T11:00:23",
          "2024-02-23T11:00:42",
          "2024-02-23T11:18:06",
          "2024-02-23T11:18:10",
          "2024-02-23T11:18:31",
          "2024-02-23T11:18:42",
          "2024-02-23T11:19:11",
          "2024-02-23T11:19:39",
          "2024-02-23T11:19:49",
          "2024-02-23T11:20:14",
          "2024-02-23T11:20:16",
          "2024-02-23T11:20:58",
          "2024-02-23T11:21:10",
          "2024-02-23T13:29:10",
          "2024-02-23T13:29:18",
          "2024-02-23T13:48:48",
          "2024-02-23T13:49:29",
          "2024-02-23T14:57:51",
          "2024-02-23T14:57:57",
          "2024-02-23T14:58:05",
          "2024-02-23T20:07:03",
          "2024-02-23T20:07:18",
          "2024-02-23T20:08:22",
          "2024-02-23T21:25:03",
          "2024-02-23T21:25:27",
          "2024-02-23T21:25:36",
          "2024-02-26T10:03:54",
          "2024-02-26T10:03:58",
          "2024-02-26T17:07:30",
          "2024-02-26T23:14:15",
          "2024-02-26T23:14:20",
          "2024-02-27T11:11:00",
          "2024-02-27T11:11:03",
          "2024-02-27T11:11:12",
          "2024-02-27T11:11:29",
          "2024-02-27T12:47:03",
          "2024-02-27T12:47:10",
          "2024-02-27T12:47:21",
          "2024-02-27T16:14:18",
          "2024-02-27T16:14:23",
          "2024-02-27T16:14:28",
          "2024-03-03T11:16:39",
          "2024-03-03T11:18:14",
          "2024-03-03T11:18:53",
          "2024-03-03T11:19:10",
          "2024-03-03T11:19:45",
          "2024-03-03T15:03:54",
          "2024-03-03T15:04:13",
          "2024-03-03T15:04:41",
          "2024-03-07T19:15:04",
          "2024-03-07T19:15:17",
          "2024-03-07T19:15:30",
          "2024-03-07T19:15:36",
          "2024-03-07T19:29:58",
          "2024-03-09T10:54:37",
          "2024-03-09T10:54:59",
          "2024-03-09T10:55:15",
          "2024-03-09T10:55:26",
          "2024-03-09T10:55:36",
          "2024-03-09T10:56:31",
          "2024-03-09T10:59:13",
          "2024-03-09T10:59:23",
          "2024-03-09T10:59:35",
          "2024-03-09T11:16:44",
          "2024-03-09T22:59:05",
          "2024-03-10T22:27:29",
          "2024-03-10T22:27:32",
          "2024-03-11T15:34:59",
          "2024-03-11T17:36:21",
          "2024-03-11T17:38:01",
          "2024-03-11T17:38:07",
          "2024-03-11T18:03:25",
          "2024-03-11T18:03:32",
          "2024-03-11T18:03:47",
          "2024-03-15T16:37:43",
          "2024-03-15T16:38:04",
          "2024-03-15T16:38:16",
          "2024-03-20T10:59:40",
          "2024-03-20T21:05:28",
          "2024-03-20T21:05:30",
          "2024-03-20T21:05:46",
          "2024-03-20T21:06:14",
          "2024-03-20T21:06:27",
          "2024-03-20T21:06:34",
          "2024-03-20T22:19:17",
          "2024-03-20T22:19:35",
          "2024-03-20T23:54:10",
          "2024-03-20T23:54:17",
          "2024-03-21T09:17:40",
          "2024-03-21T09:17:50",
          "2024-03-21T09:18:18",
          "2024-03-21T09:18:30",
          "2024-03-21T09:18:33",
          "2024-03-21T10:10:50",
          "2024-03-21T10:11:35",
          "2024-03-21T10:22:17",
          "2024-03-21T10:22:30",
          "2024-03-21T10:22:38",
          "2024-03-22T19:36:04",
          "2024-03-28T15:24:49",
          "2024-03-28T15:41:53",
          "2024-03-28T15:42:01",
          "2024-03-28T15:42:29",
          "2024-03-28T15:42:57",
          "2024-03-28T15:58:04",
          "2024-03-28T15:58:16",
          "2024-03-28T15:59:32",
          "2024-03-28T16:25:59",
          "2024-03-28T16:50:30",
          "2024-03-28T16:50:37",
          "2024-03-28T16:50:42",
          "2024-03-28T16:51:06",
          "2024-03-29T19:37:39",
          "2024-03-30T11:02:31",
          "2024-03-30T11:02:45",
          "2024-03-30T11:03:03",
          "2024-03-30T11:03:35",
          "2024-03-30T11:43:17",
          "2024-03-30T16:30:48",
          "2024-03-30T16:31:14",
          "2024-03-30T18:13:12",
          "2024-03-30T18:13:19",
          "2024-03-30T18:20:18",
          "2024-03-30T18:20:25",
          "2024-03-30T18:23:19",
          "2024-03-30T18:27:19",
          "2024-03-30T18:31:29",
          "2024-03-30T18:31:48",
          "2024-03-30T18:32:03",
          "2024-03-30T18:32:14",
          "2024-03-30T18:32:18",
          "2024-03-30T19:32:10",
          "2024-03-30T19:32:28",
          "2024-03-30T19:37:29",
          "2024-03-30T19:37:31",
          "2024-04-01T18:19:57",
          "2024-04-01T18:20:07",
          "2024-04-01T18:20:25",
          "2024-04-01T18:20:37",
          "2024-04-01T18:21:26",
          "2024-04-01T18:21:32",
          "2024-04-01T18:22:07",
          "2024-04-01T18:22:28",
          "2024-04-01T18:22:48",
          "2024-04-02T02:19:41",
          "2024-04-02T02:19:56",
          "2024-04-02T02:28:13",
          "2024-04-02T02:30:58",
          "2024-04-02T16:42:31",
          "2024-04-02T17:05:27",
          "2024-04-03T00:41:02",
          "2024-04-03T00:41:20",
          "2024-04-03T00:42:34",
          "2024-04-03T00:43:45",
          "2024-04-03T08:42:00",
          "2024-04-03T08:42:09",
          "2024-04-03T08:42:24",
          "2024-04-03T16:25:32",
          "2024-04-03T19:13:12",
          "2024-04-03T19:13:17",
          "2024-04-03T19:14:04",
          "2024-04-03T19:14:39",
          "2024-04-04T10:14:33",
          "2024-04-04T10:14:39",
          "2024-04-04T10:22:21",
          "2024-04-04T10:22:32",
          "2024-04-04T10:32:27",
          "2024-04-04T10:32:38",
          "2024-04-04T14:18:58",
          "2024-04-04T14:35:13",
          "2024-04-04T15:16:45",
          "2024-04-05T12:55:31",
          "2024-04-05T12:55:43",
          "2024-04-05T12:56:13",
          "2024-04-05T13:00:16",
          "2024-04-05T13:03:22",
          "2024-04-05T13:03:27",
          "2024-04-05T13:03:41",
          "2024-04-05T13:09:00",
          "2024-04-05T20:45:29",
          "2024-04-05T20:45:36",
          "2024-04-05T20:53:55",
          "2024-04-05T20:54:27",
          "2024-04-06T17:20:03",
          "2024-04-06T20:23:52",
          "2024-04-06T23:02:33",
          "2024-04-06T23:03:16",
          "2024-04-06T23:03:32",
          "2024-04-06T23:04:02",
          "2024-04-06T23:04:56",
          "2024-04-06T23:05:09",
          "2024-04-06T23:05:34",
          "2024-04-06T23:05:51",
          "2024-04-06T23:06:11",
          "2024-04-06T23:08:43",
          "2024-04-06T23:08:55",
          "2024-04-06T23:09:07",
          "2024-04-06T23:09:42",
          "2024-04-06T23:10:03",
          "2024-04-06T23:10:26",
          "2024-04-08T12:06:57",
          "2024-04-08T12:07:10",
          "2024-04-08T12:07:31",
          "2024-04-08T12:11:47",
          "2024-04-08T12:11:52",
          "2024-04-08T12:13:46",
          "2024-04-08T12:13:51",
          "2024-04-08T12:14:24",
          "2024-04-08T12:16:45",
          "2024-04-08T14:53:38",
          "2024-04-08T14:53:52",
          "2024-04-08T15:01:46",
          "2024-04-08T15:01:56",
          "2024-04-08T15:02:16",
          "2024-04-08T15:02:28",
          "2024-04-08T15:02:37",
          "2024-04-08T15:03:00",
          "2024-04-08T15:03:33",
          "2024-04-08T15:03:41",
          "2024-04-08T15:04:17",
          "2024-04-08T15:04:21",
          "2024-04-08T15:11:15",
          "2024-04-08T15:33:25",
          "2024-04-08T15:33:32",
          "2024-04-08T15:33:40",
          "2024-04-08T15:33:54",
          "2024-04-08T15:42:47",
          "2024-04-08T15:44:21",
          "2024-04-08T15:44:30",
          "2024-04-08T15:46:00",
          "2024-04-08T15:47:06",
          "2024-04-08T15:47:40",
          "2024-04-08T15:48:36",
          "2024-04-08T15:48:48",
          "2024-04-08T17:46:05",
          "2024-04-08T17:46:12",
          "2024-04-08T17:58:28",
          "2024-04-08T17:58:32",
          "2024-04-08T17:58:49",
          "2024-04-08T17:58:56",
          "2024-04-08T17:59:57",
          "2024-04-08T18:00:25",
          "2024-04-08T18:15:35",
          "2024-04-08T18:16:28",
          "2024-04-08T18:16:34",
          "2024-04-08T18:52:25",
          "2024-04-08T19:00:58",
          "2024-04-08T22:55:09",
          "2024-04-08T23:17:21",
          "2024-04-08T23:17:40",
          "2024-04-08T23:17:55",
          "2024-04-10T18:54:07",
          "2024-04-10T18:54:25",
          "2024-04-11T11:45:30",
          "2024-04-11T11:46:26",
          "2024-04-11T11:46:36",
          "2024-04-11T13:32:29",
          "2024-04-11T17:55:57",
          "2024-04-11T17:56:05",
          "2024-04-11T18:18:30",
          "2024-04-12T11:16:52",
          "2024-04-12T11:25:03",
          "2024-04-12T11:25:09",
          "2024-04-12T11:30:28",
          "2024-04-12T19:31:59",
          "2024-04-12T19:32:15",
          "2024-04-12T19:32:20",
          "2024-04-12T20:34:40",
          "2024-04-12T20:36:44",
          "2024-04-12T20:38:58",
          "2024-04-12T20:39:14",
          "2024-04-12T20:39:34",
          "2024-04-12T20:39:52",
          "2024-04-12T20:39:57",
          "2024-04-12T20:40:54",
          "2024-04-12T20:42:22",
          "2024-04-12T20:42:34",
          "2024-04-12T20:42:40",
          "2024-04-12T20:42:44",
          "2024-04-12T20:43:04",
          "2024-04-12T20:43:14",
          "2024-04-12T20:43:25",
          "2024-04-12T20:44:07",
          "2024-04-12T20:44:22",
          "2024-04-12T20:44:26",
          "2024-04-12T20:45:43",
          "2024-04-12T20:46:25",
          "2024-04-12T20:46:33",
          "2024-04-12T20:47:11",
          "2024-04-12T20:47:22",
          "2024-04-12T20:47:35",
          "2024-04-12T20:47:56",
          "2024-04-12T20:48:10",
          "2024-04-12T20:48:48",
          "2024-04-12T20:48:51",
          "2024-04-12T21:22:08",
          "2024-04-12T21:22:11",
          "2024-04-12T21:28:08",
          "2024-04-12T21:29:48",
          "2024-04-15T12:15:38",
          "2024-04-15T17:34:06",
          "2024-04-15T17:34:19",
          "2024-04-15T17:38:35",
          "2024-04-15T17:38:47",
          "2024-04-15T17:39:10",
          "2024-04-15T17:44:34",
          "2024-04-16T11:22:58",
          "2024-04-16T11:24:18",
          "2024-04-16T11:37:52",
          "2024-04-16T11:37:58",
          "2024-04-16T12:00:47",
          "2024-04-16T12:06:27",
          "2024-04-16T12:07:17",
          "2024-04-16T12:41:41",
          "2024-04-16T12:41:57",
          "2024-04-16T12:42:09",
          "2024-04-16T12:50:31",
          "2024-04-16T12:51:00",
          "2024-04-16T12:55:43",
          "2024-04-16T12:55:48",
          "2024-04-16T12:55:54",
          "2024-04-16T13:03:33",
          "2024-04-16T13:03:50",
          "2024-04-16T13:04:07",
          "2024-04-16T13:34:58",
          "2024-04-16T13:35:14",
          "2024-04-16T13:35:22",
          "2024-04-17T09:01:48",
          "2024-04-17T09:02:03",
          "2024-04-17T12:32:04",
          "2024-04-17T12:32:13",
          "2024-04-17T12:39:05",
          "2024-04-17T13:15:48",
          "2024-04-17T13:15:54",
          "2024-04-17T13:28:30",
          "2024-04-17T13:28:37",
          "2024-04-17T23:30:53",
          "2024-04-17T23:30:56",
          "2024-04-17T23:31:10",
          "2024-04-17T23:31:13",
          "2024-04-17T23:31:36",
          "2024-04-17T23:38:18",
          "2024-04-17T23:38:25",
          "2024-04-17T23:38:35",
          "2024-04-19T10:37:23",
          "2024-04-19T10:37:31",
          "2024-04-19T14:30:31",
          "2024-04-19T14:30:54",
          "2024-04-19T14:31:10",
          "2024-04-19T14:31:28",
          "2024-04-19T14:48:14",
          "2024-04-19T14:48:31",
          "2024-04-19T19:41:37",
          "2024-04-19T19:42:41",
          "2024-04-21T14:47:11",
          "2024-04-22T17:58:38",
          "2024-04-22T17:58:52",
          "2024-04-22T17:59:14",
          "2024-04-22T17:59:35",
          "2024-04-22T17:59:43",
          "2024-04-22T18:00:29",
          "2024-04-22T18:02:16",
          "2024-04-22T18:02:40",
          "2024-04-22T18:10:16",
          "2024-04-22T18:10:51",
          "2024-04-22T18:11:00",
          "2024-04-22T18:12:07",
          "2024-04-22T18:13:25",
          "2024-04-22T18:17:03",
          "2024-04-22T18:17:17",
          "2024-04-22T18:17:47",
          "2024-04-22T18:18:09",
          "2024-04-22T18:19:10",
          "2024-04-22T18:19:50",
          "2024-04-22T18:44:52",
          "2024-04-22T18:45:12",
          "2024-04-22T19:06:00",
          "2024-04-22T20:01:12",
          "2024-04-22T20:11:48",
          "2024-04-22T22:52:49",
          "2024-04-22T22:52:57",
          "2024-04-22T22:53:18",
          "2024-04-22T22:53:23",
          "2024-04-22T22:53:59",
          "2024-04-22T22:54:18",
          "2024-04-22T22:54:26",
          "2024-04-22T22:54:58",
          "2024-04-22T23:25:35",
          "2024-04-22T23:25:53",
          "2024-04-22T23:26:48",
          "2024-04-23T11:05:36",
          "2024-04-23T11:12:20",
          "2024-04-24T16:27:31",
          "2024-04-24T16:27:50",
          "2024-04-25T15:35:49",
          "2024-04-25T15:36:02",
          "2024-04-25T15:36:06",
          "2024-04-25T18:38:28",
          "2024-04-25T18:39:36",
          "2024-04-25T18:39:52",
          "2024-04-26T16:14:48",
          "2024-04-26T16:15:35",
          "2024-04-29T01:35:01",
          "2024-04-29T01:35:10",
          "2024-04-29T01:35:15",
          "2024-04-29T01:35:28",
          "2024-04-29T01:56:01",
          "2024-04-29T01:56:17",
          "2024-04-29T01:56:43",
          "2024-04-29T17:25:34",
          "2024-04-29T17:33:14",
          "2024-04-29T17:34:18",
          "2024-04-29T17:34:38",
          "2024-04-29T17:38:02",
          "2024-04-29T17:38:06",
          "2024-04-29T18:13:44",
          "2024-04-29T18:14:12",
          "2024-04-29T18:19:30",
          "2024-04-29T18:19:37",
          "2024-04-29T18:20:34",
          "2024-04-29T18:22:29",
          "2024-04-29T18:22:36",
          "2024-04-29T18:22:46",
          "2024-04-29T18:24:47",
          "2024-04-29T18:24:59",
          "2024-04-29T18:25:14",
          "2024-04-30T10:44:21",
          "2024-04-30T10:44:25",
          "2024-04-30T10:46:20",
          "2024-04-30T10:46:24",
          "2024-04-30T10:55:02",
          "2024-04-30T10:56:00",
          "2024-04-30T10:56:26",
          "2024-04-30T10:56:29",
          "2024-04-30T10:56:41",
          "2024-04-30T10:56:59",
          "2024-04-30T10:59:02",
          "2024-04-30T10:59:12",
          "2024-04-30T10:59:24",
          "2024-05-05T23:00:44",
          "2024-05-05T23:01:40",
          "2024-05-05T23:02:22",
          "2024-05-05T23:13:51",
          "2024-05-05T23:14:06",
          "2024-05-06T10:55:02",
          "2024-05-06T10:55:15",
          "2024-05-06T10:55:40",
          "2024-05-06T13:43:41",
          "2024-05-06T13:47:14",
          "2024-05-06T13:47:36",
          "2024-05-06T13:47:56",
          "2024-05-06T13:59:17",
          "2024-05-06T13:59:30",
          "2024-05-06T14:33:21",
          "2024-05-06T14:33:30",
          "2024-05-06T14:33:42",
          "2024-05-06T14:34:57",
          "2024-05-06T14:35:03",
          "2024-05-06T14:35:23",
          "2024-05-06T14:36:51",
          "2024-05-06T14:36:56",
          "2024-05-06T14:37:09",
          "2024-05-06T14:37:39",
          "2024-05-06T14:38:05",
          "2024-05-06T14:39:37",
          "2024-05-06T14:39:47",
          "2024-05-06T14:39:59",
          "2024-05-06T14:40:18",
          "2024-05-06T14:40:26",
          "2024-05-06T14:40:39",
          "2024-05-06T14:40:53",
          "2024-05-06T15:07:10",
          "2024-05-06T15:07:14",
          "2024-05-06T15:07:20",
          "2024-05-06T21:00:18",
          "2024-05-06T21:00:35",
          "2024-05-06T21:02:18",
          "2024-05-06T21:02:30",
          "2024-05-06T21:03:05",
          "2024-05-06T22:44:17",
          "2024-05-06T22:44:35",
          "2024-05-06T22:45:31",
          "2024-05-06T22:45:41",
          "2024-05-06T23:03:50",
          "2024-05-06T23:04:15",
          "2024-05-06T23:04:18",
          "2024-05-06T23:12:02",
          "2024-05-06T23:12:32",
          "2024-05-06T23:12:35",
          "2024-05-06T23:13:44",
          "2024-05-06T23:14:24",
          "2024-05-06T23:15:32",
          "2024-05-06T23:15:43",
          "2024-05-06T23:15:58",
          "2024-05-06T23:16:08",
          "2024-05-06T23:16:12",
          "2024-05-06T23:16:22",
          "2024-05-06T23:16:59",
          "2024-05-06T23:17:32",
          "2024-05-06T23:18:09",
          "2024-05-06T23:18:43",
          "2024-05-06T23:18:56",
          "2024-05-06T23:19:30",
          "2024-05-06T23:19:54",
          "2024-05-06T23:20:17",
          "2024-05-07T09:13:43",
          "2024-05-07T10:28:46",
          "2024-05-07T10:29:41",
          "2024-05-07T10:29:53",
          "2024-05-07T10:33:24",
          "2024-05-07T10:40:49",
          "2024-05-07T11:01:55",
          "2024-05-07T11:02:57",
          "2024-05-07T11:03:09",
          "2024-05-07T11:04:48",
          "2024-05-07T11:05:35",
          "2024-05-07T11:06:48",
          "2024-05-07T11:07:20",
          "2024-05-07T11:09:22",
          "2024-05-07T11:12:02",
          "2024-05-07T11:13:54",
          "2024-05-07T11:13:56",
          "2024-05-07T11:14:03",
          "2024-05-07T11:15:27",
          "2024-05-07T11:25:03",
          "2024-05-07T11:25:24",
          "2024-05-07T11:27:31",
          "2024-05-07T11:33:05",
          "2024-05-07T11:33:10",
          "2024-05-07T11:57:23",
          "2024-05-07T12:11:15",
          "2024-05-07T12:11:36",
          "2024-05-07T12:12:06",
          "2024-05-07T12:12:24",
          "2024-05-07T12:36:52",
          "2024-05-07T12:36:55",
          "2024-05-07T12:37:18",
          "2024-05-07T12:37:31",
          "2024-05-07T12:37:40",
          "2024-05-07T13:11:28",
          "2024-05-07T13:12:19",
          "2024-05-07T13:12:39",
          "2024-05-07T13:12:48",
          "2024-05-07T13:12:56",
          "2024-05-07T13:13:26",
          "2024-05-07T13:13:33",
          "2024-05-07T13:13:50",
          "2024-05-07T13:14:08",
          "2024-05-07T13:15:33",
          "2024-05-07T13:15:37",
          "2024-05-07T13:15:40",
          "2024-05-07T13:15:59",
          "2024-05-07T13:36:06",
          "2024-05-07T16:57:16",
          "2024-05-07T16:59:40",
          "2024-05-07T17:00:15",
          "2024-05-07T17:00:37",
          "2024-05-07T17:01:31",
          "2024-05-07T17:01:37",
          "2024-05-07T17:14:05",
          "2024-05-07T17:14:54",
          "2024-05-07T17:15:03",
          "2024-05-07T17:15:22",
          "2024-05-07T17:15:29",
          "2024-05-07T17:16:00",
          "2024-05-07T17:16:07",
          "2024-05-07T17:16:15",
          "2024-05-07T17:16:49",
          "2024-05-07T17:16:54",
          "2024-05-07T17:34:33",
          "2024-05-07T17:35:24",
          "2024-05-07T17:35:41",
          "2024-05-07T17:35:44",
          "2024-05-07T17:35:52",
          "2024-05-07T17:36:39",
          "2024-05-07T17:37:05",
          "2024-05-07T17:38:40",
          "2024-05-07T17:38:50",
          "2024-05-07T17:39:02",
          "2024-05-07T17:39:15",
          "2024-05-07T17:39:37",
          "2024-05-07T17:39:46",
          "2024-05-07T17:40:07",
          "2024-05-07T17:40:29",
          "2024-05-07T17:47:25",
          "2024-05-07T17:47:50",
          "2024-05-07T17:47:57",
          "2024-05-07T18:55:35",
          "2024-05-07T18:56:06",
          "2024-05-07T18:56:44",
          "2024-05-07T18:58:05",
          "2024-05-07T20:43:53",
          "2024-05-07T20:45:29",
          "2024-05-07T20:45:49",
          "2024-05-07T20:46:15",
          "2024-05-07T20:46:53",
          "2024-05-07T20:49:33",
          "2024-05-07T20:50:00",
          "2024-05-07T20:50:23",
          "2024-05-07T20:50:39",
          "2024-05-07T20:50:43",
          "2024-05-07T20:50:49",
          "2024-05-07T20:51:19",
          "2024-05-07T20:51:46",
          "2024-05-07T20:52:38",
          "2024-05-07T20:53:02",
          "2024-05-07T20:53:42",
          "2024-05-07T20:54:24",
          "2024-05-07T20:54:45",
          "2024-05-07T20:55:14",
          "2024-05-07T20:55:27",
          "2024-05-07T20:55:36",
          "2024-05-07T20:55:44",
          "2024-05-07T20:56:01",
          "2024-05-07T20:56:15",
          "2024-05-07T20:56:55",
          "2024-05-07T20:57:05",
          "2024-05-07T20:57:39",
          "2024-05-07T20:58:46",
          "2024-05-07T20:59:03",
          "2024-05-07T20:59:21",
          "2024-05-07T20:59:39",
          "2024-05-07T20:59:49",
          "2024-05-07T21:00:14",
          "2024-05-07T21:00:54",
          "2024-05-07T21:01:15",
          "2024-05-07T21:01:20",
          "2024-05-07T21:29:56",
          "2024-05-07T21:30:06",
          "2024-05-07T21:30:42",
          "2024-05-07T21:31:24",
          "2024-05-07T22:33:47",
          "2024-05-07T22:34:07",
          "2024-05-07T22:34:25",
          "2024-05-07T22:39:13",
          "2024-05-07T22:39:17",
          "2024-05-08T10:32:29",
          "2024-05-08T13:53:15",
          "2024-05-08T13:53:23",
          "2024-05-08T13:55:13",
          "2024-05-08T13:55:40",
          "2024-05-08T13:55:46",
          "2024-05-08T13:57:55",
          "2024-05-08T13:58:02",
          "2024-05-08T13:58:34",
          "2024-05-08T13:58:37",
          "2024-05-08T13:58:59",
          "2024-05-08T14:34:30",
          "2024-05-08T21:22:59",
          "2024-05-08T22:59:53",
          "2024-05-08T23:02:40",
          "2024-05-08T23:04:06",
          "2024-05-08T23:04:16",
          "2024-05-08T23:05:53",
          "2024-05-08T23:11:31",
          "2024-05-08T23:11:43",
          "2024-05-08T23:14:12",
          "2024-05-08T23:15:55",
          "2024-05-08T23:17:12",
          "2024-05-08T23:19:22",
          "2024-05-08T23:42:25",
          "2024-05-08T23:42:30",
          "2024-05-08T23:43:07",
          "2024-05-09T00:03:11",
          "2024-05-09T00:03:18",
          "2024-05-09T00:03:53",
          "2024-05-09T00:04:43",
          "2024-05-09T00:04:49",
          "2024-05-09T00:05:02",
          "2024-05-09T00:06:10",
          "2024-05-09T00:07:31",
          "2024-05-09T00:07:41",
          "2024-05-09T00:08:20",
          "2024-05-09T00:08:35",
          "2024-05-09T00:08:53",
          "2024-05-09T00:08:58",
          "2024-05-09T00:10:22",
          "2024-05-09T00:15:01",
          "2024-05-09T00:15:38",
          "2024-05-09T11:31:45",
          "2024-05-09T14:54:15",
          "2024-05-09T14:54:20",
          "2024-05-09T14:54:31",
          "2024-05-09T15:17:35",
          "2024-05-09T15:17:41",
          "2024-05-09T15:18:22",
          "2024-05-09T15:18:33",
          "2024-05-09T15:22:42",
          "2024-05-09T15:22:59",
          "2024-05-09T15:23:12",
          "2024-05-09T15:23:22",
          "2024-05-09T15:49:51",
          "2024-05-09T15:49:54",
          "2024-05-09T18:42:48",
          "2024-05-09T18:42:52",
          "2024-05-09T18:43:04",
          "2024-05-09T18:43:53",
          "2024-05-09T18:44:06",
          "2024-05-09T18:44:09",
          "2024-05-09T18:46:20",
          "2024-05-09T18:46:25",
          "2024-05-09T18:46:49",
          "2024-05-09T21:36:44",
          "2024-05-09T21:39:50",
          "2024-05-09T21:40:01",
          "2024-05-09T21:40:16",
          "2024-05-09T21:40:32",
          "2024-05-09T21:47:43",
          "2024-05-09T21:48:04",
          "2024-05-09T21:48:10",
          "2024-05-09T21:51:45",
          "2024-05-09T21:51:58",
          "2024-05-09T21:52:04",
          "2024-05-09T21:52:19",
          "2024-05-09T21:52:30",
          "2024-05-09T21:52:49",
          "2024-05-09T21:52:52",
          "2024-05-09T21:53:00",
          "2024-05-09T21:53:07",
          "2024-05-09T21:54:55",
          "2024-05-09T21:55:37",
          "2024-05-09T21:55:47",
          "2024-05-09T21:56:06",
          "2024-05-09T22:48:36",
          "2024-05-09T23:16:23",
          "2024-05-09T23:16:40",
          "2024-05-10T11:45:53",
          "2024-05-10T11:45:58",
          "2024-05-10T11:46:37",
          "2024-05-10T11:47:18",
          "2024-05-10T11:49:31",
          "2024-05-10T11:50:04",
          "2024-05-10T14:32:39",
          "2024-05-10T14:32:44",
          "2024-05-10T14:32:52",
          "2024-05-10T14:52:30",
          "2024-05-10T17:40:18",
          "2024-05-10T22:46:36",
          "2024-05-10T22:47:10",
          "2024-05-11T00:20:06",
          "2024-05-11T00:20:20",
          "2024-05-11T00:23:51",
          "2024-05-11T01:11:48",
          "2024-05-11T23:21:04",
          "2024-05-11T23:21:13",
          "2024-05-11T23:21:21",
          "2024-05-11T23:21:25",
          "2024-05-11T23:21:59",
          "2024-05-11T23:22:22",
          "2024-05-12T00:17:11",
          "2024-05-12T00:17:17",
          "2024-05-12T00:17:34",
          "2024-05-12T00:18:25",
          "2024-05-12T00:18:40",
          "2024-05-12T00:19:15",
          "2024-05-12T00:19:19",
          "2024-05-12T00:19:34",
          "2024-05-12T00:20:05",
          "2024-05-12T00:20:20",
          "2024-05-12T13:45:26",
          "2024-05-12T13:45:56",
          "2024-05-12T13:49:44",
          "2024-05-12T13:49:58",
          "2024-05-12T13:50:15",
          "2024-05-12T13:52:58",
          "2024-05-12T13:53:26",
          "2024-05-12T14:08:40",
          "2024-05-12T14:09:08",
          "2024-05-12T14:09:34",
          "2024-05-12T14:09:59",
          "2024-05-12T14:11:24",
          "2024-05-12T14:11:33",
          "2024-05-12T14:12:41",
          "2024-05-12T14:12:57",
          "2024-05-12T14:15:33",
          "2024-05-12T14:15:46",
          "2024-05-12T15:35:01",
          "2024-05-12T15:35:06",
          "2024-05-12T15:39:08",
          "2024-05-12T15:39:15",
          "2024-05-12T15:39:35",
          "2024-05-12T15:39:48",
          "2024-05-12T15:40:22",
          "2024-05-12T15:57:50",
          "2024-05-12T15:58:18",
          "2024-05-12T15:58:21",
          "2024-05-12T15:58:26",
          "2024-05-12T15:58:38",
          "2024-05-12T16:02:34",
          "2024-05-12T16:02:45",
          "2024-05-12T16:02:53",
          "2024-05-12T16:03:06",
          "2024-05-12T16:18:11",
          "2024-05-12T16:18:27",
          "2024-05-12T16:22:28",
          "2024-05-12T16:23:11",
          "2024-05-12T16:26:49",
          "2024-05-12T16:26:58",
          "2024-05-12T16:27:40",
          "2024-05-12T16:38:58",
          "2024-05-12T16:39:26",
          "2024-05-12T16:41:49",
          "2024-05-12T16:41:51",
          "2024-05-12T20:39:53",
          "2024-05-12T20:42:09",
          "2024-05-12T20:42:14",
          "2024-05-12T20:42:23",
          "2024-05-12T20:43:41",
          "2024-05-12T20:43:47",
          "2024-05-12T20:44:55",
          "2024-05-12T20:46:33",
          "2024-05-12T20:47:10",
          "2024-05-12T20:49:25",
          "2024-05-12T20:49:59",
          "2024-05-12T20:51:05",
          "2024-05-12T21:06:10",
          "2024-05-12T21:06:28",
          "2024-05-12T21:07:43",
          "2024-05-12T21:08:15",
          "2024-05-12T21:09:10",
          "2024-05-12T21:09:37",
          "2024-05-12T21:10:11",
          "2024-05-12T21:10:19",
          "2024-05-12T21:11:20",
          "2024-05-12T21:15:33",
          "2024-05-12T21:15:57",
          "2024-05-12T21:16:18",
          "2024-05-12T21:16:38",
          "2024-05-12T21:17:00",
          "2024-05-12T21:17:28",
          "2024-05-12T21:18:35",
          "2024-05-12T21:21:34",
          "2024-05-12T21:26:42",
          "2024-05-12T21:26:57",
          "2024-05-12T21:27:20",
          "2024-05-12T21:27:23",
          "2024-05-12T21:29:12",
          "2024-05-12T21:29:28",
          "2024-05-12T21:30:01",
          "2024-05-12T21:30:05",
          "2024-05-12T21:30:17",
          "2024-05-12T21:31:12",
          "2024-05-12T21:33:24",
          "2024-05-12T21:33:34",
          "2024-05-12T21:35:15",
          "2024-05-12T21:36:38",
          "2024-05-12T21:37:12",
          "2024-05-12T21:37:24",
          "2024-05-12T21:39:47",
          "2024-05-12T21:39:56",
          "2024-05-12T22:02:24",
          "2024-05-12T22:02:26",
          "2024-05-12T22:03:03",
          "2024-05-12T22:15:15",
          "2024-05-12T22:19:54",
          "2024-05-12T22:20:03",
          "2024-05-12T22:20:12",
          "2024-05-12T22:21:39",
          "2024-05-13T11:06:02",
          "2024-05-13T15:12:15",
          "2024-05-13T15:12:25",
          "2024-05-13T15:12:27",
          "2024-05-13T15:12:51",
          "2024-05-13T15:13:00",
          "2024-05-13T15:13:50",
          "2024-05-13T15:13:59",
          "2024-05-13T15:14:14",
          "2024-05-13T15:15:17",
          "2024-05-13T15:15:38",
          "2024-05-13T15:15:55",
          "2024-05-13T15:16:30",
          "2024-05-13T15:16:49",
          "2024-05-13T15:19:25",
          "2024-05-13T15:45:15",
          "2024-05-13T15:46:23",
          "2024-05-13T19:04:35",
          "2024-05-13T19:05:25",
          "2024-05-13T21:15:56",
          "2024-05-13T21:17:50",
          "2024-05-13T21:18:04",
          "2024-05-13T22:07:24",
          "2024-05-13T22:22:59",
          "2024-05-13T22:23:09",
          "2024-05-13T22:23:58",
          "2024-05-13T22:27:18",
          "2024-05-13T22:27:39",
          "2024-05-13T22:27:54",
          "2024-05-13T22:28:10",
          "2024-05-13T22:28:40",
          "2024-05-13T22:28:51",
          "2024-05-13T22:29:13",
          "2024-05-13T22:29:29",
          "2024-05-13T22:29:38",
          "2024-05-13T22:30:08",
          "2024-05-13T22:30:20",
          "2024-05-13T22:30:48",
          "2024-05-13T22:31:56",
          "2024-05-13T22:32:26",
          "2024-05-13T22:32:43",
          "2024-05-13T22:32:45",
          "2024-05-13T22:33:08",
          "2024-05-13T22:35:00",
          "2024-05-13T22:35:09",
          "2024-05-13T22:35:19",
          "2024-05-13T22:36:35",
          "2024-05-13T22:37:06",
          "2024-05-13T22:37:14",
          "2024-05-13T22:37:23",
          "2024-05-13T22:37:29",
          "2024-05-13T22:37:56",
          "2024-05-13T22:39:30",
          "2024-05-13T22:39:46",
          "2024-05-13T22:40:09",
          "2024-05-13T22:40:46",
          "2024-05-13T22:41:03",
          "2024-05-13T22:41:48",
          "2024-05-13T22:42:03",
          "2024-05-13T22:42:16",
          "2024-05-13T22:42:38",
          "2024-05-14T10:34:16",
          "2024-05-14T10:34:36",
          "2024-05-14T10:34:45",
          "2024-05-14T13:11:27",
          "2024-05-14T13:11:37",
          "2024-05-14T13:11:44",
          "2024-05-14T13:11:58",
          "2024-05-14T13:12:03",
          "2024-05-14T13:27:23",
          "2024-05-14T13:28:56",
          "2024-05-14T13:29:03"
         ],
         "y": [
          null,
          null,
          null,
          null,
          null,
          null,
          null,
          null,
          null,
          null,
          null,
          null,
          null,
          null,
          null,
          null,
          null,
          null,
          null,
          0.09869099557399749,
          -0.0005987823009490967,
          -0.09930169582366943,
          -0.1987114816904068,
          -0.29359968900680544,
          -0.39309985339641573,
          -0.2936465978622437,
          -0.3725377470254898,
          -0.4695340484380722,
          -0.46263512074947355,
          -0.36292715072631837,
          -0.2632990092039108,
          -0.2629957735538483,
          -0.1694019228219986,
          -0.26933213174343107,
          -0.1749658018350601,
          -0.16896337568759917,
          -0.17260271310806274,
          -0.07440309524536133,
          0.02352388799190521,
          0.04547464847564697,
          0.1449129343032837,
          0.1438000440597534,
          0.24360195994377137,
          0.24001661837100982,
          0.25083027482032777,
          0.24258551895618438,
          0.2220798134803772,
          0.22632306814193726,
          0.3190484017133713,
          0.22551008462905883,
          0.1264066219329834,
          0.12626329362392424,
          0.1259542167186737,
          0.1261225789785385,
          0.13040608465671538,
          0.030528444051742553,
          -0.06512793898582458,
          -0.16281175315380098,
          -0.26078510880470274,
          -0.18373826444149016,
          -0.18406390845775605,
          -0.08482126295566558,
          -0.1610909014940262,
          -0.06132442355155945,
          -0.07208697199821472,
          -0.06336755454540252,
          -0.06303635835647584,
          0.032567352056503296,
          0.026963770389556885,
          0.02088770866394043,
          0.09678058326244354,
          0.000016841292381286622,
          -0.09855185747146607,
          -0.09847583174705506,
          -0.19717864990234374,
          -0.19720923602581025,
          -0.19381931126117707,
          -0.09552571475505829,
          0.0024598240852355957,
          -0.09679734408855438,
          -0.19334192872047423,
          -0.29266523718833926,
          -0.2164220243692398,
          -0.3162613421678543,
          -0.21681127250194548,
          -0.21696830093860625,
          -0.11744312345981597,
          -0.11745059490203857,
          -0.1965940237045288,
          -0.0969482719898224,
          -0.07370153367519379,
          -0.07675797641277313,
          -0.07744373083114624,
          0.013321200013160705,
          0.01334492266178131,
          0.014593368768692017,
          0.01242196261882782,
          -0.08640095889568329,
          -0.08660116791725159,
          -0.0871304839849472,
          -0.08615553677082062,
          -0.08502439260482789,
          -0.18493825495243071,
          -0.18500774800777436,
          -0.2849787652492523,
          -0.384605747461319,
          -0.4842830687761307,
          -0.5838419675827027,
          -0.5944940656423569,
          -0.6931232810020447,
          -0.6932004630565644,
          -0.6931510269641876,
          -0.6745590418577194,
          -0.6656891942024231,
          -0.5662326961755753,
          -0.46778241693973543,
          -0.3697851300239563,
          -0.3700889557600021,
          -0.3699413686990738,
          -0.2738250881433487,
          -0.2709850251674652,
          -0.2702037006616592,
          -0.2635581612586975,
          -0.16372860968112946,
          -0.06383007764816284,
          0.031712460517883304,
          0.038288772106170654,
          0.03956039547920227,
          0.03542165160179138,
          0.034892821311950685,
          0.032621166110038756,
          0.03478482365608215,
          0.016313061118125916,
          -0.08172539174556732,
          -0.08171100318431854,
          -0.08492588996887207,
          -0.08488914966583253,
          -0.06370508074760436,
          -0.16307054162025453,
          -0.25815472900867464,
          -0.24826876819133759,
          -0.15062535107135772,
          -0.058667412400245665,
          -0.06801135540008545,
          -0.06795733571052551,
          -0.1636384278535843,
          -0.16918947994709016,
          -0.07150420248508453,
          0.028115162253379823,
          0.029244080185890198,
          -0.06762772798538208,
          -0.06968934237957,
          -0.0695921540260315,
          0.02846921682357788,
          0.027220457792282104,
          -0.06481439471244813,
          -0.06470497250556946,
          -0.0013374775648117066,
          0.09699351489543914,
          0.19517624080181123,
          0.27833943367004393,
          0.2787530481815338,
          0.2801010012626648,
          0.28430124223232267,
          0.28431799113750456,
          0.2843175679445267,
          0.3795912444591522,
          0.3659873098134995,
          0.26604846119880676,
          0.3642839819192886,
          0.46299474239349364,
          0.4630058318376541,
          0.5600848466157913,
          0.4601402908563614,
          0.4616566449403763,
          0.5488562524318695,
          0.5488816171884536,
          0.5631838470697403,
          0.5635506331920623,
          0.46502622961997986,
          0.46494949162006377,
          0.4647580772638321,
          0.36494200527667997,
          0.36668228507041933,
          0.27018675208091736,
          0.27140059173107145,
          0.2747603803873062,
          0.2877207726240158,
          0.3719572901725769,
          0.27213095128536224,
          0.2712710678577423,
          0.3706894338130951,
          0.37288702428340914,
          0.37292112708091735,
          0.282113242149353,
          0.2901278644800186,
          0.28997856974601743,
          0.29103538393974304,
          0.29171020090579985,
          0.2916071206331253,
          0.19196292757987976,
          0.09355026781558991,
          0.19336656630039215,
          0.11064077615737915,
          0.20713623166084288,
          0.30585411489009856,
          0.20747944116592407,
          0.20864372253417968,
          0.22419779598712922,
          0.2253741592168808,
          0.22601714134216308,
          0.22639147341251373,
          0.12803224921226503,
          0.1489965498447418,
          0.23998863995075226,
          0.1404421001672745,
          0.04211229681968689,
          0.04043024778366089,
          0.03469010293483734,
          0.13388481736183167,
          0.2332948625087738,
          0.2321688264608383,
          0.23029418289661407,
          0.31650971472263334,
          0.3006278544664383,
          0.2068883568048477,
          0.20812968909740448,
          0.10823771357536316,
          0.008662432432174683,
          0.007559099793434143,
          -0.07308582961559296,
          -0.08191226720809937,
          -0.08330652415752411,
          -0.1037689596414566,
          -0.20330555140972137,
          -0.10352636575698852,
          -0.10395993888378144,
          -0.10263067781925202,
          -0.19503661692142488,
          -0.19520965218544006,
          -0.289240175485611,
          -0.2862984210252762,
          -0.3817907929420471,
          -0.48128681182861327,
          -0.5653255939483642,
          -0.5713876694440841,
          -0.47434928119182584,
          -0.46334481835365293,
          -0.46341925859451294,
          -0.3638413190841675,
          -0.2828113347291946,
          -0.3737103223800659,
          -0.37372739911079406,
          -0.3713544726371765,
          -0.2747946411371231,
          -0.2747475475072861,
          -0.2755793511867523,
          -0.36066173315048217,
          -0.2625176399946213,
          -0.3615516126155853,
          -0.26722036600112914,
          -0.17063176035881042,
          -0.07387780845165252,
          -0.07294990718364716,
          0.02579391896724701,
          0.12559718787670135,
          0.1247075468301773,
          0.1137275367975235,
          0.11427046060562134,
          0.01733199954032898,
          -0.08226191401481628,
          0.011540746688842774,
          0.11107070744037628,
          0.10946675837039947,
          0.013447266817092896,
          0.013306918740272521,
          0.013330087065696716,
          -0.0011738955974578858,
          -0.10108477175235749,
          -0.10182733833789825,
          -0.2015518695116043,
          -0.29490621387958527,
          -0.29487461447715757,
          -0.1975949913263321,
          -0.2763646811246872,
          -0.3754096657037735,
          -0.47364279329776765,
          -0.3737965077161789,
          -0.27452347576618197,
          -0.2772881299257278,
          -0.17734756469726562,
          -0.2713800549507141,
          -0.37077956795692446,
          -0.2795035630464554,
          -0.18050775229930877,
          -0.2803143411874771,
          -0.18611735999584197,
          -0.08616887331008911,
          -0.0841905117034912,
          0.014857646822929383,
          0.015812116861343383,
          0.009833458065986633,
          -0.08950432538986205,
          -0.18715077936649321,
          -0.1073651522397995,
          -0.008284085988998413,
          0.09094307720661163,
          -0.0066005557775497435,
          -0.01889221966266632,
          -0.018919041752815245,
          -0.11882729530334472,
          -0.09590460658073426,
          -0.0961391031742096,
          -0.08888640105724335,
          -0.18771688342094422,
          -0.18615506887435912,
          -0.18062451779842376,
          -0.2580135017633438,
          -0.1601169526576996,
          -0.25598433911800383,
          -0.25393005907535554,
          -0.15442681312561035,
          -0.15446125864982604,
          -0.15535323321819305,
          -0.15684362649917602,
          -0.15686699151992797,
          -0.16715808510780333,
          -0.09370797276496887,
          -0.18098656237125396,
          -0.18040023744106293,
          -0.18045123517513276,
          -0.10341511368751526,
          -0.10336967408657075,
          -0.20288724601268768,
          -0.20380832850933076,
          -0.10788803994655609,
          -0.11024190485477448,
          -0.05491290688514709,
          -0.056207585334777835,
          -0.05936569571495056,
          0.03289937973022461,
          0.018358734250068665,
          0.018445420265197753,
          0.019110742211341857,
          0.02054528295993805,
          -0.07906542718410492,
          -0.16826488971710205,
          -0.14405951499938965,
          -0.0450601726770401,
          0.0541010707616806,
          0.059531331062316895,
          0.059202641248703,
          0.1589916914701462,
          0.2584315240383148,
          0.25840582847595217,
          0.1609027713537216,
          0.1632505714893341,
          0.08631714582443237,
          -0.01004086434841156,
          0.005067902803421021,
          -0.09016575813293456,
          -0.17555099725723267,
          -0.17546140849590303,
          -0.17599426507949828,
          -0.18716656863689424,
          -0.18350747227668762,
          -0.08409802317619323,
          -0.17038330733776091,
          -0.17041428685188292,
          -0.2697549909353256,
          -0.273860365152359,
          -0.27353053390979765,
          -0.27343163192272185,
          -0.3730749815702438,
          -0.3731155812740326,
          -0.27433983981609344,
          -0.27437679171562196,
          -0.2751621723175049,
          -0.27737479507923124,
          -0.29244133830070496,
          -0.292045584321022,
          -0.2920263260602951,
          -0.29218930900096896,
          -0.2922964870929718,
          -0.28108078241348267,
          -0.2838833212852478,
          -0.38350127935409545,
          -0.3971712589263916,
          -0.4965395718812943,
          -0.4969271332025528,
          -0.49817385971546174,
          -0.5975648283958435,
          -0.6858719140291214,
          -0.5860038995742798,
          -0.5850145250558854,
          -0.5838228523731231,
          -0.682836052775383,
          -0.6829296469688415,
          -0.6828204393386841,
          -0.6826862126588822,
          -0.5834074199199677,
          -0.5833614647388459,
          -0.5828199625015259,
          -0.4829679399728775,
          -0.48291724920272827,
          -0.4824335604906082,
          -0.38279629349708555,
          -0.3050408482551575,
          -0.21400039196014403,
          -0.11519765853881836,
          -0.015311568975448608,
          0.08392974138259887,
          0.17222761809825898,
          0.0726919412612915,
          0.07238036990165711,
          0.07236679494380951,
          0.07352117896080017,
          0.07356900572776795,
          0.1731737732887268,
          0.17607997953891755,
          0.16786172688007356,
          0.2666489839553833,
          0.365763908624649,
          0.3657673060894012,
          0.36580619812011717,
          0.463664311170578,
          0.4633194774389267,
          0.4853011220693588,
          0.4935151427984238,
          0.4945745438337326,
          0.39529578685760497,
          0.295603996515274,
          0.2916159212589264,
          0.2915406465530396,
          0.3728425413370132,
          0.37086630761623385,
          0.46876680552959443,
          0.5686085373163223,
          0.46886812150478363,
          0.47003644406795503,
          0.4031727105379105,
          0.30532065629959104,
          0.2299419164657593,
          0.13246902525424958,
          0.034216657280921936,
          0.0346222996711731,
          0.03503825962543487,
          -0.048087242245674136,
          -0.04833222329616547,
          -0.14775754511356354,
          -0.04849428236484528,
          -0.04842139184474945,
          -0.04472934305667877,
          -0.04238075017929077,
          -0.12406891286373138,
          -0.22185361981391907,
          -0.2240780234336853,
          -0.324030265212059,
          -0.22408565878868103,
          -0.22820833027362825,
          -0.15401466190814972,
          -0.05524573624134064,
          0.020398327708244325,
          0.09897613227367401,
          0.1965432047843933,
          0.09675310850143433,
          -0.0032081514596939086,
          0.07638238668441773,
          -0.0021241843700408936,
          -0.0026349008083343508,
          -0.1014963299036026,
          -0.0017984896898269654,
          -0.001482430100440979,
          0.07926616072654724,
          0.17749612629413605,
          0.177514711022377,
          0.17962781190872193,
          0.19112103879451753,
          0.09120503962039947,
          0.09191906154155731,
          0.0010349512100219726,
          0.0012150675058364869,
          -0.09831223785877227,
          -0.07944922149181366,
          -0.17864534854888917,
          -0.17874000668525697,
          -0.0801152914762497,
          -0.07650196254253387,
          0.002899402379989624,
          0.0032900542020797728,
          0.0022451281547546387,
          -0.0013983070850372315,
          -0.004853549599647522,
          0.011193409562110901,
          -0.08634747564792633,
          0.008085203170776368,
          0.008197733759880066,
          -0.0030811399221420286,
          0.09684188663959503,
          0.1957389384508133,
          0.26489863097667693,
          0.26487337350845336,
          0.36430922746658323,
          0.2645299702882767,
          0.26564674973487856,
          0.26560384333133696,
          0.18547978401184081,
          0.08835844993591309,
          0.08777806460857392,
          0.18710445165634154,
          0.28676703572273254,
          0.19055401384830475,
          0.09403646886348724,
          0.09448703527450561,
          0.19329415559768676,
          0.09870637059211732,
          0.09858143329620361,
          0.1981572300195694,
          0.19805993437767028,
          0.09884686172008514,
          0.021686577796936037,
          -0.07794799208641053,
          -0.07790364027023315,
          0.02191226780414581,
          0.1206730216741562,
          0.12072568833827972,
          0.20159749388694764,
          0.1989430546760559,
          0.19947654008865356,
          0.1995234102010727,
          0.10026069283485413,
          0.20019485354423522,
          0.20028450787067414,
          0.20030054152011872,
          0.10230997800827027,
          0.10242466628551483,
          0.0030609995126724245,
          0.002915462851524353,
          0.0030388444662094115,
          0.0026402205228805544,
          0.002691558003425598,
          0.10235439538955689,
          0.10226846039295197,
          0.002436232566833496,
          0.0024664312601089477,
          0.1023538202047348,
          0.10037257075309754,
          0.10037828683853149,
          0.09990008473396302,
          0.09916528761386871,
          0.09910025000572205,
          0.01826472282409668,
          0.11614480912685395,
          0.11612991094589234,
          0.21415390372276305,
          0.30923080146312715,
          0.30995396077632903,
          0.3077186346054077,
          0.3015966832637787,
          0.3030544459819794,
          0.40215909779071807,
          0.3982364058494568,
          0.2986991912126541,
          0.2994243919849396,
          0.2993614196777344,
          0.2992550551891327,
          0.20206588506698608,
          0.20200969278812408,
          0.10268230736255646,
          0.10351988077163696,
          0.10328671634197235,
          0.08424392342567444,
          -0.01355302631855011,
          -0.013549649715423584,
          -0.11348694264888763,
          -0.2081131935119629,
          -0.1998194307088852,
          -0.2965035080909729,
          -0.38938725292682647,
          -0.3000129729509354,
          -0.3992911547422409,
          -0.48754191398620605,
          -0.4878018260002136,
          -0.4037566095590591,
          -0.5023255348205566,
          -0.6021749168634415,
          -0.5871478587388992,
          -0.5868948400020599,
          -0.586843603849411,
          -0.591969656944275,
          -0.591404664516449,
          -0.5914441734552384,
          -0.4916584134101868,
          -0.4929395854473114,
          -0.48665679395198824,
          -0.38755137026309966,
          -0.3967368245124817,
          -0.30039361119270325,
          -0.30136075615882874,
          -0.3846566677093506,
          -0.3843462258577347,
          -0.2921743720769882,
          -0.19967160820961,
          -0.18461030423641206,
          -0.08614737391471863,
          0.012496170401573182,
          -0.002543437480926514,
          -0.002567028999328613,
          -0.0026673227548599243,
          0.0025291383266448975,
          0.0018010169267654419,
          0.0035573214292526243,
          0.0035180777311325075,
          0.004564297199249267,
          0.09820091724395752,
          -0.0015200316905975343,
          0.09777687788009644,
          0.000697430968284607,
          0.07826560139656066,
          0.07242066264152527,
          0.07219159603118896,
          -0.027212890982627868,
          -0.030229067802429198,
          -0.12998076379299164,
          -0.12982856929302217,
          -0.12849943935871125,
          -0.12749904990196229,
          -0.1276979625225067,
          -0.04258527159690857,
          -0.14235471487045287,
          -0.14146344363689423,
          -0.04343246817588806,
          -0.04431549608707428,
          -0.13196398615837096,
          -0.1319494754076004,
          -0.03199223279953003,
          -0.1305832087993622,
          -0.1304958403110504,
          -0.208009734749794,
          -0.20276857316493987,
          -0.20267105400562285,
          -0.18223111033439637,
          -0.2695705384016037,
          -0.18794420957565308,
          -0.28146280348300934,
          -0.38139753639698026,
          -0.37204859852790834,
          -0.3719662517309189,
          -0.45665617287158966,
          -0.35687545835971834,
          -0.25780312716960907,
          -0.3572762757539749,
          -0.35729536414146423,
          -0.36933227479457853,
          -0.36964077651500704,
          -0.4682646065950394,
          -0.4691330879926682,
          -0.36991697549819946,
          -0.27180794477462766,
          -0.27836503386497496,
          -0.2761829972267151,
          -0.2080231249332428,
          -0.11026221811771393,
          -0.09220804572105408,
          -0.09714047312736511,
          -0.09710609018802643,
          -0.10746681094169616,
          -0.10712061524391174,
          -0.00764356255531311,
          -0.10161311626434326,
          -0.20055217444896697,
          -0.10428985059261323,
          -0.20106730461120606,
          -0.20092655420303346,
          -0.20097582042217255,
          -0.10235804319381714,
          -0.09890586137771606,
          -0.10485500693321229,
          -0.10346117317676544,
          -0.1039907157421112,
          -0.0066870242357254025,
          -0.09568072855472565,
          -0.09567230045795441,
          -0.09571336507797241,
          -0.097140634059906,
          -0.014769378304481506,
          -0.014868038892745971,
          0.084289288520813,
          0.08435221314430237,
          0.17829872369766236,
          0.18160443007946014,
          0.08504292070865631,
          0.18215370774269105,
          0.18255628049373626,
          0.1827039748430252,
          0.08296477198600768,
          0.07993711829185486,
          -0.013410842418670655,
          -0.013641023635864257,
          0.08554054200649261,
          0.08578715324401856,
          0.09009155929088593,
          -0.009754875302314758,
          -0.08773798346519471,
          -0.08773532509803772,
          -0.15421231389045714,
          -0.15418287515640258,
          -0.2536790370941162,
          -0.35360561311244965,
          -0.4534331917762756,
          -0.45478121042251585,
          -0.35488328635692595,
          -0.4524421453475952,
          -0.3604403883218765,
          -0.45963550806045533,
          -0.4595630466938019,
          -0.36264672577381135,
          -0.36263300478458405,
          -0.3625061273574829,
          -0.4378033459186554,
          -0.43807896673679353,
          -0.3430623382329941,
          -0.3370907485485077,
          -0.25901010632514954,
          -0.15906331837177276,
          -0.1541477233171463,
          -0.15388968586921692,
          -0.15322915315628052,
          -0.05554949939250946,
          0.03783301711082458,
          0.03515925407409668,
          0.03517630696296692,
          0.03378178775310516,
          -0.058749151229858396,
          -0.059140101075172424,
          -0.0525024026632309,
          -0.14986990094184877,
          -0.14876037538051606,
          -0.24812936186790466,
          -0.26488766372203826,
          -0.2754668384790421,
          -0.3749201238155365,
          -0.28147502839565275,
          -0.38041781485080717,
          -0.3810986131429672,
          -0.3020090878009796,
          -0.20242326855659484,
          -0.20309776663780213,
          -0.3007383108139038,
          -0.2942968010902405,
          -0.29411662817001344,
          -0.3938008636236191,
          -0.3933810919523239,
          -0.29394033551216125,
          -0.19422497749328613,
          -0.20110967755317688,
          -0.20122890770435334,
          -0.10269616842269898,
          -0.002942711114883423,
          0.08880823850631714,
          0.09954572916030884,
          0.19719423353672028,
          0.09806812405586243,
          0.09733721017837524,
          0.0002932757139205933,
          -0.0995662897825241,
          -0.19941896796226502,
          -0.09957646429538727,
          -0.003350144624710083,
          -0.0034229010343551636,
          0.09569080471992493,
          0.19343991875648497,
          0.29259627163410185,
          0.29307117164134977,
          0.19323689937591554,
          0.19344351589679717,
          0.2934080004692078,
          0.29370020925998686,
          0.2938326060771942,
          0.20666405260562898,
          0.10686875581741333,
          0.009245863556861878,
          0.009030550718307495,
          0.09996650218963624,
          0.09772701859474182,
          0.09764593839645386,
          0.19724295735359193,
          0.1727593421936035,
          0.07859723865985871,
          -0.02121117115020752,
          -0.12027826309204101,
          -0.21831246912479402,
          -0.31824447512626647,
          -0.41703595519065856,
          -0.31714704632759094,
          -0.23446553945541382,
          -0.33439667522907257,
          -0.33502503037452697,
          -0.4347921162843704,
          -0.34652874171733855,
          -0.26594436168670654,
          -0.24413064122200012,
          -0.14433478713035583,
          -0.23387566208839417,
          -0.13629114031791686,
          -0.03754691481590271,
          -0.03923828899860382,
          -0.11468161642551422,
          -0.1099120944738388,
          -0.10953328311443329,
          -0.10981541872024536,
          -0.010054916143417358,
          -0.010091611742973327,
          0.08757578432559968,
          0.08751981854438781,
          0.1042939305305481,
          0.10424336194992065,
          0.0839995414018631,
          0.08379146754741669,
          -0.015226471424102783,
          -0.0889434427022934,
          -0.011427485942840576,
          -0.012367567420005799,
          -0.013701006770133972,
          -0.11123513877391815,
          -0.11067782938480378,
          -0.11855733096599579,
          -0.10976102650165558,
          -0.03587989211082458,
          0.06307524740695954,
          0.06297574341297149,
          -0.03318406343460083,
          0.06652028858661652,
          0.0670883059501648,
          0.06408909261226654,
          0.059288859367370605,
          0.15892908871173858,
          0.10395634174346924,
          0.10468279719352722,
          0.10378153622150421,
          0.19683557450771333,
          0.1952528476715088,
          0.19475670158863068,
          0.2942864328622818,
          0.2960514187812805,
          0.20506536662578584,
          0.21490076184272766,
          0.2060964435338974,
          0.22513023614883423,
          0.12590189278125763,
          0.1261688470840454,
          0.12304626405239105,
          0.12331388294696807,
          0.024195095896720885,
          0.0268784761428833,
          -0.06749475300312043,
          -0.1502007305622101,
          -0.07437382042407989,
          0.024866244196891783,
          0.12479505240917206,
          0.032041504979133606,
          0.03403136730194092,
          0.035458579659461975,
          -0.062265419960021974,
          0.035834971070289615,
          0.12745197713375092,
          0.027471864223480226,
          0.027738070487976073,
          -0.07205764949321747,
          -0.07212523221969605,
          -0.07016210854053498,
          -0.0706116646528244,
          -0.07087500989437104,
          0.02878604829311371,
          0.02902120053768158,
          0.12826063334941865,
          0.11201691627502441,
          0.1113981306552887,
          0.11043848991394042,
          0.10383796095848083,
          0.09785853326320648,
          0.09801816940307617,
          0.09777511954307556,
          0.09569198787212371,
          -0.0028506100177764894,
          -0.08768644630908966,
          0.012275224924087525,
          0.012361136078834534,
          0.012460151314735412,
          0.11228357255458832,
          0.11001805365085601,
          0.11105048656463623,
          0.11130072176456451,
          0.11068444848060607,
          0.01095578372478485,
          0.011114019155502319,
          0.10539720356464385,
          0.006412798166275024,
          -0.07628770470619202,
          -0.07374391555786133,
          -0.07474634945392608,
          -0.09569950699806214,
          -0.0958973526954651,
          -0.09579905569553375,
          -0.09674577116966247,
          -0.012036135792732239,
          -0.012416771054267884,
          0.0871597021818161,
          0.08714562058448791,
          0.08672576248645783,
          0.16577926576137542,
          0.1647391527891159,
          0.16449816823005675,
          0.06530364155769348,
          0.06531857550144196,
          -0.03388775885105133,
          -0.02889021635055542,
          -0.02923714816570282,
          0.05443346798419953,
          0.058303332328796385,
          0.05813892185688019,
          -0.020874160528182983,
          -0.12035622596740722,
          -0.12009575068950654,
          -0.1097005307674408,
          -0.11045206189155579,
          -0.20990724265575408,
          -0.3096063703298569,
          -0.3086574852466583,
          -0.31069034039974214,
          -0.38903258740901947,
          -0.2890819817781448,
          -0.2905928552150726,
          -0.29068000614643097,
          -0.19080399870872497,
          -0.09976679384708405,
          -0.10040169060230256,
          -0.010496953129768371,
          -0.11041636168956756,
          -0.2073041796684265,
          -0.19285252094268798,
          -0.19255014657974243,
          -0.19229945838451384,
          -0.19270498156547547,
          -0.10479575395584106,
          -0.1043649971485138,
          -0.08615287542343139,
          -0.08537883162498475,
          -0.08593286871910095,
          -0.0837243676185608,
          -0.08383159935474396,
          -0.08392229974269867,
          -0.1748143196105957,
          -0.1748465657234192,
          -0.25581876635551454,
          -0.32932238280773163,
          -0.32868048548698425,
          -0.3187316983938217,
          -0.21881798505783082,
          -0.2157703459262848,
          -0.2299932897090912,
          -0.23019610047340394,
          -0.13058642148971558,
          -0.030685842037200928,
          -0.029910004138946532,
          -0.12905969321727753,
          -0.1472225993871689,
          -0.04829062521457672,
          0.05115109384059906,
          -0.04539986848831177,
          0.053856462240219116,
          -0.045952719449996945,
          0.04660473167896271,
          0.1463900625705719,
          0.13135919570922852,
          0.11609236001968384,
          0.11389505565166473,
          0.11401827335357666,
          0.11402279436588288,
          0.20625052452087403,
          0.3056224942207336,
          0.3071163833141327,
          0.295183527469635,
          0.19526538848876954,
          0.09576430022716523,
          0.09683929681777954,
          0.1966393768787384,
          0.1966311126947403,
          0.0975754827260971,
          0.19441825151443481,
          0.09457197487354278,
          0.0980709284543991,
          0.002158939838409424,
          -0.08252565264701843,
          0.013349854946136474,
          0.11032606065273284,
          0.012638911604881287,
          0.01258479356765747,
          -0.08737963140010833,
          -0.18551506102085114,
          -0.2847617119550705,
          -0.28635824024677276,
          -0.2757169812917709,
          -0.19601898789405822,
          -0.09617992341518403,
          -0.09762991666793823,
          -0.19755119681358338,
          -0.29698879420757296,
          -0.19791761338710784,
          -0.29786684513092043,
          -0.297983255982399,
          -0.2158310353755951,
          -0.21907313764095307,
          -0.21808144450187683,
          -0.3159036934375763,
          -0.3162213861942291,
          -0.3119527041912079,
          -0.3126239687204361,
          -0.21283538937568663,
          -0.2126194566488266,
          -0.11307022869586944,
          -0.013088977336883545,
          -0.11158958673477173,
          -0.09133313894271851,
          -0.1899661660194397,
          -0.09014502167701721,
          -0.08173845708370209,
          -0.0822537124156952,
          -0.18175971806049346,
          -0.1792339265346527,
          -0.1786631941795349,
          -0.264339879155159,
          -0.26485581398010255,
          -0.280924329161644,
          -0.18356771767139435,
          -0.28321418166160583,
          -0.28754002749919894,
          -0.38679071962833406,
          -0.48635664880275725,
          -0.4863316357135773,
          -0.4866726338863373,
          -0.5865495502948761,
          -0.48679965138435366,
          -0.48687038421630857,
          -0.3883023947477341,
          -0.48631654381752015,
          -0.49476160407066344,
          -0.3948992431163788,
          -0.31217407882213594,
          -0.3140685737133026,
          -0.21534368097782136,
          -0.21537797451019286,
          -0.2155674010515213,
          -0.21561334729194642,
          -0.2150163620710373,
          -0.21500788927078246,
          -0.2147926777601242,
          -0.11570773124694825,
          -0.10183720290660858,
          -0.00223844051361084,
          -0.10187985599040986,
          -0.10183687210083008,
          -0.10173098146915435,
          -0.10172275602817535,
          -0.20150308310985565,
          -0.10368617177009583,
          -0.004523169994354248,
          -0.10346349775791168,
          -0.18510788083076476,
          -0.09307025372982025,
          -0.19237565696239473,
          -0.1923844814300537,
          -0.18348377346992492,
          -0.18337935209274292,
          -0.28293980956077575,
          -0.18303379118442537,
          -0.182975110411644,
          -0.28194419145584104,
          -0.2939003467559814,
          -0.3932753801345825,
          -0.2933310896158218,
          -0.29336026310920715,
          -0.2966311931610107,
          -0.29704119861125944,
          -0.2952417403459549,
          -0.39465081989765166,
          -0.3943539083003998,
          -0.2992598444223404,
          -0.3007110387086868,
          -0.2940938204526901,
          -0.19446550011634828,
          -0.09452402591705322,
          -0.003506675362586975,
          -0.0007646679878234863,
          -0.0010979354381561279,
          -0.09077253341674804,
          -0.08828497529029847,
          -0.08828043937683105,
          0.009485024213790893,
          0.009450256824493408,
          0.009328261017799377,
          0.10918065011501313,
          0.11247656941413879,
          0.013374382257461548,
          0.011608883738517761,
          0.013373112678527832,
          0.013829031586647033,
          -0.08218059837818145,
          -0.0786943942308426,
          -0.177950182557106,
          -0.18052386939525605,
          -0.18064019680023194,
          -0.1806058555841446,
          -0.18336592316627504,
          -0.08347341418266296,
          0.006126531958580017,
          0.0048685789108276365,
          0.004776453971862793,
          0.00472320020198822,
          0.10422658622264862,
          0.09883957803249359,
          -0.0009916216135025025,
          -0.10048558115959168,
          -0.0009280681610107422,
          0.09891942441463471,
          0.09694415628910065,
          0.09695419371128082,
          0.09854592978954316,
          0.09496084451675416,
          0.0955919623374939,
          -0.000795641541481018,
          -0.001787775754928589,
          -0.10168102383613586,
          -0.09984684884548187,
          -0.10006119310855865,
          -0.19925197064876557,
          -0.10323849618434906,
          -0.10325486660003662,
          -0.10313950777053833,
          -0.10811625719070435,
          -0.20026525855064392,
          -0.10044511556625366,
          -0.0009678572416305542,
          -0.000941544771194458,
          -0.0014790177345275878,
          -0.0012140274047851562,
          -0.1007240355014801,
          -0.10195534229278565,
          -0.001977694034576416,
          0.09727632701396942,
          0.09777263104915619,
          0.0010410845279693604,
          0.0011654734611511231,
          0.09601648449897766,
          0.09605110883712768,
          0.09555606842041016,
          0.0952701061964035,
          0.19523510336875916,
          0.19492606818675995,
          0.10018096268177032,
          0.1978537619113922,
          0.19782533049583434,
          0.10017260909080505,
          0.10015078485012055,
          0.0012880027294158935,
          0.0062361061573028564,
          0.10554669499397278,
          0.10543961524963379,
          0.007696351408958435,
          0.007531893253326416,
          0.007685539126396179,
          0.005737882852554321,
          0.10020366609096527,
          0.0034537553787231446,
          0.003578171133995056,
          0.010370844602584839,
          -0.0867861956357956,
          -0.08678905963897705,
          -0.09152697622776032,
          -0.09166415333747864,
          -0.09175192713737487,
          -0.1915101706981659,
          -0.10576030910015106,
          -0.20569129288196564,
          -0.2008356988430023,
          -0.2060447871685028,
          -0.20693959295749664,
          -0.20670248866081237,
          -0.20868901908397675,
          -0.30842929184436796,
          -0.30931114256381986,
          -0.30944873094558717,
          -0.3041385531425476,
          -0.20419352352619172,
          -0.20702886283397676,
          -0.21344828903675078,
          -0.2096133917570114,
          -0.2096820741891861,
          -0.3045829474925995,
          -0.304529145359993,
          -0.40254159867763517,
          -0.4020359665155411,
          -0.48991560339927676,
          -0.4893012821674347,
          -0.4944207280874252,
          -0.4944199204444885,
          -0.4965291082859039,
          -0.39706615805625917,
          -0.2990128487348557,
          -0.2986487507820129,
          -0.2984695315361023,
          -0.29839224815368653,
          -0.3969469040632248,
          -0.4969188153743744,
          -0.4964800596237183,
          -0.48489595055580137,
          -0.3888671338558197,
          -0.4736420214176178,
          -0.47312158942222593,
          -0.37415668964385984,
          -0.3759862869977951,
          -0.28555036783218385,
          -0.28573422133922577,
          -0.18883685767650604,
          -0.09084204435348511,
          -0.09001428484916688,
          -0.08695101737976074,
          -0.09378177523612977,
          -0.19194314181804656,
          -0.19009919166564943,
          -0.18941973447799682,
          -0.18606933057308198,
          -0.18657485842704774,
          -0.10531357228755951,
          -0.20224255621433257,
          -0.21388876140117646,
          -0.2138813853263855,
          -0.22900383174419403,
          -0.12964349389076232,
          -0.22864968776702882,
          -0.22843289971351624,
          -0.2236962288618088,
          -0.2232060670852661,
          -0.31811311542987825,
          -0.41633385717868804,
          -0.41716426610946655,
          -0.5144737631082534,
          -0.6073282778263092,
          -0.5079902768135071,
          -0.5102282017469406,
          -0.5113636970520019,
          -0.5109169781208038,
          -0.5117108464241028,
          -0.4975485414266586,
          -0.4978576272726059,
          -0.49757589101791383,
          -0.590598213672638,
          -0.5905986309051514,
          -0.6904870361089707,
          -0.690029901266098,
          -0.5909119367599487,
          -0.6867521136999131,
          -0.6871589690446853,
          -0.6897120386362076,
          -0.6897002279758453,
          -0.6892318099737167,
          -0.6910167634487152,
          -0.5913171410560608,
          -0.6904566615819931,
          -0.6898197650909423,
          -0.6896336615085602,
          -0.69201001226902,
          -0.6918857455253601,
          -0.7052733629941941,
          -0.7046885013580322,
          -0.7047391027212143,
          -0.7094623357057571,
          -0.6094940811395645,
          -0.5144477158784866,
          -0.5138693809509277,
          -0.6118583083152771,
          -0.6118695557117462,
          -0.5120393216609955,
          -0.41374628245830536,
          -0.3139128267765045,
          -0.3143469125032425,
          -0.30213081240653994,
          -0.40208261609077456,
          -0.4021165043115616,
          -0.3977349102497101,
          -0.29810965359210967,
          -0.20149689614772798,
          -0.1027269721031189,
          -0.18426379859447478,
          -0.08525726795196534,
          0.01072792410850525,
          0.10839512050151826,
          0.010061296820640563,
          -0.08444165289402009,
          0.014220395684242248,
          0.11252294182777405,
          0.11327110528945923,
          0.11317960321903228,
          0.015069541335105897,
          0.014983326196670532,
          0.014993128180503846,
          0.10203084051609039,
          0.10227294266223907,
          0.2018486589193344,
          0.19772449731826783,
          0.17474086284637452,
          0.0766945630311966,
          -0.005629885196685791,
          -0.006127199530601502,
          -0.10600288510322571,
          -0.20265143513679504,
          -0.2026544451713562,
          -0.10472388565540314,
          -0.10528140366077424,
          -0.20508575141429902,
          -0.3047527253627777,
          -0.30524696707725524,
          -0.3050992012023926,
          -0.30444222688674927,
          -0.4039634048938751,
          -0.40399103462696073,
          -0.5034522533416748,
          -0.5036747723817825,
          -0.6035558849573135,
          -0.514233124256134,
          -0.4914236545562744,
          -0.4898396760225296,
          -0.5064648538827896,
          -0.5028450816869736,
          -0.40395923852920534,
          -0.4026454985141754,
          -0.5020690083503723,
          -0.5016692638397217,
          -0.5016609698534011,
          -0.4801284521818161,
          -0.39365474283695223,
          -0.30164986848831177,
          -0.40071808099746703,
          -0.3017483115196228,
          -0.20205643475055696,
          -0.2008687287569046,
          -0.10353944003582001,
          -0.006243467330932617,
          0.09347503483295441,
          0.006885907053947449,
          -0.09256644248962402,
          0.005622610449790955,
          0.0055619746446609495,
          0.08411639034748078,
          0.08487032055854797,
          0.09864710867404938,
          0.0982006162405014,
          0.09817793369293212,
          0.10109663605690003,
          0.0796849936246872,
          -0.00562196671962738,
          0.0010171771049499513,
          0.006212881207466126,
          -0.09343840777873993,
          -0.11626030504703522,
          -0.017724213004112244,
          -0.016124510765075685,
          -0.11260854303836823,
          -0.11275027096271514,
          -0.016916936635971068,
          -0.016749730706214903,
          -0.10550538301467896,
          -0.10103301107883453,
          -0.18321618139743806,
          -0.2822999060153961,
          -0.29611307084560395,
          -0.1961616575717926,
          -0.2960535019636154,
          -0.29882401823997495,
          -0.19928072094917298,
          -0.20036715865135193,
          -0.19928217232227324,
          -0.20507242977619172,
          -0.11156425178050995,
          -0.0889190673828125,
          -0.18863470554351808,
          -0.1883953958749771,
          -0.18908225893974304,
          -0.2877632468938828,
          -0.38270978033542635,
          -0.38314335644245145,
          -0.29483201801776887,
          -0.2107241302728653,
          -0.2086274117231369,
          -0.11355895698070526,
          -0.09294194877147674,
          -0.19275154769420624,
          -0.09284739792346955,
          -0.0925988107919693,
          -0.1921236902475357,
          -0.19210511147975923,
          -0.28988446295261383,
          -0.1905968725681305,
          -0.28430760502815244,
          -0.2849422812461853,
          -0.18502674102783204,
          -0.28452992141246797,
          -0.28466829359531404,
          -0.18574015200138091,
          -0.19025294184684755,
          -0.09348710179328919,
          -0.19286551475524902,
          -0.2814580351114273,
          -0.19125038981437684,
          -0.2868673175573349,
          -0.3088079810142517,
          -0.3086009740829468,
          -0.4085450440645218,
          -0.40891901552677157,
          -0.40873437821865083,
          -0.4087092489004135,
          -0.41080683171749116,
          -0.5099190413951874,
          -0.5099201381206513,
          -0.5090615779161454,
          -0.5091019898653031,
          -0.5086633056402207,
          -0.41295008957386015,
          -0.5126631379127502,
          -0.5125571399927139,
          -0.5860048592090606,
          -0.585999596118927,
          -0.5858652472496033,
          -0.6773968875408173,
          -0.6740450948476792,
          -0.673098686337471,
          -0.573522487282753,
          -0.4742353767156601,
          -0.3753391861915588,
          -0.3722414165735245,
          -0.36785154044628143,
          -0.36793327033519746,
          -0.36617138981819153,
          -0.34485026001930236,
          -0.44480897188186647,
          -0.4447339057922363,
          -0.44512349367141724,
          -0.4415198564529419,
          -0.4416167587041855,
          -0.34688118398189544,
          -0.36999049186706545,
          -0.27015831470489504,
          -0.26813826858997347,
          -0.2686749041080475,
          -0.2718236267566681,
          -0.27273148000240327,
          -0.3725435048341751,
          -0.47158986032009126,
          -0.4712750673294067,
          -0.47457976043224337,
          -0.37963728606700897,
          -0.3795536756515503,
          -0.29256115257740023,
          -0.21566197276115417,
          -0.11614591777324676,
          -0.21536747217178345,
          -0.215521639585495,
          -0.3130843102931976,
          -0.21312930583953857,
          -0.20862722992897034,
          -0.1089771032333374,
          -0.20884553492069244,
          -0.11102500557899475,
          -0.11107594072818756,
          -0.11123319864273071,
          -0.11071477830410004,
          -0.11080366373062134,
          -0.011142721772193909,
          -0.11030518412590026,
          -0.11032504141330719,
          -0.10986166000366211,
          -0.01046822965145111,
          -0.09708602130413055,
          -0.1953019380569458,
          -0.2941930443048477,
          -0.2949445009231567,
          -0.29414879679679873,
          -0.2941776245832443,
          -0.29418131709098816,
          -0.2935465037822723,
          -0.3864441096782684,
          -0.2868120908737183,
          -0.3867195785045624,
          -0.28710982501506804,
          -0.2870496571063995,
          -0.19410521984100343,
          -0.19413672387599945,
          -0.1940837472677231,
          -0.19410765171051025,
          -0.19422764778137208,
          -0.2941200315952301,
          -0.29400441944599154,
          -0.2961428999900818,
          -0.1965329259634018,
          -0.10239309966564178,
          -0.004117131233215332,
          -0.004213228821754456,
          -0.005928456783294678,
          -0.10589250028133393,
          -0.2058602601289749,
          -0.21234256625175477,
          -0.3119595229625702,
          -0.31149947047233584,
          -0.4110236823558807,
          -0.41109521090984347,
          -0.4047435075044632,
          -0.30864462852478025,
          -0.40336770117282866,
          -0.30577042102813723,
          -0.30577093958854673,
          -0.3048942983150482,
          -0.31541134119033815,
          -0.3153564155101776,
          -0.4149914264678955,
          -0.509754478931427,
          -0.6076764583587646,
          -0.6083839654922485,
          -0.5085493236780166,
          -0.5077704727649689,
          -0.5075109004974365,
          -0.40819835364818574,
          -0.40813523530960083,
          -0.4068904370069504,
          -0.4070815443992615,
          -0.3250105887651443,
          -0.4248574793338776,
          -0.5206522136926651,
          -0.5229418307542801,
          -0.5214464843273163,
          -0.5214461803436279,
          -0.5223280370235444,
          -0.5126644879579544,
          -0.5131774097681046,
          -0.5128316968679428,
          -0.5126993387937546,
          -0.41311431527137754,
          -0.4121082305908203,
          -0.41200279593467715,
          -0.31280488669872286,
          -0.2131015658378601,
          -0.3120398849248886,
          -0.29919267296791074,
          -0.30087423622608184,
          -0.2997443228960037,
          -0.38074410855770113,
          -0.380396831035614,
          -0.28147757351398467,
          -0.18462787866592406,
          -0.2837694615125656,
          -0.28140712082386016,
          -0.2795435845851898,
          -0.37818591892719267,
          -0.3781252861022949,
          -0.3783582329750061,
          -0.3774746060371399,
          -0.47741730213165284,
          -0.4784270942211151,
          -0.5783111244440079,
          -0.579598531126976,
          -0.5797460585832596,
          -0.5801102995872498,
          -0.592869159579277,
          -0.49439112544059755,
          -0.4955477476119995,
          -0.49603877067565916,
          -0.4961339056491852,
          -0.5953401535749435,
          -0.5951911985874176,
          -0.49528701305389405,
          -0.4976528912782669,
          -0.4994670033454895,
          -0.3996830075979233,
          -0.3003442585468292,
          -0.2996461927890778,
          -0.20071495771408082,
          -0.19751439094543458,
          -0.1975622296333313,
          -0.1004326343536377,
          -0.19899811148643493,
          -0.298826789855957,
          -0.29927495419979094,
          -0.2991856515407562,
          -0.2979020863771439,
          -0.2979509919881821,
          -0.19898179471492766,
          -0.19902808368206024,
          -0.19882850348949432,
          -0.1993294835090637,
          -0.2985938549041748,
          -0.19866532385349273,
          -0.19874311685562135,
          -0.29752092957496645,
          -0.2969805240631104,
          -0.19781987369060516,
          -0.19856758117675782,
          -0.1039748340845108,
          -0.004210609197616577,
          -0.10141457617282867,
          -0.10150233507156373,
          -0.0018768131732940674,
          -0.001965761184692383,
          -0.002147671580314636,
          -0.002025890350341797,
          -0.001983502507209778,
          -0.0019351005554199218,
          -0.0017288714647293092,
          -0.001447385549545288,
          -0.10030562579631805,
          -0.017413428425788878,
          -0.11648558676242829,
          -0.11635939478874206,
          -0.11725129187107086,
          -0.11749964654445648,
          -0.11752584874629975,
          -0.2131200224161148,
          -0.21094478368759156,
          -0.31042085587978363,
          -0.31043244898319244,
          -0.21234879195690154,
          -0.31192347705364226,
          -0.3117912530899048,
          -0.31186234951019287,
          -0.4118079960346222,
          -0.3336623668670654,
          -0.43270804584026334,
          -0.33314740657806396,
          -0.33362244069576263,
          -0.23425622284412384,
          -0.21784301698207856,
          -0.11924266517162323,
          -0.01943530738353729,
          -0.01925068497657776,
          -0.11533363461494446,
          -0.11534233093261718,
          -0.11896426379680633,
          -0.11943971514701843,
          -0.11970489621162414,
          -0.11963804662227631,
          -0.2094198137521744,
          -0.10979853570461273,
          -0.10995366275310517,
          -0.10602453351020813,
          -0.10123107731342315,
          -0.17846407890319824,
          -0.0858579158782959,
          -0.08585405051708221,
          -0.0849456548690796,
          -0.08494300842285156,
          -0.18490516841411592,
          -0.28417140543460845,
          -0.2841590255498886,
          -0.20750555396080017,
          -0.11134035885334015,
          -0.20906585156917573,
          -0.20356115996837615,
          -0.29833699464797975,
          -0.2932127684354782,
          -0.19583075642585754,
          -0.10472348630428314,
          -0.10444140434265137,
          -0.10444041192531586,
          -0.09245331585407257,
          -0.09684521853923797,
          0.002176293730735779,
          -0.08654633164405823,
          -0.18641360700130463,
          -0.08790488541126251,
          -0.08790181279182434,
          -0.0870233029127121,
          0.012763655185699463,
          0.012756004929542542,
          0.018041884899139403,
          0.018176281452178956,
          0.01832195520401001,
          0.11241151988506318,
          0.11048789322376251,
          0.10537227690219879,
          0.007966652512550354,
          0.008493989706039429,
          0.004786539077758789,
          0.10475358664989472,
          0.18879910707473754,
          0.286138778924942,
          0.18643054068088533,
          0.18328147530555725,
          0.2831462800502777,
          0.28311148285865784,
          0.18318666219711305,
          0.28198609948158265,
          0.18201008439064026,
          0.08328207731246948,
          0.09661943018436432,
          0.09123151600360871,
          0.08891159892082215,
          -0.010560175776481629,
          -0.013104945421218872,
          -0.01189243495464325,
          -0.011916401982307433,
          -0.1115689069032669,
          -0.20724929869174957,
          -0.3045433074235916,
          -0.3045446425676346,
          -0.39957969784736636,
          -0.39972332715988157,
          -0.4004364997148514,
          -0.4005796641111374,
          -0.40038686990737915,
          -0.4003955215215683,
          -0.49411780834198,
          -0.39415851831436155,
          -0.29959255158901216,
          -0.395247745513916,
          -0.48762286007404326,
          -0.48762443363666536,
          -0.48695788681507113,
          -0.4868204414844513,
          -0.4880340337753296,
          -0.4871373623609543,
          -0.38748336732387545,
          -0.3875418812036514,
          -0.2902456045150757,
          -0.3855026662349701,
          -0.38365734219551084,
          -0.36865081191062926,
          -0.3691531836986542,
          -0.4689596176147461,
          -0.5677724838256836,
          -0.48790036141872406,
          -0.3939082771539688,
          -0.4934299200773239,
          -0.48932274878025056,
          -0.4893542885780334,
          -0.49147345423698424,
          -0.4912323415279388,
          -0.4919449776411057,
          -0.39236769676208494,
          -0.38907248377799986,
          -0.29034850299358367,
          -0.31322609186172484,
          -0.2137535333633423,
          -0.21409202516078948,
          -0.11887279450893402,
          -0.023916059732437135
         ]
        },
        {
         "line": {
          "color": "red"
         },
         "marker": {
          "symbol": "x"
         },
         "mode": "lines+markers",
         "name": "Headchopper (Rolling Avg)",
         "type": "scatter",
         "x": [
          "2023-09-03T00:30:58",
          "2023-09-03T00:30:58",
          "2023-09-03T00:35:25",
          "2023-09-11T21:44:37",
          "2023-09-11T21:46:45",
          "2023-09-11T21:49:23",
          "2023-09-11T21:49:35",
          "2023-10-06T12:42:45",
          "2023-10-06T12:54:27",
          "2023-10-06T12:55:00",
          "2023-10-06T12:55:07",
          "2023-10-10T12:01:21",
          "2023-10-10T12:04:58",
          "2023-10-13T14:30:49",
          "2023-10-13T14:34:13",
          "2023-10-13T18:54:32",
          "2023-10-16T14:16:34",
          "2023-10-16T16:07:23",
          "2023-10-16T16:39:35",
          "2023-10-16T16:39:37",
          "2023-10-22T15:53:56",
          "2023-10-22T15:54:02",
          "2023-10-22T15:54:13",
          "2023-10-22T20:19:22",
          "2023-10-22T20:19:33",
          "2023-10-22T20:20:40",
          "2023-10-22T21:14:42",
          "2023-10-23T08:34:11",
          "2023-10-23T17:52:38",
          "2023-10-23T17:55:46",
          "2023-10-23T17:56:03",
          "2023-10-23T17:56:14",
          "2023-10-23T17:58:09",
          "2023-10-23T17:58:24",
          "2023-10-23T17:58:32",
          "2023-10-23T17:59:38",
          "2023-10-23T18:00:23",
          "2023-10-23T18:01:41",
          "2023-10-23T18:01:48",
          "2023-10-23T18:02:51",
          "2023-11-01T18:02:02",
          "2023-11-01T18:02:46",
          "2023-11-01T18:03:51",
          "2023-11-01T18:03:56",
          "2023-11-01T18:04:05",
          "2023-11-01T18:04:15",
          "2023-11-01T18:04:33",
          "2023-11-01T18:04:46",
          "2023-11-01T18:05:02",
          "2023-11-01T18:05:05",
          "2023-11-01T18:05:49",
          "2023-11-01T18:05:58",
          "2023-11-01T18:06:40",
          "2023-11-01T18:06:42",
          "2023-11-03T10:36:39",
          "2023-11-03T10:37:18",
          "2023-11-03T10:39:23",
          "2023-11-08T08:38:10",
          "2023-11-08T08:38:17",
          "2023-11-18T22:38:32",
          "2023-11-18T22:38:41",
          "2023-11-19T18:02:21",
          "2023-11-19T18:07:09",
          "2023-11-19T18:08:10",
          "2023-11-19T18:08:16",
          "2023-11-19T18:08:20",
          "2023-11-19T18:08:48",
          "2023-11-19T20:51:19",
          "2023-11-19T20:51:07",
          "2023-11-19T20:55:47",
          "2023-11-19T21:11:14",
          "2023-11-19T23:31:08",
          "2023-11-19T23:31:10",
          "2023-11-19T23:38:27",
          "2023-11-19T23:38:36",
          "2023-11-20T17:51:35",
          "2023-11-20T17:51:38",
          "2023-11-20T17:52:04",
          "2023-11-20T17:52:05",
          "2023-11-21T11:47:50",
          "2023-11-21T11:47:59",
          "2023-11-21T11:48:04",
          "2023-11-21T11:49:17",
          "2023-11-21T11:50:01",
          "2023-11-21T11:54:29",
          "2023-11-21T11:55:22",
          "2023-11-21T11:55:47",
          "2023-11-24T17:43:35",
          "2023-11-24T17:45:39",
          "2023-11-25T15:27:50",
          "2023-11-25T15:29:36",
          "2023-11-25T15:29:40",
          "2023-11-27T13:27:32",
          "2023-11-27T13:29:13",
          "2023-11-27T13:29:19",
          "2023-11-29T18:31:19",
          "2023-11-29T18:31:30",
          "2023-11-29T18:58:46",
          "2023-11-29T19:00:41",
          "2023-11-29T19:00:48",
          "2023-11-29T19:00:54",
          "2023-11-29T19:01:28",
          "2023-11-29T19:01:36",
          "2023-11-29T19:01:40",
          "2023-11-29T19:01:46",
          "2023-11-29T19:02:01",
          "2023-11-29T19:02:16",
          "2023-11-29T19:02:27",
          "2023-11-29T19:02:59",
          "2023-11-29T19:03:23",
          "2023-11-29T19:03:31",
          "2023-11-29T19:04:00",
          "2023-11-29T19:04:03",
          "2023-11-29T19:04:10",
          "2023-11-29T19:04:15",
          "2023-11-29T19:04:23",
          "2023-11-29T19:45:41",
          "2023-11-30T12:22:43",
          "2023-11-30T12:22:49",
          "2023-11-30T12:28:09",
          "2023-11-30T12:28:30",
          "2023-11-30T12:28:47",
          "2023-11-30T12:28:53",
          "2023-11-30T12:51:50",
          "2023-11-30T12:52:16",
          "2023-11-30T12:52:28",
          "2023-11-30T12:52:37",
          "2023-11-30T12:52:39",
          "2023-11-30T12:53:08",
          "2023-12-01T11:45:41",
          "2023-12-02T11:35:54",
          "2023-12-04T12:16:54",
          "2023-12-04T12:17:01",
          "2023-12-04T12:17:08",
          "2023-12-04T12:18:33",
          "2023-12-06T16:29:54",
          "2023-12-11T09:45:58",
          "2023-12-11T09:46:10",
          "2023-12-11T13:00:30",
          "2023-12-11T13:00:37",
          "2023-12-11T13:02:25",
          "2023-12-11T13:02:35",
          "2023-12-11T13:02:37",
          "2023-12-11T13:02:57",
          "2023-12-11T13:04:42",
          "2023-12-11T13:05:00",
          "2023-12-11T13:22:52",
          "2023-12-11T13:23:03",
          "2023-12-11T13:23:12",
          "2023-12-11T13:23:19",
          "2023-12-13T09:14:45",
          "2023-12-13T09:14:48",
          "2023-12-13T09:14:51",
          "2023-12-14T12:35:49",
          "2023-12-15T11:26:29",
          "2023-12-15T11:26:32",
          "2023-12-15T11:33:01",
          "2023-12-15T11:33:04",
          "2023-12-15T11:33:11",
          "2023-12-15T11:33:20",
          "2023-12-15T11:33:23",
          "2023-12-15T11:33:38",
          "2023-12-15T11:33:43",
          "2023-12-15T11:33:49",
          "2023-12-15T11:36:16",
          "2023-12-15T11:36:48",
          "2023-12-15T11:36:52",
          "2023-12-15T11:36:59",
          "2023-12-15T11:40:36",
          "2023-12-15T11:40:39",
          "2023-12-15T11:43:00",
          "2023-12-15T11:43:05",
          "2023-12-15T11:43:29",
          "2023-12-15T11:43:36",
          "2023-12-15T11:43:38",
          "2023-12-15T12:25:46",
          "2023-12-15T12:26:53",
          "2023-12-15T12:27:27",
          "2023-12-15T12:49:15",
          "2023-12-15T13:06:37",
          "2023-12-15T13:07:21",
          "2023-12-15T13:07:27",
          "2023-12-15T13:08:19",
          "2023-12-15T13:08:22",
          "2023-12-15T13:08:46",
          "2023-12-15T13:09:10",
          "2023-12-15T13:09:35",
          "2023-12-15T13:10:18",
          "2023-12-15T13:10:52",
          "2023-12-15T13:10:57",
          "2023-12-15T13:19:28",
          "2023-12-15T19:16:46",
          "2023-12-15T20:08:11",
          "2023-12-15T21:02:14",
          "2023-12-15T21:02:30",
          "2023-12-15T21:04:34",
          "2023-12-15T21:04:42",
          "2023-12-15T21:10:05",
          "2023-12-15T21:12:21",
          "2023-12-15T21:12:39",
          "2023-12-15T21:12:45",
          "2023-12-15T21:13:00",
          "2023-12-15T21:13:42",
          "2023-12-15T21:13:51",
          "2023-12-15T21:15:22",
          "2023-12-15T21:15:31",
          "2023-12-15T21:16:17",
          "2023-12-15T21:16:31",
          "2023-12-15T21:16:41",
          "2023-12-15T21:16:59",
          "2023-12-15T21:17:04",
          "2023-12-15T21:17:28",
          "2023-12-15T21:22:56",
          "2023-12-15T21:38:46",
          "2023-12-15T21:38:51",
          "2023-12-15T21:39:06",
          "2023-12-15T21:39:10",
          "2023-12-15T21:39:31",
          "2023-12-15T21:39:55",
          "2023-12-15T21:40:13",
          "2023-12-15T21:40:37",
          "2023-12-15T21:40:38",
          "2023-12-15T21:45:50",
          "2023-12-15T21:45:54",
          "2023-12-15T21:46:00",
          "2023-12-15T21:47:28",
          "2023-12-15T21:47:31",
          "2023-12-16T15:04:17",
          "2023-12-16T15:09:13",
          "2023-12-16T15:09:23",
          "2023-12-16T15:09:25",
          "2023-12-16T15:09:42",
          "2023-12-16T15:09:46",
          "2023-12-16T15:11:20",
          "2023-12-16T15:37:51",
          "2023-12-16T15:38:17",
          "2023-12-16T15:39:05",
          "2023-12-16T17:32:08",
          "2023-12-16T17:32:20",
          "2023-12-16T17:32:30",
          "2023-12-16T17:32:43",
          "2023-12-16T17:32:48",
          "2023-12-16T17:32:52",
          "2023-12-16T17:32:55",
          "2023-12-16T17:39:22",
          "2023-12-16T17:39:31",
          "2023-12-16T17:39:33",
          "2023-12-16T17:39:59",
          "2023-12-16T17:40:04",
          "2023-12-16T17:40:19",
          "2023-12-16T17:42:30",
          "2023-12-16T17:42:41",
          "2023-12-16T17:43:30",
          "2023-12-16T17:44:04",
          "2023-12-16T17:44:24",
          "2023-12-16T17:44:56",
          "2023-12-16T17:45:00",
          "2023-12-16T17:45:04",
          "2023-12-16T17:45:07",
          "2023-12-16T17:45:15",
          "2023-12-16T17:45:35",
          "2023-12-16T17:45:45",
          "2023-12-16T17:46:28",
          "2023-12-16T18:10:03",
          "2023-12-16T18:10:05",
          "2023-12-16T18:10:10",
          "2023-12-16T18:10:11",
          "2023-12-16T18:12:50",
          "2023-12-16T23:49:27",
          "2023-12-17T12:53:05",
          "2023-12-17T12:53:12",
          "2023-12-17T21:45:25",
          "2023-12-17T21:45:31",
          "2023-12-17T21:45:39",
          "2023-12-17T23:57:19",
          "2023-12-18T08:07:34",
          "2023-12-18T08:07:40",
          "2023-12-18T08:21:05",
          "2023-12-18T08:21:10",
          "2023-12-18T08:21:13",
          "2023-12-19T13:51:53",
          "2023-12-19T13:51:56",
          "2023-12-19T13:52:37",
          "2023-12-19T13:52:54",
          "2023-12-19T13:52:54",
          "2023-12-19T14:08:16",
          "2023-12-19T17:25:47",
          "2023-12-19T17:25:51",
          "2023-12-19T17:26:38",
          "2023-12-19T17:26:44",
          "2023-12-19T17:26:44",
          "2023-12-19T17:27:01",
          "2023-12-26T04:09:53",
          "2023-12-26T04:09:57",
          "2023-12-26T22:42:26",
          "2023-12-26T22:42:40",
          "2023-12-26T23:07:13",
          "2023-12-26T23:07:17",
          "2023-12-26T23:07:31",
          "2023-12-26T23:07:36",
          "2023-12-26T23:09:05",
          "2023-12-26T23:09:08",
          "2023-12-26T23:09:16",
          "2023-12-26T23:09:20",
          "2023-12-26T23:11:41",
          "2023-12-26T23:19:44",
          "2023-12-26T23:20:01",
          "2023-12-26T23:22:35",
          "2023-12-26T23:25:53",
          "2023-12-26T23:25:59",
          "2023-12-27T20:30:53",
          "2023-12-27T20:30:56",
          "2023-12-27T20:31:11",
          "2023-12-27T20:31:24",
          "2023-12-27T23:52:35",
          "2023-12-27T23:55:39",
          "2023-12-27T23:55:59",
          "2023-12-27T23:56:58",
          "2023-12-27T23:57:01",
          "2023-12-27T23:57:12",
          "2023-12-28T00:02:52",
          "2023-12-30T12:03:47",
          "2023-12-30T12:03:57",
          "2023-12-30T12:04:11",
          "2023-12-30T12:04:30",
          "2023-12-30T18:46:38",
          "2023-12-30T20:38:37",
          "2023-12-30T20:38:50",
          "2023-12-31T11:13:57",
          "2023-12-31T11:14:10",
          "2023-12-31T22:04:12",
          "2023-12-31T22:04:30",
          "2023-12-31T22:04:48",
          "2023-12-31T22:05:21",
          "2023-12-31T22:06:57",
          "2023-12-31T22:07:07",
          "2023-12-31T22:19:12",
          "2023-12-31T22:27:12",
          "2023-12-31T22:27:30",
          "2023-12-31T22:27:39",
          "2023-12-31T22:29:22",
          "2024-01-08T17:12:43",
          "2024-01-08T17:14:02",
          "2024-01-08T17:14:14",
          "2024-01-09T23:03:28",
          "2024-01-09T23:04:08",
          "2024-01-09T23:04:46",
          "2024-01-10T00:44:45",
          "2024-01-10T00:45:10",
          "2024-01-10T00:49:21",
          "2024-01-10T00:49:27",
          "2024-01-10T00:49:39",
          "2024-01-10T00:49:41",
          "2024-01-10T00:51:50",
          "2024-01-12T12:47:12",
          "2024-01-12T12:47:35",
          "2024-01-12T12:47:49",
          "2024-01-12T12:48:15",
          "2024-01-12T12:48:26",
          "2024-01-12T12:48:48",
          "2024-01-12T12:48:51",
          "2024-01-12T12:49:30",
          "2024-01-12T12:50:11",
          "2024-01-12T12:50:22",
          "2024-01-12T12:50:23",
          "2024-01-12T12:50:38",
          "2024-01-12T12:50:40",
          "2024-01-12T12:51:19",
          "2024-01-12T12:51:57",
          "2024-01-12T13:09:14",
          "2024-01-12T13:12:39",
          "2024-01-12T14:01:15",
          "2024-01-12T14:01:17",
          "2024-01-12T14:04:12",
          "2024-01-12T14:04:13",
          "2024-01-12T14:04:21",
          "2024-01-12T14:04:26",
          "2024-01-12T14:11:52",
          "2024-01-12T19:24:10",
          "2024-01-12T19:27:36",
          "2024-01-12T19:27:47",
          "2024-01-12T22:45:59",
          "2024-01-12T22:46:05",
          "2024-01-12T22:46:14",
          "2024-01-14T12:24:02",
          "2024-01-14T12:24:08",
          "2024-01-14T12:24:16",
          "2024-01-14T19:23:55",
          "2024-01-14T19:24:06",
          "2024-01-14T19:24:19",
          "2024-01-14T19:24:25",
          "2024-01-14T19:24:31",
          "2024-01-14T19:31:22",
          "2024-01-14T19:31:28",
          "2024-01-14T19:31:33",
          "2024-01-14T19:32:03",
          "2024-01-14T20:11:12",
          "2024-01-14T20:11:15",
          "2024-01-14T20:11:22",
          "2024-01-15T09:41:58",
          "2024-01-15T09:42:03",
          "2024-01-15T10:08:05",
          "2024-01-15T10:19:15",
          "2024-01-15T10:24:26",
          "2024-01-15T20:04:43",
          "2024-01-15T20:04:48",
          "2024-01-15T20:05:01",
          "2024-01-15T20:05:11",
          "2024-01-16T10:51:07",
          "2024-01-16T10:51:09",
          "2024-01-16T10:58:06",
          "2024-01-16T10:58:31",
          "2024-01-16T11:28:19",
          "2024-01-16T11:38:22",
          "2024-01-16T11:38:45",
          "2024-01-16T11:38:55",
          "2024-01-16T11:39:00",
          "2024-01-16T11:39:28",
          "2024-01-16T11:39:31",
          "2024-01-17T09:53:06",
          "2024-01-17T09:53:24",
          "2024-01-17T09:55:03",
          "2024-01-17T09:55:07",
          "2024-01-17T09:55:10",
          "2024-01-17T09:55:43",
          "2024-01-17T10:25:54",
          "2024-01-17T10:25:55",
          "2024-01-17T10:27:13",
          "2024-01-17T23:25:33",
          "2024-01-17T23:25:35",
          "2024-01-17T23:25:46",
          "2024-01-18T12:27:02",
          "2024-01-18T12:27:05",
          "2024-01-18T13:00:50",
          "2024-01-18T13:07:22",
          "2024-01-18T13:07:52",
          "2024-01-19T13:22:12",
          "2024-01-19T13:22:19",
          "2024-01-19T13:25:35",
          "2024-01-19T13:28:24",
          "2024-01-19T13:42:12",
          "2024-01-21T11:33:52",
          "2024-01-21T11:33:55",
          "2024-01-21T11:34:38",
          "2024-01-21T11:34:40",
          "2024-01-21T11:34:48",
          "2024-01-21T11:34:54",
          "2024-01-21T11:38:01",
          "2024-01-21T11:38:09",
          "2024-01-21T11:38:25",
          "2024-01-21T11:38:37",
          "2024-01-21T11:38:42",
          "2024-01-21T11:38:50",
          "2024-01-21T11:40:17",
          "2024-01-21T11:40:25",
          "2024-01-21T11:40:28",
          "2024-01-21T11:40:44",
          "2024-01-21T11:40:49",
          "2024-01-21T11:40:54",
          "2024-01-21T11:41:40",
          "2024-01-21T11:41:44",
          "2024-01-21T11:41:49",
          "2024-01-21T11:42:01",
          "2024-01-21T11:42:09",
          "2024-01-21T11:43:09",
          "2024-01-21T11:43:11",
          "2024-01-21T11:43:13",
          "2024-01-21T14:30:09",
          "2024-01-21T14:30:20",
          "2024-01-21T14:30:33",
          "2024-01-21T14:30:55",
          "2024-01-21T14:31:02",
          "2024-01-21T14:31:16",
          "2024-01-21T14:32:01",
          "2024-01-21T14:32:09",
          "2024-01-21T14:32:13",
          "2024-01-21T14:32:14",
          "2024-01-21T14:32:23",
          "2024-01-21T14:32:29",
          "2024-01-21T14:33:02",
          "2024-01-21T14:33:16",
          "2024-01-21T14:33:23",
          "2024-01-21T14:33:35",
          "2024-01-21T14:34:54",
          "2024-01-21T14:34:57",
          "2024-01-21T14:35:41",
          "2024-01-21T14:36:18",
          "2024-01-21T14:36:33",
          "2024-01-21T14:38:44",
          "2024-01-21T14:38:47",
          "2024-01-21T17:56:00",
          "2024-01-21T17:56:05",
          "2024-01-21T17:56:28",
          "2024-01-21T18:39:00",
          "2024-01-21T18:39:03",
          "2024-01-22T12:31:11",
          "2024-01-22T13:27:50",
          "2024-01-22T13:27:58",
          "2024-01-22T13:28:04",
          "2024-01-22T14:51:38",
          "2024-01-22T14:51:43",
          "2024-01-22T15:55:10",
          "2024-01-22T15:55:15",
          "2024-01-22T15:55:35",
          "2024-01-22T15:55:56",
          "2024-01-22T15:58:07",
          "2024-01-22T15:58:12",
          "2024-01-22T15:59:36",
          "2024-01-22T16:13:22",
          "2024-01-22T16:14:21",
          "2024-01-22T16:14:25",
          "2024-01-22T16:15:43",
          "2024-01-22T16:17:50",
          "2024-01-22T16:19:25",
          "2024-01-22T16:19:29",
          "2024-01-22T16:20:18",
          "2024-01-22T16:20:34",
          "2024-01-22T16:20:44",
          "2024-01-22T16:21:55",
          "2024-01-22T16:25:06",
          "2024-01-22T16:25:09",
          "2024-01-22T16:25:28",
          "2024-01-22T16:25:45",
          "2024-01-22T16:25:47",
          "2024-01-22T16:26:05",
          "2024-01-22T16:26:14",
          "2024-01-22T16:27:34",
          "2024-01-22T16:27:37",
          "2024-01-22T16:27:44",
          "2024-01-22T16:28:24",
          "2024-01-22T16:28:28",
          "2024-01-23T12:57:07",
          "2024-01-23T12:57:17",
          "2024-01-23T14:14:32",
          "2024-01-23T14:14:38",
          "2024-01-23T15:49:02",
          "2024-01-23T18:27:04",
          "2024-01-23T18:27:07",
          "2024-01-23T18:27:28",
          "2024-01-23T18:27:40",
          "2024-01-23T18:27:53",
          "2024-01-23T18:29:28",
          "2024-01-23T18:29:38",
          "2024-01-23T18:29:51",
          "2024-01-23T18:50:36",
          "2024-01-23T18:51:11",
          "2024-01-23T18:52:01",
          "2024-01-23T18:52:12",
          "2024-01-23T18:53:37",
          "2024-01-24T10:01:33",
          "2024-01-24T10:01:35",
          "2024-01-24T10:02:05",
          "2024-01-24T10:27:32",
          "2024-01-24T10:27:35",
          "2024-01-24T10:40:44",
          "2024-01-24T10:40:51",
          "2024-01-24T11:05:12",
          "2024-01-24T11:14:52",
          "2024-01-24T17:32:02",
          "2024-01-24T17:53:29",
          "2024-01-24T17:53:37",
          "2024-01-24T19:25:46",
          "2024-01-24T19:25:49",
          "2024-01-24T19:25:55",
          "2024-01-24T19:26:08",
          "2024-01-24T19:26:17",
          "2024-01-24T19:26:20",
          "2024-01-24T19:26:22",
          "2024-01-24T19:28:01",
          "2024-01-25T12:40:26",
          "2024-01-25T14:09:43",
          "2024-01-25T14:10:02",
          "2024-01-25T14:10:08",
          "2024-01-25T14:11:04",
          "2024-01-25T14:11:14",
          "2024-01-25T14:11:22",
          "2024-01-25T14:11:49",
          "2024-01-25T14:13:38",
          "2024-01-26T11:00:41",
          "2024-01-26T11:21:07",
          "2024-01-26T11:28:42",
          "2024-01-26T11:28:44",
          "2024-01-27T13:23:08",
          "2024-01-27T13:23:11",
          "2024-01-27T13:23:18",
          "2024-01-27T15:14:24",
          "2024-01-27T15:14:25",
          "2024-01-27T15:14:30",
          "2024-01-27T15:29:35",
          "2024-01-27T16:28:46",
          "2024-01-27T16:29:00",
          "2024-01-27T16:29:19",
          "2024-01-27T16:29:24",
          "2024-01-27T16:29:31",
          "2024-01-28T13:47:24",
          "2024-01-28T13:47:43",
          "2024-01-28T13:47:53",
          "2024-01-28T16:43:38",
          "2024-01-28T16:44:03",
          "2024-01-28T16:44:11",
          "2024-01-28T16:44:28",
          "2024-01-28T16:45:37",
          "2024-01-28T16:45:41",
          "2024-01-28T16:45:53",
          "2024-01-28T19:37:41",
          "2024-01-28T19:38:26",
          "2024-01-28T19:38:31",
          "2024-01-28T19:38:57",
          "2024-01-28T21:40:34",
          "2024-01-29T12:40:45",
          "2024-01-29T12:47:00",
          "2024-01-29T12:47:06",
          "2024-01-29T12:56:47",
          "2024-01-29T13:04:54",
          "2024-01-29T13:04:55",
          "2024-01-29T13:10:09",
          "2024-01-29T13:10:43",
          "2024-01-29T18:54:21",
          "2024-01-29T23:00:02",
          "2024-01-29T23:01:04",
          "2024-01-29T23:01:12",
          "2024-01-29T23:02:55",
          "2024-01-29T23:03:51",
          "2024-01-29T23:04:00",
          "2024-01-29T23:04:03",
          "2024-01-29T23:04:07",
          "2024-01-29T23:04:11",
          "2024-01-29T23:05:38",
          "2024-01-29T23:05:43",
          "2024-01-29T23:12:08",
          "2024-01-29T23:12:29",
          "2024-01-29T23:12:51",
          "2024-01-29T23:14:41",
          "2024-01-29T23:15:35",
          "2024-01-29T23:15:52",
          "2024-01-29T23:16:16",
          "2024-01-29T23:16:20",
          "2024-01-29T23:16:29",
          "2024-01-29T23:19:19",
          "2024-01-29T23:19:53",
          "2024-01-29T23:20:09",
          "2024-01-29T23:20:24",
          "2024-01-29T23:30:44",
          "2024-01-29T23:31:16",
          "2024-01-29T23:31:40",
          "2024-01-29T23:31:56",
          "2024-01-30T13:30:52",
          "2024-01-30T13:31:54",
          "2024-01-30T14:38:46",
          "2024-01-30T14:38:53",
          "2024-01-30T15:22:07",
          "2024-01-30T16:10:30",
          "2024-01-30T16:11:01",
          "2024-01-31T14:15:13",
          "2024-01-31T14:15:51",
          "2024-01-31T14:16:40",
          "2024-01-31T14:28:57",
          "2024-01-31T21:08:13",
          "2024-01-31T21:08:20",
          "2024-01-31T21:08:42",
          "2024-01-31T21:09:02",
          "2024-01-31T23:45:32",
          "2024-01-31T23:45:52",
          "2024-02-01T15:05:33",
          "2024-02-01T15:05:35",
          "2024-02-01T15:07:23",
          "2024-02-01T15:07:25",
          "2024-02-03T23:29:44",
          "2024-02-03T23:30:34",
          "2024-02-03T23:30:52",
          "2024-02-05T13:04:53",
          "2024-02-05T13:04:54",
          "2024-02-05T16:12:02",
          "2024-02-05T16:19:33",
          "2024-02-05T16:19:47",
          "2024-02-05T16:20:45",
          "2024-02-05T16:20:58",
          "2024-02-05T16:21:43",
          "2024-02-05T16:26:11",
          "2024-02-05T16:27:10",
          "2024-02-05T16:30:22",
          "2024-02-05T16:30:34",
          "2024-02-05T16:31:01",
          "2024-02-05T16:31:13",
          "2024-02-05T16:38:34",
          "2024-02-05T16:39:11",
          "2024-02-05T16:39:30",
          "2024-02-05T16:51:54",
          "2024-02-05T16:52:01",
          "2024-02-05T16:52:09",
          "2024-02-05T16:52:24",
          "2024-02-05T17:02:02",
          "2024-02-05T17:02:19",
          "2024-02-05T17:02:57",
          "2024-02-05T17:51:00",
          "2024-02-05T17:52:07",
          "2024-02-05T18:04:41",
          "2024-02-05T18:08:39",
          "2024-02-05T18:09:00",
          "2024-02-05T18:09:06",
          "2024-02-05T18:19:59",
          "2024-02-05T18:20:04",
          "2024-02-05T18:20:20",
          "2024-02-05T18:39:52",
          "2024-02-05T18:42:12",
          "2024-02-05T18:42:33",
          "2024-02-05T18:42:39",
          "2024-02-05T18:45:21",
          "2024-02-05T18:45:40",
          "2024-02-05T18:50:36",
          "2024-02-06T00:11:48",
          "2024-02-06T00:13:40",
          "2024-02-06T00:14:03",
          "2024-02-06T00:14:55",
          "2024-02-06T00:15:31",
          "2024-02-06T00:17:13",
          "2024-02-06T00:17:37",
          "2024-02-06T00:17:39",
          "2024-02-06T00:19:05",
          "2024-02-06T00:19:28",
          "2024-02-06T00:22:23",
          "2024-02-06T00:23:52",
          "2024-02-06T00:25:08",
          "2024-02-06T00:25:23",
          "2024-02-06T00:30:27",
          "2024-02-06T00:30:28",
          "2024-02-06T00:48:55",
          "2024-02-06T00:50:23",
          "2024-02-06T00:51:21",
          "2024-02-06T00:51:44",
          "2024-02-06T00:52:34",
          "2024-02-06T00:52:52",
          "2024-02-06T00:53:46",
          "2024-02-06T00:54:03",
          "2024-02-06T00:55:01",
          "2024-02-06T00:55:05",
          "2024-02-06T00:55:10",
          "2024-02-06T01:08:33",
          "2024-02-06T01:08:42",
          "2024-02-06T01:09:47",
          "2024-02-06T01:10:57",
          "2024-02-06T01:11:02",
          "2024-02-06T01:11:54",
          "2024-02-06T01:13:29",
          "2024-02-06T01:13:37",
          "2024-02-06T01:14:08",
          "2024-02-06T01:14:22",
          "2024-02-06T01:14:30",
          "2024-02-06T01:14:42",
          "2024-02-06T01:14:52",
          "2024-02-06T01:15:54",
          "2024-02-06T01:15:56",
          "2024-02-06T01:16:09",
          "2024-02-06T01:16:21",
          "2024-02-06T01:17:15",
          "2024-02-06T01:17:39",
          "2024-02-06T01:17:59",
          "2024-02-06T12:58:48",
          "2024-02-06T12:58:56",
          "2024-02-06T12:59:04",
          "2024-02-06T17:08:28",
          "2024-02-06T17:08:36",
          "2024-02-06T17:10:40",
          "2024-02-06T22:28:25",
          "2024-02-06T22:28:32",
          "2024-02-07T14:52:36",
          "2024-02-08T09:11:03",
          "2024-02-08T09:11:13",
          "2024-02-08T09:11:28",
          "2024-02-08T09:11:37",
          "2024-02-08T09:11:49",
          "2024-02-08T09:11:58",
          "2024-02-08T09:12:21",
          "2024-02-08T09:12:42",
          "2024-02-08T09:12:52",
          "2024-02-08T09:17:07",
          "2024-02-09T13:14:35",
          "2024-02-09T13:14:55",
          "2024-02-10T13:31:03",
          "2024-02-10T13:32:46",
          "2024-02-10T13:33:01",
          "2024-02-10T13:33:22",
          "2024-02-10T13:33:52",
          "2024-02-10T13:34:14",
          "2024-02-10T13:34:18",
          "2024-02-10T13:34:24",
          "2024-02-10T13:34:31",
          "2024-02-10T14:09:42",
          "2024-02-10T16:41:52",
          "2024-02-10T17:03:28",
          "2024-02-10T17:12:07",
          "2024-02-11T02:13:00",
          "2024-02-11T09:51:08",
          "2024-02-11T09:52:01",
          "2024-02-11T09:52:46",
          "2024-02-11T14:31:47",
          "2024-02-11T14:31:55",
          "2024-02-11T14:32:04",
          "2024-02-11T14:34:01",
          "2024-02-11T14:35:20",
          "2024-02-11T14:35:40",
          "2024-02-11T14:35:46",
          "2024-02-11T14:37:11",
          "2024-02-11T14:37:18",
          "2024-02-11T14:38:04",
          "2024-02-11T14:38:17",
          "2024-02-11T15:49:31",
          "2024-02-11T15:49:54",
          "2024-02-11T16:02:09",
          "2024-02-11T16:05:41",
          "2024-02-11T16:05:50",
          "2024-02-12T12:17:52",
          "2024-02-12T13:30:12",
          "2024-02-12T13:30:24",
          "2024-02-12T13:30:49",
          "2024-02-13T18:29:04",
          "2024-02-13T18:45:13",
          "2024-02-14T09:54:53",
          "2024-02-14T16:07:24",
          "2024-02-14T16:07:32",
          "2024-02-14T16:40:51",
          "2024-02-14T16:54:31",
          "2024-02-14T16:54:34",
          "2024-02-15T10:04:31",
          "2024-02-15T10:37:15",
          "2024-02-15T11:05:46",
          "2024-02-15T11:06:29",
          "2024-02-15T11:07:21",
          "2024-02-15T12:03:15",
          "2024-02-15T12:04:14",
          "2024-02-15T12:05:21",
          "2024-02-15T12:19:56",
          "2024-02-15T12:20:02",
          "2024-02-17T11:13:57",
          "2024-02-17T11:14:04",
          "2024-02-17T11:19:08",
          "2024-02-17T17:03:27",
          "2024-02-17T23:06:28",
          "2024-02-19T11:34:53",
          "2024-02-19T11:34:54",
          "2024-02-19T11:36:34",
          "2024-02-19T15:51:04",
          "2024-02-19T15:51:37",
          "2024-02-19T18:33:46",
          "2024-02-19T18:34:10",
          "2024-02-19T18:34:21",
          "2024-02-19T20:59:04",
          "2024-02-19T20:59:06",
          "2024-02-19T20:59:19",
          "2024-02-19T20:59:35",
          "2024-02-21T11:38:07",
          "2024-02-21T11:38:18",
          "2024-02-21T16:34:31",
          "2024-02-21T16:34:38",
          "2024-02-21T16:37:27",
          "2024-02-21T17:02:43",
          "2024-02-21T17:02:52",
          "2024-02-23T11:13:25",
          "2024-02-23T11:13:31",
          "2024-02-23T11:14:05",
          "2024-02-23T11:14:44",
          "2024-02-23T11:15:24",
          "2024-02-23T11:19:03",
          "2024-02-23T11:19:14",
          "2024-02-23T11:19:54",
          "2024-02-23T11:20:03",
          "2024-02-23T11:21:42",
          "2024-02-23T11:21:55",
          "2024-02-23T13:04:44",
          "2024-02-23T13:08:58",
          "2024-02-23T13:33:57",
          "2024-02-23T13:51:12",
          "2024-02-23T15:03:44",
          "2024-02-23T15:04:11",
          "2024-02-23T20:09:17",
          "2024-02-23T20:09:24",
          "2024-02-23T21:47:32",
          "2024-02-23T21:47:41",
          "2024-02-26T10:03:23",
          "2024-02-26T10:03:25",
          "2024-02-26T10:04:09",
          "2024-02-26T10:04:11",
          "2024-02-26T10:04:16",
          "2024-02-26T23:18:32",
          "2024-02-27T11:09:40",
          "2024-02-27T11:09:42",
          "2024-02-27T11:11:16",
          "2024-02-27T11:11:23",
          "2024-02-27T11:24:37",
          "2024-02-27T12:47:33",
          "2024-02-27T12:47:37",
          "2024-02-27T16:13:47",
          "2024-02-27T16:13:50",
          "2024-02-27T16:46:00",
          "2024-02-27T16:46:07",
          "2024-03-03T10:43:12",
          "2024-03-03T12:04:32",
          "2024-03-03T12:05:00",
          "2024-03-03T17:20:56",
          "2024-03-03T17:21:03",
          "2024-03-05T12:26:27",
          "2024-03-07T18:10:51",
          "2024-03-07T19:29:30",
          "2024-03-09T10:56:11",
          "2024-03-09T10:56:18",
          "2024-03-09T10:56:26",
          "2024-03-09T10:56:56",
          "2024-03-09T11:00:16",
          "2024-03-09T11:00:44",
          "2024-03-09T11:30:05",
          "2024-03-11T08:05:06",
          "2024-03-11T13:50:25",
          "2024-03-11T17:14:01",
          "2024-03-11T17:14:02",
          "2024-03-11T18:00:37",
          "2024-03-11T18:04:00",
          "2024-03-11T18:04:07",
          "2024-03-15T16:37:15",
          "2024-03-15T16:37:22",
          "2024-03-15T16:39:16",
          "2024-03-15T16:39:24",
          "2024-03-20T11:00:43",
          "2024-03-20T21:04:51",
          "2024-03-20T21:05:42",
          "2024-03-20T21:05:56",
          "2024-03-20T21:05:58",
          "2024-03-20T21:06:08",
          "2024-03-20T21:06:25",
          "2024-03-20T21:08:40",
          "2024-03-20T21:08:47",
          "2024-03-20T21:09:06",
          "2024-03-20T22:34:13",
          "2024-03-20T22:34:16",
          "2024-03-21T00:01:53",
          "2024-03-21T00:02:07",
          "2024-03-21T10:19:12",
          "2024-03-21T10:19:15",
          "2024-03-21T10:19:18",
          "2024-03-21T10:19:20",
          "2024-03-21T10:19:58",
          "2024-03-21T10:20:09",
          "2024-03-21T10:20:12",
          "2024-03-21T10:28:47",
          "2024-03-21T10:28:51",
          "2024-03-21T10:28:57",
          "2024-03-22T19:35:34",
          "2024-03-27T13:44:33",
          "2024-03-28T15:28:45",
          "2024-03-28T15:28:50",
          "2024-03-28T15:42:20",
          "2024-03-28T15:42:25",
          "2024-03-28T15:42:28",
          "2024-03-28T15:42:43",
          "2024-03-28T15:57:51",
          "2024-03-28T16:10:31",
          "2024-03-28T16:10:43",
          "2024-03-28T16:45:25",
          "2024-03-28T16:50:20",
          "2024-03-28T16:51:06",
          "2024-03-28T16:54:25",
          "2024-03-28T16:54:30",
          "2024-03-28T16:54:37",
          "2024-03-30T10:32:53",
          "2024-03-30T10:33:18",
          "2024-03-30T10:34:07",
          "2024-03-30T10:57:42",
          "2024-03-30T10:58:01",
          "2024-03-30T11:19:00",
          "2024-03-30T11:20:19",
          "2024-03-30T18:17:39",
          "2024-03-30T18:22:34",
          "2024-03-30T18:22:46",
          "2024-03-30T18:22:55",
          "2024-03-30T18:31:06",
          "2024-03-30T18:31:13",
          "2024-03-30T18:31:40",
          "2024-03-30T18:31:55",
          "2024-03-30T18:32:07",
          "2024-03-30T18:32:13",
          "2024-03-30T19:20:37",
          "2024-03-30T19:20:39",
          "2024-03-30T19:36:53",
          "2024-03-30T19:38:46",
          "2024-03-30T21:09:42",
          "2024-04-01T18:19:43",
          "2024-04-01T18:20:11",
          "2024-04-01T18:20:14",
          "2024-04-01T18:20:34",
          "2024-04-01T18:20:39",
          "2024-04-01T18:20:52",
          "2024-04-01T18:20:59",
          "2024-04-01T18:21:07",
          "2024-04-01T18:21:23",
          "2024-04-01T18:21:54",
          "2024-04-01T18:22:12",
          "2024-04-01T18:22:58",
          "2024-04-02T02:26:35",
          "2024-04-02T02:29:45",
          "2024-04-02T02:29:53",
          "2024-04-02T02:51:52",
          "2024-04-02T17:05:11",
          "2024-04-02T17:05:46",
          "2024-04-03T08:39:39",
          "2024-04-03T16:22:52",
          "2024-04-03T16:26:43",
          "2024-04-03T19:13:32",
          "2024-04-03T19:13:37",
          "2024-04-03T19:13:41",
          "2024-04-03T19:15:50",
          "2024-04-04T10:14:21",
          "2024-04-04T10:14:34",
          "2024-04-04T10:15:05",
          "2024-04-04T10:29:27",
          "2024-04-04T10:29:53",
          "2024-04-04T10:39:42",
          "2024-04-04T10:39:52",
          "2024-04-04T10:39:57",
          "2024-04-04T14:17:33",
          "2024-04-04T14:19:43",
          "2024-04-04T14:40:53",
          "2024-04-05T12:47:00",
          "2024-04-05T12:47:11",
          "2024-04-05T12:47:22",
          "2024-04-05T12:59:54",
          "2024-04-05T13:00:05",
          "2024-04-05T13:00:13",
          "2024-04-05T13:05:15",
          "2024-04-05T13:05:41",
          "2024-04-05T13:06:26",
          "2024-04-05T18:20:53",
          "2024-04-05T18:20:58",
          "2024-04-05T20:49:10",
          "2024-04-05T20:49:11",
          "2024-04-05T21:14:34",
          "2024-04-05T21:15:04",
          "2024-04-05T21:15:08",
          "2024-04-05T21:58:13",
          "2024-04-06T17:21:20",
          "2024-04-06T19:22:02",
          "2024-04-06T23:01:34",
          "2024-04-06T23:02:42",
          "2024-04-06T23:02:55",
          "2024-04-06T23:03:57",
          "2024-04-06T23:05:13",
          "2024-04-06T23:07:12",
          "2024-04-06T23:09:32",
          "2024-04-06T23:09:46",
          "2024-04-06T23:10:49",
          "2024-04-08T12:06:25",
          "2024-04-08T12:09:25",
          "2024-04-08T12:09:28",
          "2024-04-08T12:09:39",
          "2024-04-08T12:12:26",
          "2024-04-08T12:14:57",
          "2024-04-08T12:21:05",
          "2024-04-08T15:01:03",
          "2024-04-08T15:02:09",
          "2024-04-08T15:02:28",
          "2024-04-08T15:02:52",
          "2024-04-08T15:03:18",
          "2024-04-08T15:03:21",
          "2024-04-08T15:03:28",
          "2024-04-08T15:04:00",
          "2024-04-08T15:04:06",
          "2024-04-08T15:04:34",
          "2024-04-08T15:04:47",
          "2024-04-08T15:13:20",
          "2024-04-08T15:13:49",
          "2024-04-08T15:37:53",
          "2024-04-08T15:38:02",
          "2024-04-08T15:43:15",
          "2024-04-08T15:43:20",
          "2024-04-08T15:45:27",
          "2024-04-08T15:45:34",
          "2024-04-08T15:45:42",
          "2024-04-08T15:46:47",
          "2024-04-08T15:46:56",
          "2024-04-08T15:47:37",
          "2024-04-08T15:47:44",
          "2024-04-08T15:48:58",
          "2024-04-08T15:49:03",
          "2024-04-08T17:57:40",
          "2024-04-08T17:58:14",
          "2024-04-08T17:58:28",
          "2024-04-08T17:59:32",
          "2024-04-08T18:00:06",
          "2024-04-08T18:00:11",
          "2024-04-08T18:00:20",
          "2024-04-08T18:00:33",
          "2024-04-08T18:02:21",
          "2024-04-08T18:02:30",
          "2024-04-08T18:48:43",
          "2024-04-08T18:53:22",
          "2024-04-08T21:05:15",
          "2024-04-08T21:05:17",
          "2024-04-08T21:05:18",
          "2024-04-08T21:05:20",
          "2024-04-08T23:43:24",
          "2024-04-08T23:43:46",
          "2024-04-11T10:43:09",
          "2024-04-11T10:43:31",
          "2024-04-11T13:31:56",
          "2024-04-11T17:56:08",
          "2024-04-11T18:19:03",
          "2024-04-12T11:17:05",
          "2024-04-12T11:25:32",
          "2024-04-12T11:25:35",
          "2024-04-12T15:20:19",
          "2024-04-12T15:20:23",
          "2024-04-12T15:20:32",
          "2024-04-12T19:45:21",
          "2024-04-12T20:36:17",
          "2024-04-12T20:36:30",
          "2024-04-12T20:36:50",
          "2024-04-12T20:36:52",
          "2024-04-12T20:36:55",
          "2024-04-12T20:38:36",
          "2024-04-12T20:38:38",
          "2024-04-12T20:39:25",
          "2024-04-12T20:39:38",
          "2024-04-12T20:39:48",
          "2024-04-12T20:40:08",
          "2024-04-12T20:40:20",
          "2024-04-12T20:41:37",
          "2024-04-12T20:41:47",
          "2024-04-12T20:42:45",
          "2024-04-12T20:42:52",
          "2024-04-12T20:42:58",
          "2024-04-12T20:43:18",
          "2024-04-12T20:43:46",
          "2024-04-12T20:44:17",
          "2024-04-12T20:45:25",
          "2024-04-12T20:45:55",
          "2024-04-12T20:46:38",
          "2024-04-12T20:46:45",
          "2024-04-12T20:46:58",
          "2024-04-12T20:47:05",
          "2024-04-12T20:47:20",
          "2024-04-12T20:47:27",
          "2024-04-12T20:47:31",
          "2024-04-12T20:47:46",
          "2024-04-12T20:48:03",
          "2024-04-12T20:48:24",
          "2024-04-12T20:48:27",
          "2024-04-12T20:49:01",
          "2024-04-12T21:25:17",
          "2024-04-12T22:55:40",
          "2024-04-12T22:55:44",
          "2024-04-12T22:55:49",
          "2024-04-15T12:52:43",
          "2024-04-15T17:37:33",
          "2024-04-15T17:37:47",
          "2024-04-15T17:39:27",
          "2024-04-15T17:48:39",
          "2024-04-16T11:23:28",
          "2024-04-16T11:53:40",
          "2024-04-16T11:54:15",
          "2024-04-16T12:05:47",
          "2024-04-16T12:05:57",
          "2024-04-16T12:11:41",
          "2024-04-16T12:11:56",
          "2024-04-16T12:12:57",
          "2024-04-16T12:21:15",
          "2024-04-16T12:42:18",
          "2024-04-16T12:51:58",
          "2024-04-16T12:52:34",
          "2024-04-16T12:52:56",
          "2024-04-16T12:56:29",
          "2024-04-16T12:57:58",
          "2024-04-16T13:05:01",
          "2024-04-16T13:05:19",
          "2024-04-16T13:06:01",
          "2024-04-16T14:18:02",
          "2024-04-17T12:37:55",
          "2024-04-17T12:38:01",
          "2024-04-17T12:39:21",
          "2024-04-17T13:15:12",
          "2024-04-17T13:15:34",
          "2024-04-17T13:15:35",
          "2024-04-17T13:16:02",
          "2024-04-17T13:29:12",
          "2024-04-17T13:29:14",
          "2024-04-17T23:26:02",
          "2024-04-17T23:26:07",
          "2024-04-17T23:31:28",
          "2024-04-17T23:31:41",
          "2024-04-17T23:32:20",
          "2024-04-17T23:55:06",
          "2024-04-19T10:40:28",
          "2024-04-19T14:31:59",
          "2024-04-19T14:32:00",
          "2024-04-19T14:32:17",
          "2024-04-19T14:32:21",
          "2024-04-19T15:27:01",
          "2024-04-21T16:29:58",
          "2024-04-21T16:30:06",
          "2024-04-22T17:58:24",
          "2024-04-22T17:58:37",
          "2024-04-22T17:58:56",
          "2024-04-22T17:59:47",
          "2024-04-22T18:00:05",
          "2024-04-22T18:00:18",
          "2024-04-22T18:03:18",
          "2024-04-22T18:04:26",
          "2024-04-22T18:04:57",
          "2024-04-22T18:15:45",
          "2024-04-22T18:16:21",
          "2024-04-22T18:16:47",
          "2024-04-22T18:17:25",
          "2024-04-22T18:17:57",
          "2024-04-22T18:18:36",
          "2024-04-22T18:19:27",
          "2024-04-22T18:21:42",
          "2024-04-22T18:42:37",
          "2024-04-22T18:42:42",
          "2024-04-22T18:42:46",
          "2024-04-22T18:54:14",
          "2024-04-22T18:54:16",
          "2024-04-22T18:54:22",
          "2024-04-22T19:06:27",
          "2024-04-22T19:06:29",
          "2024-04-22T20:02:04",
          "2024-04-22T22:49:59",
          "2024-04-22T22:52:59",
          "2024-04-22T22:53:09",
          "2024-04-22T22:53:21",
          "2024-04-22T22:53:33",
          "2024-04-22T22:54:26",
          "2024-04-22T22:54:39",
          "2024-04-22T22:55:16",
          "2024-04-22T22:55:23",
          "2024-04-23T11:06:34",
          "2024-04-23T11:06:36",
          "2024-04-23T11:06:49",
          "2024-04-23T11:12:54",
          "2024-04-23T12:03:17",
          "2024-04-23T12:03:22",
          "2024-04-23T12:03:28",
          "2024-04-24T16:23:28",
          "2024-04-24T16:29:18",
          "2024-04-24T16:29:31",
          "2024-04-25T15:26:48",
          "2024-04-25T15:26:52",
          "2024-04-25T15:26:54",
          "2024-04-25T18:39:03",
          "2024-04-26T16:17:03",
          "2024-04-26T16:17:09",
          "2024-04-26T16:17:13",
          "2024-04-29T01:47:44",
          "2024-04-29T17:31:29",
          "2024-04-29T17:33:56",
          "2024-04-29T17:37:02",
          "2024-04-29T17:38:21",
          "2024-04-29T17:51:34",
          "2024-04-29T18:15:10",
          "2024-04-29T18:15:27",
          "2024-04-29T18:15:33",
          "2024-04-29T18:19:57",
          "2024-04-29T18:20:00",
          "2024-04-29T18:21:05",
          "2024-04-29T18:22:51",
          "2024-04-29T18:22:54",
          "2024-04-29T18:25:19",
          "2024-04-30T10:45:05",
          "2024-04-30T10:46:39",
          "2024-04-30T10:46:42",
          "2024-04-30T10:54:07",
          "2024-04-30T10:54:14",
          "2024-04-30T10:54:18",
          "2024-04-30T10:55:10",
          "2024-04-30T10:55:14",
          "2024-04-30T10:55:19",
          "2024-04-30T10:56:07",
          "2024-04-30T10:56:12",
          "2024-04-30T10:56:15",
          "2024-04-30T10:56:33",
          "2024-04-30T10:56:34",
          "2024-04-30T10:57:14",
          "2024-04-30T10:57:21",
          "2024-04-30T10:57:23",
          "2024-05-05T22:19:39",
          "2024-05-05T22:20:13",
          "2024-05-05T23:09:29",
          "2024-05-05T23:10:29",
          "2024-05-06T10:50:39",
          "2024-05-06T13:37:40",
          "2024-05-06T13:37:56",
          "2024-05-06T13:38:06",
          "2024-05-06T13:45:52",
          "2024-05-06T13:45:59",
          "2024-05-06T13:55:40",
          "2024-05-06T13:55:44",
          "2024-05-06T13:55:55",
          "2024-05-06T14:32:07",
          "2024-05-06T14:33:10",
          "2024-05-06T14:33:33",
          "2024-05-06T14:33:58",
          "2024-05-06T14:34:09",
          "2024-05-06T14:35:13",
          "2024-05-06T14:35:14",
          "2024-05-06T14:35:31",
          "2024-05-06T14:35:36",
          "2024-05-06T14:37:20",
          "2024-05-06T14:37:49",
          "2024-05-06T14:38:38",
          "2024-05-06T14:40:05",
          "2024-05-06T14:40:08",
          "2024-05-06T14:40:23",
          "2024-05-06T14:40:31",
          "2024-05-06T14:41:42",
          "2024-05-06T14:41:46",
          "2024-05-06T14:41:50",
          "2024-05-06T14:41:52",
          "2024-05-06T15:06:06",
          "2024-05-06T15:06:09",
          "2024-05-06T18:57:50",
          "2024-05-06T21:00:43",
          "2024-05-06T21:03:10",
          "2024-05-06T21:03:14",
          "2024-05-06T22:44:09",
          "2024-05-06T22:44:27",
          "2024-05-06T22:44:30",
          "2024-05-06T22:44:48",
          "2024-05-06T22:44:58",
          "2024-05-06T22:46:37",
          "2024-05-06T22:46:42",
          "2024-05-06T23:04:35",
          "2024-05-06T23:05:00",
          "2024-05-06T23:07:17",
          "2024-05-06T23:08:49",
          "2024-05-06T23:10:30",
          "2024-05-06T23:12:14",
          "2024-05-06T23:12:21",
          "2024-05-06T23:12:53",
          "2024-05-06T23:13:21",
          "2024-05-06T23:13:44",
          "2024-05-06T23:15:25",
          "2024-05-06T23:15:49",
          "2024-05-06T23:15:53",
          "2024-05-06T23:15:58",
          "2024-05-06T23:16:02",
          "2024-05-06T23:16:10",
          "2024-05-06T23:16:12",
          "2024-05-06T23:16:17",
          "2024-05-06T23:17:18",
          "2024-05-06T23:17:44",
          "2024-05-06T23:17:57",
          "2024-05-06T23:18:16",
          "2024-05-06T23:18:25",
          "2024-05-06T23:18:40",
          "2024-05-06T23:18:48",
          "2024-05-06T23:19:15",
          "2024-05-06T23:19:25",
          "2024-05-06T23:19:43",
          "2024-05-06T23:20:33",
          "2024-05-06T23:20:40",
          "2024-05-06T23:20:53",
          "2024-05-07T09:23:39",
          "2024-05-07T10:22:41",
          "2024-05-07T10:22:42",
          "2024-05-07T10:29:30",
          "2024-05-07T10:30:01",
          "2024-05-07T10:35:23",
          "2024-05-07T10:39:55",
          "2024-05-07T10:40:58",
          "2024-05-07T11:02:45",
          "2024-05-07T11:02:53",
          "2024-05-07T11:02:55",
          "2024-05-07T11:03:30",
          "2024-05-07T11:03:32",
          "2024-05-07T11:04:12",
          "2024-05-07T11:04:15",
          "2024-05-07T11:06:05",
          "2024-05-07T11:06:56",
          "2024-05-07T11:07:28",
          "2024-05-07T11:07:33",
          "2024-05-07T11:09:43",
          "2024-05-07T11:09:49",
          "2024-05-07T11:12:11",
          "2024-05-07T11:12:17",
          "2024-05-07T11:12:21",
          "2024-05-07T11:12:22",
          "2024-05-07T11:13:58",
          "2024-05-07T11:14:05",
          "2024-05-07T11:14:33",
          "2024-05-07T11:14:57",
          "2024-05-07T11:15:08",
          "2024-05-07T11:15:44",
          "2024-05-07T11:25:12",
          "2024-05-07T11:25:33",
          "2024-05-07T11:26:56",
          "2024-05-07T11:27:13",
          "2024-05-07T11:31:26",
          "2024-05-07T11:31:32",
          "2024-05-07T11:31:45",
          "2024-05-07T11:31:54",
          "2024-05-07T11:32:04",
          "2024-05-07T11:33:12",
          "2024-05-07T11:33:19",
          "2024-05-07T12:01:55",
          "2024-05-07T12:02:05",
          "2024-05-07T12:11:28",
          "2024-05-07T12:11:46",
          "2024-05-07T12:11:51",
          "2024-05-07T12:12:00",
          "2024-05-07T12:12:19",
          "2024-05-07T12:12:32",
          "2024-05-07T12:14:57",
          "2024-05-07T12:37:55",
          "2024-05-07T12:38:00",
          "2024-05-07T12:38:08",
          "2024-05-07T12:38:19",
          "2024-05-07T12:38:34",
          "2024-05-07T13:13:10",
          "2024-05-07T13:13:28",
          "2024-05-07T13:13:40",
          "2024-05-07T13:13:42",
          "2024-05-07T13:14:16",
          "2024-05-07T13:14:22",
          "2024-05-07T13:14:27",
          "2024-05-07T13:14:33",
          "2024-05-07T13:14:38",
          "2024-05-07T13:14:47",
          "2024-05-07T13:14:59",
          "2024-05-07T13:15:00",
          "2024-05-07T13:15:06",
          "2024-05-07T13:17:30",
          "2024-05-07T13:17:35",
          "2024-05-07T13:35:33",
          "2024-05-07T13:37:22",
          "2024-05-07T15:57:25",
          "2024-05-07T16:53:06",
          "2024-05-07T16:53:18",
          "2024-05-07T16:53:21",
          "2024-05-07T16:57:38",
          "2024-05-07T16:57:44",
          "2024-05-07T16:57:47",
          "2024-05-07T17:00:52",
          "2024-05-07T17:01:00",
          "2024-05-07T17:01:08",
          "2024-05-07T17:01:46",
          "2024-05-07T17:14:11",
          "2024-05-07T17:14:16",
          "2024-05-07T17:14:36",
          "2024-05-07T17:14:42",
          "2024-05-07T17:14:46",
          "2024-05-07T17:15:06",
          "2024-05-07T17:15:08",
          "2024-05-07T17:15:10",
          "2024-05-07T17:15:42",
          "2024-05-07T17:16:18",
          "2024-05-07T17:16:58",
          "2024-05-07T17:17:01",
          "2024-05-07T17:17:03",
          "2024-05-07T17:34:24",
          "2024-05-07T17:34:27",
          "2024-05-07T17:35:13",
          "2024-05-07T17:36:02",
          "2024-05-07T17:36:43",
          "2024-05-07T17:36:55",
          "2024-05-07T17:36:58",
          "2024-05-07T17:37:19",
          "2024-05-07T17:38:26",
          "2024-05-07T17:38:49",
          "2024-05-07T17:38:54",
          "2024-05-07T17:38:57",
          "2024-05-07T17:38:58",
          "2024-05-07T17:39:30",
          "2024-05-07T17:39:33",
          "2024-05-07T17:39:39",
          "2024-05-07T17:39:46",
          "2024-05-07T17:39:48",
          "2024-05-07T17:39:51",
          "2024-05-07T17:39:57",
          "2024-05-07T17:40:00",
          "2024-05-07T17:45:49",
          "2024-05-07T17:45:56",
          "2024-05-07T17:46:00",
          "2024-05-07T17:46:08",
          "2024-05-07T17:48:03",
          "2024-05-07T19:00:45",
          "2024-05-07T19:00:49",
          "2024-05-07T19:00:54",
          "2024-05-07T19:01:05",
          "2024-05-07T19:01:32",
          "2024-05-07T20:48:20",
          "2024-05-07T20:48:42",
          "2024-05-07T20:48:52",
          "2024-05-07T20:48:59",
          "2024-05-07T20:49:17",
          "2024-05-07T20:49:31",
          "2024-05-07T20:49:56",
          "2024-05-07T20:50:07",
          "2024-05-07T20:50:18",
          "2024-05-07T20:50:25",
          "2024-05-07T20:50:26",
          "2024-05-07T20:50:31",
          "2024-05-07T20:51:46",
          "2024-05-07T20:51:53",
          "2024-05-07T20:52:07",
          "2024-05-07T20:52:21",
          "2024-05-07T20:52:30",
          "2024-05-07T20:52:30",
          "2024-05-07T20:52:38",
          "2024-05-07T20:52:44",
          "2024-05-07T20:52:50",
          "2024-05-07T20:53:19",
          "2024-05-07T20:53:26",
          "2024-05-07T20:53:54",
          "2024-05-07T20:54:16",
          "2024-05-07T20:54:54",
          "2024-05-07T20:55:03",
          "2024-05-07T20:55:19",
          "2024-05-07T20:55:29",
          "2024-05-07T20:55:33",
          "2024-05-07T20:55:40",
          "2024-05-07T20:55:43",
          "2024-05-07T20:55:54",
          "2024-05-07T20:55:57",
          "2024-05-07T20:56:12",
          "2024-05-07T20:56:25",
          "2024-05-07T20:56:29",
          "2024-05-07T20:57:54",
          "2024-05-07T20:58:16",
          "2024-05-07T20:58:21",
          "2024-05-07T20:58:23",
          "2024-05-07T20:58:29",
          "2024-05-07T20:59:29",
          "2024-05-07T20:59:48",
          "2024-05-07T20:59:51",
          "2024-05-07T21:00:02",
          "2024-05-07T21:00:29",
          "2024-05-07T21:00:35",
          "2024-05-07T21:02:36",
          "2024-05-07T21:45:02",
          "2024-05-07T21:45:03",
          "2024-05-07T21:45:07",
          "2024-05-07T21:45:12",
          "2024-05-07T21:45:19",
          "2024-05-07T21:45:39",
          "2024-05-07T22:42:10",
          "2024-05-07T22:42:35",
          "2024-05-07T22:42:43",
          "2024-05-08T10:19:37",
          "2024-05-08T10:19:38",
          "2024-05-08T10:40:58",
          "2024-05-08T13:53:36",
          "2024-05-08T13:53:44",
          "2024-05-08T13:55:29",
          "2024-05-08T13:55:56",
          "2024-05-08T13:56:02",
          "2024-05-08T13:56:05",
          "2024-05-08T13:58:12",
          "2024-05-08T13:58:18",
          "2024-05-08T13:58:24",
          "2024-05-08T13:58:46",
          "2024-05-08T13:59:07",
          "2024-05-08T14:34:47",
          "2024-05-08T14:38:49",
          "2024-05-08T14:38:58",
          "2024-05-08T21:16:44",
          "2024-05-08T21:18:10",
          "2024-05-08T21:18:51",
          "2024-05-08T21:23:18",
          "2024-05-08T21:23:47",
          "2024-05-08T23:09:26",
          "2024-05-08T23:11:56",
          "2024-05-08T23:12:52",
          "2024-05-08T23:14:38",
          "2024-05-08T23:14:53",
          "2024-05-08T23:15:04",
          "2024-05-08T23:16:08",
          "2024-05-08T23:16:20",
          "2024-05-08T23:16:32",
          "2024-05-08T23:23:20",
          "2024-05-09T00:00:47",
          "2024-05-09T00:00:50",
          "2024-05-09T00:04:25",
          "2024-05-09T00:04:29",
          "2024-05-09T00:04:48",
          "2024-05-09T00:04:54",
          "2024-05-09T00:05:21",
          "2024-05-09T00:06:40",
          "2024-05-09T00:07:01",
          "2024-05-09T00:15:20",
          "2024-05-09T12:09:14",
          "2024-05-09T14:52:44",
          "2024-05-09T15:04:33",
          "2024-05-09T15:04:51",
          "2024-05-09T15:04:58",
          "2024-05-09T15:05:01",
          "2024-05-09T15:22:14",
          "2024-05-09T15:22:19",
          "2024-05-09T15:22:25",
          "2024-05-09T15:22:47",
          "2024-05-09T15:22:49",
          "2024-05-09T15:51:16",
          "2024-05-09T18:43:28",
          "2024-05-09T18:43:33",
          "2024-05-09T18:43:38",
          "2024-05-09T18:44:23",
          "2024-05-09T18:44:25",
          "2024-05-09T18:44:29",
          "2024-05-09T18:44:48",
          "2024-05-09T21:34:24",
          "2024-05-09T21:38:10",
          "2024-05-09T21:38:24",
          "2024-05-09T21:38:34",
          "2024-05-09T21:39:12",
          "2024-05-09T21:41:51",
          "2024-05-09T21:41:56",
          "2024-05-09T21:41:59",
          "2024-05-09T21:42:02",
          "2024-05-09T21:51:12",
          "2024-05-09T21:51:26",
          "2024-05-09T21:51:36",
          "2024-05-09T21:51:40",
          "2024-05-09T21:51:53",
          "2024-05-09T21:52:04",
          "2024-05-09T21:52:26",
          "2024-05-09T21:52:36",
          "2024-05-09T21:52:58",
          "2024-05-09T21:53:08",
          "2024-05-09T21:53:21",
          "2024-05-09T21:53:27",
          "2024-05-09T21:55:53",
          "2024-05-09T21:56:03",
          "2024-05-09T21:56:09",
          "2024-05-09T21:56:16",
          "2024-05-09T23:04:13",
          "2024-05-10T11:46:05",
          "2024-05-10T11:47:52",
          "2024-05-10T11:47:54",
          "2024-05-10T11:48:05",
          "2024-05-10T11:48:11",
          "2024-05-10T11:49:23",
          "2024-05-10T11:54:33",
          "2024-05-10T12:47:09",
          "2024-05-10T12:47:10",
          "2024-05-10T14:21:35",
          "2024-05-10T14:33:01",
          "2024-05-10T14:33:06",
          "2024-05-10T17:05:59",
          "2024-05-10T17:06:05",
          "2024-05-10T17:41:00",
          "2024-05-10T22:51:46",
          "2024-05-10T22:51:50",
          "2024-05-10T22:51:59",
          "2024-05-10T22:52:13",
          "2024-05-11T00:15:45",
          "2024-05-11T00:16:19",
          "2024-05-11T00:16:22",
          "2024-05-11T00:18:05",
          "2024-05-11T00:18:11",
          "2024-05-11T00:21:30",
          "2024-05-11T00:21:36",
          "2024-05-11T00:24:07",
          "2024-05-11T00:24:13",
          "2024-05-11T00:24:19",
          "2024-05-11T00:24:24",
          "2024-05-11T00:24:31",
          "2024-05-11T19:23:44",
          "2024-05-11T19:24:10",
          "2024-05-11T19:27:05",
          "2024-05-11T19:27:43",
          "2024-05-11T23:02:07",
          "2024-05-11T23:02:12",
          "2024-05-12T00:14:23",
          "2024-05-12T00:14:45",
          "2024-05-12T00:15:08",
          "2024-05-12T00:17:56",
          "2024-05-12T00:18:00",
          "2024-05-12T00:18:10",
          "2024-05-12T00:18:18",
          "2024-05-12T00:18:22",
          "2024-05-12T00:18:52",
          "2024-05-12T00:18:58",
          "2024-05-12T00:19:04",
          "2024-05-12T00:20:20",
          "2024-05-12T00:20:26",
          "2024-05-12T00:20:36",
          "2024-05-12T13:31:18",
          "2024-05-12T13:49:01",
          "2024-05-12T13:49:10",
          "2024-05-12T13:50:11",
          "2024-05-12T13:50:17",
          "2024-05-12T13:50:23",
          "2024-05-12T13:51:39",
          "2024-05-12T13:52:05",
          "2024-05-12T13:52:42",
          "2024-05-12T13:53:03",
          "2024-05-12T14:10:26",
          "2024-05-12T14:14:03",
          "2024-05-12T14:14:32",
          "2024-05-12T14:17:11",
          "2024-05-12T15:39:04",
          "2024-05-12T15:39:11",
          "2024-05-12T15:39:22",
          "2024-05-12T15:41:02",
          "2024-05-12T15:41:15",
          "2024-05-12T15:49:33",
          "2024-05-12T15:57:42",
          "2024-05-12T15:57:50",
          "2024-05-12T15:57:57",
          "2024-05-12T15:58:31",
          "2024-05-12T15:58:43",
          "2024-05-12T16:03:07",
          "2024-05-12T16:03:17",
          "2024-05-12T16:19:34",
          "2024-05-12T16:19:52",
          "2024-05-12T16:25:54",
          "2024-05-12T16:26:09",
          "2024-05-12T16:27:51",
          "2024-05-12T16:27:58",
          "2024-05-12T16:39:15",
          "2024-05-12T16:41:42",
          "2024-05-12T20:17:42",
          "2024-05-12T20:41:49",
          "2024-05-12T20:42:54",
          "2024-05-12T20:43:03",
          "2024-05-12T20:47:46",
          "2024-05-12T20:47:54",
          "2024-05-12T20:48:01",
          "2024-05-12T20:48:09",
          "2024-05-12T20:48:19",
          "2024-05-12T20:48:30",
          "2024-05-12T20:48:34",
          "2024-05-12T20:48:55",
          "2024-05-12T20:50:22",
          "2024-05-12T20:50:29",
          "2024-05-12T20:51:45",
          "2024-05-12T20:52:01",
          "2024-05-12T21:07:09",
          "2024-05-12T21:07:18",
          "2024-05-12T21:08:31",
          "2024-05-12T21:08:38",
          "2024-05-12T21:08:59",
          "2024-05-12T21:09:42",
          "2024-05-12T21:09:59",
          "2024-05-12T21:11:07",
          "2024-05-12T21:11:19",
          "2024-05-12T21:11:34",
          "2024-05-12T21:17:03",
          "2024-05-12T21:17:06",
          "2024-05-12T21:17:20",
          "2024-05-12T21:18:00",
          "2024-05-12T21:19:01",
          "2024-05-12T21:19:56",
          "2024-05-12T21:20:10",
          "2024-05-12T21:20:18",
          "2024-05-12T21:23:31",
          "2024-05-12T21:27:04",
          "2024-05-12T21:27:11",
          "2024-05-12T21:27:36",
          "2024-05-12T21:28:13",
          "2024-05-12T21:28:21",
          "2024-05-12T21:29:03",
          "2024-05-12T21:29:17",
          "2024-05-12T21:30:21",
          "2024-05-12T21:30:39",
          "2024-05-12T21:30:53",
          "2024-05-12T21:31:19",
          "2024-05-12T21:31:24",
          "2024-05-12T21:34:02",
          "2024-05-12T21:34:22",
          "2024-05-12T21:34:30",
          "2024-05-12T21:35:37",
          "2024-05-12T21:35:45",
          "2024-05-12T21:35:51",
          "2024-05-12T21:35:59",
          "2024-05-12T21:36:38",
          "2024-05-12T21:36:46",
          "2024-05-12T21:36:58",
          "2024-05-12T21:37:33",
          "2024-05-12T21:43:03",
          "2024-05-12T21:56:03",
          "2024-05-12T22:03:13",
          "2024-05-12T22:03:23",
          "2024-05-12T22:14:30",
          "2024-05-12T22:19:43",
          "2024-05-12T22:19:52",
          "2024-05-12T22:19:58",
          "2024-05-12T22:20:10",
          "2024-05-12T22:21:27",
          "2024-05-13T11:05:50",
          "2024-05-13T11:05:56",
          "2024-05-13T11:06:03",
          "2024-05-13T15:12:46",
          "2024-05-13T15:13:13",
          "2024-05-13T15:13:26",
          "2024-05-13T15:13:33",
          "2024-05-13T15:13:38",
          "2024-05-13T15:14:42",
          "2024-05-13T15:15:01",
          "2024-05-13T15:15:18",
          "2024-05-13T15:15:26",
          "2024-05-13T15:17:15",
          "2024-05-13T15:17:33",
          "2024-05-13T15:44:47",
          "2024-05-13T15:44:52",
          "2024-05-13T15:44:55",
          "2024-05-13T18:53:56",
          "2024-05-13T18:54:12",
          "2024-05-13T18:54:28",
          "2024-05-13T21:12:47",
          "2024-05-13T21:16:47",
          "2024-05-13T21:17:23",
          "2024-05-13T21:18:57",
          "2024-05-13T22:13:41",
          "2024-05-13T22:14:07",
          "2024-05-13T22:14:13",
          "2024-05-13T22:14:51",
          "2024-05-13T22:15:17",
          "2024-05-13T22:26:22",
          "2024-05-13T22:27:17",
          "2024-05-13T22:27:47",
          "2024-05-13T22:28:16",
          "2024-05-13T22:28:20",
          "2024-05-13T22:28:31",
          "2024-05-13T22:29:10",
          "2024-05-13T22:29:18",
          "2024-05-13T22:30:31",
          "2024-05-13T22:31:25",
          "2024-05-13T22:32:08",
          "2024-05-13T22:32:18",
          "2024-05-13T22:32:27",
          "2024-05-13T22:33:02",
          "2024-05-13T22:33:31",
          "2024-05-13T22:35:24",
          "2024-05-13T22:35:26",
          "2024-05-13T22:35:43",
          "2024-05-13T22:36:03",
          "2024-05-13T22:36:09",
          "2024-05-13T22:36:17",
          "2024-05-13T22:36:24",
          "2024-05-13T22:36:34",
          "2024-05-13T22:37:18",
          "2024-05-13T22:37:26",
          "2024-05-13T22:37:41",
          "2024-05-13T22:37:51",
          "2024-05-13T22:38:06",
          "2024-05-13T22:38:17",
          "2024-05-13T22:40:05",
          "2024-05-13T22:40:23",
          "2024-05-13T22:41:10",
          "2024-05-13T22:41:31",
          "2024-05-13T22:42:21",
          "2024-05-13T22:42:27",
          "2024-05-13T22:43:07",
          "2024-05-13T22:43:17",
          "2024-05-14T10:35:15",
          "2024-05-14T10:35:17",
          "2024-05-14T10:35:19",
          "2024-05-14T10:35:43",
          "2024-05-14T10:35:45",
          "2024-05-14T10:56:39",
          "2024-05-14T13:08:13",
          "2024-05-14T13:08:19",
          "2024-05-14T13:08:23",
          "2024-05-14T13:11:52",
          "2024-05-14T13:11:57",
          "2024-05-14T13:15:05",
          "2024-05-14T13:28:46",
          "2024-05-14T13:28:52",
          "2024-05-14T13:33:49"
         ],
         "y": [
          null,
          null,
          null,
          null,
          null,
          null,
          null,
          null,
          null,
          null,
          null,
          null,
          null,
          null,
          null,
          null,
          null,
          null,
          null,
          0.4534685224294662,
          0.5532420903444291,
          0.5499747633934021,
          0.5664002954959869,
          0.4769845962524414,
          0.48033678233623506,
          0.3811026632785797,
          0.38063482344150545,
          0.28098770380020144,
          0.18922689855098723,
          0.28902300000190734,
          0.2887035459280014,
          0.3745550185441971,
          0.3731019824743271,
          0.36393626034259796,
          0.36450828015804293,
          0.4644760400056839,
          0.3651659727096558,
          0.3656233072280884,
          0.3534967303276062,
          0.3565400093793869,
          0.3562371402978897,
          0.25965374112129214,
          0.26012052297592164,
          0.2600925862789154,
          0.16087779998779297,
          0.2542526811361313,
          0.16081756949424744,
          0.26049011051654813,
          0.26023293733596803,
          0.16312437057495116,
          0.0636819988489151,
          -0.02218233048915863,
          -0.02076883316040039,
          0.07920715808868409,
          -0.02076902985572815,
          -0.10174269676208496,
          -0.10184121131896973,
          -0.10190296769142151,
          -0.08825699388980865,
          -0.08822511732578278,
          -0.08788908123970032,
          0.011856907606124878,
          -0.08501126766204833,
          0.014953237771987916,
          0.01441253423690796,
          0.02028619647026062,
          0.11417830586433411,
          0.016159433126449584,
          0.11598486602306365,
          0.11348304450511933,
          0.20100303888320922,
          0.20509209334850312,
          0.20498210489749907,
          0.11187688708305359,
          0.21185412108898163,
          0.19286182522773743,
          0.20799478888511658,
          0.11638277173042297,
          0.12625166177749633,
          0.12591661512851715,
          0.026190480589866637,
          0.022183367609977724,
          0.01953890323638916,
          0.019541633129119874,
          0.11950769424438476,
          0.02044731378555298,
          -0.0013236850500106812,
          -0.002689674496650696,
          -0.10261373817920685,
          -0.0033618003129959107,
          0.00902683436870575,
          0.10466931760311127,
          0.0050042539834976195,
          -0.0015987932682037353,
          -0.024075648188591002,
          -0.02395482361316681,
          -0.03908099830150604,
          0.05188071131706238,
          0.05107373893260956,
          -0.04843604862689972,
          0.05112375020980835,
          0.05533380508422851,
          0.15529207289218902,
          0.05559985041618347,
          -0.030670440196990965,
          -0.028991037607192995,
          -0.09469071626663209,
          -0.09508967101573944,
          -0.01590127944946289,
          -0.1152356892824173,
          -0.11604349911212922,
          -0.21184669733047484,
          -0.21192744970321656,
          -0.20950395464897156,
          -0.18767400681972504,
          -0.18779892921447755,
          -0.08880336880683899,
          -0.08998624086380005,
          -0.08944455683231353,
          0.0005709946155548096,
          -0.08370033204555512,
          -0.08369433283805847,
          -0.18343278169631957,
          -0.18316510319709778,
          -0.19608517587184907,
          -0.10403163433074951,
          -0.11636843681335449,
          -0.11637004613876342,
          -0.1954680472612381,
          -0.19324934780597686,
          -0.1967288911342621,
          -0.1868283987045288,
          -0.08730319738388062,
          0.00996234118938446,
          -0.08774212002754211,
          -0.0854793906211853,
          -0.08607415854930878,
          -0.18359442949295043,
          -0.28315859735012056,
          -0.3667264521121979,
          -0.38212190568447113,
          -0.4820221126079559,
          -0.3856885701417923,
          -0.30253194868564603,
          -0.21011621356010438,
          -0.3045643985271454,
          -0.3046572893857956,
          -0.3042725473642349,
          -0.3042727500200272,
          -0.30654467940330504,
          -0.3023518055677414,
          -0.2164761245250702,
          -0.21609799861907958,
          -0.2160781890153885,
          -0.11806090176105499,
          -0.030192917585372923,
          -0.0290070503950119,
          0.07069136500358582,
          0.07091129720211028,
          0.06434869468212127,
          0.07756488919258117,
          0.07774704694747925,
          -0.017908269166946413,
          -0.10101785659790039,
          -0.0948146790266037,
          -0.09491753280162811,
          -0.09494277834892273,
          -0.0904236227273941,
          0.009169837832450867,
          0.1089802235364914,
          0.10906988978385926,
          0.10921971499919891,
          0.10921934545040131,
          0.1082819640636444,
          0.01026839017868042,
          0.01916402280330658,
          -0.0000815749168395996,
          -0.018531250953674316,
          0.08103249371051788,
          0.09893130958080291,
          0.08662182092666626,
          0.18606093227863313,
          0.18579607605934143,
          0.2851200759410858,
          0.1860317349433899,
          0.2854111611843109,
          0.38502884805202486,
          0.38167986571788787,
          0.38164071142673495,
          0.3816377937793732,
          0.38134017288684846,
          0.38138208091259,
          0.2814570784568787,
          0.2823913812637329,
          0.28105450570583346,
          0.18988047838211058,
          0.20941433012485505,
          0.1458064466714859,
          0.1458383560180664,
          0.14475562274456025,
          0.2433680236339569,
          0.1439734697341919,
          0.24257976710796356,
          0.22907014787197114,
          0.3285509258508682,
          0.2293744832277298,
          0.129768443107605,
          0.13359783291816713,
          0.03480598330497742,
          -0.06474830508232117,
          -0.16391033828258514,
          -0.1640896886587143,
          -0.07069410681724549,
          -0.1686987102031708,
          -0.06911903321743011,
          0.022797513008117675,
          -0.07587009966373444,
          0.006024181842803955,
          -0.08514886498451232,
          -0.10182074606418609,
          -0.10152127742767333,
          -0.0023968368768692017,
          -0.08938963413238525,
          -0.07582220435142517,
          -0.07903066277503967,
          0.017105284333229064,
          0.11700824797153472,
          0.12477946281433105,
          0.22386667430400847,
          0.31549699902534484,
          0.3199974834918976,
          0.23632419407367705,
          0.24284739494323732,
          0.33793392181396487,
          0.24151817858219146,
          0.16330513656139373,
          0.16233790814876556,
          0.06280531585216523,
          0.05407742559909821,
          0.054249811172485354,
          -0.045691373944282535,
          -0.0451381653547287,
          -0.05355640947818756,
          -0.05364373326301575,
          -0.14691227078437805,
          -0.23877544403076173,
          -0.23883918523788453,
          -0.1635671526193619,
          -0.16371544301509858,
          -0.2557304799556732,
          -0.25989284813404084,
          -0.26039649844169616,
          -0.36031103134155273,
          -0.35744441151618955,
          -0.27955633997917173,
          -0.20601688623428344,
          -0.20498642027378083,
          -0.20524636507034302,
          -0.10552160441875458,
          -0.006005498766899109,
          -0.00562930703163147,
          -0.10462971925735473,
          -0.008536100387573242,
          -0.008526182174682618,
          0.0880756437778473,
          0.10257753729820251,
          0.0027441620826721192,
          0.013831013441085815,
          -0.08430979251861573,
          -0.0789351373910904,
          -0.07961809635162354,
          -0.004532507061958313,
          0.08980379104614258,
          0.0861691564321518,
          0.005028587579727173,
          0.009905579686164855,
          0.10854081511497497,
          0.18642329573631286,
          0.1863277703523636,
          0.08665224313735961,
          0.08648403882980346,
          0.08552170991897583,
          0.08489105999469757,
          -0.01492481231689453,
          -0.11482776403427124,
          -0.03385758399963379,
          0.05774570107460022,
          0.05797993242740631,
          0.15312182605266572,
          0.24712659418582916,
          0.33554661870002744,
          0.3448162943124771,
          0.3395923376083374,
          0.3432790279388428,
          0.3450001299381256,
          0.34120361804962157,
          0.3381799221038818,
          0.34141025245189666,
          0.24229905605316163,
          0.33814832866191863,
          0.3530498415231705,
          0.4530049264431,
          0.3661863386631012,
          0.36725504100322726,
          0.3691608101129532,
          0.3663260340690613,
          0.2752558797597885,
          0.1904790073633194,
          0.09414934515953063,
          0.09463070034980774,
          0.09953950345516205,
          0.09953372478485108,
          0.010370177030563355,
          -0.0892946481704712,
          -0.09111058712005615,
          -0.18684450387954712,
          -0.1837559998035431,
          -0.2497548669576645,
          -0.15040581822395324,
          -0.14649496376514434,
          -0.06256880164146424,
          -0.06289753913879395,
          -0.07511477172374725,
          -0.07573067843914032,
          -0.0708906501531601,
          -0.06808437407016754,
          -0.06861020624637604,
          0.01623331606388092,
          0.015820199251174928,
          0.015909776091575623,
          0.02205537259578705,
          -0.07778007984161377,
          -0.0777812659740448,
          0.021558976173400878,
          0.021795454621315002,
          0.02145107090473175,
          0.021353960037231445,
          0.10615137815475464,
          0.10310025811195374,
          0.10314144492149353,
          0.0041657030582427975,
          -0.09526395499706268,
          -0.0943785548210144,
          -0.09486138224601745,
          -0.09978250563144683,
          -0.17624393701553345,
          -0.17628115713596343,
          -0.17669596672058105,
          -0.1763312727212906,
          -0.17634113729000092,
          -0.2756727963685989,
          -0.2749330461025238,
          -0.27456834316253664,
          -0.2742453247308731,
          -0.27310943603515625,
          -0.2716229408979416,
          -0.36443643271923065,
          -0.4617458552122116,
          -0.5581202507019043,
          -0.6558165550231934,
          -0.655889630317688,
          -0.655334722995758,
          -0.6563256800174713,
          -0.6554547250270844,
          -0.6523482888936997,
          -0.575851583480835,
          -0.47614742517471315,
          -0.5742029428482056,
          -0.47470449805259707,
          -0.47527570724487306,
          -0.37630494236946105,
          -0.28261457979679105,
          -0.2820151925086975,
          -0.2820561617612839,
          -0.18376270234584807,
          -0.1845003753900528,
          -0.19153740108013154,
          -0.18436518907546998,
          -0.18432025015354156,
          -0.1807291626930237,
          -0.18065469861030578,
          -0.18132378160953522,
          -0.1805838793516159,
          -0.08154277801513672,
          -0.0863478124141693,
          -0.17674799263477325,
          -0.27646379768848417,
          -0.17827240824699403,
          -0.27822011411190034,
          -0.27802157402038574,
          -0.37717569768428805,
          -0.4717026919126511,
          -0.4725439727306366,
          -0.47266031205654147,
          -0.5533014178276062,
          -0.454323935508728,
          -0.3543821096420288,
          -0.36143134236335756,
          -0.3619774907827377,
          -0.26789381802082063,
          -0.1687208205461502,
          -0.16858118772506714,
          -0.16932410299777984,
          -0.2567059636116028,
          -0.2567327231168747,
          -0.266051784157753,
          -0.2654577255249023,
          -0.36507175862789154,
          -0.3648519992828369,
          -0.46192351579666135,
          -0.3628815829753876,
          -0.2630834221839905,
          -0.26320896446704867,
          -0.3625229626893997,
          -0.2816916167736053,
          -0.28973546624183655,
          -0.2911441206932068,
          -0.19410638511180878,
          -0.09418405890464783,
          -0.09423267245292663,
          -0.19120875597000123,
          -0.09147287309169769,
          0.008323022723197937,
          0.0956620991230011,
          0.0965359091758728,
          0.1939624458551407,
          0.19336113035678865,
          0.19428653120994568,
          0.2927727818489075,
          0.38995897173881533,
          0.3907643646001816,
          0.39089975953102113,
          0.3915766656398773,
          0.39111327230930326,
          0.3911157548427582,
          0.39926843643188475,
          0.30111082792282107,
          0.299262148141861,
          0.1993627667427063,
          0.11693088114261627,
          0.19469538033008577,
          0.0947183459997177,
          0.09115926027297974,
          0.09121276140213012,
          0.09022644460201264,
          0.07140467464923858,
          0.07168850600719452,
          0.16417714655399324,
          0.16536180078983306,
          0.06583759188652039,
          -0.030849853157997133,
          -0.03085518479347229,
          0.061204993724823,
          0.06307343542575836,
          0.06297591030597686,
          0.06079854965209961,
          0.061211121082305905,
          0.06312208771705627,
          0.06357007324695588,
          0.14603261947631835,
          0.1659656822681427,
          0.26594159603118894,
          0.2694875031709671,
          0.2694862633943558,
          0.3694610446691513,
          0.3905293196439743,
          0.49022714495658876,
          0.3968289911746979,
          0.3009151995182037,
          0.4003032475709915,
          0.39718174636363984,
          0.2973232716321945,
          0.2943082571029663,
          0.39236139953136445,
          0.29411092698574065,
          0.29479683339595797,
          0.29677385091781616,
          0.2968668073415756,
          0.2964097946882248,
          0.2850611060857773,
          0.2710841536521912,
          0.2672592639923096,
          0.18244600296020508,
          0.18242316842079162,
          0.08279300332069398,
          -0.016468963027000426,
          -0.019624096155166627,
          -0.01969851553440094,
          0.07090429365634918,
          0.07130516171455384,
          0.07241240441799164,
          0.07257831990718841,
          0.08282324075698852,
          -0.016975775361061096,
          -0.018592360615730285,
          -0.11702733039855957,
          -0.11963954865932465,
          -0.13327889442443847,
          -0.0333692193031311,
          -0.12150981426239013,
          -0.20661389827728271,
          -0.2976586431264877,
          -0.21337611079216004,
          -0.21354369223117828,
          -0.11391297280788422,
          -0.11377856433391571,
          -0.21048988103866578,
          -0.1105668604373932,
          -0.1051707237958908,
          -0.20509825348854066,
          -0.20633617639541627,
          -0.20586552023887633,
          -0.3055547416210175,
          -0.3043510228395462,
          -0.20447368919849396,
          -0.1067039966583252,
          -0.008440136909484863,
          -0.09435180425643921,
          -0.09842382967472077,
          0.000835353136062622,
          0.09980320036411286,
          0.09543474912643432,
          0.012835419178009034,
          -0.0864443063735962,
          -0.08766168951988221,
          -0.08673999905586242,
          -0.08588950335979462,
          -0.08588996231555938,
          -0.09308079779148101,
          0.005946364998817444,
          0.105523219704628,
          0.10517054796218872,
          0.1048868864774704,
          0.10357813835144043,
          0.10367392003536224,
          0.09046641290187836,
          0.09166302978992462,
          0.09129704236984253,
          -0.0039007246494293215,
          -0.004208606481552124,
          -0.1040048986673355,
          -0.10369037985801696,
          -0.1196537584066391,
          -0.11993427574634552,
          -0.20256554186344147,
          -0.10517657399177552,
          -0.09100655317306519,
          -0.18943025171756744,
          -0.26707868874073026,
          -0.3642127960920334,
          -0.463409560918808,
          -0.38476553559303284,
          -0.38384634256362915,
          -0.2839292883872986,
          -0.28392947316169737,
          -0.3680374473333359,
          -0.3678109496831894,
          -0.267857164144516,
          -0.1686042070388794,
          -0.2677213460206985,
          -0.17045968770980835,
          -0.16220873296260835,
          -0.06726487576961518,
          -0.0634501814842224,
          -0.06027480363845825,
          -0.05967661142349243,
          -0.07450189292430878,
          -0.07075987756252289,
          -0.0847371608018875,
          0.013185107707977295,
          0.10845986902713775,
          0.029460301995277403,
          0.12848451137542724,
          0.12308507859706878,
          0.023530390858650208,
          0.1230427384376526,
          0.024745672941207886,
          0.02383570671081543,
          0.023890423774719238,
          0.03886353373527527,
          0.03224078714847565,
          0.12236980199813843,
          0.02789502441883087,
          0.12325630486011505,
          0.20390583276748658,
          0.20004523694515228,
          0.28832630813121796,
          0.38303096890449523,
          0.4593694984912872,
          0.45821712911129,
          0.3635357528924942,
          0.4526330381631851,
          0.4509953886270523,
          0.3580611735582352,
          0.457605317234993,
          0.35764549374580384,
          0.45604578256607053,
          0.4569541454315186,
          0.4568453073501587,
          0.4419120609760284,
          0.3519018977880478,
          0.2525083363056183,
          0.25120891630649567,
          0.15202364325523376,
          0.06702361702919006,
          -0.02881649136543274,
          -0.11515944302082062,
          -0.11550571620464326,
          -0.186931312084198,
          -0.2831079512834549,
          -0.19103918671607972,
          -0.2801611959934235,
          -0.3633307904005051,
          -0.2683061510324478,
          -0.2682976216077805,
          -0.26682543456554414,
          -0.26684337854385376,
          -0.3668127030134201,
          -0.4666229009628296,
          -0.3819440811872482,
          -0.3826301634311676,
          -0.2827973961830139,
          -0.1829627275466919,
          -0.1815322995185852,
          -0.09675280451774597,
          -0.09643048048019409,
          0.0012769877910614013,
          -0.09795120060443878,
          -0.10213314294815064,
          -0.10464869439601898,
          -0.19748496115207673,
          -0.09971408545970917,
          -0.11309055984020233,
          -0.20953863859176636,
          -0.30872721076011655,
          -0.3082511335611343,
          -0.3085001289844513,
          -0.30848442018032074,
          -0.3081652790307999,
          -0.3754255175590515,
          -0.2796145111322403,
          -0.2795099407434464,
          -0.2793898910284042,
          -0.18195266127586365,
          -0.18198180198669434,
          -0.17946483194828033,
          -0.1797291964292526,
          -0.08054044246673583,
          0.01696242094039917,
          0.11667901873588563,
          0.21628560721874238,
          0.2153681844472885,
          0.3132625222206116,
          0.4126375257968903,
          0.430194815993309,
          0.5270547151565552,
          0.4273987263441086,
          0.526986974477768,
          0.6203474164009094,
          0.7022481828927993,
          0.6924631625413895,
          0.6822722882032395,
          0.5825688898563385,
          0.4835444390773773,
          0.4836040765047073,
          0.58032605946064,
          0.48064029812812803,
          0.47674616873264314,
          0.3773541122674942,
          0.27770601212978363,
          0.27729105949401855,
          0.1806304484605789,
          0.0809862732887268,
          -0.01799071431159973,
          0.06299116611480712,
          -0.033347302675247194,
          -0.03334389626979828,
          -0.13292818069458007,
          -0.22200176417827605,
          -0.32145493626594546,
          -0.3077930748462677,
          -0.39580222964286804,
          -0.3959762126207352,
          -0.39602521657943723,
          -0.4954217493534088,
          -0.4951337903738022,
          -0.49497062563896177,
          -0.4906822174787521,
          -0.39237581193447113,
          -0.3924348711967468,
          -0.485272017121315,
          -0.39198092818260194,
          -0.3919531017541885,
          -0.2926475673913956,
          -0.3918934851884842,
          -0.29440684616565704,
          -0.29443112313747405,
          -0.2943838328123093,
          -0.2973220407962799,
          -0.2823774367570877,
          -0.38179498314857485,
          -0.3832999408245087,
          -0.38331393003463743,
          -0.2833472043275833,
          -0.1843196451663971,
          -0.28410311341285704,
          -0.1843402236700058,
          -0.2833392769098282,
          -0.38160698115825653,
          -0.38153242468833926,
          -0.3881297051906586,
          -0.39427546262741087,
          -0.39430242478847505,
          -0.39424625039100647,
          -0.39429370760917665,
          -0.4929145574569702,
          -0.49233587384223937,
          -0.492281574010849,
          -0.4926668703556061,
          -0.5076174050569534,
          -0.41332404017448426,
          -0.4135548144578934,
          -0.4136007487773895,
          -0.5135231941938401,
          -0.5144321888685226,
          -0.5117171168327331,
          -0.6115159302949905,
          -0.5137800097465515,
          -0.5136611461639404,
          -0.509280550479889,
          -0.509240573644638,
          -0.596194276213646,
          -0.49786990582942964,
          -0.49834937155246734,
          -0.497488921880722,
          -0.39886927604675293,
          -0.39941639006137847,
          -0.29957908391952515,
          -0.3008688151836395,
          -0.2991201370954514,
          -0.2939173996448517,
          -0.29392664432525634,
          -0.2938760817050934,
          -0.29378519058227537,
          -0.38958867490291593,
          -0.29451560974121094,
          -0.19472577571868896,
          -0.19481994211673737,
          -0.19330729842185973,
          -0.19456835687160492,
          -0.1940371125936508,
          -0.19440521001815797,
          -0.21492228507995606,
          -0.3108889639377594,
          -0.21186254024505616,
          -0.21187058687210084,
          -0.11200235486030578,
          -0.211712983250618,
          -0.20974330008029937,
          -0.21165831089019777,
          -0.31127110719680784,
          -0.3107408344745636,
          -0.3097448855638504,
          -0.30985625088214874,
          -0.3125226229429245,
          -0.41031150221824647,
          -0.41403521597385406,
          -0.5110413789749145,
          -0.5125585347414017,
          -0.5154597461223602,
          -0.41608631908893584,
          -0.4160324066877365,
          -0.3944582313299179,
          -0.3951753109693527,
          -0.3969081550836563,
          -0.39750801026821136,
          -0.49706427156925204,
          -0.49713367223739624,
          -0.49850878715515134,
          -0.4924175590276718,
          -0.3928079903125763,
          -0.39328703880310056,
          -0.3938921898603439,
          -0.2943876922130585,
          -0.19533774256706238,
          -0.09549444615840912,
          -0.09185696244239808,
          -0.09325486421585083,
          0.00537058413028717,
          0.005219492316246033,
          -0.09471693038940429,
          0.005113652348518372,
          -0.09408919215202331,
          -0.0931115061044693,
          -0.18865188658237458,
          -0.1880723148584366,
          -0.08848020434379578,
          0.00002296864986419678,
          0.09840362966060638,
          0.09285313189029694,
          -0.00637320876121521,
          0.0935230165719986,
          0.0932339072227478,
          0.09366342425346375,
          0.09457659721374512,
          0.09458390474319459,
          0.09471701085567474,
          0.1932227522134781,
          0.1944222331047058,
          0.2878821402788162,
          0.2912721365690231,
          0.2913257747888565,
          0.2921585142612457,
          0.2884420335292816,
          0.38492493629455565,
          0.303901669383049,
          0.29355102479457856,
          0.2960929721593857,
          0.20136219263076782,
          0.2008311092853546,
          0.20034614205360413,
          0.10077355802059174,
          0.18501210510730742,
          0.10017523169517517,
          0.10013304650783539,
          0.00028720200061798095,
          0.00029188990592956545,
          0.0014711946249008178,
          -0.09845925569534301,
          -0.19199444949626923,
          -0.09640396535396575,
          -0.09911729991436005,
          -0.013287654519081116,
          -0.013311350345611572,
          -0.10792590975761414,
          -0.027070271968841552,
          -0.11666144132614135,
          -0.11768428087234498,
          -0.1201763778924942,
          -0.021793052554130554,
          -0.0017827928066253662,
          0.08946280479431153,
          0.1049133449792862,
          0.08986906707286835,
          -0.010050645470619202,
          0.08849256634712219,
          -0.011468026041984557,
          -0.011492708325386047,
          0.088137885928154,
          0.08822766542434693,
          -0.01071791648864746,
          -0.009310781955718994,
          0.0022776275873184204,
          0.00528506338596344,
          0.10075080990791321,
          0.0015173852443695068,
          0.0014935970306396485,
          0.011193889379501342,
          0.10903291702270508,
          0.10137977004051209,
          0.17575557827949523,
          0.1628335475921631,
          0.08306381106376648,
          0.08476949036121369,
          0.18130135238170625,
          0.1745998293161392,
          0.19407435059547423,
          0.19363611340522766,
          0.19300192296504975,
          0.1929669886827469,
          0.21127465963363648,
          0.1139922171831131,
          0.11210215389728546,
          0.19537587463855743,
          0.19534078538417815,
          0.19494047462940217,
          0.19913938045501708,
          0.19921479523181915,
          0.09997403025627136,
          0.009948793053627013,
          -0.08245674967765808,
          -0.061230340600013734,
          0.017725080251693726,
          0.01695655882358551,
          0.0192920058965683,
          0.019224295020103456,
          0.0003339231014251709,
          -0.09864839911460876,
          -0.1032265305519104,
          -0.10306213200092315,
          -0.10902808606624603,
          -0.11040240824222565,
          -0.20662104785442353,
          -0.28689258098602294,
          -0.38664425611495973,
          -0.28838205337524414,
          -0.19260990023612976,
          -0.19266827702522277,
          -0.0930776447057724,
          -0.015466022491455077,
          -0.017437103390693664,
          -0.11729685366153716,
          -0.21632452309131622,
          -0.19272908568382263,
          -0.19163776338100433,
          -0.18356987535953523,
          -0.18397513628005982,
          -0.08874198496341705,
          -0.1830039829015732,
          -0.0833357185125351,
          0.004098755121231079,
          0.004133254289627075,
          0.10334696173667908,
          0.19721631109714508,
          0.2969984710216522,
          0.29535735249519346,
          0.19559342861175538,
          0.09609388113021851,
          0.09589920938014984,
          0.11740339696407318,
          0.21725866496562957,
          0.31712876856327055,
          0.3173189520835876,
          0.3911986261606216,
          0.2912322014570236,
          0.19132291972637178,
          0.2910957932472229,
          0.19560727179050447,
          0.2950338006019592,
          0.2950325131416321,
          0.1952517658472061,
          0.2887096554040909,
          0.19156647026538848,
          0.09314676821231842,
          -0.005211305618286133,
          -0.0074009478092193605,
          0.008519533276557922,
          0.10807436108589172,
          0.02342295050621033,
          -0.0763513058423996,
          -0.17597512602806092,
          -0.2757882088422775,
          -0.27594313621520994,
          -0.2746502012014389,
          -0.2740507185459137,
          -0.27113347351551054,
          -0.2719490259885788,
          -0.1927884429693222,
          -0.19256202280521392,
          -0.19262024760246277,
          -0.09637198448181153,
          -0.09009861946105957,
          -0.09055137634277344,
          -0.0919388324022293,
          -0.09156497716903686,
          -0.18589273393154143,
          -0.10212224423885345,
          -0.2017339825630188,
          -0.21672046482563018,
          -0.21132206916809082,
          -0.21160675585269928,
          -0.20987468957901,
          -0.2096731573343277,
          -0.3092365950345993,
          -0.30951659083366395,
          -0.3122873306274414,
          -0.4113934487104416,
          -0.4736110091209412,
          -0.5734665721654892,
          -0.6733804672956467,
          -0.6699907094240188,
          -0.76895472407341,
          -0.7706770926713944,
          -0.6716535419225693,
          -0.6546411544084549,
          -0.5549153238534927,
          -0.5558798462152481,
          -0.5551498711109162,
          -0.4553575426340103,
          -0.360875204205513,
          -0.36055942475795744,
          -0.2704647660255432,
          -0.1711559534072876,
          -0.17135397493839263,
          -0.07170905768871308,
          -0.06907709240913391,
          -0.06912074089050294,
          -0.08626577854156495,
          -0.08603470325469971,
          -0.08601709306240082,
          -0.1850511759519577,
          -0.08642008602619171,
          -0.07554791569709778,
          -0.1745627373456955,
          -0.18741945624351503,
          -0.2873699814081192,
          -0.2864005476236343,
          -0.2874259978532791,
          -0.2873901933431625,
          -0.2873859256505966,
          -0.187783282995224,
          -0.1799053132534027,
          -0.17951245307922364,
          -0.17906914949417113,
          -0.18064942955970764,
          -0.17419584691524506,
          -0.07444500923156738,
          0.025417736172676085,
          0.030588483810424803,
          0.13044640719890593,
          0.21930906176567078,
          0.2198446959257126,
          0.30872838795185087,
          0.30878391265869143,
          0.4026157855987549,
          0.4032767653465271,
          0.30343217849731446,
          0.3034037262201309,
          0.2076931416988373,
          0.20766745507717133,
          0.20616690814495087,
          0.11422006487846374,
          0.014779087901115418,
          0.11410040259361268,
          0.03781979382038116,
          0.02914242148399353,
          -0.07040302753448487,
          -0.17015215754508972,
          -0.17482882738113403,
          -0.273699426651001,
          -0.2632282614707947,
          -0.2860825419425964,
          -0.28608360290527346,
          -0.186416894197464,
          -0.18711984157562256,
          -0.1877103716135025,
          -0.18774888813495635,
          -0.09920067489147186,
          -0.10307497680187225,
          -0.10313839316368104,
          -0.2015017181634903,
          -0.20939527153968812,
          -0.12296456098556519,
          -0.12294449806213378,
          -0.1447713255882263,
          -0.04599609375,
          -0.04605259895324707,
          0.053591036796569826,
          0.0536997377872467,
          0.15266805589199067,
          0.15266213417053223,
          0.17549653053283693,
          0.17545394003391265,
          0.15579654574394225,
          0.05658174455165863,
          0.057071071863174436,
          0.05708923041820526,
          0.0681296557188034,
          0.06820648014545441,
          0.06797849833965301,
          0.1636183053255081,
          0.16576439142227173,
          0.17858782708644866,
          0.07878095209598542,
          0.17810486257076263,
          0.1780973941087723,
          0.17804708182811738,
          0.0784673660993576,
          0.07770496308803558,
          -0.021908590197563173,
          -0.021930918097496033,
          -0.10808376967906952,
          -0.20796171128749846,
          -0.28816080689430235,
          -0.27425757646560667,
          -0.2746137887239456,
          -0.2522077262401581,
          -0.34547706246376036,
          -0.3448296546936035,
          -0.3480216026306152,
          -0.44373960196971896,
          -0.44559445679187776,
          -0.5453490138053894,
          -0.44543165862560274,
          -0.4458674818277359,
          -0.5448497623205185,
          -0.4449664741754532,
          -0.34517000913619994,
          -0.24526141285896302,
          -0.22944200932979583,
          -0.2294238328933716,
          -0.16493670344352723,
          -0.14861568212509155,
          -0.14858923852443695,
          -0.0644510954618454,
          0.032682588696479796,
          0.10640210509300232,
          0.10005960166454315,
          0.12058845758438111,
          0.024588343501091004,
          0.024951502680778503,
          0.02718789279460907,
          0.1158500611782074,
          0.0160340815782547,
          0.01682126522064209,
          0.026253369450569154,
          0.025603017210960387,
          0.02527202069759369,
          -0.07458519637584686,
          -0.0907336413860321,
          -0.18990882337093354,
          -0.16821980774402617,
          -0.0848089724779129,
          -0.08336239755153656,
          -0.08160932660102845,
          -0.17889803946018218,
          -0.2747694253921509,
          -0.17524652779102326,
          -0.19621784389019012,
          -0.19540613889694214,
          -0.19563412368297578,
          -0.09837345480918884,
          -0.18705248236656188,
          -0.0881291925907135,
          -0.1878533184528351,
          -0.10847184658050538,
          -0.10782407820224763,
          -0.10780066251754761,
          -0.10775865614414215,
          -0.00798802673816681,
          -0.005983218550682068,
          -0.1059097945690155,
          -0.20559897422790527,
          -0.20700987577438354,
          -0.30313303172588346,
          -0.2032325327396393,
          -0.1035554975271225,
          -0.2023392826318741,
          -0.2029334545135498,
          -0.18906028866767882,
          -0.08921778500080109,
          -0.08904388844966889,
          -0.08892881274223327,
          -0.1879563719034195,
          -0.17348032891750337,
          -0.26216747164726256,
          -0.2624688416719437,
          -0.263107505440712,
          -0.26311948597431184,
          -0.3619621604681015,
          -0.26490801870822905,
          -0.26495293378829954,
          -0.2650148391723633,
          -0.16520408391952515,
          -0.16876071691513062,
          -0.1741573005914688,
          -0.2739922106266022,
          -0.1748323619365692,
          -0.17438709437847139,
          -0.08954087495803834,
          -0.09493931829929352,
          -0.19488976001739503,
          -0.19486082196235657,
          -0.1942739188671112,
          -0.20875150263309478,
          -0.20880623757839203,
          -0.20851230323314668,
          -0.30741206705570223,
          -0.3050675630569458,
          -0.3053573131561279,
          -0.4051792174577713,
          -0.4049987971782684,
          -0.40501283705234525,
          -0.5046062886714935,
          -0.40480419993400574,
          -0.4991084933280945,
          -0.498271244764328,
          -0.5981157302856446,
          -0.595843431353569,
          -0.5958457052707672,
          -0.6881852865219116,
          -0.6881882041692734,
          -0.5884495049715042,
          -0.5876965254545212,
          -0.5871345490217209,
          -0.48764138519763944,
          -0.5874339193105698,
          -0.4877741187810898,
          -0.4901161193847656,
          -0.47820486724376676,
          -0.47806849181652067,
          -0.37965856194496156,
          -0.3789816677570343,
          -0.2792870938777924,
          -0.27932283878326414,
          -0.17962387800216675,
          -0.1603175312280655,
          -0.16034850776195525,
          -0.16276121735572815,
          -0.26266207695007326,
          -0.2510385632514954,
          -0.2509541720151901,
          -0.3508551359176636,
          -0.2587177276611328,
          -0.23814325034618378,
          -0.33641377389431,
          -0.23739791214466094,
          -0.3342003494501114,
          -0.3332758367061615,
          -0.3452324539422989,
          -0.3441504091024399,
          -0.3427674949169159,
          -0.34231150448322295,
          -0.3426410883665085,
          -0.43996975719928744,
          -0.5395508587360383,
          -0.5591564685106277,
          -0.4612860530614853,
          -0.4616062015295029,
          -0.3617022752761841,
          -0.27558526694774627,
          -0.17587545216083528,
          -0.1753781944513321,
          -0.2660679340362549,
          -0.2874249339103699,
          -0.28831114172935485,
          -0.38540695905685424,
          -0.3722657233476639,
          -0.37313335239887235,
          -0.2739039331674576,
          -0.1752150297164917,
          -0.2626074105501175,
          -0.18068113327026367,
          -0.27943775057792664,
          -0.18220385313034057,
          -0.1824391782283783,
          -0.18305913209915162,
          -0.2809643119573593,
          -0.18119567036628723,
          -0.18119913041591645,
          -0.2716126888990402,
          -0.3708861142396927,
          -0.27140971422195437,
          -0.17423490285873414,
          -0.17418791651725768,
          -0.1621818035840988,
          -0.1641152799129486,
          -0.0807481735944748,
          -0.08086509704589843,
          -0.1793574571609497,
          -0.2792745977640152,
          -0.2917723387479782,
          -0.37466413378715513,
          -0.2876610577106476,
          -0.3044236093759537,
          -0.22400474846363067,
          -0.12416132986545562,
          -0.11158097088336945,
          -0.21136739253997802,
          -0.31133184432983396,
          -0.32082128822803496,
          -0.3103736639022827,
          -0.31042254269123076,
          -0.4100533932447433,
          -0.3102894574403763,
          -0.3228172600269318,
          -0.3227212518453598,
          -0.32232666909694674,
          -0.23330022394657135,
          -0.13507181107997895,
          -0.035250338912010196,
          0.06463574469089509,
          0.06520232856273651,
          -0.021868598461151124,
          -0.005027148127555847,
          -0.07628614008426667,
          -0.17338621020317077,
          -0.18546276688575744,
          -0.16596609055995942,
          -0.06610947251319885,
          0.024607783555984496,
          0.014669185876846314,
          -0.08505949676036835,
          -0.08517184257507324,
          -0.1843828320503235,
          -0.08516844511032104,
          -0.08537078499794007,
          -0.1848388671875,
          -0.17505552768707275,
          -0.2746421039104462,
          -0.2779340177774429,
          -0.37643555700778963,
          -0.37689621448516847,
          -0.3776934891939163,
          -0.39894716143608094,
          -0.3082830160856247,
          -0.2114096999168396,
          -0.1121819019317627,
          -0.131016606092453,
          -0.23080698251724244,
          -0.235998472571373,
          -0.23704780042171478,
          -0.23722285330295562,
          -0.23698724806308746,
          -0.23753447234630584,
          -0.3369854331016541,
          -0.33568998873233796,
          -0.23925583958625793,
          -0.2413358509540558,
          -0.14297878742218018,
          -0.23604368567466735,
          -0.1376045435667038,
          -0.038292926549911496,
          -0.038195294141769406,
          -0.11637406647205353,
          -0.21612240970134736,
          -0.21924305260181426,
          -0.3188899338245392,
          -0.3195376843214035,
          -0.2982881486415863,
          -0.3838321566581726,
          -0.3791193008422852,
          -0.3790723443031311,
          -0.3793864667415619,
          -0.279477596282959,
          -0.17951781153678895,
          -0.08286747336387634,
          -0.1795382708311081,
          -0.2760787308216095,
          -0.2750863581895828,
          -0.18150292038917543,
          -0.19337159395217896,
          -0.2929516017436981,
          -0.19348472058773042,
          -0.09404035210609436,
          -0.09053895771503448,
          -0.186796110868454,
          -0.09297310709953308,
          0.0067890316247940065,
          -0.008476731181144715,
          -0.008156567811965942,
          0.08172616064548492,
          0.16206363439559937,
          0.16197754740715026,
          0.06241285800933838,
          -0.037015128135681155,
          -0.03555896282196045,
          -0.0356998085975647,
          -0.0357300341129303,
          -0.13433006703853606,
          -0.23139912784099578,
          -0.31938962936401366,
          -0.3061218947172165,
          -0.4052928388118744,
          -0.4052675426006317,
          -0.4089657008647919,
          -0.4059240907430649,
          -0.400806599855423,
          -0.5003933638334275,
          -0.5039332985877991,
          -0.5039701521396637,
          -0.5983706563711166,
          -0.6775175094604492,
          -0.6771669775247574,
          -0.6772066980600357,
          -0.5781157732009887,
          -0.6773724466562271,
          -0.5957062304019928,
          -0.5906472831964493,
          -0.4914279133081436,
          -0.4913086622953415,
          -0.3993227660655975,
          -0.40219078958034515,
          -0.3177259832620621,
          -0.32748485207557676,
          -0.3203786641359329,
          -0.3233707666397095,
          -0.32581762969493866,
          -0.22607802450656891,
          -0.21909226775169371,
          -0.2157266765832901,
          -0.11602271795272827,
          -0.11702142357826233,
          -0.11742754280567169,
          -0.01809048056602478,
          -0.11718269288539887,
          -0.11401491463184357,
          -0.19548044204711915,
          -0.10081334412097931,
          -0.10082696080207824,
          -0.10056503713130951,
          -0.19254485070705413,
          -0.103835728764534,
          -0.18573939204216003,
          -0.17649185061454772,
          -0.18362109065055848,
          -0.18389872610569,
          -0.27947082817554475,
          -0.369668236374855,
          -0.29058738350868224,
          -0.29397407472133635,
          -0.29398767948150634,
          -0.28919773995876313,
          -0.2851447701454163,
          -0.28586570620536805,
          -0.27126970887184143,
          -0.2746040910482407,
          -0.2730169504880905,
          -0.3660630017518997,
          -0.4499450534582138,
          -0.4474734514951706,
          -0.44543260931968687,
          -0.4471582233905792,
          -0.449545618891716,
          -0.5482861906290054,
          -0.45002075135707853,
          -0.3556341975927353,
          -0.2787450194358826,
          -0.20250366628170013,
          -0.19151367545127868,
          -0.09233812689781189,
          -0.0924237847328186,
          -0.0823418527841568,
          -0.081259223818779,
          -0.08034790456295013,
          0.0036479711532592775,
          0.0036472111940383913,
          0.00219305157661438,
          0.09409644603729247,
          0.07803121507167816,
          0.17515692114830017,
          0.17354682981967925,
          0.17567314803600312,
          0.17573260068893432,
          0.17502880692481995,
          0.07710700035095215,
          -0.0022088766098022463,
          -0.08003347218036652,
          -0.06607159674167633,
          -0.16558748483657837,
          -0.16510297060012818,
          -0.16497042775154114,
          -0.08022462129592896,
          -0.0840905100107193,
          -0.1673959970474243,
          -0.26567214727401733,
          -0.18045906722545624,
          -0.08086752891540527,
          -0.07972563505172729,
          0.020172393321990965,
          -0.06079666316509247,
          -0.039164206385612486,
          -0.03872568607330322,
          -0.039356306195259094,
          -0.038287568092346194,
          0.0410221666097641,
          0.12490795850753784,
          0.12482859790325165,
          0.12481242418289185,
          0.12547470033168792,
          0.1254364639520645,
          0.02551739811897278,
          -0.07434094250202179,
          -0.07542377710342407,
          -0.09198151528835297,
          0.006486591696739197,
          -0.0779857099056244,
          -0.1775360733270645,
          -0.2742471009492874,
          -0.37357782423496244,
          -0.39165436923503877,
          -0.3138776391744614,
          -0.41054757237434386,
          -0.4098224759101868,
          -0.41015506386756895,
          -0.48981274366378785,
          -0.5888108372688293,
          -0.48899509012699127,
          -0.4984459012746811,
          -0.4084623545408249,
          -0.5082900106906891,
          -0.4085329681634903,
          -0.40596396327018736,
          -0.406121626496315,
          -0.40614326000213624,
          -0.504187473654747,
          -0.5030561506748199,
          -0.5034229308366776,
          -0.40705191195011137,
          -0.3076629459857941,
          -0.3083691358566284,
          -0.3083850234746933,
          -0.2971621185541153,
          -0.220255309343338,
          -0.2206284910440445,
          -0.2103469580411911,
          -0.20771867632865906,
          -0.3074409425258636,
          -0.397942790389061,
          -0.389928463101387,
          -0.3899435967206955,
          -0.48948008716106417,
          -0.4892746269702911,
          -0.3893690347671509,
          -0.3888890892267227,
          -0.29107674658298494,
          -0.2927427291870117,
          -0.2864483714103699,
          -0.381547150015831,
          -0.477427151799202,
          -0.38024163246154785,
          -0.4800179898738861,
          -0.3975274384021759,
          -0.47484515607357025,
          -0.3761961400508881,
          -0.37094202935695647,
          -0.2763447344303131,
          -0.19100183248519897,
          -0.09103243350982666,
          -0.08978042006492615,
          -0.08958781361579896,
          -0.08978062272071838,
          -0.09082606732845307,
          -0.17631183862686156,
          -0.08042812049388885,
          -0.07995961904525757,
          -0.07911256551742554,
          -0.0853911817073822,
          -0.08987652659416198,
          -0.08889422714710235,
          -0.18619024157524108,
          -0.185736083984375,
          -0.1840307593345642,
          -0.18395537734031678,
          -0.2827469199895859,
          -0.2976329892873764,
          -0.295191165804863,
          -0.2827343255281448,
          -0.3825088024139404,
          -0.4816130965948105,
          -0.3894900768995285,
          -0.389385974407196,
          -0.29115691483020784,
          -0.20568669140338897,
          -0.20210273265838624,
          -0.30040036141872406,
          -0.30028489232063293,
          -0.200585013628006,
          -0.10069121420383453,
          -0.10575470626354218,
          -0.10243633687496186,
          -0.10271356105804444,
          -0.20137965083122253,
          -0.20160964727401734,
          -0.2007267504930496,
          -0.19111970365047454,
          -0.1909299224615097,
          -0.2888155341148376,
          -0.26965038776397704,
          -0.27016633152961733,
          -0.36186428368091583,
          -0.3619102478027344,
          -0.46188580989837646,
          -0.5618058115243911,
          -0.5617880672216415,
          -0.5488978356122971,
          -0.550083127617836,
          -0.5498943239450454,
          -0.549895116686821,
          -0.5495022237300873,
          -0.5528891831636429,
          -0.5380401313304901,
          -0.5375354200601578,
          -0.5373860180377961,
          -0.44287808537483214,
          -0.4530859410762787,
          -0.5529012501239776,
          -0.5527428984642029,
          -0.5720814675092697,
          -0.4724592089653015,
          -0.37319573760032654,
          -0.28245554566383363,
          -0.19721032679080963,
          -0.19548641741275788,
          -0.29539353847503663,
          -0.30953949987888335,
          -0.209650394320488,
          -0.3094304472208023,
          -0.30939829647541045,
          -0.3051803231239319,
          -0.30494927167892455,
          -0.3198265224695206,
          -0.3185178220272064,
          -0.3188104510307312,
          -0.41424361169338225,
          -0.3257095068693161,
          -0.2260920912027359,
          -0.12628222405910491,
          -0.02761525511741638,
          -0.11146555542945862,
          -0.11159219443798066,
          -0.10271684527397155,
          -0.18783114850521088,
          -0.08960265815258026,
          -0.08933756053447724,
          -0.08928139209747314,
          -0.18910103738307954,
          -0.18900562226772308,
          -0.2889304369688034,
          -0.2932291775941849,
          -0.1935362696647644,
          -0.1937105357646942,
          -0.19437306523323059,
          -0.09443883895874024,
          0.005349862575531006,
          -0.08289718031883239,
          -0.105588498711586,
          -0.20540572702884674,
          -0.20448869168758393,
          -0.22034800946712493,
          -0.31687138974666595,
          -0.4165890336036682,
          -0.41107219755649566,
          -0.4110847324132919,
          -0.41086813509464265,
          -0.41079139709472656,
          -0.31094650328159334,
          -0.30593231320381165,
          -0.2066851258277893,
          -0.11022891998291015,
          -0.20897969007492065,
          -0.1155635803937912,
          -0.11677294373512268,
          -0.21533147990703583,
          -0.21696896255016326,
          -0.21605533063411714,
          -0.19316510260105133,
          -0.09334708750247955,
          -0.09350831806659698,
          -0.09189394414424897,
          -0.09103362560272217,
          -0.087414088845253,
          0.0016355633735656739,
          -0.09764341413974761,
          0.0013795912265777588,
          0.0013334095478057862,
          0.001363915205001831,
          -0.0039001017808914184,
          -0.10319195091724395,
          -0.10000013709068298,
          -0.0844712346792221,
          -0.17795657813549043,
          -0.1778016448020935,
          -0.17911613285541533,
          -0.27738469541072847,
          -0.2744883507490158,
          -0.36830513179302216,
          -0.3691692680120468,
          -0.46860221326351165,
          -0.47020060420036314,
          -0.3744092881679535,
          -0.3773157447576523,
          -0.47199696898460386,
          -0.47198428213596344,
          -0.4715822011232376,
          -0.3718803644180298,
          -0.3718665361404419,
          -0.27300945222377776,
          -0.17385043501853942,
          -0.27020723521709444,
          -0.28658315241336824,
          -0.18662053048610688,
          -0.18659473359584808,
          -0.08680674433708191,
          0.011245578527450562,
          0.10707335472106934,
          0.2009849190711975,
          0.11165346801280976,
          0.21151961088180543,
          0.3112159132957458,
          0.30706975758075716,
          0.4003295928239822,
          0.4047880440950394,
          0.4906701147556305,
          0.47105781435966493,
          0.3713315039873123,
          0.3713222980499268,
          0.37184326648712157,
          0.36788208186626437,
          0.36427525877952577,
          0.4608916699886322,
          0.36121968626976014,
          0.4610143512487411,
          0.36175337433815,
          0.28694712817668916,
          0.283985897898674,
          0.28385440409183504,
          0.3740506649017334,
          0.27420158088207247,
          0.17443957328796386,
          0.07891060709953308,
          0.08469031751155853,
          0.180049929022789,
          0.19346498250961303,
          0.11341295540332794,
          0.13428854048252106,
          0.13426842391490937,
          0.13449867367744445,
          0.13903806805610658,
          0.1390380859375,
          0.04205107092857361,
          0.0426986962556839,
          0.0426959753036499,
          0.14203144013881683,
          0.11900480687618256,
          0.023354142904281616,
          -0.07649123668670654,
          -0.07650360763072968,
          -0.07652378380298615,
          0.023236393928527832,
          0.12283335030078887,
          0.12299900949001312,
          0.12309522032737732,
          0.11563408970832825,
          0.11547842621803284,
          0.19436339139938355,
          0.19434579312801362,
          0.09492563903331756,
          -0.004776278138160705,
          0.019847729802131654,
          0.11982073485851288,
          0.11888373494148255,
          0.018938091397285462,
          -0.0809634655714035,
          0.007338306307792664,
          0.006265956163406372,
          0.10622622072696686,
          0.009058651328086854,
          0.10901207029819489,
          0.009072044491767883,
          -0.0022408396005630495,
          -0.0021839827299118043,
          -0.0021385759115219115,
          -0.07162845134735107,
          0.028084564208984374,
          -0.06631269752979278,
          -0.06685445308685303,
          -0.06654806733131409,
          -0.06659139394760132,
          -0.09095360636711121,
          -0.18063872456550598,
          -0.1806559145450592,
          -0.1806825339794159,
          -0.08709120750427246,
          -0.1726044476032257,
          -0.1724776029586792,
          -0.272430020570755,
          -0.2751821637153625,
          -0.2752045154571533,
          -0.1755276083946228,
          -0.2630641520023346,
          -0.2837082207202911,
          -0.2837144583463669,
          -0.3057702273130417,
          -0.30677072405815126,
          -0.2122250199317932,
          -0.21758359372615815,
          -0.11821854710578919,
          -0.11308523714542389,
          -0.013569375872612,
          -0.00991036593914032,
          0.08989808261394501,
          0.08996524214744568,
          0.09623933732509612,
          0.19311296939849854,
          0.19359338283538818,
          0.2870863229036331,
          0.28704968094825745,
          0.1885293871164322,
          0.08932688534259796,
          0.08848789930343628,
          0.10907664000988007,
          0.09769282341003419,
          0.19653096199035644,
          0.10045558214187622,
          0.0004892021417617798,
          -0.09237419068813324,
          -0.19223612844944,
          -0.09739567339420319,
          -0.19496636986732482,
          -0.2084869384765625,
          -0.30536202192306516,
          -0.2083397775888443,
          -0.30811544358730314,
          -0.3080962896347046,
          -0.30858339965343473,
          -0.4020598530769348,
          -0.3794966608285904,
          -0.38071909844875335,
          -0.380424776673317,
          -0.28199532330036164,
          -0.37366950511932373,
          -0.4614870727062225,
          -0.5610770255327224,
          -0.5638722062110901,
          -0.46586466431617735,
          -0.3671541541814804,
          -0.36708119213581086,
          -0.3708251893520355,
          -0.37302702367305757,
          -0.273572301864624,
          -0.27626297771930697,
          -0.3733490645885468,
          -0.3734604358673096,
          -0.37417939901351926,
          -0.37420439124107363,
          -0.35868396759033205,
          -0.2812787264585495,
          -0.18430752158164979,
          -0.18489569127559663,
          -0.1836014449596405,
          -0.09186984002590179,
          -0.09124636054039001,
          0.008515074849128723,
          0.08963010013103485,
          -0.008356481790542603,
          -0.10807326138019561,
          -0.009082606434822083,
          -0.005717608332633972,
          0.08255921006202697,
          -0.017243951559066772,
          -0.01694158911705017,
          -0.004770016670227051,
          0.09468912482261657,
          0.07834321856498719,
          0.1579036146402359,
          0.14236647188663482,
          0.1423302561044693,
          0.045348900556564334,
          0.05103463530540466,
          0.05104703009128571,
          -0.04890978932380676,
          0.04855862855911255,
          -0.05137200951576233,
          -0.04136509299278259,
          -0.04129073917865753,
          0.058465975522995,
          0.05934308767318726,
          -0.04017235338687897,
          -0.028680092096328734,
          0.07113961279392242,
          0.17052699029445648,
          0.2583215445280075,
          0.15886168479919432,
          0.07595507800579071,
          0.07924584150314332,
          0.1789735198020935,
          0.17711065709590912,
          0.2735151708126068,
          0.2796735018491745,
          0.27970282435417176,
          0.27982389330863955,
          0.18096712827682496,
          0.18107925057411195,
          0.18993498980998993
         ]
        }
       ],
       "layout": {
        "legend": {
         "title": {
          "text": "Sender"
         }
        },
        "template": {
         "data": {
          "bar": [
           {
            "error_x": {
             "color": "#2a3f5f"
            },
            "error_y": {
             "color": "#2a3f5f"
            },
            "marker": {
             "line": {
              "color": "white",
              "width": 0.5
             },
             "pattern": {
              "fillmode": "overlay",
              "size": 10,
              "solidity": 0.2
             }
            },
            "type": "bar"
           }
          ],
          "barpolar": [
           {
            "marker": {
             "line": {
              "color": "white",
              "width": 0.5
             },
             "pattern": {
              "fillmode": "overlay",
              "size": 10,
              "solidity": 0.2
             }
            },
            "type": "barpolar"
           }
          ],
          "carpet": [
           {
            "aaxis": {
             "endlinecolor": "#2a3f5f",
             "gridcolor": "#C8D4E3",
             "linecolor": "#C8D4E3",
             "minorgridcolor": "#C8D4E3",
             "startlinecolor": "#2a3f5f"
            },
            "baxis": {
             "endlinecolor": "#2a3f5f",
             "gridcolor": "#C8D4E3",
             "linecolor": "#C8D4E3",
             "minorgridcolor": "#C8D4E3",
             "startlinecolor": "#2a3f5f"
            },
            "type": "carpet"
           }
          ],
          "choropleth": [
           {
            "colorbar": {
             "outlinewidth": 0,
             "ticks": ""
            },
            "type": "choropleth"
           }
          ],
          "contour": [
           {
            "colorbar": {
             "outlinewidth": 0,
             "ticks": ""
            },
            "colorscale": [
             [
              0,
              "#0d0887"
             ],
             [
              0.1111111111111111,
              "#46039f"
             ],
             [
              0.2222222222222222,
              "#7201a8"
             ],
             [
              0.3333333333333333,
              "#9c179e"
             ],
             [
              0.4444444444444444,
              "#bd3786"
             ],
             [
              0.5555555555555556,
              "#d8576b"
             ],
             [
              0.6666666666666666,
              "#ed7953"
             ],
             [
              0.7777777777777778,
              "#fb9f3a"
             ],
             [
              0.8888888888888888,
              "#fdca26"
             ],
             [
              1,
              "#f0f921"
             ]
            ],
            "type": "contour"
           }
          ],
          "contourcarpet": [
           {
            "colorbar": {
             "outlinewidth": 0,
             "ticks": ""
            },
            "type": "contourcarpet"
           }
          ],
          "heatmap": [
           {
            "colorbar": {
             "outlinewidth": 0,
             "ticks": ""
            },
            "colorscale": [
             [
              0,
              "#0d0887"
             ],
             [
              0.1111111111111111,
              "#46039f"
             ],
             [
              0.2222222222222222,
              "#7201a8"
             ],
             [
              0.3333333333333333,
              "#9c179e"
             ],
             [
              0.4444444444444444,
              "#bd3786"
             ],
             [
              0.5555555555555556,
              "#d8576b"
             ],
             [
              0.6666666666666666,
              "#ed7953"
             ],
             [
              0.7777777777777778,
              "#fb9f3a"
             ],
             [
              0.8888888888888888,
              "#fdca26"
             ],
             [
              1,
              "#f0f921"
             ]
            ],
            "type": "heatmap"
           }
          ],
          "heatmapgl": [
           {
            "colorbar": {
             "outlinewidth": 0,
             "ticks": ""
            },
            "colorscale": [
             [
              0,
              "#0d0887"
             ],
             [
              0.1111111111111111,
              "#46039f"
             ],
             [
              0.2222222222222222,
              "#7201a8"
             ],
             [
              0.3333333333333333,
              "#9c179e"
             ],
             [
              0.4444444444444444,
              "#bd3786"
             ],
             [
              0.5555555555555556,
              "#d8576b"
             ],
             [
              0.6666666666666666,
              "#ed7953"
             ],
             [
              0.7777777777777778,
              "#fb9f3a"
             ],
             [
              0.8888888888888888,
              "#fdca26"
             ],
             [
              1,
              "#f0f921"
             ]
            ],
            "type": "heatmapgl"
           }
          ],
          "histogram": [
           {
            "marker": {
             "pattern": {
              "fillmode": "overlay",
              "size": 10,
              "solidity": 0.2
             }
            },
            "type": "histogram"
           }
          ],
          "histogram2d": [
           {
            "colorbar": {
             "outlinewidth": 0,
             "ticks": ""
            },
            "colorscale": [
             [
              0,
              "#0d0887"
             ],
             [
              0.1111111111111111,
              "#46039f"
             ],
             [
              0.2222222222222222,
              "#7201a8"
             ],
             [
              0.3333333333333333,
              "#9c179e"
             ],
             [
              0.4444444444444444,
              "#bd3786"
             ],
             [
              0.5555555555555556,
              "#d8576b"
             ],
             [
              0.6666666666666666,
              "#ed7953"
             ],
             [
              0.7777777777777778,
              "#fb9f3a"
             ],
             [
              0.8888888888888888,
              "#fdca26"
             ],
             [
              1,
              "#f0f921"
             ]
            ],
            "type": "histogram2d"
           }
          ],
          "histogram2dcontour": [
           {
            "colorbar": {
             "outlinewidth": 0,
             "ticks": ""
            },
            "colorscale": [
             [
              0,
              "#0d0887"
             ],
             [
              0.1111111111111111,
              "#46039f"
             ],
             [
              0.2222222222222222,
              "#7201a8"
             ],
             [
              0.3333333333333333,
              "#9c179e"
             ],
             [
              0.4444444444444444,
              "#bd3786"
             ],
             [
              0.5555555555555556,
              "#d8576b"
             ],
             [
              0.6666666666666666,
              "#ed7953"
             ],
             [
              0.7777777777777778,
              "#fb9f3a"
             ],
             [
              0.8888888888888888,
              "#fdca26"
             ],
             [
              1,
              "#f0f921"
             ]
            ],
            "type": "histogram2dcontour"
           }
          ],
          "mesh3d": [
           {
            "colorbar": {
             "outlinewidth": 0,
             "ticks": ""
            },
            "type": "mesh3d"
           }
          ],
          "parcoords": [
           {
            "line": {
             "colorbar": {
              "outlinewidth": 0,
              "ticks": ""
             }
            },
            "type": "parcoords"
           }
          ],
          "pie": [
           {
            "automargin": true,
            "type": "pie"
           }
          ],
          "scatter": [
           {
            "fillpattern": {
             "fillmode": "overlay",
             "size": 10,
             "solidity": 0.2
            },
            "type": "scatter"
           }
          ],
          "scatter3d": [
           {
            "line": {
             "colorbar": {
              "outlinewidth": 0,
              "ticks": ""
             }
            },
            "marker": {
             "colorbar": {
              "outlinewidth": 0,
              "ticks": ""
             }
            },
            "type": "scatter3d"
           }
          ],
          "scattercarpet": [
           {
            "marker": {
             "colorbar": {
              "outlinewidth": 0,
              "ticks": ""
             }
            },
            "type": "scattercarpet"
           }
          ],
          "scattergeo": [
           {
            "marker": {
             "colorbar": {
              "outlinewidth": 0,
              "ticks": ""
             }
            },
            "type": "scattergeo"
           }
          ],
          "scattergl": [
           {
            "marker": {
             "colorbar": {
              "outlinewidth": 0,
              "ticks": ""
             }
            },
            "type": "scattergl"
           }
          ],
          "scattermapbox": [
           {
            "marker": {
             "colorbar": {
              "outlinewidth": 0,
              "ticks": ""
             }
            },
            "type": "scattermapbox"
           }
          ],
          "scatterpolar": [
           {
            "marker": {
             "colorbar": {
              "outlinewidth": 0,
              "ticks": ""
             }
            },
            "type": "scatterpolar"
           }
          ],
          "scatterpolargl": [
           {
            "marker": {
             "colorbar": {
              "outlinewidth": 0,
              "ticks": ""
             }
            },
            "type": "scatterpolargl"
           }
          ],
          "scatterternary": [
           {
            "marker": {
             "colorbar": {
              "outlinewidth": 0,
              "ticks": ""
             }
            },
            "type": "scatterternary"
           }
          ],
          "surface": [
           {
            "colorbar": {
             "outlinewidth": 0,
             "ticks": ""
            },
            "colorscale": [
             [
              0,
              "#0d0887"
             ],
             [
              0.1111111111111111,
              "#46039f"
             ],
             [
              0.2222222222222222,
              "#7201a8"
             ],
             [
              0.3333333333333333,
              "#9c179e"
             ],
             [
              0.4444444444444444,
              "#bd3786"
             ],
             [
              0.5555555555555556,
              "#d8576b"
             ],
             [
              0.6666666666666666,
              "#ed7953"
             ],
             [
              0.7777777777777778,
              "#fb9f3a"
             ],
             [
              0.8888888888888888,
              "#fdca26"
             ],
             [
              1,
              "#f0f921"
             ]
            ],
            "type": "surface"
           }
          ],
          "table": [
           {
            "cells": {
             "fill": {
              "color": "#EBF0F8"
             },
             "line": {
              "color": "white"
             }
            },
            "header": {
             "fill": {
              "color": "#C8D4E3"
             },
             "line": {
              "color": "white"
             }
            },
            "type": "table"
           }
          ]
         },
         "layout": {
          "annotationdefaults": {
           "arrowcolor": "#2a3f5f",
           "arrowhead": 0,
           "arrowwidth": 1
          },
          "autotypenumbers": "strict",
          "coloraxis": {
           "colorbar": {
            "outlinewidth": 0,
            "ticks": ""
           }
          },
          "colorscale": {
           "diverging": [
            [
             0,
             "#8e0152"
            ],
            [
             0.1,
             "#c51b7d"
            ],
            [
             0.2,
             "#de77ae"
            ],
            [
             0.3,
             "#f1b6da"
            ],
            [
             0.4,
             "#fde0ef"
            ],
            [
             0.5,
             "#f7f7f7"
            ],
            [
             0.6,
             "#e6f5d0"
            ],
            [
             0.7,
             "#b8e186"
            ],
            [
             0.8,
             "#7fbc41"
            ],
            [
             0.9,
             "#4d9221"
            ],
            [
             1,
             "#276419"
            ]
           ],
           "sequential": [
            [
             0,
             "#0d0887"
            ],
            [
             0.1111111111111111,
             "#46039f"
            ],
            [
             0.2222222222222222,
             "#7201a8"
            ],
            [
             0.3333333333333333,
             "#9c179e"
            ],
            [
             0.4444444444444444,
             "#bd3786"
            ],
            [
             0.5555555555555556,
             "#d8576b"
            ],
            [
             0.6666666666666666,
             "#ed7953"
            ],
            [
             0.7777777777777778,
             "#fb9f3a"
            ],
            [
             0.8888888888888888,
             "#fdca26"
            ],
            [
             1,
             "#f0f921"
            ]
           ],
           "sequentialminus": [
            [
             0,
             "#0d0887"
            ],
            [
             0.1111111111111111,
             "#46039f"
            ],
            [
             0.2222222222222222,
             "#7201a8"
            ],
            [
             0.3333333333333333,
             "#9c179e"
            ],
            [
             0.4444444444444444,
             "#bd3786"
            ],
            [
             0.5555555555555556,
             "#d8576b"
            ],
            [
             0.6666666666666666,
             "#ed7953"
            ],
            [
             0.7777777777777778,
             "#fb9f3a"
            ],
            [
             0.8888888888888888,
             "#fdca26"
            ],
            [
             1,
             "#f0f921"
            ]
           ]
          },
          "colorway": [
           "#636efa",
           "#EF553B",
           "#00cc96",
           "#ab63fa",
           "#FFA15A",
           "#19d3f3",
           "#FF6692",
           "#B6E880",
           "#FF97FF",
           "#FECB52"
          ],
          "font": {
           "color": "#2a3f5f"
          },
          "geo": {
           "bgcolor": "white",
           "lakecolor": "white",
           "landcolor": "white",
           "showlakes": true,
           "showland": true,
           "subunitcolor": "#C8D4E3"
          },
          "hoverlabel": {
           "align": "left"
          },
          "hovermode": "closest",
          "mapbox": {
           "style": "light"
          },
          "paper_bgcolor": "white",
          "plot_bgcolor": "white",
          "polar": {
           "angularaxis": {
            "gridcolor": "#EBF0F8",
            "linecolor": "#EBF0F8",
            "ticks": ""
           },
           "bgcolor": "white",
           "radialaxis": {
            "gridcolor": "#EBF0F8",
            "linecolor": "#EBF0F8",
            "ticks": ""
           }
          },
          "scene": {
           "xaxis": {
            "backgroundcolor": "white",
            "gridcolor": "#DFE8F3",
            "gridwidth": 2,
            "linecolor": "#EBF0F8",
            "showbackground": true,
            "ticks": "",
            "zerolinecolor": "#EBF0F8"
           },
           "yaxis": {
            "backgroundcolor": "white",
            "gridcolor": "#DFE8F3",
            "gridwidth": 2,
            "linecolor": "#EBF0F8",
            "showbackground": true,
            "ticks": "",
            "zerolinecolor": "#EBF0F8"
           },
           "zaxis": {
            "backgroundcolor": "white",
            "gridcolor": "#DFE8F3",
            "gridwidth": 2,
            "linecolor": "#EBF0F8",
            "showbackground": true,
            "ticks": "",
            "zerolinecolor": "#EBF0F8"
           }
          },
          "shapedefaults": {
           "line": {
            "color": "#2a3f5f"
           }
          },
          "ternary": {
           "aaxis": {
            "gridcolor": "#DFE8F3",
            "linecolor": "#A2B1C6",
            "ticks": ""
           },
           "baxis": {
            "gridcolor": "#DFE8F3",
            "linecolor": "#A2B1C6",
            "ticks": ""
           },
           "bgcolor": "white",
           "caxis": {
            "gridcolor": "#DFE8F3",
            "linecolor": "#A2B1C6",
            "ticks": ""
           }
          },
          "title": {
           "x": 0.05
          },
          "xaxis": {
           "automargin": true,
           "gridcolor": "#EBF0F8",
           "linecolor": "#EBF0F8",
           "ticks": "",
           "title": {
            "standoff": 15
           },
           "zerolinecolor": "#EBF0F8",
           "zerolinewidth": 2
          },
          "yaxis": {
           "automargin": true,
           "gridcolor": "#EBF0F8",
           "linecolor": "#EBF0F8",
           "ticks": "",
           "title": {
            "standoff": 15
           },
           "zerolinecolor": "#EBF0F8",
           "zerolinewidth": 2
          }
         }
        },
        "title": {
         "text": "Sentiment Scores Over Time (Rolling Average)"
        },
        "xaxis": {
         "title": {
          "text": "Date"
         }
        },
        "yaxis": {
         "title": {
          "text": "Sentiment Score (Rolling Average)"
         }
        }
       }
      }
     },
     "metadata": {},
     "output_type": "display_data"
    }
   ],
   "source": [
    "# Sample DataFrame structure\n",
    "# df = pd.read_csv('your_file.csv', parse_dates=['date'])\n",
    "\n",
    "# Separate data by sender\n",
    "person1_data = ds_data[ds_data['sender'] == 'Cesar']\n",
    "person2_data = ds_data[ds_data['sender'] == 'Headchopper']\n",
    "\n",
    "# Calculate average sentiment scores\n",
    "avg_sentiment_person1 = person1_data['score'].mean()\n",
    "avg_sentiment_person2 = person2_data['score'].mean()\n",
    "\n",
    "print(f\"Average sentiment score for Cesar: {avg_sentiment_person1}\")\n",
    "print(f\"Average sentiment score for Headchopper: {avg_sentiment_person2}\")\n",
    "\n",
    "# Create a rolling average to smooth out the trend\n",
    "person1_data['rolling_avg'] = person1_data['score'].rolling(window=20).mean()\n",
    "person2_data['rolling_avg'] = person2_data['score'].rolling(window=20).mean()\n",
    "\n",
    "# Create a Plotly figure\n",
    "fig = go.Figure()\n",
    "\n",
    "# Add rolling average sentiment for Cesar\n",
    "fig.add_trace(go.Scatter(\n",
    "    x=person1_data['date'], y=person1_data['rolling_avg'],\n",
    "    mode='lines+markers', name='Cesar (Rolling Avg)',\n",
    "    line=dict(color='blue'), marker=dict(symbol='circle')\n",
    "))\n",
    "\n",
    "# Add rolling average sentiment for Headchopper\n",
    "fig.add_trace(go.Scatter(\n",
    "    x=person2_data['date'], y=person2_data['rolling_avg'],\n",
    "    mode='lines+markers', name='Headchopper (Rolling Avg)',\n",
    "    line=dict(color='red'), marker=dict(symbol='x')\n",
    "))\n",
    "\n",
    "# Customize the layout\n",
    "fig.update_layout(\n",
    "    title='Sentiment Scores Over Time (Rolling Average)',\n",
    "    xaxis_title='Date',\n",
    "    yaxis_title='Sentiment Score (Rolling Average)',\n",
    "    legend_title='Sender',\n",
    "    template='plotly_white'\n",
    ")\n",
    "\n",
    "# Show the figure\n",
    "fig.show()\n"
   ]
  },
  {
   "cell_type": "code",
   "execution_count": 323,
   "metadata": {},
   "outputs": [
    {
     "data": {
      "application/vnd.plotly.v1+json": {
       "config": {
        "plotlyServerURL": "https://plot.ly"
       },
       "data": [
        {
         "line": {
          "color": "blue"
         },
         "marker": {
          "symbol": "circle"
         },
         "mode": "lines+markers",
         "name": "Cesar (Daily Avg)",
         "type": "scatter",
         "x": [
          "2023-09-03",
          "2023-09-11",
          "2023-10-06",
          "2023-10-13",
          "2023-10-16",
          "2023-10-22",
          "2023-10-23",
          "2023-10-27",
          "2023-10-31",
          "2023-11-01",
          "2023-11-08",
          "2023-11-18",
          "2023-11-19",
          "2023-11-20",
          "2023-11-21",
          "2023-11-24",
          "2023-11-25",
          "2023-11-27",
          "2023-11-29",
          "2023-11-30",
          "2023-12-02",
          "2023-12-04",
          "2023-12-11",
          "2023-12-13",
          "2023-12-14",
          "2023-12-15",
          "2023-12-16",
          "2023-12-17",
          "2023-12-18",
          "2023-12-19",
          "2023-12-25",
          "2023-12-26",
          "2023-12-27",
          "2023-12-30",
          "2023-12-31",
          "2024-01-08",
          "2024-01-09",
          "2024-01-10",
          "2024-01-12",
          "2024-01-14",
          "2024-01-15",
          "2024-01-16",
          "2024-01-17",
          "2024-01-18",
          "2024-01-19",
          "2024-01-21",
          "2024-01-22",
          "2024-01-23",
          "2024-01-24",
          "2024-01-25",
          "2024-01-26",
          "2024-01-27",
          "2024-01-28",
          "2024-01-29",
          "2024-01-30",
          "2024-01-31",
          "2024-02-01",
          "2024-02-03",
          "2024-02-05",
          "2024-02-06",
          "2024-02-07",
          "2024-02-08",
          "2024-02-09",
          "2024-02-10",
          "2024-02-11",
          "2024-02-12",
          "2024-02-13",
          "2024-02-14",
          "2024-02-15",
          "2024-02-17",
          "2024-02-19",
          "2024-02-21",
          "2024-02-23",
          "2024-02-26",
          "2024-02-27",
          "2024-03-03",
          "2024-03-07",
          "2024-03-09",
          "2024-03-10",
          "2024-03-11",
          "2024-03-15",
          "2024-03-20",
          "2024-03-21",
          "2024-03-22",
          "2024-03-28",
          "2024-03-29",
          "2024-03-30",
          "2024-04-01",
          "2024-04-02",
          "2024-04-03",
          "2024-04-04",
          "2024-04-05",
          "2024-04-06",
          "2024-04-08",
          "2024-04-10",
          "2024-04-11",
          "2024-04-12",
          "2024-04-15",
          "2024-04-16",
          "2024-04-17",
          "2024-04-19",
          "2024-04-21",
          "2024-04-22",
          "2024-04-23",
          "2024-04-24",
          "2024-04-25",
          "2024-04-26",
          "2024-04-29",
          "2024-04-30",
          "2024-05-05",
          "2024-05-06",
          "2024-05-07",
          "2024-05-08",
          "2024-05-09",
          "2024-05-10",
          "2024-05-11",
          "2024-05-12",
          "2024-05-13",
          "2024-05-14"
         ],
         "y": [
          0.9918816089630127,
          -0.21196751594543456,
          -0.0000832676887512207,
          0.0021399110555648804,
          -0.5846201300621032,
          -0.6403264062745231,
          0.2630640353475298,
          -0.875693678855896,
          -0.9831098318099976,
          -0.10661907990773518,
          0.9932958483695984,
          0.2938721299171448,
          -0.26252729159135085,
          -0.9616722166538239,
          0.1993666410446167,
          0.5745449513196945,
          -0.00004312396049499512,
          -0.9915015697479248,
          -0.6774483668176752,
          0.27638181814780605,
          0.9140976071357727,
          -0.9403676191965739,
          -0.09012481144496373,
          0.9048029482364655,
          -0.3283563057581584,
          0.28745060165723163,
          -0.14790359139442444,
          -0.44440320134162903,
          0.3309074838956197,
          -0.21242298930883408,
          -0.9848340749740601,
          0.122288778424263,
          -0.29763946930567425,
          -0.03563416004180908,
          -0.016953349113464355,
          -0.5080349922180176,
          -0.23850842316945395,
          -0.05292115112145742,
          0.046194734481664806,
          -0.49900396512104916,
          -0.3842574770633991,
          -0.4750214070081711,
          -0.49488773941993713,
          0.48139081001281736,
          0.9934627711772919,
          0.1259212104173807,
          -0.026774781365548412,
          -0.0003299117088317871,
          0.2714720910245722,
          -0.16117877761522928,
          0.32469769318898517,
          0.3610372808244493,
          -0.08027946551640829,
          -0.29394342601299284,
          0.33115553855895996,
          -0.32119141817092894,
          0.001591801643371582,
          -0.06794780492782593,
          -0.27029340399636165,
          -0.04995815685162178,
          -0.34034178654352826,
          -0.22276313304901124,
          -0.9513973395029703,
          -0.15921802269785026,
          0.2542764296134313,
          -0.9984817504882812,
          -0.9964010715484619,
          -0.08734658360481262,
          -0.19684208184480667,
          0.27990902662277223,
          -0.10280245084028977,
          -0.2845694224039714,
          0.18798453719527633,
          -0.5943349957466125,
          0.2524553418159485,
          -0.49286798387765884,
          0.6001076340675354,
          0.10859168117696588,
          0.0008698105812072754,
          0.13024227959769114,
          -0.2491882840792338,
          0.19582111185247247,
          -0.198617684841156,
          -0.9997155070304871,
          -0.2176155402110173,
          0.8356416821479797,
          -0.20860325477340005,
          -0.09702440765168932,
          0.3435503939787547,
          0.15353983640670776,
          -0.27737289667129517,
          -0.035584643483161926,
          -0.16610934804467595,
          -0.2884136239687602,
          0.0037060976028442383,
          -0.42879341329847065,
          0.03153445323308309,
          -0.137241108076913,
          0.04568543036778768,
          0.06496913994059843,
          -0.38884604573249815,
          0.9998145699501038,
          -0.37608604090554376,
          -0.024410635232925415,
          0.12120380997657776,
          -0.31320704023043316,
          0.9578326940536499,
          -0.42835642397403717,
          -0.6803286396540128,
          -0.9943461179733276,
          -0.24704767739186523,
          -0.2594821261995621,
          -0.1906401934447112,
          -0.30915862132632543,
          -0.5073371208631076,
          -0.5984302997589112,
          -0.1387751430546472,
          -0.24774180572541032,
          0.23579933426596902
         ]
        },
        {
         "line": {
          "color": "red"
         },
         "marker": {
          "symbol": "x"
         },
         "mode": "lines+markers",
         "name": "Headchopper (Daily Avg)",
         "type": "scatter",
         "x": [
          "2023-09-03",
          "2023-09-11",
          "2023-10-06",
          "2023-10-10",
          "2023-10-13",
          "2023-10-16",
          "2023-10-22",
          "2023-10-23",
          "2023-11-01",
          "2023-11-03",
          "2023-11-08",
          "2023-11-18",
          "2023-11-19",
          "2023-11-20",
          "2023-11-21",
          "2023-11-24",
          "2023-11-25",
          "2023-11-27",
          "2023-11-29",
          "2023-11-30",
          "2023-12-01",
          "2023-12-02",
          "2023-12-04",
          "2023-12-06",
          "2023-12-11",
          "2023-12-13",
          "2023-12-14",
          "2023-12-15",
          "2023-12-16",
          "2023-12-17",
          "2023-12-18",
          "2023-12-19",
          "2023-12-26",
          "2023-12-27",
          "2023-12-28",
          "2023-12-30",
          "2023-12-31",
          "2024-01-08",
          "2024-01-09",
          "2024-01-10",
          "2024-01-12",
          "2024-01-14",
          "2024-01-15",
          "2024-01-16",
          "2024-01-17",
          "2024-01-18",
          "2024-01-19",
          "2024-01-21",
          "2024-01-22",
          "2024-01-23",
          "2024-01-24",
          "2024-01-25",
          "2024-01-26",
          "2024-01-27",
          "2024-01-28",
          "2024-01-29",
          "2024-01-30",
          "2024-01-31",
          "2024-02-01",
          "2024-02-03",
          "2024-02-05",
          "2024-02-06",
          "2024-02-07",
          "2024-02-08",
          "2024-02-09",
          "2024-02-10",
          "2024-02-11",
          "2024-02-12",
          "2024-02-13",
          "2024-02-14",
          "2024-02-15",
          "2024-02-17",
          "2024-02-19",
          "2024-02-21",
          "2024-02-23",
          "2024-02-26",
          "2024-02-27",
          "2024-03-03",
          "2024-03-05",
          "2024-03-07",
          "2024-03-09",
          "2024-03-11",
          "2024-03-15",
          "2024-03-20",
          "2024-03-21",
          "2024-03-22",
          "2024-03-27",
          "2024-03-28",
          "2024-03-30",
          "2024-04-01",
          "2024-04-02",
          "2024-04-03",
          "2024-04-04",
          "2024-04-05",
          "2024-04-06",
          "2024-04-08",
          "2024-04-11",
          "2024-04-12",
          "2024-04-15",
          "2024-04-16",
          "2024-04-17",
          "2024-04-19",
          "2024-04-21",
          "2024-04-22",
          "2024-04-23",
          "2024-04-24",
          "2024-04-25",
          "2024-04-26",
          "2024-04-29",
          "2024-04-30",
          "2024-05-05",
          "2024-05-06",
          "2024-05-07",
          "2024-05-08",
          "2024-05-09",
          "2024-05-10",
          "2024-05-11",
          "2024-05-12",
          "2024-05-13",
          "2024-05-14"
         ],
         "y": [
          0.2181535561879476,
          0.9288509488105774,
          0.46032150089740753,
          0.0009534060955047607,
          -0.27583861351013184,
          0.9209572523832321,
          0.4161700691495623,
          0.32443151565698475,
          -0.13861316868237086,
          -0.8730313579241434,
          0.8976640999317169,
          0.9998577833175659,
          0.1472440447126116,
          -0.3840247392654419,
          0.18689388781785965,
          -0.9937873482704163,
          0.9958687027295431,
          -0.4801988403002421,
          -0.17148813605308533,
          -0.16680476069450378,
          -0.9511300921440125,
          0.9140976071357727,
          0.07577651739120483,
          -0.9543351531028748,
          -0.45669729369027273,
          0.9979515671730042,
          0.9998775720596313,
          0.13323532881802075,
          -0.11176626597132001,
          -0.042493849992752075,
          0.5109228730201721,
          0.29359036187330884,
          0.006705780824025472,
          0.018927890062332153,
          0.9814664125442505,
          -0.12203730855669294,
          0.0721211708509005,
          -0.9902013738950094,
          -0.8308026194572449,
          -0.138265175478799,
          -0.3759895324707031,
          -0.2919719934463501,
          -0.525811407301161,
          0.25896558978340845,
          0.3338071058193843,
          0.20268831253051758,
          -0.2161764144897461,
          0.12688350898248177,
          -0.0007122821278042264,
          -0.4064360459645589,
          -0.0847371608018875,
          0.31393513414594865,
          0.5270753800868988,
          0.4192540645599365,
          -0.30106685161590574,
          -0.12641976330731367,
          0.9853194100516183,
          0.3720474362373352,
          -0.00271056592464447,
          -0.3612298568089803,
          -0.38698364794254303,
          -0.3882690808989785,
          -0.9981344938278198,
          -0.003586781024932861,
          -0.9941768050193787,
          -0.06955377872173603,
          0.2912721365690231,
          0.0012395232915878296,
          0.08565226197242737,
          -0.398272305727005,
          0.19679262042045592,
          -0.2214330792427063,
          0.01742050548394521,
          -0.14050427504948207,
          0.2372694072269258,
          -0.32234816749890643,
          -0.4441897814924067,
          0.9067611813545227,
          -0.9982411861419678,
          -0.9983841776847839,
          0.20194791044507707,
          0.4182207839829581,
          0.5001901984214783,
          -0.009010533491770426,
          -0.4498099436362584,
          -0.9410427212715149,
          0.9832319021224976,
          -0.21666905879974366,
          -0.24619920958172192,
          -0.6322228809197744,
          0.6659425993760427,
          0.18058414970125472,
          0.08116361769762906,
          -0.16709128898732803,
          0.046203266490589485,
          -0.0754665264896318,
          -0.6310716867446899,
          -0.1386513352394104,
          -0.19679689407348633,
          -0.4788406804988259,
          -0.3216720501581828,
          -0.29246899485588074,
          0.9994027316570282,
          -0.3820676905768258,
          -0.43795876843588694,
          0.3960884014765422,
          0.0030308812856674194,
          -0.25019486745198566,
          -0.3639351447423299,
          -0.03193480126998004,
          -0.5383710563182831,
          -0.24264679951210544,
          -0.2275996893964788,
          -0.3972310349345207,
          -0.20741671107032084,
          -0.15788014625248156,
          -0.302139679590861,
          0.08018998050282145,
          -0.15541911847663648,
          0.18669329484303793
         ]
        }
       ],
       "layout": {
        "legend": {
         "title": {
          "text": "Sender"
         }
        },
        "template": {
         "data": {
          "bar": [
           {
            "error_x": {
             "color": "#2a3f5f"
            },
            "error_y": {
             "color": "#2a3f5f"
            },
            "marker": {
             "line": {
              "color": "white",
              "width": 0.5
             },
             "pattern": {
              "fillmode": "overlay",
              "size": 10,
              "solidity": 0.2
             }
            },
            "type": "bar"
           }
          ],
          "barpolar": [
           {
            "marker": {
             "line": {
              "color": "white",
              "width": 0.5
             },
             "pattern": {
              "fillmode": "overlay",
              "size": 10,
              "solidity": 0.2
             }
            },
            "type": "barpolar"
           }
          ],
          "carpet": [
           {
            "aaxis": {
             "endlinecolor": "#2a3f5f",
             "gridcolor": "#C8D4E3",
             "linecolor": "#C8D4E3",
             "minorgridcolor": "#C8D4E3",
             "startlinecolor": "#2a3f5f"
            },
            "baxis": {
             "endlinecolor": "#2a3f5f",
             "gridcolor": "#C8D4E3",
             "linecolor": "#C8D4E3",
             "minorgridcolor": "#C8D4E3",
             "startlinecolor": "#2a3f5f"
            },
            "type": "carpet"
           }
          ],
          "choropleth": [
           {
            "colorbar": {
             "outlinewidth": 0,
             "ticks": ""
            },
            "type": "choropleth"
           }
          ],
          "contour": [
           {
            "colorbar": {
             "outlinewidth": 0,
             "ticks": ""
            },
            "colorscale": [
             [
              0,
              "#0d0887"
             ],
             [
              0.1111111111111111,
              "#46039f"
             ],
             [
              0.2222222222222222,
              "#7201a8"
             ],
             [
              0.3333333333333333,
              "#9c179e"
             ],
             [
              0.4444444444444444,
              "#bd3786"
             ],
             [
              0.5555555555555556,
              "#d8576b"
             ],
             [
              0.6666666666666666,
              "#ed7953"
             ],
             [
              0.7777777777777778,
              "#fb9f3a"
             ],
             [
              0.8888888888888888,
              "#fdca26"
             ],
             [
              1,
              "#f0f921"
             ]
            ],
            "type": "contour"
           }
          ],
          "contourcarpet": [
           {
            "colorbar": {
             "outlinewidth": 0,
             "ticks": ""
            },
            "type": "contourcarpet"
           }
          ],
          "heatmap": [
           {
            "colorbar": {
             "outlinewidth": 0,
             "ticks": ""
            },
            "colorscale": [
             [
              0,
              "#0d0887"
             ],
             [
              0.1111111111111111,
              "#46039f"
             ],
             [
              0.2222222222222222,
              "#7201a8"
             ],
             [
              0.3333333333333333,
              "#9c179e"
             ],
             [
              0.4444444444444444,
              "#bd3786"
             ],
             [
              0.5555555555555556,
              "#d8576b"
             ],
             [
              0.6666666666666666,
              "#ed7953"
             ],
             [
              0.7777777777777778,
              "#fb9f3a"
             ],
             [
              0.8888888888888888,
              "#fdca26"
             ],
             [
              1,
              "#f0f921"
             ]
            ],
            "type": "heatmap"
           }
          ],
          "heatmapgl": [
           {
            "colorbar": {
             "outlinewidth": 0,
             "ticks": ""
            },
            "colorscale": [
             [
              0,
              "#0d0887"
             ],
             [
              0.1111111111111111,
              "#46039f"
             ],
             [
              0.2222222222222222,
              "#7201a8"
             ],
             [
              0.3333333333333333,
              "#9c179e"
             ],
             [
              0.4444444444444444,
              "#bd3786"
             ],
             [
              0.5555555555555556,
              "#d8576b"
             ],
             [
              0.6666666666666666,
              "#ed7953"
             ],
             [
              0.7777777777777778,
              "#fb9f3a"
             ],
             [
              0.8888888888888888,
              "#fdca26"
             ],
             [
              1,
              "#f0f921"
             ]
            ],
            "type": "heatmapgl"
           }
          ],
          "histogram": [
           {
            "marker": {
             "pattern": {
              "fillmode": "overlay",
              "size": 10,
              "solidity": 0.2
             }
            },
            "type": "histogram"
           }
          ],
          "histogram2d": [
           {
            "colorbar": {
             "outlinewidth": 0,
             "ticks": ""
            },
            "colorscale": [
             [
              0,
              "#0d0887"
             ],
             [
              0.1111111111111111,
              "#46039f"
             ],
             [
              0.2222222222222222,
              "#7201a8"
             ],
             [
              0.3333333333333333,
              "#9c179e"
             ],
             [
              0.4444444444444444,
              "#bd3786"
             ],
             [
              0.5555555555555556,
              "#d8576b"
             ],
             [
              0.6666666666666666,
              "#ed7953"
             ],
             [
              0.7777777777777778,
              "#fb9f3a"
             ],
             [
              0.8888888888888888,
              "#fdca26"
             ],
             [
              1,
              "#f0f921"
             ]
            ],
            "type": "histogram2d"
           }
          ],
          "histogram2dcontour": [
           {
            "colorbar": {
             "outlinewidth": 0,
             "ticks": ""
            },
            "colorscale": [
             [
              0,
              "#0d0887"
             ],
             [
              0.1111111111111111,
              "#46039f"
             ],
             [
              0.2222222222222222,
              "#7201a8"
             ],
             [
              0.3333333333333333,
              "#9c179e"
             ],
             [
              0.4444444444444444,
              "#bd3786"
             ],
             [
              0.5555555555555556,
              "#d8576b"
             ],
             [
              0.6666666666666666,
              "#ed7953"
             ],
             [
              0.7777777777777778,
              "#fb9f3a"
             ],
             [
              0.8888888888888888,
              "#fdca26"
             ],
             [
              1,
              "#f0f921"
             ]
            ],
            "type": "histogram2dcontour"
           }
          ],
          "mesh3d": [
           {
            "colorbar": {
             "outlinewidth": 0,
             "ticks": ""
            },
            "type": "mesh3d"
           }
          ],
          "parcoords": [
           {
            "line": {
             "colorbar": {
              "outlinewidth": 0,
              "ticks": ""
             }
            },
            "type": "parcoords"
           }
          ],
          "pie": [
           {
            "automargin": true,
            "type": "pie"
           }
          ],
          "scatter": [
           {
            "fillpattern": {
             "fillmode": "overlay",
             "size": 10,
             "solidity": 0.2
            },
            "type": "scatter"
           }
          ],
          "scatter3d": [
           {
            "line": {
             "colorbar": {
              "outlinewidth": 0,
              "ticks": ""
             }
            },
            "marker": {
             "colorbar": {
              "outlinewidth": 0,
              "ticks": ""
             }
            },
            "type": "scatter3d"
           }
          ],
          "scattercarpet": [
           {
            "marker": {
             "colorbar": {
              "outlinewidth": 0,
              "ticks": ""
             }
            },
            "type": "scattercarpet"
           }
          ],
          "scattergeo": [
           {
            "marker": {
             "colorbar": {
              "outlinewidth": 0,
              "ticks": ""
             }
            },
            "type": "scattergeo"
           }
          ],
          "scattergl": [
           {
            "marker": {
             "colorbar": {
              "outlinewidth": 0,
              "ticks": ""
             }
            },
            "type": "scattergl"
           }
          ],
          "scattermapbox": [
           {
            "marker": {
             "colorbar": {
              "outlinewidth": 0,
              "ticks": ""
             }
            },
            "type": "scattermapbox"
           }
          ],
          "scatterpolar": [
           {
            "marker": {
             "colorbar": {
              "outlinewidth": 0,
              "ticks": ""
             }
            },
            "type": "scatterpolar"
           }
          ],
          "scatterpolargl": [
           {
            "marker": {
             "colorbar": {
              "outlinewidth": 0,
              "ticks": ""
             }
            },
            "type": "scatterpolargl"
           }
          ],
          "scatterternary": [
           {
            "marker": {
             "colorbar": {
              "outlinewidth": 0,
              "ticks": ""
             }
            },
            "type": "scatterternary"
           }
          ],
          "surface": [
           {
            "colorbar": {
             "outlinewidth": 0,
             "ticks": ""
            },
            "colorscale": [
             [
              0,
              "#0d0887"
             ],
             [
              0.1111111111111111,
              "#46039f"
             ],
             [
              0.2222222222222222,
              "#7201a8"
             ],
             [
              0.3333333333333333,
              "#9c179e"
             ],
             [
              0.4444444444444444,
              "#bd3786"
             ],
             [
              0.5555555555555556,
              "#d8576b"
             ],
             [
              0.6666666666666666,
              "#ed7953"
             ],
             [
              0.7777777777777778,
              "#fb9f3a"
             ],
             [
              0.8888888888888888,
              "#fdca26"
             ],
             [
              1,
              "#f0f921"
             ]
            ],
            "type": "surface"
           }
          ],
          "table": [
           {
            "cells": {
             "fill": {
              "color": "#EBF0F8"
             },
             "line": {
              "color": "white"
             }
            },
            "header": {
             "fill": {
              "color": "#C8D4E3"
             },
             "line": {
              "color": "white"
             }
            },
            "type": "table"
           }
          ]
         },
         "layout": {
          "annotationdefaults": {
           "arrowcolor": "#2a3f5f",
           "arrowhead": 0,
           "arrowwidth": 1
          },
          "autotypenumbers": "strict",
          "coloraxis": {
           "colorbar": {
            "outlinewidth": 0,
            "ticks": ""
           }
          },
          "colorscale": {
           "diverging": [
            [
             0,
             "#8e0152"
            ],
            [
             0.1,
             "#c51b7d"
            ],
            [
             0.2,
             "#de77ae"
            ],
            [
             0.3,
             "#f1b6da"
            ],
            [
             0.4,
             "#fde0ef"
            ],
            [
             0.5,
             "#f7f7f7"
            ],
            [
             0.6,
             "#e6f5d0"
            ],
            [
             0.7,
             "#b8e186"
            ],
            [
             0.8,
             "#7fbc41"
            ],
            [
             0.9,
             "#4d9221"
            ],
            [
             1,
             "#276419"
            ]
           ],
           "sequential": [
            [
             0,
             "#0d0887"
            ],
            [
             0.1111111111111111,
             "#46039f"
            ],
            [
             0.2222222222222222,
             "#7201a8"
            ],
            [
             0.3333333333333333,
             "#9c179e"
            ],
            [
             0.4444444444444444,
             "#bd3786"
            ],
            [
             0.5555555555555556,
             "#d8576b"
            ],
            [
             0.6666666666666666,
             "#ed7953"
            ],
            [
             0.7777777777777778,
             "#fb9f3a"
            ],
            [
             0.8888888888888888,
             "#fdca26"
            ],
            [
             1,
             "#f0f921"
            ]
           ],
           "sequentialminus": [
            [
             0,
             "#0d0887"
            ],
            [
             0.1111111111111111,
             "#46039f"
            ],
            [
             0.2222222222222222,
             "#7201a8"
            ],
            [
             0.3333333333333333,
             "#9c179e"
            ],
            [
             0.4444444444444444,
             "#bd3786"
            ],
            [
             0.5555555555555556,
             "#d8576b"
            ],
            [
             0.6666666666666666,
             "#ed7953"
            ],
            [
             0.7777777777777778,
             "#fb9f3a"
            ],
            [
             0.8888888888888888,
             "#fdca26"
            ],
            [
             1,
             "#f0f921"
            ]
           ]
          },
          "colorway": [
           "#636efa",
           "#EF553B",
           "#00cc96",
           "#ab63fa",
           "#FFA15A",
           "#19d3f3",
           "#FF6692",
           "#B6E880",
           "#FF97FF",
           "#FECB52"
          ],
          "font": {
           "color": "#2a3f5f"
          },
          "geo": {
           "bgcolor": "white",
           "lakecolor": "white",
           "landcolor": "white",
           "showlakes": true,
           "showland": true,
           "subunitcolor": "#C8D4E3"
          },
          "hoverlabel": {
           "align": "left"
          },
          "hovermode": "closest",
          "mapbox": {
           "style": "light"
          },
          "paper_bgcolor": "white",
          "plot_bgcolor": "white",
          "polar": {
           "angularaxis": {
            "gridcolor": "#EBF0F8",
            "linecolor": "#EBF0F8",
            "ticks": ""
           },
           "bgcolor": "white",
           "radialaxis": {
            "gridcolor": "#EBF0F8",
            "linecolor": "#EBF0F8",
            "ticks": ""
           }
          },
          "scene": {
           "xaxis": {
            "backgroundcolor": "white",
            "gridcolor": "#DFE8F3",
            "gridwidth": 2,
            "linecolor": "#EBF0F8",
            "showbackground": true,
            "ticks": "",
            "zerolinecolor": "#EBF0F8"
           },
           "yaxis": {
            "backgroundcolor": "white",
            "gridcolor": "#DFE8F3",
            "gridwidth": 2,
            "linecolor": "#EBF0F8",
            "showbackground": true,
            "ticks": "",
            "zerolinecolor": "#EBF0F8"
           },
           "zaxis": {
            "backgroundcolor": "white",
            "gridcolor": "#DFE8F3",
            "gridwidth": 2,
            "linecolor": "#EBF0F8",
            "showbackground": true,
            "ticks": "",
            "zerolinecolor": "#EBF0F8"
           }
          },
          "shapedefaults": {
           "line": {
            "color": "#2a3f5f"
           }
          },
          "ternary": {
           "aaxis": {
            "gridcolor": "#DFE8F3",
            "linecolor": "#A2B1C6",
            "ticks": ""
           },
           "baxis": {
            "gridcolor": "#DFE8F3",
            "linecolor": "#A2B1C6",
            "ticks": ""
           },
           "bgcolor": "white",
           "caxis": {
            "gridcolor": "#DFE8F3",
            "linecolor": "#A2B1C6",
            "ticks": ""
           }
          },
          "title": {
           "x": 0.05
          },
          "xaxis": {
           "automargin": true,
           "gridcolor": "#EBF0F8",
           "linecolor": "#EBF0F8",
           "ticks": "",
           "title": {
            "standoff": 15
           },
           "zerolinecolor": "#EBF0F8",
           "zerolinewidth": 2
          },
          "yaxis": {
           "automargin": true,
           "gridcolor": "#EBF0F8",
           "linecolor": "#EBF0F8",
           "ticks": "",
           "title": {
            "standoff": 15
           },
           "zerolinecolor": "#EBF0F8",
           "zerolinewidth": 2
          }
         }
        },
        "title": {
         "text": "Daily Average Sentiment Scores Over Time"
        },
        "xaxis": {
         "title": {
          "text": "Date"
         }
        },
        "yaxis": {
         "title": {
          "text": "Average Sentiment Score"
         }
        }
       }
      }
     },
     "metadata": {},
     "output_type": "display_data"
    }
   ],
   "source": [
    "# Convert the date column to date only (no time)\n",
    "ds_data['date'] = pd.to_datetime(ds_data['date']).dt.date\n",
    "\n",
    "# Group by date and sender, then calculate the average sentiment score for each group\n",
    "daily_sentiment = ds_data.groupby(['date', 'sender'])['score'].mean().reset_index()\n",
    "\n",
    "# Separate data by sender\n",
    "person1_data = daily_sentiment[daily_sentiment['sender'] == 'Cesar']\n",
    "person2_data = daily_sentiment[daily_sentiment['sender'] == 'Headchopper']\n",
    "\n",
    "# Create a Plotly figure\n",
    "fig = go.Figure()\n",
    "\n",
    "# Add daily average sentiment for Cesar\n",
    "fig.add_trace(go.Scatter(\n",
    "    x=person1_data['date'], y=person1_data['score'],\n",
    "    mode='lines+markers', name='Cesar (Daily Avg)',\n",
    "    line=dict(color='blue'), marker=dict(symbol='circle')\n",
    "))\n",
    "\n",
    "# Add daily average sentiment for Headchopper\n",
    "fig.add_trace(go.Scatter(\n",
    "    x=person2_data['date'], y=person2_data['score'],\n",
    "    mode='lines+markers', name='Headchopper (Daily Avg)',\n",
    "    line=dict(color='red'), marker=dict(symbol='x')\n",
    "))\n",
    "\n",
    "# Customize the layout\n",
    "fig.update_layout(\n",
    "    title='Daily Average Sentiment Scores Over Time',\n",
    "    xaxis_title='Date',\n",
    "    yaxis_title='Average Sentiment Score',\n",
    "    legend_title='Sender',\n",
    "    template='plotly_white'\n",
    ")\n",
    "\n",
    "# Show the figure\n",
    "fig.show()"
   ]
  }
 ],
 "metadata": {
  "kernelspec": {
   "display_name": "pda-ie",
   "language": "python",
   "name": "python3"
  },
  "language_info": {
   "codemirror_mode": {
    "name": "ipython",
    "version": 3
   },
   "file_extension": ".py",
   "mimetype": "text/x-python",
   "name": "python",
   "nbconvert_exporter": "python",
   "pygments_lexer": "ipython3",
   "version": "3.11.7"
  }
 },
 "nbformat": 4,
 "nbformat_minor": 2
}
