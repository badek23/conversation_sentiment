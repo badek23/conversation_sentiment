{
 "cells": [
  {
   "cell_type": "markdown",
   "metadata": {},
   "source": [
    "## Import Libraries"
   ]
  },
  {
   "cell_type": "code",
   "execution_count": 1,
   "metadata": {},
   "outputs": [],
   "source": [
    "import pandas as pd"
   ]
  },
  {
   "cell_type": "markdown",
   "metadata": {},
   "source": [
    "## Load Data"
   ]
  },
  {
   "cell_type": "code",
   "execution_count": 2,
   "metadata": {},
   "outputs": [
    {
     "data": {
      "text/html": [
       "<div>\n",
       "<style scoped>\n",
       "    .dataframe tbody tr th:only-of-type {\n",
       "        vertical-align: middle;\n",
       "    }\n",
       "\n",
       "    .dataframe tbody tr th {\n",
       "        vertical-align: top;\n",
       "    }\n",
       "\n",
       "    .dataframe thead th {\n",
       "        text-align: right;\n",
       "    }\n",
       "</style>\n",
       "<table border=\"1\" class=\"dataframe\">\n",
       "  <thead>\n",
       "    <tr style=\"text-align: right;\">\n",
       "      <th></th>\n",
       "      <th>0</th>\n",
       "    </tr>\n",
       "  </thead>\n",
       "  <tbody>\n",
       "    <tr>\n",
       "      <th>0</th>\n",
       "      <td>12/21/18, 5:35 PM - Pipo created group \"Hackee...</td>\n",
       "    </tr>\n",
       "    <tr>\n",
       "      <th>1</th>\n",
       "      <td>12/21/18, 5:35 PM - Pipo added you</td>\n",
       "    </tr>\n",
       "    <tr>\n",
       "      <th>2</th>\n",
       "      <td>12/21/18, 5:35 PM - Pipo: No he llgado pero q ...</td>\n",
       "    </tr>\n",
       "    <tr>\n",
       "      <th>3</th>\n",
       "      <td>12/21/18, 6:05 PM - Cesar Garcia: Llega y habl...</td>\n",
       "    </tr>\n",
       "    <tr>\n",
       "      <th>4</th>\n",
       "      <td>12/21/18, 6:06 PM - Pipo: Ya llegue</td>\n",
       "    </tr>\n",
       "  </tbody>\n",
       "</table>\n",
       "</div>"
      ],
      "text/plain": [
       "                                                   0\n",
       "0  12/21/18, 5:35 PM - Pipo created group \"Hackee...\n",
       "1                 12/21/18, 5:35 PM - Pipo added you\n",
       "2  12/21/18, 5:35 PM - Pipo: No he llgado pero q ...\n",
       "3  12/21/18, 6:05 PM - Cesar Garcia: Llega y habl...\n",
       "4                12/21/18, 6:06 PM - Pipo: Ya llegue"
      ]
     },
     "execution_count": 2,
     "metadata": {},
     "output_type": "execute_result"
    }
   ],
   "source": [
    "with open('data/WhatsApp Chat with Q se pean.txt') as f:\n",
    "    data = f.read()\n",
    "\n",
    "data = data.split('\\n')\n",
    "data = pd.DataFrame(data)\n",
    "data.head()"
   ]
  },
  {
   "cell_type": "markdown",
   "metadata": {},
   "source": [
    "## Dates"
   ]
  },
  {
   "cell_type": "code",
   "execution_count": 3,
   "metadata": {},
   "outputs": [
    {
     "data": {
      "text/html": [
       "<div>\n",
       "<style scoped>\n",
       "    .dataframe tbody tr th:only-of-type {\n",
       "        vertical-align: middle;\n",
       "    }\n",
       "\n",
       "    .dataframe tbody tr th {\n",
       "        vertical-align: top;\n",
       "    }\n",
       "\n",
       "    .dataframe thead th {\n",
       "        text-align: right;\n",
       "    }\n",
       "</style>\n",
       "<table border=\"1\" class=\"dataframe\">\n",
       "  <thead>\n",
       "    <tr style=\"text-align: right;\">\n",
       "      <th></th>\n",
       "      <th>0</th>\n",
       "      <th>date</th>\n",
       "    </tr>\n",
       "  </thead>\n",
       "  <tbody>\n",
       "    <tr>\n",
       "      <th>0</th>\n",
       "      <td>12/21/18, 5:35 PM - Pipo created group \"Hackee...</td>\n",
       "      <td>2018-12-21 17:35:00</td>\n",
       "    </tr>\n",
       "    <tr>\n",
       "      <th>1</th>\n",
       "      <td>12/21/18, 5:35 PM - Pipo added you</td>\n",
       "      <td>2018-12-21 17:35:00</td>\n",
       "    </tr>\n",
       "    <tr>\n",
       "      <th>2</th>\n",
       "      <td>12/21/18, 5:35 PM - Pipo: No he llgado pero q ...</td>\n",
       "      <td>2018-12-21 17:35:00</td>\n",
       "    </tr>\n",
       "    <tr>\n",
       "      <th>3</th>\n",
       "      <td>12/21/18, 6:05 PM - Cesar Garcia: Llega y habl...</td>\n",
       "      <td>2018-12-21 18:05:00</td>\n",
       "    </tr>\n",
       "    <tr>\n",
       "      <th>4</th>\n",
       "      <td>12/21/18, 6:06 PM - Pipo: Ya llegue</td>\n",
       "      <td>2018-12-21 18:06:00</td>\n",
       "    </tr>\n",
       "  </tbody>\n",
       "</table>\n",
       "</div>"
      ],
      "text/plain": [
       "                                                   0                date\n",
       "0  12/21/18, 5:35 PM - Pipo created group \"Hackee... 2018-12-21 17:35:00\n",
       "1                 12/21/18, 5:35 PM - Pipo added you 2018-12-21 17:35:00\n",
       "2  12/21/18, 5:35 PM - Pipo: No he llgado pero q ... 2018-12-21 17:35:00\n",
       "3  12/21/18, 6:05 PM - Cesar Garcia: Llega y habl... 2018-12-21 18:05:00\n",
       "4                12/21/18, 6:06 PM - Pipo: Ya llegue 2018-12-21 18:06:00"
      ]
     },
     "execution_count": 3,
     "metadata": {},
     "output_type": "execute_result"
    }
   ],
   "source": [
    "sp_data = data.copy()\n",
    "sp_data['date'] = sp_data[0].str.extract(r'(\\d+/\\d+/\\d+, \\d+:\\d+ [AP]M)')\n",
    "sp_data['date'] = pd.to_datetime(sp_data['date'], format=\"%m/%d/%y, %I:%M %p\")\n",
    "sp_data.head()"
   ]
  },
  {
   "cell_type": "markdown",
   "metadata": {},
   "source": [
    "## Messages"
   ]
  },
  {
   "cell_type": "code",
   "execution_count": 5,
   "metadata": {},
   "outputs": [
    {
     "data": {
      "text/html": [
       "<div>\n",
       "<style scoped>\n",
       "    .dataframe tbody tr th:only-of-type {\n",
       "        vertical-align: middle;\n",
       "    }\n",
       "\n",
       "    .dataframe tbody tr th {\n",
       "        vertical-align: top;\n",
       "    }\n",
       "\n",
       "    .dataframe thead th {\n",
       "        text-align: right;\n",
       "    }\n",
       "</style>\n",
       "<table border=\"1\" class=\"dataframe\">\n",
       "  <thead>\n",
       "    <tr style=\"text-align: right;\">\n",
       "      <th></th>\n",
       "      <th>0</th>\n",
       "      <th>date</th>\n",
       "      <th>message</th>\n",
       "    </tr>\n",
       "  </thead>\n",
       "  <tbody>\n",
       "    <tr>\n",
       "      <th>0</th>\n",
       "      <td>12/21/18, 5:35 PM - Pipo created group \"Hackee...</td>\n",
       "      <td>2018-12-21 17:35:00</td>\n",
       "      <td>Pipo created group \"Hackee 2.0\"</td>\n",
       "    </tr>\n",
       "    <tr>\n",
       "      <th>1</th>\n",
       "      <td>12/21/18, 5:35 PM - Pipo added you</td>\n",
       "      <td>2018-12-21 17:35:00</td>\n",
       "      <td>Pipo added you</td>\n",
       "    </tr>\n",
       "    <tr>\n",
       "      <th>2</th>\n",
       "      <td>12/21/18, 5:35 PM - Pipo: No he llgado pero q ...</td>\n",
       "      <td>2018-12-21 17:35:00</td>\n",
       "      <td>Pipo: No he llgado pero q hcms hoy</td>\n",
       "    </tr>\n",
       "    <tr>\n",
       "      <th>3</th>\n",
       "      <td>12/21/18, 6:05 PM - Cesar Garcia: Llega y habl...</td>\n",
       "      <td>2018-12-21 18:05:00</td>\n",
       "      <td>Cesar Garcia: Llega y hablamos</td>\n",
       "    </tr>\n",
       "    <tr>\n",
       "      <th>4</th>\n",
       "      <td>12/21/18, 6:06 PM - Pipo: Ya llegue</td>\n",
       "      <td>2018-12-21 18:06:00</td>\n",
       "      <td>Pipo: Ya llegue</td>\n",
       "    </tr>\n",
       "    <tr>\n",
       "      <th>5</th>\n",
       "      <td>12/21/18, 6:06 PM - Pipo: &lt;Media omitted&gt;</td>\n",
       "      <td>2018-12-21 18:06:00</td>\n",
       "      <td>Pipo: &lt;Media omitted&gt;</td>\n",
       "    </tr>\n",
       "    <tr>\n",
       "      <th>6</th>\n",
       "      <td>12/21/18, 6:06 PM - Cesar Garcia: Joda llegast...</td>\n",
       "      <td>2018-12-21 18:06:00</td>\n",
       "      <td>Cesar Garcia: Joda llegaste muy tarde</td>\n",
       "    </tr>\n",
       "    <tr>\n",
       "      <th>7</th>\n",
       "      <td>12/21/18, 6:08 PM - Pipo: Q hcn</td>\n",
       "      <td>2018-12-21 18:08:00</td>\n",
       "      <td>Pipo: Q hcn</td>\n",
       "    </tr>\n",
       "    <tr>\n",
       "      <th>8</th>\n",
       "      <td>12/21/18, 6:10 PM - Cesar Garcia: &lt;Media omitted&gt;</td>\n",
       "      <td>2018-12-21 18:10:00</td>\n",
       "      <td>Cesar Garcia: &lt;Media omitted&gt;</td>\n",
       "    </tr>\n",
       "    <tr>\n",
       "      <th>9</th>\n",
       "      <td>12/21/18, 6:10 PM - Pipo: Esta walter</td>\n",
       "      <td>2018-12-21 18:10:00</td>\n",
       "      <td>Pipo: Esta walter</td>\n",
       "    </tr>\n",
       "  </tbody>\n",
       "</table>\n",
       "</div>"
      ],
      "text/plain": [
       "                                                   0                date  \\\n",
       "0  12/21/18, 5:35 PM - Pipo created group \"Hackee... 2018-12-21 17:35:00   \n",
       "1                 12/21/18, 5:35 PM - Pipo added you 2018-12-21 17:35:00   \n",
       "2  12/21/18, 5:35 PM - Pipo: No he llgado pero q ... 2018-12-21 17:35:00   \n",
       "3  12/21/18, 6:05 PM - Cesar Garcia: Llega y habl... 2018-12-21 18:05:00   \n",
       "4                12/21/18, 6:06 PM - Pipo: Ya llegue 2018-12-21 18:06:00   \n",
       "5          12/21/18, 6:06 PM - Pipo: <Media omitted> 2018-12-21 18:06:00   \n",
       "6  12/21/18, 6:06 PM - Cesar Garcia: Joda llegast... 2018-12-21 18:06:00   \n",
       "7                    12/21/18, 6:08 PM - Pipo: Q hcn 2018-12-21 18:08:00   \n",
       "8  12/21/18, 6:10 PM - Cesar Garcia: <Media omitted> 2018-12-21 18:10:00   \n",
       "9              12/21/18, 6:10 PM - Pipo: Esta walter 2018-12-21 18:10:00   \n",
       "\n",
       "                                 message  \n",
       "0        Pipo created group \"Hackee 2.0\"  \n",
       "1                         Pipo added you  \n",
       "2     Pipo: No he llgado pero q hcms hoy  \n",
       "3         Cesar Garcia: Llega y hablamos  \n",
       "4                        Pipo: Ya llegue  \n",
       "5                  Pipo: <Media omitted>  \n",
       "6  Cesar Garcia: Joda llegaste muy tarde  \n",
       "7                            Pipo: Q hcn  \n",
       "8          Cesar Garcia: <Media omitted>  \n",
       "9                      Pipo: Esta walter  "
      ]
     },
     "execution_count": 5,
     "metadata": {},
     "output_type": "execute_result"
    }
   ],
   "source": [
    "dt_data = sp_data.copy()\n",
    "sp_data['message'] = sp_data[0].str.extract(r'\\d+/\\d+/\\d+, \\d+:\\d+ [AP]M - (.*)')\n",
    "dt_data.head(10)"
   ]
  }
 ],
 "metadata": {
  "kernelspec": {
   "display_name": "pda-ie",
   "language": "python",
   "name": "python3"
  },
  "language_info": {
   "codemirror_mode": {
    "name": "ipython",
    "version": 3
   },
   "file_extension": ".py",
   "mimetype": "text/x-python",
   "name": "python",
   "nbconvert_exporter": "python",
   "pygments_lexer": "ipython3",
   "version": "3.11.7"
  }
 },
 "nbformat": 4,
 "nbformat_minor": 2
}
